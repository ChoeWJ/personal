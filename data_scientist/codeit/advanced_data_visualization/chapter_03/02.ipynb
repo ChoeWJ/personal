{
 "cells": [
  {
   "cell_type": "code",
   "execution_count": 1,
   "metadata": {},
   "outputs": [],
   "source": [
    "import matplotlib.pyplot as plt\n",
    "import seaborn as sns\n",
    "import pandas as pd\n",
    "import numpy as np\n",
    "import warnings\n",
    "import plotly.express as px\n",
    "import plotly.io as pio\n",
    "import os\n",
    "\n",
    "from matplotlib.gridspec import GridSpec\n",
    "from tqdm.notebook import tqdm\n",
    "from sklearn.ensemble import RandomForestClassifier\n",
    "\n",
    "\n",
    "# ✅ Seaborn 테마 설정\n",
    "sns.set_theme(\n",
    "    style='white',  # 배경 스타일 ('darkgrid', 'whitegrid', 'dark', 'white', 'ticks' 가능)\n",
    "    font='BM Hanna Pro',  # 폰트 설정 (Mac: 'AppleGothic', Windows: 'Malgun Gothic' 가능)\n",
    "    rc={\n",
    "        'axes.unicode_minus': False,  # 마이너스 기호 깨짐 방지\n",
    "        'figure.figsize': (12, 10),    # 기본 그래프 크기 설정\n",
    "        'axes.labelsize': 14,         # 축 레이블 크기\n",
    "        'xtick.labelsize': 12,        # x축 눈금 크기\n",
    "        'ytick.labelsize': 12,        # y축 눈금 크기\n",
    "        'legend.fontsize': 12,        # 범례 폰트 크기\n",
    "        'axes.titleweight': 'bold',   # 제목 굵게 표시\n",
    "        'axes.titlesize': 16          # 제목 크기 설정\n",
    "    }\n",
    ")\n",
    "\n",
    "# ✅ Jupyter Notebook 그래프 선명하게 출력\n",
    "%config InlineBackend.figure_format = 'retina'\n",
    "\n",
    "# ✅ Pandas 출력 설정 (데이터프레임 가독성 향상)\n",
    "pd.set_option(\"display.max_columns\", None)  # 모든 컬럼 출력\n",
    "\n",
    "# ✅ 경고 메시지 무시 (불필요한 Warning 제거)\n",
    "warnings.filterwarnings(\"ignore\")\n",
    "\n",
    "# ✅ Jupyter에서 외부 모듈 변경 사항 자동 반영\n",
    "%load_ext autoreload\n",
    "%autoreload 2\n",
    "\n",
    "# ✅ Seaborn 추가 스타일링 (폰트 및 컬러)\n",
    "sns.set_context(\"notebook\", font_scale=1.2)  # 노트북 환경에 적합한 폰트 크기 조정\n",
    "\n",
    "# ✅ Plotly 대화형 그래프 설정 (VSCode에서 대화형 그래프 활성화)\n",
    "pio.renderers.default = \"vscode\" # VSCode에서 대화형 Plotly 그래프 활성화\n",
    "\n",
    "# ✅ Pandas 진행률 표시 (대량 데이터 처리 시 유용)\n",
    "tqdm.pandas()"
   ]
  },
  {
   "cell_type": "code",
   "execution_count": 2,
   "metadata": {},
   "outputs": [
    {
     "data": {
      "text/html": [
       "<div>\n",
       "<style scoped>\n",
       "    .dataframe tbody tr th:only-of-type {\n",
       "        vertical-align: middle;\n",
       "    }\n",
       "\n",
       "    .dataframe tbody tr th {\n",
       "        vertical-align: top;\n",
       "    }\n",
       "\n",
       "    .dataframe thead th {\n",
       "        text-align: right;\n",
       "    }\n",
       "</style>\n",
       "<table border=\"1\" class=\"dataframe\">\n",
       "  <thead>\n",
       "    <tr style=\"text-align: right;\">\n",
       "      <th></th>\n",
       "      <th>number</th>\n",
       "      <th>name</th>\n",
       "      <th>type1</th>\n",
       "      <th>type2</th>\n",
       "      <th>total</th>\n",
       "      <th>hp</th>\n",
       "      <th>attack</th>\n",
       "      <th>defense</th>\n",
       "      <th>sp_attack</th>\n",
       "      <th>sp_defense</th>\n",
       "      <th>speed</th>\n",
       "      <th>generation</th>\n",
       "      <th>legendary</th>\n",
       "    </tr>\n",
       "  </thead>\n",
       "  <tbody>\n",
       "    <tr>\n",
       "      <th>1067</th>\n",
       "      <td>896</td>\n",
       "      <td>Glastrier</td>\n",
       "      <td>Ice</td>\n",
       "      <td>NaN</td>\n",
       "      <td>580</td>\n",
       "      <td>100</td>\n",
       "      <td>145</td>\n",
       "      <td>130</td>\n",
       "      <td>65</td>\n",
       "      <td>110</td>\n",
       "      <td>30</td>\n",
       "      <td>8</td>\n",
       "      <td>True</td>\n",
       "    </tr>\n",
       "    <tr>\n",
       "      <th>1068</th>\n",
       "      <td>897</td>\n",
       "      <td>Spectrier</td>\n",
       "      <td>Ghost</td>\n",
       "      <td>NaN</td>\n",
       "      <td>580</td>\n",
       "      <td>100</td>\n",
       "      <td>65</td>\n",
       "      <td>60</td>\n",
       "      <td>145</td>\n",
       "      <td>80</td>\n",
       "      <td>130</td>\n",
       "      <td>8</td>\n",
       "      <td>True</td>\n",
       "    </tr>\n",
       "    <tr>\n",
       "      <th>1069</th>\n",
       "      <td>898</td>\n",
       "      <td>Calyrex</td>\n",
       "      <td>Psychic</td>\n",
       "      <td>Grass</td>\n",
       "      <td>500</td>\n",
       "      <td>100</td>\n",
       "      <td>80</td>\n",
       "      <td>80</td>\n",
       "      <td>80</td>\n",
       "      <td>80</td>\n",
       "      <td>80</td>\n",
       "      <td>8</td>\n",
       "      <td>True</td>\n",
       "    </tr>\n",
       "    <tr>\n",
       "      <th>1070</th>\n",
       "      <td>898</td>\n",
       "      <td>Ice Rider Calyrex</td>\n",
       "      <td>Psychic</td>\n",
       "      <td>Ice</td>\n",
       "      <td>680</td>\n",
       "      <td>100</td>\n",
       "      <td>165</td>\n",
       "      <td>150</td>\n",
       "      <td>85</td>\n",
       "      <td>130</td>\n",
       "      <td>50</td>\n",
       "      <td>8</td>\n",
       "      <td>True</td>\n",
       "    </tr>\n",
       "    <tr>\n",
       "      <th>1071</th>\n",
       "      <td>898</td>\n",
       "      <td>Shadow Rider Calyrex</td>\n",
       "      <td>Psychic</td>\n",
       "      <td>Ghost</td>\n",
       "      <td>680</td>\n",
       "      <td>100</td>\n",
       "      <td>85</td>\n",
       "      <td>80</td>\n",
       "      <td>165</td>\n",
       "      <td>100</td>\n",
       "      <td>150</td>\n",
       "      <td>8</td>\n",
       "      <td>True</td>\n",
       "    </tr>\n",
       "  </tbody>\n",
       "</table>\n",
       "</div>"
      ],
      "text/plain": [
       "      number                  name    type1  type2  total   hp  attack  \\\n",
       "1067     896             Glastrier      Ice    NaN    580  100     145   \n",
       "1068     897             Spectrier    Ghost    NaN    580  100      65   \n",
       "1069     898               Calyrex  Psychic  Grass    500  100      80   \n",
       "1070     898     Ice Rider Calyrex  Psychic    Ice    680  100     165   \n",
       "1071     898  Shadow Rider Calyrex  Psychic  Ghost    680  100      85   \n",
       "\n",
       "      defense  sp_attack  sp_defense  speed  generation  legendary  \n",
       "1067      130         65         110     30           8       True  \n",
       "1068       60        145          80    130           8       True  \n",
       "1069       80         80          80     80           8       True  \n",
       "1070      150         85         130     50           8       True  \n",
       "1071       80        165         100    150           8       True  "
      ]
     },
     "execution_count": 2,
     "metadata": {},
     "output_type": "execute_result"
    }
   ],
   "source": [
    "pokemon_df = pd.read_csv(\"../data/pokemon.csv\")\n",
    "pokemon_df.tail()"
   ]
  },
  {
   "cell_type": "code",
   "execution_count": 3,
   "metadata": {},
   "outputs": [
    {
     "data": {
      "application/vnd.plotly.v1+json": {
       "config": {
        "plotlyServerURL": "https://plot.ly"
       },
       "data": [
        {
         "hovertemplate": "<b>%{hovertext}</b><br><br>attack=%{x}<br>defense=%{y}<extra></extra>",
         "hovertext": [
          "Bulbasaur",
          "Ivysaur",
          "Venusaur",
          "Mega Venusaur",
          "Gigantamax Venusaur",
          "Charmander",
          "Charmeleon",
          "Charizard",
          "Mega Charizard X",
          "Mega Charizard Y",
          "Gigantamax Charizard",
          "Squirtle",
          "Wartortle",
          "Blastoise",
          "Mega Blastoise",
          "Gigantamax Blasoise",
          "Caterpie",
          "Metapod",
          "Butterfree",
          "Gigantamax Butterfree",
          "Weedle",
          "Kakuna",
          "Beedrill",
          "Mega Beedrill",
          "Pidgey",
          "Pidgeotto",
          "Pidgeot",
          "Mega Pidgeot",
          "Rattata",
          "Alolan Rattata",
          "Raticate",
          "Alolan Raticate",
          "Spearow",
          "Fearow",
          "Ekans",
          "Arbok",
          "Pikachu",
          "Gigantamax Pikachu",
          "Raichu",
          "Alolan Raichu",
          "Sandshrew",
          "Alolan Sandshrew",
          "Sandslash",
          "Alolan Sandslash",
          "Nidoran♀",
          "Nidorina",
          "Nidoqueen",
          "Nidoran♂",
          "Nidorino",
          "Nidoking",
          "Clefairy",
          "Clefable",
          "Vulpix",
          "Alolan Vulpix",
          "Ninetales",
          "Alolan Ninetales",
          "Jigglypuff",
          "Wigglytuff",
          "Zubat",
          "Golbat",
          "Oddish",
          "Gloom",
          "Vileplume",
          "Paras",
          "Parasect",
          "Venonat",
          "Venomoth",
          "Diglett",
          "Alolan Diglett",
          "Dugtrio",
          "Alolan Dugtrio",
          "Meowth",
          "Gigantamax Meowth",
          "Alolan Meowth",
          "Galarian Meowth",
          "Persian",
          "Alolan Persian",
          "Psyduck",
          "Golduck",
          "Mankey",
          "Primeape",
          "Growlithe",
          "Arcanine",
          "Poliwag",
          "Poliwhirl",
          "Poliwrath",
          "Abra",
          "Kadabra",
          "Alakazam",
          "Mega Alakazam",
          "Machop",
          "Machoke",
          "Machamp",
          "Gigantamax Machamp",
          "Bellsprout",
          "Weepinbell",
          "Victreebel",
          "Tentacool",
          "Tentacruel",
          "Geodude",
          "Alolan Geodude",
          "Graveler",
          "Alolan Graveler",
          "Golem",
          "Alolan Golem",
          "Ponyta",
          "Galarian Ponyta",
          "Rapidash",
          "Galarian Rapidash",
          "Slowpoke",
          "Galarian Slowpoke",
          "Slowbro",
          "Galarian Slowbro",
          "Mega Slowbro",
          "Magnemite",
          "Magneton",
          "Farfetch'd",
          "Galarian Farfetched",
          "Doduo",
          "Dodrio",
          "Seel",
          "Dewgong",
          "Grimer",
          "Alolan Grimer",
          "Muk",
          "Alolan Muk",
          "Shellder",
          "Cloyster",
          "Gastly",
          "Haunter",
          "Gengar",
          "Mega Gengar",
          "Gigantamax Gengar",
          "Onix",
          "Drowzee",
          "Hypno",
          "Krabby",
          "Kingler",
          "Gigantamax Kingler",
          "Voltorb",
          "Electrode",
          "Exeggcute",
          "Exeggutor",
          "Alolan Exeggutor",
          "Cubone",
          "Marowak",
          "Alolan Marowak",
          "Hitmonlee",
          "Hitmonchan",
          "Lickitung",
          "Koffing",
          "Weezing",
          "Galarian Weezing",
          "Rhyhorn",
          "Rhydon",
          "Chansey",
          "Tangela",
          "Kangaskhan",
          "Mega Kangaskhan",
          "Horsea",
          "Seadra",
          "Goldeen",
          "Seaking",
          "Staryu",
          "Starmie",
          "Mr. Mime",
          "Galarian Mr. Mime",
          "Scyther",
          "Jynx",
          "Electabuzz",
          "Magmar",
          "Pinsir",
          "Mega Pinsir",
          "Tauros",
          "Magikarp",
          "Gyarados",
          "Mega Gyarados",
          "Lapras",
          "Gigantamax Lapras",
          "Ditto",
          "Eevee",
          "Gigantamax Eevee",
          "Vaporeon",
          "Jolteon",
          "Flareon",
          "Porygon",
          "Omanyte",
          "Omastar",
          "Kabuto",
          "Kabutops",
          "Aerodactyl",
          "Mega Aerodactyl",
          "Snorlax",
          "Gigantamax Snorlax",
          "Articuno",
          "Galarian Articuno",
          "Zapdos",
          "Galarian Zapdos",
          "Moltres",
          "Galarian Moltres",
          "Dratini",
          "Dragonair",
          "Dragonite",
          "Mewtwo",
          "Mega Mewtwo X",
          "Mega Mewtwo Y",
          "Mew",
          "Chikorita",
          "Bayleef",
          "Meganium",
          "Cyndaquil",
          "Quilava",
          "Typhlosion",
          "Totodile",
          "Croconaw",
          "Feraligatr",
          "Sentret",
          "Furret",
          "Hoothoot",
          "Noctowl",
          "Ledyba",
          "Ledian",
          "Spinarak",
          "Ariados",
          "Crobat",
          "Chinchou",
          "Lanturn",
          "Pichu",
          "Cleffa",
          "Igglybuff",
          "Togepi",
          "Togetic",
          "Natu",
          "Xatu",
          "Mareep",
          "Flaaffy",
          "Ampharos",
          "Mega Ampharos",
          "Bellossom",
          "Marill",
          "Azumarill",
          "Sudowoodo",
          "Politoed",
          "Hoppip",
          "Skiploom",
          "Jumpluff",
          "Aipom",
          "Sunkern",
          "Sunflora",
          "Yanma",
          "Wooper",
          "Quagsire",
          "Espeon",
          "Umbreon",
          "Murkrow",
          "Slowking",
          "Galarian Slowking",
          "Misdreavus",
          "Unown",
          "Wobbuffet",
          "Girafarig",
          "Pineco",
          "Forretress",
          "Dunsparce",
          "Gligar",
          "Steelix",
          "Mega Steelix",
          "Snubbull",
          "Granbull",
          "Qwilfish",
          "Scizor",
          "Mega Scizor",
          "Shuckle",
          "Heracross",
          "Mega Heracross",
          "Sneasel",
          "Teddiursa",
          "Ursaring",
          "Slugma",
          "Magcargo",
          "Swinub",
          "Piloswine",
          "Corsola",
          "Galarian Corsola",
          "Remoraid",
          "Octillery",
          "Delibird",
          "Mantine",
          "Skarmory",
          "Houndour",
          "Houndoom",
          "Mega Houndoom",
          "Kingdra",
          "Phanpy",
          "Donphan",
          "Porygon2",
          "Stantler",
          "Smeargle",
          "Tyrogue",
          "Hitmontop",
          "Smoochum",
          "Elekid",
          "Magby",
          "Miltank",
          "Blissey",
          "Raikou",
          "Entei",
          "Suicune",
          "Larvitar",
          "Pupitar",
          "Tyranitar",
          "Mega Tyranitar",
          "Lugia",
          "Ho-oh",
          "Celebi",
          "Treecko",
          "Grovyle",
          "Sceptile",
          "Mega Sceptile",
          "Torchic",
          "Combusken",
          "Blaziken",
          "Mega Blaziken",
          "Mudkip",
          "Marshtomp",
          "Swampert",
          "Mega Swampert",
          "Poochyena",
          "Mightyena",
          "Zigzagoon",
          "Galarian Zigzagoon",
          "Linoone",
          "Galarian Linoone",
          "Wurmple",
          "Silcoon",
          "Beautifly",
          "Cascoon",
          "Dustox",
          "Lotad",
          "Lombre",
          "Ludicolo",
          "Seedot",
          "Nuzleaf",
          "Shiftry",
          "Taillow",
          "Swellow",
          "Wingull",
          "Pelipper",
          "Ralts",
          "Kirlia",
          "Gardevoir",
          "Mega Gardevoir",
          "Surskit",
          "Masquerain",
          "Shroomish",
          "Breloom",
          "Slakoth",
          "Vigoroth",
          "Slaking",
          "Nincada",
          "Ninjask",
          "Shedinja",
          "Whismur",
          "Loudred",
          "Exploud",
          "Makuhita",
          "Hariyama",
          "Azurill",
          "Nosepass",
          "Skitty",
          "Delcatty",
          "Sableye",
          "Mega Sableye",
          "Mawile",
          "Mega Mawile",
          "Aron",
          "Lairon",
          "Aggron",
          "Mega Aggron",
          "Meditite",
          "Medicham",
          "Mega Medicham",
          "Electrike",
          "Manectric",
          "Mega Manectric",
          "Plusle",
          "Minun",
          "Volbeat",
          "Illumise",
          "Roselia",
          "Gulpin",
          "Swalot",
          "Carvanha",
          "Sharpedo",
          "Mega Sharpedo",
          "Wailmer",
          "Wailord",
          "Numel",
          "Camerupt",
          "Mega Camerupt",
          "Torkoal",
          "Spoink",
          "Grumpig",
          "Spinda",
          "Trapinch",
          "Vibrava",
          "Flygon",
          "Cacnea",
          "Cacturne",
          "Swablu",
          "Altaria",
          "Mega Altaria",
          "Zangoose",
          "Seviper",
          "Lunatone",
          "Solrock",
          "Barboach",
          "Whiscash",
          "Corphish",
          "Crawdaunt",
          "Baltoy",
          "Claydol",
          "Lileep",
          "Cradily",
          "Anorith",
          "Armaldo",
          "Feebas",
          "Milotic",
          "Castform",
          "Kecleon",
          "Shuppet",
          "Banette",
          "Mega Banette",
          "Duskull",
          "Dusclops",
          "Tropius",
          "Chimecho",
          "Absol",
          "Mega Absol",
          "Wynaut",
          "Snorunt",
          "Glalie",
          "Mega Glalie",
          "Spheal",
          "Sealeo",
          "Walrein",
          "Clamperl",
          "Huntail",
          "Gorebyss",
          "Relicanth",
          "Luvdisc",
          "Bagon",
          "Shelgon",
          "Salamence",
          "Mega Salamence",
          "Beldum",
          "Metang",
          "Metagross",
          "Mega Metagross",
          "Regirock",
          "Regice",
          "Registeel",
          "Latias",
          "Mega Latias",
          "Latios",
          "Mega Latios",
          "Kyogre",
          "Primal Kyogre",
          "Groudon",
          "Primal Groudon",
          "Rayquaza",
          "Mega Rayquaza",
          "Jirachi",
          "Deoxys Normal Forme",
          "Deoxys Attack Forme",
          "Deoxys Defense Forme",
          "Deoxys Speed Forme",
          "Turtwig",
          "Grotle",
          "Torterra",
          "Chimchar",
          "Monferno",
          "Infernape",
          "Piplup",
          "Prinplup",
          "Empoleon",
          "Starly",
          "Staravia",
          "Staraptor",
          "Bidoof",
          "Bibarel",
          "Kricketot",
          "Kricketune",
          "Shinx",
          "Luxio",
          "Luxray",
          "Budew",
          "Roserade",
          "Cranidos",
          "Rampardos",
          "Shieldon",
          "Bastiodon",
          "Burmy",
          "Wormadam Plant Cloak",
          "Wormadam Sandy Cloak",
          "Wormadam Trash Cloak",
          "Mothim",
          "Combee",
          "Vespiquen",
          "Pachirisu",
          "Buizel",
          "Floatzel",
          "Cherubi",
          "Cherrim",
          "Shellos",
          "Gastrodon",
          "Ambipom",
          "Drifloon",
          "Drifblim",
          "Buneary",
          "Lopunny",
          "Mega Lopunny",
          "Mismagius",
          "Honchkrow",
          "Glameow",
          "Purugly",
          "Chingling",
          "Stunky",
          "Skuntank",
          "Bronzor",
          "Bronzong",
          "Bonsly",
          "Mime Jr.",
          "Happiny",
          "Chatot",
          "Spiritomb",
          "Gible",
          "Gabite",
          "Garchomp",
          "Mega Garchomp",
          "Munchlax",
          "Riolu",
          "Lucario",
          "Mega Lucario",
          "Hippopotas",
          "Hippowdon",
          "Skorupi",
          "Drapion",
          "Croagunk",
          "Toxicroak",
          "Carnivine",
          "Finneon",
          "Lumineon",
          "Mantyke",
          "Snover",
          "Abomasnow",
          "Mega Abomasnow",
          "Weavile",
          "Magnezone",
          "Lickilicky",
          "Rhyperior",
          "Tangrowth",
          "Electivire",
          "Magmortar",
          "Togekiss",
          "Yanmega",
          "Leafeon",
          "Glaceon",
          "Gliscor",
          "Mamoswine",
          "Porygon-Z",
          "Gallade",
          "Mega Gallade",
          "Probopass",
          "Dusknoir",
          "Froslass",
          "Rotom",
          "Heat Rotom",
          "Wash Rotom",
          "Frost Rotom",
          "Fan Rotom",
          "Mow Rotom",
          "Uxie",
          "Mesprit",
          "Azelf",
          "Dialga",
          "Palkia",
          "Heatran",
          "Regigigas",
          "Giratina Altered Forme",
          "Giratina Origin Forme",
          "Cresselia",
          "Phione",
          "Manaphy",
          "Darkrai",
          "Shaymin Land Forme",
          "Shaymin Sky Forme",
          "Arceus",
          "Victini",
          "Snivy",
          "Servine",
          "Serperior",
          "Tepig",
          "Pignite",
          "Emboar",
          "Oshawott",
          "Dewott",
          "Samurott",
          "Patrat",
          "Watchog",
          "Lillipup",
          "Herdier",
          "Stoutland",
          "Purrloin",
          "Liepard",
          "Pansage",
          "Simisage",
          "Pansear",
          "Simisear",
          "Panpour",
          "Simipour",
          "Munna",
          "Musharna",
          "Pidove",
          "Tranquill",
          "Unfezant",
          "Blitzle",
          "Zebstrika",
          "Roggenrola",
          "Boldore",
          "Gigalith",
          "Woobat",
          "Swoobat",
          "Drilbur",
          "Excadrill",
          "Audino",
          "Mega Audino",
          "Timburr",
          "Gurdurr",
          "Conkeldurr",
          "Tympole",
          "Palpitoad",
          "Seismitoad",
          "Throh",
          "Sawk",
          "Sewaddle",
          "Swadloon",
          "Leavanny",
          "Venipede",
          "Whirlipede",
          "Scolipede",
          "Cottonee",
          "Whimsicott",
          "Petilil",
          "Lilligant",
          "Basculin",
          "Sandile",
          "Krokorok",
          "Krookodile",
          "Darumaka",
          "Galarian Darumaka",
          "Darmanitan Standard Mode",
          "Galarian Darmanitan Standard Mode",
          "Darmanitan Zen Mode",
          "Galarian Darmanitan Zen Mode",
          "Maractus",
          "Dwebble",
          "Crustle",
          "Scraggy",
          "Scrafty",
          "Sigilyph",
          "Yamask",
          "Galarian Yamask",
          "Cofagrigus",
          "Tirtouga",
          "Carracosta",
          "Archen",
          "Archeops",
          "Trubbish",
          "Garbodor",
          "Gigantamax Garbodor",
          "Zorua",
          "Zoroark",
          "Minccino",
          "Cinccino",
          "Gothita",
          "Gothorita",
          "Gothitelle",
          "Solosis",
          "Duosion",
          "Reuniclus",
          "Ducklett",
          "Swanna",
          "Vanillite",
          "Vanillish",
          "Vanilluxe",
          "Deerling",
          "Sawsbuck",
          "Emolga",
          "Karrablast",
          "Escavalier",
          "Foongus",
          "Amoonguss",
          "Frillish",
          "Jellicent",
          "Alomomola",
          "Joltik",
          "Galvantula",
          "Ferroseed",
          "Ferrothorn",
          "Klink",
          "Klang",
          "Klinklang",
          "Tynamo",
          "Eelektrik",
          "Eelektross",
          "Elgyem",
          "Beheeyem",
          "Litwick",
          "Lampent",
          "Chandelure",
          "Axew",
          "Fraxure",
          "Haxorus",
          "Cubchoo",
          "Beartic",
          "Cryogonal",
          "Shelmet",
          "Accelgor",
          "Stunfisk",
          "Galarian Stunfisk",
          "Mienfoo",
          "Mienshao",
          "Druddigon",
          "Golett",
          "Golurk",
          "Pawniard",
          "Bisharp",
          "Bouffalant",
          "Rufflet",
          "Braviary",
          "Vullaby",
          "Mandibuzz",
          "Heatmor",
          "Durant",
          "Deino",
          "Zweilous",
          "Hydreigon",
          "Larvesta",
          "Volcarona",
          "Cobalion",
          "Terrakion",
          "Virizion",
          "Tornadus Incarnate Forme",
          "Tornadus Therian Forme",
          "Thundurus Incarnate Forme",
          "Thundurus Therian Forme",
          "Reshiram",
          "Zekrom",
          "Landorus Incarnate Forme",
          "Landorus Therian Forme",
          "Kyurem",
          "Black Kyurem",
          "White Kyurem",
          "Keldeo Ordinary Forme",
          "Keldeo Resolute Forme",
          "Meloetta Aria Forme",
          "Meloetta Pirouette Forme",
          "Genesect",
          "Chespin",
          "Quilladin",
          "Chesnaught",
          "Fennekin",
          "Braixen",
          "Delphox",
          "Froakie",
          "Frogadier",
          "Greninja",
          "Ash-Greninja",
          "Bunnelby",
          "Diggersby",
          "Fletchling",
          "Fletchinder",
          "Talonflame",
          "Scatterbug",
          "Spewpa",
          "Vivillon",
          "Litleo",
          "Pyroar",
          "Flabébé",
          "Floette",
          "Florges",
          "Skiddo",
          "Gogoat",
          "Pancham",
          "Pangoro",
          "Furfrou",
          "Espurr",
          "Meowstic Male",
          "Meowstic Female",
          "Honedge",
          "Doublade",
          "Aegislash Blade Forme",
          "Aegislash Shield Forme",
          "Spritzee",
          "Aromatisse",
          "Swirlix",
          "Slurpuff",
          "Inkay",
          "Malamar",
          "Binacle",
          "Barbaracle",
          "Skrelp",
          "Dragalge",
          "Clauncher",
          "Clawitzer",
          "Helioptile",
          "Heliolisk",
          "Tyrunt",
          "Tyrantrum",
          "Amaura",
          "Aurorus",
          "Sylveon",
          "Hawlucha",
          "Dedenne",
          "Carbink",
          "Goomy",
          "Sliggoo",
          "Goodra",
          "Klefki",
          "Phantump",
          "Trevenant",
          "Pumpkaboo Average Size",
          "Pumpkaboo Small Size",
          "Pumpkaboo Large Size",
          "Pumpkaboo Super Size",
          "Gourgeist Average Size",
          "Gourgeist Small Size",
          "Gourgeist Large Size",
          "Gourgeist Super Size",
          "Bergmite",
          "Avalugg",
          "Noibat",
          "Noivern",
          "Xerneas",
          "Yveltal",
          "Zygarde 10% Forme",
          "Zygarde 50% Forme",
          "Zygarde Complete Forme",
          "Diancie",
          "Mega Diancie",
          "Hoopa Confined",
          "Hoopa Unbound",
          "Volcanion",
          "Rowlet",
          "Dartrix",
          "Decidueye",
          "Litten",
          "Torracat",
          "Incineroar",
          "Popplio",
          "Brionne",
          "Primarina",
          "Pikipek",
          "Trumbeak",
          "Toucannon",
          "Yungoos",
          "Gumshoos",
          "Grubbin",
          "Charjabug",
          "Vikavolt",
          "Crabrawler",
          "Crabominable",
          "Oricorio Baile Style",
          "Oricorio Pom-Pom Style",
          "Oricorio P'au Style",
          "Oricorio Sensu Style",
          "Cutiefly",
          "Ribombee",
          "Rockruff",
          "Lycanroc Midday Forme",
          "Lycanroc Midnight Forme",
          "Lycanroc Dusk Forme",
          "Wishiwashi Solo Forme",
          "Wishiwashi School Forme",
          "Mareanie",
          "Toxapex",
          "Mudbray",
          "Mudsdale",
          "Dewpider",
          "Araquanid",
          "Fomantis",
          "Lurantis",
          "Morelull",
          "Shiinotic",
          "Salandit",
          "Salazzle",
          "Stufful",
          "Bewear",
          "Bounsweet",
          "Steenee",
          "Tsareena",
          "Comfey",
          "Oranguru",
          "Passimian",
          "Wimpod",
          "Golisopod",
          "Sandygast",
          "Palossand",
          "Pyukumuku",
          "Type: Null",
          "Silvally",
          "Minior Meteor Forme",
          "Minior Core Forme",
          "Komala",
          "Turtonator",
          "Togedemaru",
          "Mimikyu",
          "Bruxish",
          "Drampa",
          "Dhelmise",
          "Jangmo-o",
          "Hakamo-o",
          "Kommo-o",
          "Tapu Koko",
          "Tapu Lele",
          "Tapu Bulu",
          "Tapu Fini",
          "Cosmog",
          "Cosmoem",
          "Solgaleo",
          "Lunala",
          "Nihilego",
          "Buzzwole",
          "Pheromosa",
          "Xurkitree",
          "Celesteela",
          "Kartana",
          "Guzzlord",
          "Necrozma",
          "Dusk Mane Necrozma",
          "Dawn Wings Necrozma",
          "Ultra Necrozma",
          "Magearna",
          "Marshadow",
          "Poipole",
          "Naganadel",
          "Stakataka",
          "Blacephalon",
          "Zeraora",
          "Meltan",
          "Melmetal",
          "Gigantamax Melmetal",
          "Grookey",
          "Thwackey",
          "Rillaboom",
          "Gigantamax Rillaboom",
          "Scorbunny",
          "Raboot",
          "Cinderace",
          "Gigantamax Cinderace",
          "Sobble",
          "Drizzile",
          "Inteleon",
          "Gigantamax Inteleon",
          "Skwovet",
          "Greedent",
          "Rookidee",
          "Corvisquire",
          "Corviknight",
          "Gigantamax Corviknight",
          "Blipbug",
          "Dottler",
          "Orbeetle",
          "Gigantamax Orbeetle",
          "Nickit",
          "Thievul",
          "Gossifleur",
          "Eldegoss",
          "Wooloo",
          "Dubwool",
          "Chewtle",
          "Drednaw",
          "Gigantamax Drednaw",
          "Yamper",
          "Boltund",
          "Rolycoly",
          "Carkol",
          "Coalossal",
          "Gigantamax Coalossal",
          "Applin",
          "Flapple",
          "Gigantamax Flapple",
          "Appletun",
          "Gigantamax Appletun",
          "Silicobra",
          "Sandaconda",
          "Gigantamax Sandaconda",
          "Cramorant",
          "Arrokuda",
          "Barraskewda",
          "Toxel",
          "Toxtricity Amped Forme",
          "Toxitricity Low Key Forme",
          "Gigantamax Toxitricity",
          "Sizzlipede",
          "Centiskorch",
          "Gigantamax Centiskorch",
          "Clobbopus",
          "Grapploct",
          "Sinistea",
          "Polteageist",
          "Hatenna",
          "Hattrem",
          "Hatterene",
          "Gigantamax Hatterene",
          "Impidimp",
          "Morgrem",
          "Grimmsnarl",
          "Gigantamax Grimmsnarl",
          "Obstagoon",
          "Perrserker",
          "Cursola",
          "Sirfetch'd",
          "Mr. Rime",
          "Runerigus",
          "Milcery",
          "Alcremie",
          "Gigantamax Alcremie",
          "Falinks",
          "Pincurchin",
          "Snom",
          "Frosmoth",
          "Stonjourner",
          "Eiscue Ice Face",
          "Eiscue Noice Face",
          "Indeedee Male",
          "Indeedee Female",
          "Morpeko Full Belly Mode",
          "Morpeko Hangry Mode",
          "Cufant",
          "Copperajah",
          "Gigantamax Copperajah",
          "Dracozolt",
          "Arctozolt",
          "Dracovish",
          "Arctovish",
          "Duraludon",
          "Gigantamax Duraludon",
          "Dreepy",
          "Drakloak",
          "Dragapult",
          "Zacian Hero of Many Battles",
          "Zacian Crowned Sword Forme",
          "Zamazenta Hero of Many Battles",
          "Zamazenta Crowned Sheild Forme",
          "Eternatus",
          "Eternamax Eternatus",
          "Kubfu",
          "Urshifu Single Strike Style",
          "Gigantamax Urshifu Single Strike Style",
          "Urshifu Rapid Strike Style",
          "Gigantamax Urshifu Rapid Strike Style",
          "Zarude",
          "Dada Zarude",
          "Regieleki",
          "Regidrago",
          "Glastrier",
          "Spectrier",
          "Calyrex",
          "Ice Rider Calyrex",
          "Shadow Rider Calyrex"
         ],
         "legendgroup": "",
         "marker": {
          "color": "#636efa",
          "symbol": "circle"
         },
         "mode": "markers",
         "name": "",
         "showlegend": false,
         "type": "scattergl",
         "x": {
          "bdata": "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",
          "dtype": "i2"
         },
         "xaxis": "x",
         "y": {
          "bdata": "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",
          "dtype": "i2"
         },
         "yaxis": "y"
        }
       ],
       "layout": {
        "legend": {
         "tracegroupgap": 0
        },
        "margin": {
         "t": 60
        },
        "template": {
         "data": {
          "bar": [
           {
            "error_x": {
             "color": "#2a3f5f"
            },
            "error_y": {
             "color": "#2a3f5f"
            },
            "marker": {
             "line": {
              "color": "#E5ECF6",
              "width": 0.5
             },
             "pattern": {
              "fillmode": "overlay",
              "size": 10,
              "solidity": 0.2
             }
            },
            "type": "bar"
           }
          ],
          "barpolar": [
           {
            "marker": {
             "line": {
              "color": "#E5ECF6",
              "width": 0.5
             },
             "pattern": {
              "fillmode": "overlay",
              "size": 10,
              "solidity": 0.2
             }
            },
            "type": "barpolar"
           }
          ],
          "carpet": [
           {
            "aaxis": {
             "endlinecolor": "#2a3f5f",
             "gridcolor": "white",
             "linecolor": "white",
             "minorgridcolor": "white",
             "startlinecolor": "#2a3f5f"
            },
            "baxis": {
             "endlinecolor": "#2a3f5f",
             "gridcolor": "white",
             "linecolor": "white",
             "minorgridcolor": "white",
             "startlinecolor": "#2a3f5f"
            },
            "type": "carpet"
           }
          ],
          "choropleth": [
           {
            "colorbar": {
             "outlinewidth": 0,
             "ticks": ""
            },
            "type": "choropleth"
           }
          ],
          "contour": [
           {
            "colorbar": {
             "outlinewidth": 0,
             "ticks": ""
            },
            "colorscale": [
             [
              0,
              "#0d0887"
             ],
             [
              0.1111111111111111,
              "#46039f"
             ],
             [
              0.2222222222222222,
              "#7201a8"
             ],
             [
              0.3333333333333333,
              "#9c179e"
             ],
             [
              0.4444444444444444,
              "#bd3786"
             ],
             [
              0.5555555555555556,
              "#d8576b"
             ],
             [
              0.6666666666666666,
              "#ed7953"
             ],
             [
              0.7777777777777778,
              "#fb9f3a"
             ],
             [
              0.8888888888888888,
              "#fdca26"
             ],
             [
              1,
              "#f0f921"
             ]
            ],
            "type": "contour"
           }
          ],
          "contourcarpet": [
           {
            "colorbar": {
             "outlinewidth": 0,
             "ticks": ""
            },
            "type": "contourcarpet"
           }
          ],
          "heatmap": [
           {
            "colorbar": {
             "outlinewidth": 0,
             "ticks": ""
            },
            "colorscale": [
             [
              0,
              "#0d0887"
             ],
             [
              0.1111111111111111,
              "#46039f"
             ],
             [
              0.2222222222222222,
              "#7201a8"
             ],
             [
              0.3333333333333333,
              "#9c179e"
             ],
             [
              0.4444444444444444,
              "#bd3786"
             ],
             [
              0.5555555555555556,
              "#d8576b"
             ],
             [
              0.6666666666666666,
              "#ed7953"
             ],
             [
              0.7777777777777778,
              "#fb9f3a"
             ],
             [
              0.8888888888888888,
              "#fdca26"
             ],
             [
              1,
              "#f0f921"
             ]
            ],
            "type": "heatmap"
           }
          ],
          "histogram": [
           {
            "marker": {
             "pattern": {
              "fillmode": "overlay",
              "size": 10,
              "solidity": 0.2
             }
            },
            "type": "histogram"
           }
          ],
          "histogram2d": [
           {
            "colorbar": {
             "outlinewidth": 0,
             "ticks": ""
            },
            "colorscale": [
             [
              0,
              "#0d0887"
             ],
             [
              0.1111111111111111,
              "#46039f"
             ],
             [
              0.2222222222222222,
              "#7201a8"
             ],
             [
              0.3333333333333333,
              "#9c179e"
             ],
             [
              0.4444444444444444,
              "#bd3786"
             ],
             [
              0.5555555555555556,
              "#d8576b"
             ],
             [
              0.6666666666666666,
              "#ed7953"
             ],
             [
              0.7777777777777778,
              "#fb9f3a"
             ],
             [
              0.8888888888888888,
              "#fdca26"
             ],
             [
              1,
              "#f0f921"
             ]
            ],
            "type": "histogram2d"
           }
          ],
          "histogram2dcontour": [
           {
            "colorbar": {
             "outlinewidth": 0,
             "ticks": ""
            },
            "colorscale": [
             [
              0,
              "#0d0887"
             ],
             [
              0.1111111111111111,
              "#46039f"
             ],
             [
              0.2222222222222222,
              "#7201a8"
             ],
             [
              0.3333333333333333,
              "#9c179e"
             ],
             [
              0.4444444444444444,
              "#bd3786"
             ],
             [
              0.5555555555555556,
              "#d8576b"
             ],
             [
              0.6666666666666666,
              "#ed7953"
             ],
             [
              0.7777777777777778,
              "#fb9f3a"
             ],
             [
              0.8888888888888888,
              "#fdca26"
             ],
             [
              1,
              "#f0f921"
             ]
            ],
            "type": "histogram2dcontour"
           }
          ],
          "mesh3d": [
           {
            "colorbar": {
             "outlinewidth": 0,
             "ticks": ""
            },
            "type": "mesh3d"
           }
          ],
          "parcoords": [
           {
            "line": {
             "colorbar": {
              "outlinewidth": 0,
              "ticks": ""
             }
            },
            "type": "parcoords"
           }
          ],
          "pie": [
           {
            "automargin": true,
            "type": "pie"
           }
          ],
          "scatter": [
           {
            "fillpattern": {
             "fillmode": "overlay",
             "size": 10,
             "solidity": 0.2
            },
            "type": "scatter"
           }
          ],
          "scatter3d": [
           {
            "line": {
             "colorbar": {
              "outlinewidth": 0,
              "ticks": ""
             }
            },
            "marker": {
             "colorbar": {
              "outlinewidth": 0,
              "ticks": ""
             }
            },
            "type": "scatter3d"
           }
          ],
          "scattercarpet": [
           {
            "marker": {
             "colorbar": {
              "outlinewidth": 0,
              "ticks": ""
             }
            },
            "type": "scattercarpet"
           }
          ],
          "scattergeo": [
           {
            "marker": {
             "colorbar": {
              "outlinewidth": 0,
              "ticks": ""
             }
            },
            "type": "scattergeo"
           }
          ],
          "scattergl": [
           {
            "marker": {
             "colorbar": {
              "outlinewidth": 0,
              "ticks": ""
             }
            },
            "type": "scattergl"
           }
          ],
          "scattermap": [
           {
            "marker": {
             "colorbar": {
              "outlinewidth": 0,
              "ticks": ""
             }
            },
            "type": "scattermap"
           }
          ],
          "scattermapbox": [
           {
            "marker": {
             "colorbar": {
              "outlinewidth": 0,
              "ticks": ""
             }
            },
            "type": "scattermapbox"
           }
          ],
          "scatterpolar": [
           {
            "marker": {
             "colorbar": {
              "outlinewidth": 0,
              "ticks": ""
             }
            },
            "type": "scatterpolar"
           }
          ],
          "scatterpolargl": [
           {
            "marker": {
             "colorbar": {
              "outlinewidth": 0,
              "ticks": ""
             }
            },
            "type": "scatterpolargl"
           }
          ],
          "scatterternary": [
           {
            "marker": {
             "colorbar": {
              "outlinewidth": 0,
              "ticks": ""
             }
            },
            "type": "scatterternary"
           }
          ],
          "surface": [
           {
            "colorbar": {
             "outlinewidth": 0,
             "ticks": ""
            },
            "colorscale": [
             [
              0,
              "#0d0887"
             ],
             [
              0.1111111111111111,
              "#46039f"
             ],
             [
              0.2222222222222222,
              "#7201a8"
             ],
             [
              0.3333333333333333,
              "#9c179e"
             ],
             [
              0.4444444444444444,
              "#bd3786"
             ],
             [
              0.5555555555555556,
              "#d8576b"
             ],
             [
              0.6666666666666666,
              "#ed7953"
             ],
             [
              0.7777777777777778,
              "#fb9f3a"
             ],
             [
              0.8888888888888888,
              "#fdca26"
             ],
             [
              1,
              "#f0f921"
             ]
            ],
            "type": "surface"
           }
          ],
          "table": [
           {
            "cells": {
             "fill": {
              "color": "#EBF0F8"
             },
             "line": {
              "color": "white"
             }
            },
            "header": {
             "fill": {
              "color": "#C8D4E3"
             },
             "line": {
              "color": "white"
             }
            },
            "type": "table"
           }
          ]
         },
         "layout": {
          "annotationdefaults": {
           "arrowcolor": "#2a3f5f",
           "arrowhead": 0,
           "arrowwidth": 1
          },
          "autotypenumbers": "strict",
          "coloraxis": {
           "colorbar": {
            "outlinewidth": 0,
            "ticks": ""
           }
          },
          "colorscale": {
           "diverging": [
            [
             0,
             "#8e0152"
            ],
            [
             0.1,
             "#c51b7d"
            ],
            [
             0.2,
             "#de77ae"
            ],
            [
             0.3,
             "#f1b6da"
            ],
            [
             0.4,
             "#fde0ef"
            ],
            [
             0.5,
             "#f7f7f7"
            ],
            [
             0.6,
             "#e6f5d0"
            ],
            [
             0.7,
             "#b8e186"
            ],
            [
             0.8,
             "#7fbc41"
            ],
            [
             0.9,
             "#4d9221"
            ],
            [
             1,
             "#276419"
            ]
           ],
           "sequential": [
            [
             0,
             "#0d0887"
            ],
            [
             0.1111111111111111,
             "#46039f"
            ],
            [
             0.2222222222222222,
             "#7201a8"
            ],
            [
             0.3333333333333333,
             "#9c179e"
            ],
            [
             0.4444444444444444,
             "#bd3786"
            ],
            [
             0.5555555555555556,
             "#d8576b"
            ],
            [
             0.6666666666666666,
             "#ed7953"
            ],
            [
             0.7777777777777778,
             "#fb9f3a"
            ],
            [
             0.8888888888888888,
             "#fdca26"
            ],
            [
             1,
             "#f0f921"
            ]
           ],
           "sequentialminus": [
            [
             0,
             "#0d0887"
            ],
            [
             0.1111111111111111,
             "#46039f"
            ],
            [
             0.2222222222222222,
             "#7201a8"
            ],
            [
             0.3333333333333333,
             "#9c179e"
            ],
            [
             0.4444444444444444,
             "#bd3786"
            ],
            [
             0.5555555555555556,
             "#d8576b"
            ],
            [
             0.6666666666666666,
             "#ed7953"
            ],
            [
             0.7777777777777778,
             "#fb9f3a"
            ],
            [
             0.8888888888888888,
             "#fdca26"
            ],
            [
             1,
             "#f0f921"
            ]
           ]
          },
          "colorway": [
           "#636efa",
           "#EF553B",
           "#00cc96",
           "#ab63fa",
           "#FFA15A",
           "#19d3f3",
           "#FF6692",
           "#B6E880",
           "#FF97FF",
           "#FECB52"
          ],
          "font": {
           "color": "#2a3f5f"
          },
          "geo": {
           "bgcolor": "white",
           "lakecolor": "white",
           "landcolor": "#E5ECF6",
           "showlakes": true,
           "showland": true,
           "subunitcolor": "white"
          },
          "hoverlabel": {
           "align": "left"
          },
          "hovermode": "closest",
          "mapbox": {
           "style": "light"
          },
          "paper_bgcolor": "white",
          "plot_bgcolor": "#E5ECF6",
          "polar": {
           "angularaxis": {
            "gridcolor": "white",
            "linecolor": "white",
            "ticks": ""
           },
           "bgcolor": "#E5ECF6",
           "radialaxis": {
            "gridcolor": "white",
            "linecolor": "white",
            "ticks": ""
           }
          },
          "scene": {
           "xaxis": {
            "backgroundcolor": "#E5ECF6",
            "gridcolor": "white",
            "gridwidth": 2,
            "linecolor": "white",
            "showbackground": true,
            "ticks": "",
            "zerolinecolor": "white"
           },
           "yaxis": {
            "backgroundcolor": "#E5ECF6",
            "gridcolor": "white",
            "gridwidth": 2,
            "linecolor": "white",
            "showbackground": true,
            "ticks": "",
            "zerolinecolor": "white"
           },
           "zaxis": {
            "backgroundcolor": "#E5ECF6",
            "gridcolor": "white",
            "gridwidth": 2,
            "linecolor": "white",
            "showbackground": true,
            "ticks": "",
            "zerolinecolor": "white"
           }
          },
          "shapedefaults": {
           "line": {
            "color": "#2a3f5f"
           }
          },
          "ternary": {
           "aaxis": {
            "gridcolor": "white",
            "linecolor": "white",
            "ticks": ""
           },
           "baxis": {
            "gridcolor": "white",
            "linecolor": "white",
            "ticks": ""
           },
           "bgcolor": "#E5ECF6",
           "caxis": {
            "gridcolor": "white",
            "linecolor": "white",
            "ticks": ""
           }
          },
          "title": {
           "x": 0.05
          },
          "xaxis": {
           "automargin": true,
           "gridcolor": "white",
           "linecolor": "white",
           "ticks": "",
           "title": {
            "standoff": 15
           },
           "zerolinecolor": "white",
           "zerolinewidth": 2
          },
          "yaxis": {
           "automargin": true,
           "gridcolor": "white",
           "linecolor": "white",
           "ticks": "",
           "title": {
            "standoff": 15
           },
           "zerolinecolor": "white",
           "zerolinewidth": 2
          }
         }
        },
        "xaxis": {
         "anchor": "y",
         "domain": [
          0,
          1
         ],
         "title": {
          "text": "attack"
         }
        },
        "yaxis": {
         "anchor": "x",
         "domain": [
          0,
          1
         ],
         "title": {
          "text": "defense"
         }
        }
       }
      }
     },
     "metadata": {},
     "output_type": "display_data"
    }
   ],
   "source": [
    "px.scatter(pokemon_df, x='attack', y='defense', hover_name='name')"
   ]
  },
  {
   "cell_type": "code",
   "execution_count": 4,
   "metadata": {},
   "outputs": [
    {
     "data": {
      "application/vnd.plotly.v1+json": {
       "config": {
        "plotlyServerURL": "https://plot.ly"
       },
       "data": [
        {
         "hovertemplate": "<b>%{hovertext}</b><br><br>legendary=False<br>attack=%{x}<br>defense=%{y}<extra></extra>",
         "hovertext": [
          "Bulbasaur",
          "Ivysaur",
          "Venusaur",
          "Mega Venusaur",
          "Gigantamax Venusaur",
          "Charmander",
          "Charmeleon",
          "Charizard",
          "Mega Charizard X",
          "Mega Charizard Y",
          "Gigantamax Charizard",
          "Squirtle",
          "Wartortle",
          "Blastoise",
          "Mega Blastoise",
          "Gigantamax Blasoise",
          "Caterpie",
          "Metapod",
          "Butterfree",
          "Gigantamax Butterfree",
          "Weedle",
          "Kakuna",
          "Beedrill",
          "Mega Beedrill",
          "Pidgey",
          "Pidgeotto",
          "Pidgeot",
          "Mega Pidgeot",
          "Rattata",
          "Alolan Rattata",
          "Raticate",
          "Alolan Raticate",
          "Spearow",
          "Fearow",
          "Ekans",
          "Arbok",
          "Pikachu",
          "Gigantamax Pikachu",
          "Raichu",
          "Alolan Raichu",
          "Sandshrew",
          "Alolan Sandshrew",
          "Sandslash",
          "Alolan Sandslash",
          "Nidoran♀",
          "Nidorina",
          "Nidoqueen",
          "Nidoran♂",
          "Nidorino",
          "Nidoking",
          "Clefairy",
          "Clefable",
          "Vulpix",
          "Alolan Vulpix",
          "Ninetales",
          "Alolan Ninetales",
          "Jigglypuff",
          "Wigglytuff",
          "Zubat",
          "Golbat",
          "Oddish",
          "Gloom",
          "Vileplume",
          "Paras",
          "Parasect",
          "Venonat",
          "Venomoth",
          "Diglett",
          "Alolan Diglett",
          "Dugtrio",
          "Alolan Dugtrio",
          "Meowth",
          "Gigantamax Meowth",
          "Alolan Meowth",
          "Galarian Meowth",
          "Persian",
          "Alolan Persian",
          "Psyduck",
          "Golduck",
          "Mankey",
          "Primeape",
          "Growlithe",
          "Arcanine",
          "Poliwag",
          "Poliwhirl",
          "Poliwrath",
          "Abra",
          "Kadabra",
          "Alakazam",
          "Mega Alakazam",
          "Machop",
          "Machoke",
          "Machamp",
          "Gigantamax Machamp",
          "Bellsprout",
          "Weepinbell",
          "Victreebel",
          "Tentacool",
          "Tentacruel",
          "Geodude",
          "Alolan Geodude",
          "Graveler",
          "Alolan Graveler",
          "Golem",
          "Alolan Golem",
          "Ponyta",
          "Galarian Ponyta",
          "Rapidash",
          "Galarian Rapidash",
          "Slowpoke",
          "Galarian Slowpoke",
          "Slowbro",
          "Galarian Slowbro",
          "Mega Slowbro",
          "Magnemite",
          "Magneton",
          "Farfetch'd",
          "Galarian Farfetched",
          "Doduo",
          "Dodrio",
          "Seel",
          "Dewgong",
          "Grimer",
          "Alolan Grimer",
          "Muk",
          "Alolan Muk",
          "Shellder",
          "Cloyster",
          "Gastly",
          "Haunter",
          "Gengar",
          "Mega Gengar",
          "Gigantamax Gengar",
          "Onix",
          "Drowzee",
          "Hypno",
          "Krabby",
          "Kingler",
          "Gigantamax Kingler",
          "Voltorb",
          "Electrode",
          "Exeggcute",
          "Exeggutor",
          "Alolan Exeggutor",
          "Cubone",
          "Marowak",
          "Alolan Marowak",
          "Hitmonlee",
          "Hitmonchan",
          "Lickitung",
          "Koffing",
          "Weezing",
          "Galarian Weezing",
          "Rhyhorn",
          "Rhydon",
          "Chansey",
          "Tangela",
          "Kangaskhan",
          "Mega Kangaskhan",
          "Horsea",
          "Seadra",
          "Goldeen",
          "Seaking",
          "Staryu",
          "Starmie",
          "Mr. Mime",
          "Galarian Mr. Mime",
          "Scyther",
          "Jynx",
          "Electabuzz",
          "Magmar",
          "Pinsir",
          "Mega Pinsir",
          "Tauros",
          "Magikarp",
          "Gyarados",
          "Mega Gyarados",
          "Lapras",
          "Gigantamax Lapras",
          "Ditto",
          "Eevee",
          "Gigantamax Eevee",
          "Vaporeon",
          "Jolteon",
          "Flareon",
          "Porygon",
          "Omanyte",
          "Omastar",
          "Kabuto",
          "Kabutops",
          "Aerodactyl",
          "Mega Aerodactyl",
          "Snorlax",
          "Gigantamax Snorlax",
          "Dratini",
          "Dragonair",
          "Dragonite",
          "Chikorita",
          "Bayleef",
          "Meganium",
          "Cyndaquil",
          "Quilava",
          "Typhlosion",
          "Totodile",
          "Croconaw",
          "Feraligatr",
          "Sentret",
          "Furret",
          "Hoothoot",
          "Noctowl",
          "Ledyba",
          "Ledian",
          "Spinarak",
          "Ariados",
          "Crobat",
          "Chinchou",
          "Lanturn",
          "Pichu",
          "Cleffa",
          "Igglybuff",
          "Togepi",
          "Togetic",
          "Natu",
          "Xatu",
          "Mareep",
          "Flaaffy",
          "Ampharos",
          "Mega Ampharos",
          "Bellossom",
          "Marill",
          "Azumarill",
          "Sudowoodo",
          "Politoed",
          "Hoppip",
          "Skiploom",
          "Jumpluff",
          "Aipom",
          "Sunkern",
          "Sunflora",
          "Yanma",
          "Wooper",
          "Quagsire",
          "Espeon",
          "Umbreon",
          "Murkrow",
          "Slowking",
          "Galarian Slowking",
          "Misdreavus",
          "Unown",
          "Wobbuffet",
          "Girafarig",
          "Pineco",
          "Forretress",
          "Dunsparce",
          "Gligar",
          "Steelix",
          "Mega Steelix",
          "Snubbull",
          "Granbull",
          "Qwilfish",
          "Scizor",
          "Mega Scizor",
          "Shuckle",
          "Heracross",
          "Mega Heracross",
          "Sneasel",
          "Teddiursa",
          "Ursaring",
          "Slugma",
          "Magcargo",
          "Swinub",
          "Piloswine",
          "Corsola",
          "Galarian Corsola",
          "Remoraid",
          "Octillery",
          "Delibird",
          "Mantine",
          "Skarmory",
          "Houndour",
          "Houndoom",
          "Mega Houndoom",
          "Kingdra",
          "Phanpy",
          "Donphan",
          "Porygon2",
          "Stantler",
          "Smeargle",
          "Tyrogue",
          "Hitmontop",
          "Smoochum",
          "Elekid",
          "Magby",
          "Miltank",
          "Blissey",
          "Larvitar",
          "Pupitar",
          "Tyranitar",
          "Mega Tyranitar",
          "Treecko",
          "Grovyle",
          "Sceptile",
          "Mega Sceptile",
          "Torchic",
          "Combusken",
          "Blaziken",
          "Mega Blaziken",
          "Mudkip",
          "Marshtomp",
          "Swampert",
          "Mega Swampert",
          "Poochyena",
          "Mightyena",
          "Zigzagoon",
          "Galarian Zigzagoon",
          "Linoone",
          "Galarian Linoone",
          "Wurmple",
          "Silcoon",
          "Beautifly",
          "Cascoon",
          "Dustox",
          "Lotad",
          "Lombre",
          "Ludicolo",
          "Seedot",
          "Nuzleaf",
          "Shiftry",
          "Taillow",
          "Swellow",
          "Wingull",
          "Pelipper",
          "Ralts",
          "Kirlia",
          "Gardevoir",
          "Mega Gardevoir",
          "Surskit",
          "Masquerain",
          "Shroomish",
          "Breloom",
          "Slakoth",
          "Vigoroth",
          "Slaking",
          "Nincada",
          "Ninjask",
          "Shedinja",
          "Whismur",
          "Loudred",
          "Exploud",
          "Makuhita",
          "Hariyama",
          "Azurill",
          "Nosepass",
          "Skitty",
          "Delcatty",
          "Sableye",
          "Mega Sableye",
          "Mawile",
          "Mega Mawile",
          "Aron",
          "Lairon",
          "Aggron",
          "Mega Aggron",
          "Meditite",
          "Medicham",
          "Mega Medicham",
          "Electrike",
          "Manectric",
          "Mega Manectric",
          "Plusle",
          "Minun",
          "Volbeat",
          "Illumise",
          "Roselia",
          "Gulpin",
          "Swalot",
          "Carvanha",
          "Sharpedo",
          "Mega Sharpedo",
          "Wailmer",
          "Wailord",
          "Numel",
          "Camerupt",
          "Mega Camerupt",
          "Torkoal",
          "Spoink",
          "Grumpig",
          "Spinda",
          "Trapinch",
          "Vibrava",
          "Flygon",
          "Cacnea",
          "Cacturne",
          "Swablu",
          "Altaria",
          "Mega Altaria",
          "Zangoose",
          "Seviper",
          "Lunatone",
          "Solrock",
          "Barboach",
          "Whiscash",
          "Corphish",
          "Crawdaunt",
          "Baltoy",
          "Claydol",
          "Lileep",
          "Cradily",
          "Anorith",
          "Armaldo",
          "Feebas",
          "Milotic",
          "Castform",
          "Kecleon",
          "Shuppet",
          "Banette",
          "Mega Banette",
          "Duskull",
          "Dusclops",
          "Tropius",
          "Chimecho",
          "Absol",
          "Mega Absol",
          "Wynaut",
          "Snorunt",
          "Glalie",
          "Mega Glalie",
          "Spheal",
          "Sealeo",
          "Walrein",
          "Clamperl",
          "Huntail",
          "Gorebyss",
          "Relicanth",
          "Luvdisc",
          "Bagon",
          "Shelgon",
          "Salamence",
          "Mega Salamence",
          "Beldum",
          "Metang",
          "Metagross",
          "Mega Metagross",
          "Turtwig",
          "Grotle",
          "Torterra",
          "Chimchar",
          "Monferno",
          "Infernape",
          "Piplup",
          "Prinplup",
          "Empoleon",
          "Starly",
          "Staravia",
          "Staraptor",
          "Bidoof",
          "Bibarel",
          "Kricketot",
          "Kricketune",
          "Shinx",
          "Luxio",
          "Luxray",
          "Budew",
          "Roserade",
          "Cranidos",
          "Rampardos",
          "Shieldon",
          "Bastiodon",
          "Burmy",
          "Wormadam Plant Cloak",
          "Wormadam Sandy Cloak",
          "Wormadam Trash Cloak",
          "Mothim",
          "Combee",
          "Vespiquen",
          "Pachirisu",
          "Buizel",
          "Floatzel",
          "Cherubi",
          "Cherrim",
          "Shellos",
          "Gastrodon",
          "Ambipom",
          "Drifloon",
          "Drifblim",
          "Buneary",
          "Lopunny",
          "Mega Lopunny",
          "Mismagius",
          "Honchkrow",
          "Glameow",
          "Purugly",
          "Chingling",
          "Stunky",
          "Skuntank",
          "Bronzor",
          "Bronzong",
          "Bonsly",
          "Mime Jr.",
          "Happiny",
          "Chatot",
          "Spiritomb",
          "Gible",
          "Gabite",
          "Garchomp",
          "Mega Garchomp",
          "Munchlax",
          "Riolu",
          "Lucario",
          "Mega Lucario",
          "Hippopotas",
          "Hippowdon",
          "Skorupi",
          "Drapion",
          "Croagunk",
          "Toxicroak",
          "Carnivine",
          "Finneon",
          "Lumineon",
          "Mantyke",
          "Snover",
          "Abomasnow",
          "Mega Abomasnow",
          "Weavile",
          "Magnezone",
          "Lickilicky",
          "Rhyperior",
          "Tangrowth",
          "Electivire",
          "Magmortar",
          "Togekiss",
          "Yanmega",
          "Leafeon",
          "Glaceon",
          "Gliscor",
          "Mamoswine",
          "Porygon-Z",
          "Gallade",
          "Mega Gallade",
          "Probopass",
          "Dusknoir",
          "Froslass",
          "Rotom",
          "Heat Rotom",
          "Wash Rotom",
          "Frost Rotom",
          "Fan Rotom",
          "Mow Rotom",
          "Snivy",
          "Servine",
          "Serperior",
          "Tepig",
          "Pignite",
          "Emboar",
          "Oshawott",
          "Dewott",
          "Samurott",
          "Patrat",
          "Watchog",
          "Lillipup",
          "Herdier",
          "Stoutland",
          "Purrloin",
          "Liepard",
          "Pansage",
          "Simisage",
          "Pansear",
          "Simisear",
          "Panpour",
          "Simipour",
          "Munna",
          "Musharna",
          "Pidove",
          "Tranquill",
          "Unfezant",
          "Blitzle",
          "Zebstrika",
          "Roggenrola",
          "Boldore",
          "Gigalith",
          "Woobat",
          "Swoobat",
          "Drilbur",
          "Excadrill",
          "Audino",
          "Mega Audino",
          "Timburr",
          "Gurdurr",
          "Conkeldurr",
          "Tympole",
          "Palpitoad",
          "Seismitoad",
          "Throh",
          "Sawk",
          "Sewaddle",
          "Swadloon",
          "Leavanny",
          "Venipede",
          "Whirlipede",
          "Scolipede",
          "Cottonee",
          "Whimsicott",
          "Petilil",
          "Lilligant",
          "Basculin",
          "Sandile",
          "Krokorok",
          "Krookodile",
          "Darumaka",
          "Galarian Darumaka",
          "Darmanitan Standard Mode",
          "Galarian Darmanitan Standard Mode",
          "Darmanitan Zen Mode",
          "Galarian Darmanitan Zen Mode",
          "Maractus",
          "Dwebble",
          "Crustle",
          "Scraggy",
          "Scrafty",
          "Sigilyph",
          "Yamask",
          "Galarian Yamask",
          "Cofagrigus",
          "Tirtouga",
          "Carracosta",
          "Archen",
          "Archeops",
          "Trubbish",
          "Garbodor",
          "Gigantamax Garbodor",
          "Zorua",
          "Zoroark",
          "Minccino",
          "Cinccino",
          "Gothita",
          "Gothorita",
          "Gothitelle",
          "Solosis",
          "Duosion",
          "Reuniclus",
          "Ducklett",
          "Swanna",
          "Vanillite",
          "Vanillish",
          "Vanilluxe",
          "Deerling",
          "Sawsbuck",
          "Emolga",
          "Karrablast",
          "Escavalier",
          "Foongus",
          "Amoonguss",
          "Frillish",
          "Jellicent",
          "Alomomola",
          "Joltik",
          "Galvantula",
          "Ferroseed",
          "Ferrothorn",
          "Klink",
          "Klang",
          "Klinklang",
          "Tynamo",
          "Eelektrik",
          "Eelektross",
          "Elgyem",
          "Beheeyem",
          "Litwick",
          "Lampent",
          "Chandelure",
          "Axew",
          "Fraxure",
          "Haxorus",
          "Cubchoo",
          "Beartic",
          "Cryogonal",
          "Shelmet",
          "Accelgor",
          "Stunfisk",
          "Galarian Stunfisk",
          "Mienfoo",
          "Mienshao",
          "Druddigon",
          "Golett",
          "Golurk",
          "Pawniard",
          "Bisharp",
          "Bouffalant",
          "Rufflet",
          "Braviary",
          "Vullaby",
          "Mandibuzz",
          "Heatmor",
          "Durant",
          "Deino",
          "Zweilous",
          "Hydreigon",
          "Larvesta",
          "Volcarona",
          "Chespin",
          "Quilladin",
          "Chesnaught",
          "Fennekin",
          "Braixen",
          "Delphox",
          "Froakie",
          "Frogadier",
          "Greninja",
          "Ash-Greninja",
          "Bunnelby",
          "Diggersby",
          "Fletchling",
          "Fletchinder",
          "Talonflame",
          "Scatterbug",
          "Spewpa",
          "Vivillon",
          "Litleo",
          "Pyroar",
          "Flabébé",
          "Floette",
          "Florges",
          "Skiddo",
          "Gogoat",
          "Pancham",
          "Pangoro",
          "Furfrou",
          "Espurr",
          "Meowstic Male",
          "Meowstic Female",
          "Honedge",
          "Doublade",
          "Aegislash Blade Forme",
          "Aegislash Shield Forme",
          "Spritzee",
          "Aromatisse",
          "Swirlix",
          "Slurpuff",
          "Inkay",
          "Malamar",
          "Binacle",
          "Barbaracle",
          "Skrelp",
          "Dragalge",
          "Clauncher",
          "Clawitzer",
          "Helioptile",
          "Heliolisk",
          "Tyrunt",
          "Tyrantrum",
          "Amaura",
          "Aurorus",
          "Sylveon",
          "Hawlucha",
          "Dedenne",
          "Carbink",
          "Goomy",
          "Sliggoo",
          "Goodra",
          "Klefki",
          "Phantump",
          "Trevenant",
          "Pumpkaboo Average Size",
          "Pumpkaboo Small Size",
          "Pumpkaboo Large Size",
          "Pumpkaboo Super Size",
          "Gourgeist Average Size",
          "Gourgeist Small Size",
          "Gourgeist Large Size",
          "Gourgeist Super Size",
          "Bergmite",
          "Avalugg",
          "Noibat",
          "Noivern",
          "Rowlet",
          "Dartrix",
          "Decidueye",
          "Litten",
          "Torracat",
          "Incineroar",
          "Popplio",
          "Brionne",
          "Primarina",
          "Pikipek",
          "Trumbeak",
          "Toucannon",
          "Yungoos",
          "Gumshoos",
          "Grubbin",
          "Charjabug",
          "Vikavolt",
          "Crabrawler",
          "Crabominable",
          "Oricorio Baile Style",
          "Oricorio Pom-Pom Style",
          "Oricorio P'au Style",
          "Oricorio Sensu Style",
          "Cutiefly",
          "Ribombee",
          "Rockruff",
          "Lycanroc Midday Forme",
          "Lycanroc Midnight Forme",
          "Lycanroc Dusk Forme",
          "Wishiwashi Solo Forme",
          "Wishiwashi School Forme",
          "Mareanie",
          "Toxapex",
          "Mudbray",
          "Mudsdale",
          "Dewpider",
          "Araquanid",
          "Fomantis",
          "Lurantis",
          "Morelull",
          "Shiinotic",
          "Salandit",
          "Salazzle",
          "Stufful",
          "Bewear",
          "Bounsweet",
          "Steenee",
          "Tsareena",
          "Comfey",
          "Oranguru",
          "Passimian",
          "Wimpod",
          "Golisopod",
          "Sandygast",
          "Palossand",
          "Pyukumuku",
          "Type: Null",
          "Silvally",
          "Minior Meteor Forme",
          "Minior Core Forme",
          "Komala",
          "Turtonator",
          "Togedemaru",
          "Mimikyu",
          "Bruxish",
          "Drampa",
          "Dhelmise",
          "Jangmo-o",
          "Hakamo-o",
          "Kommo-o",
          "Nihilego",
          "Buzzwole",
          "Pheromosa",
          "Xurkitree",
          "Celesteela",
          "Kartana",
          "Guzzlord",
          "Poipole",
          "Naganadel",
          "Stakataka",
          "Blacephalon",
          "Grookey",
          "Thwackey",
          "Rillaboom",
          "Gigantamax Rillaboom",
          "Scorbunny",
          "Raboot",
          "Cinderace",
          "Gigantamax Cinderace",
          "Sobble",
          "Drizzile",
          "Inteleon",
          "Gigantamax Inteleon",
          "Skwovet",
          "Greedent",
          "Rookidee",
          "Corvisquire",
          "Corviknight",
          "Gigantamax Corviknight",
          "Blipbug",
          "Dottler",
          "Orbeetle",
          "Gigantamax Orbeetle",
          "Nickit",
          "Thievul",
          "Gossifleur",
          "Eldegoss",
          "Wooloo",
          "Dubwool",
          "Chewtle",
          "Drednaw",
          "Gigantamax Drednaw",
          "Yamper",
          "Boltund",
          "Rolycoly",
          "Carkol",
          "Coalossal",
          "Gigantamax Coalossal",
          "Applin",
          "Flapple",
          "Gigantamax Flapple",
          "Appletun",
          "Gigantamax Appletun",
          "Silicobra",
          "Sandaconda",
          "Gigantamax Sandaconda",
          "Cramorant",
          "Arrokuda",
          "Barraskewda",
          "Toxel",
          "Toxtricity Amped Forme",
          "Toxitricity Low Key Forme",
          "Gigantamax Toxitricity",
          "Sizzlipede",
          "Centiskorch",
          "Gigantamax Centiskorch",
          "Clobbopus",
          "Grapploct",
          "Sinistea",
          "Polteageist",
          "Hatenna",
          "Hattrem",
          "Hatterene",
          "Gigantamax Hatterene",
          "Impidimp",
          "Morgrem",
          "Grimmsnarl",
          "Gigantamax Grimmsnarl",
          "Obstagoon",
          "Perrserker",
          "Cursola",
          "Sirfetch'd",
          "Mr. Rime",
          "Runerigus",
          "Milcery",
          "Alcremie",
          "Gigantamax Alcremie",
          "Falinks",
          "Pincurchin",
          "Snom",
          "Frosmoth",
          "Stonjourner",
          "Eiscue Ice Face",
          "Eiscue Noice Face",
          "Indeedee Male",
          "Indeedee Female",
          "Morpeko Full Belly Mode",
          "Morpeko Hangry Mode",
          "Cufant",
          "Copperajah",
          "Gigantamax Copperajah",
          "Dracozolt",
          "Arctozolt",
          "Dracovish",
          "Arctovish",
          "Duraludon",
          "Gigantamax Duraludon",
          "Dreepy",
          "Drakloak",
          "Dragapult"
         ],
         "legendgroup": "False",
         "marker": {
          "color": "#636efa",
          "symbol": "circle"
         },
         "mode": "markers",
         "name": "False",
         "showlegend": true,
         "type": "scattergl",
         "x": {
          "bdata": "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",
          "dtype": "i2"
         },
         "xaxis": "x",
         "y": {
          "bdata": "MQA/AFMAewBTACsAOgBOAG8ATgBOAEEAUABkAHgAZAAjADcAMgAyAB4AMgAoACgAKAA3AEsAUAAjACMAPABGAB4AQQAsAEUAKAAoADcAMgBVAFoAbgB4ADQAQwBXACgAOQBNADAASQAoACgASwBLABQALQAjAEYANwBGAFUANwBQADIAPAAZAB4AMgA8ACMAIwAjADcAPAA8ADAATgAjADwALQBQACgAQQBfAA8AHgAtAEEAMgBGAFAAUAAjADIAQQAjAEEAZABkAHMAcwCCAIIANwA3AEYARgBBAEEAbgBfALQARgBfADcANwAtAEYANwBQADIAMgBLAEsAZAC0AB4ALQA8AFAAPACgAC0ARgBaAHMAcwAyAEYAUABVAFUAXwBuAG4ANQBPAEsAXwB4AHgAXwB4AAUAcwBQAGQARgBfADwAQQA3AFUAQQBBAFAAIwA5ADkAZAB4AF8ANwBPAG0AUABQADAAMgAyADwAPAA8AEYAZAB9AFoAaQBBAFUAQQBBAC0AQQBfAEEAUABkACsAOgBOAEAAUABkACIAQAAeADIAHgAyACgARgBQACYAOgAPABwADwBBAFUALQBGACgANwBVAGkAXwAyAFAAcwBLACgAMgBGADcAHgA3AC0ALQBVADwAbgAqAFAAUAA8ADAAOgBBAFoAjABGAGkAyADmADIASwBLAGQAjADmAEsAcwA3ADIASwAoAHgAKABQAFUAZAAjAEsALQBGAIwAHgAyAFoAXwA8AHgAWgA+ACMAIwBfAA8AJQAlAGkACgAyAEYAbgCWACMALQBBAEsAKAA8AEYAUAAyAEYAWgBuACMARgApACkAPQA9ACMANwAyADcARgAeADIARgAyACgAPAAeADwAHgBkABkAIwBBAEEAIAA+ADwAUAA8AFAAZABaAC0ALQAXACsAPwAeADwAKACHAC0AQQBLAH0AVQB9AGQAjAC0AOYANwBLAFUAKAA8AFAAKAAyADcANwAtADUAUwAUACgARgAjAC0AKABGAGQAjAAjAEEAPAAtADIAUAAoADwAPABaAG4APAA8AEEAVQArAEkAQQBVADcAaQBNAGEAMgBkABQATwBGAEYAIwBBAEsAWgCCAFMARgA8ADwAMAAyAFAAUAAyAEYAWgBVAGkAaQCCADcAPABkAFAAggBQAGQAggCWAEAAVQBpACwANABHADUARABYAB4AMgBGACgAPAApADMAIgAxAE8AIwBBACgAPAB2AKgALQBVAGkAXwAyACoAZgBGACMANwAtAEYAMABEAEIAIgAsACwAVABeADwANAAqAEAAMgAvAEMAVgB0AF8ALQAFAC0AbAAtAEEAXwBzACgAKABGAFgATgB2AFoAbgAoAEEASAA4AEwAMgAyAEsAaQBBAHMAXwCCAH0AQwBDAF8AVgCCAG4AfQBQAEYAQQBfAJEAhwBGAE0AawBrAGsAawBrADcASwBfAC0ANwBBAC0APABVACcARQAtAEEAWgAlADIAMAA/ADAAPwAwAD8ALQBVADIAPgBQACAAPwBVAGkAggArADcAKAA8AFYAfgA3AFUAXwAoADcASwBVAEsARgBaAFAAOwBjAFkAPABVADIASwBBACMALQBQAC0ALQA3ADcAaQA3AEMAVQB9AEYAcwBQAFUAVQCRAGcAhQAtAEEAPgBSAFIAKAA8ACgAPAAyAEYAXwAoADIASwAyAD8AMgBBAFUAMgBGADwALQBpAC0ARgAyAEYAUAAyADwAWwCDAEYAXwBzACgARgBQADcASwA3ADwAWgA8AEYAWgAoAFAAHgBVACgAVABjADIAPABaADIAUABGAGQAXwAyAEsASwBpAEIAcAAyAEYAWgA3AEEAQQBfAHoAKAA6AEgAKAA0AEMAQwAmAE0AKwA3AEcAKAA8ADIAOgBIACcALwBEADAAPgA+AE4APAA2AEwATABkAJYAMgCWADwASABCAFYANQBYAEMAcwA8AFoAPgBYACEANABNAHcAMgBIAEEASwA5AJYAIwA1AEYAWwAwAEwARgBGAEYARgB6AHoAegB6AFUAuAAjAFAANwBLAEsAKAAyAFoANgBFAEoAHgAyAEsAHgA8AC0AXwBaADkATQBGAEYARgBGACgAPAAoAEEASwBBABQAggA+AJgARgBkADQAXAAjAFoANwBQACgAPAAyAFAAJgAwAGIAWgBQAFoAKACMAFAAbgCCAF8AXwBkADwAQQCHAD8AUABGAFUAZABBAFoAfQAvAIsAJQBHAGcAgwA1AEMASQDTADUAMgBGAFoAWgAoADwASwBLACgANwBBAEEANwBfACMANwBpAGkAFABQAG4AbgAcADoAPABaADcAZAAyAFoAWgAyADwAMgBaAHgAeABQAFAAUABQAFAASwB9AH0ANwAoADwAIwBGAEYARgAtAEEAQQA8AFoALQBBAC0AQQBfAF8AHgAtAEEAQQBlAGQAMgBfAEsAkQAoAEsASwBkAF8AIwA8AIcAbgBGADcAQQA6ADoAMQBFAEUAWgBaAGQAZABzAHMAHgAyAEsA",
          "dtype": "i2"
         },
         "yaxis": "y"
        },
        {
         "hovertemplate": "<b>%{hovertext}</b><br><br>legendary=True<br>attack=%{x}<br>defense=%{y}<extra></extra>",
         "hovertext": [
          "Articuno",
          "Galarian Articuno",
          "Zapdos",
          "Galarian Zapdos",
          "Moltres",
          "Galarian Moltres",
          "Mewtwo",
          "Mega Mewtwo X",
          "Mega Mewtwo Y",
          "Mew",
          "Raikou",
          "Entei",
          "Suicune",
          "Lugia",
          "Ho-oh",
          "Celebi",
          "Regirock",
          "Regice",
          "Registeel",
          "Latias",
          "Mega Latias",
          "Latios",
          "Mega Latios",
          "Kyogre",
          "Primal Kyogre",
          "Groudon",
          "Primal Groudon",
          "Rayquaza",
          "Mega Rayquaza",
          "Jirachi",
          "Deoxys Normal Forme",
          "Deoxys Attack Forme",
          "Deoxys Defense Forme",
          "Deoxys Speed Forme",
          "Uxie",
          "Mesprit",
          "Azelf",
          "Dialga",
          "Palkia",
          "Heatran",
          "Regigigas",
          "Giratina Altered Forme",
          "Giratina Origin Forme",
          "Cresselia",
          "Phione",
          "Manaphy",
          "Darkrai",
          "Shaymin Land Forme",
          "Shaymin Sky Forme",
          "Arceus",
          "Victini",
          "Cobalion",
          "Terrakion",
          "Virizion",
          "Tornadus Incarnate Forme",
          "Tornadus Therian Forme",
          "Thundurus Incarnate Forme",
          "Thundurus Therian Forme",
          "Reshiram",
          "Zekrom",
          "Landorus Incarnate Forme",
          "Landorus Therian Forme",
          "Kyurem",
          "Black Kyurem",
          "White Kyurem",
          "Keldeo Ordinary Forme",
          "Keldeo Resolute Forme",
          "Meloetta Aria Forme",
          "Meloetta Pirouette Forme",
          "Genesect",
          "Xerneas",
          "Yveltal",
          "Zygarde 10% Forme",
          "Zygarde 50% Forme",
          "Zygarde Complete Forme",
          "Diancie",
          "Mega Diancie",
          "Hoopa Confined",
          "Hoopa Unbound",
          "Volcanion",
          "Tapu Koko",
          "Tapu Lele",
          "Tapu Bulu",
          "Tapu Fini",
          "Cosmog",
          "Cosmoem",
          "Solgaleo",
          "Lunala",
          "Necrozma",
          "Dusk Mane Necrozma",
          "Dawn Wings Necrozma",
          "Ultra Necrozma",
          "Magearna",
          "Marshadow",
          "Zeraora",
          "Meltan",
          "Melmetal",
          "Gigantamax Melmetal",
          "Zacian Hero of Many Battles",
          "Zacian Crowned Sword Forme",
          "Zamazenta Hero of Many Battles",
          "Zamazenta Crowned Sheild Forme",
          "Eternatus",
          "Eternamax Eternatus",
          "Kubfu",
          "Urshifu Single Strike Style",
          "Gigantamax Urshifu Single Strike Style",
          "Urshifu Rapid Strike Style",
          "Gigantamax Urshifu Rapid Strike Style",
          "Zarude",
          "Dada Zarude",
          "Regieleki",
          "Regidrago",
          "Glastrier",
          "Spectrier",
          "Calyrex",
          "Ice Rider Calyrex",
          "Shadow Rider Calyrex"
         ],
         "legendgroup": "True",
         "marker": {
          "color": "#EF553B",
          "symbol": "diamond"
         },
         "mode": "markers",
         "name": "True",
         "showlegend": true,
         "type": "scattergl",
         "x": {
          "bdata": "VQBVAFoAfQBkAFUAbgC+AJYAZABVAHMASwBaAIIAZABkADIASwBQAGQAWgCCAGQAlgCWALQAlgC0AGQAlgC0AEYAXwBLAGkAfQB4AHgAWgCgAGQAeABGAFAAZABaAGQAZwB4AGQAWgCBAFoAcwBkAHMAaQB4AJYAfQCRAIIAqgB4AEgASABNAIAAeACDAIMAZABkAGQAZACgAG4AoABuAHMAVQCCAEsAHQAdAIkAcQBrAJ0AcQCnAF8AfQBwAEEAjwCPAIIAqgCCAIIAVQBzAFoAggCCAIIAggB4AHgAZABkAJEAQQBQAKUAVQA=",
          "dtype": "i2"
         },
         "xaxis": "x",
         "y": {
          "bdata": "ZABVAFUAWgBaAFoAWgBkAEYAZABLAFUAcwCCAFoAZADIAGQAlgBaAHgAUABkAFoAWgCMAKAAWgBkAGQAMgAUAKAAWgCCAGkARgB4AGQAagBuAHgAZAB4AFAAZABaAGQASwB4AGQAgQBaAEgARgBQAEYARgBkAHgAWgBaAFoAZABaAFoAWgBNAFoAXwBfAF8ARwB5AHkAlgBuADwAPAB4AFUASwBzAHMAHwCDAGsAWQBlAH8AbQBhAHMAUABLAEEAjwCPAHMAcwBzAJEAXwD6ADwAZABkAGQAZABpAGkAMgAyAIIAPABQAJYAUAA=",
          "dtype": "i2"
         },
         "yaxis": "y"
        }
       ],
       "layout": {
        "legend": {
         "title": {
          "text": "legendary"
         },
         "tracegroupgap": 0
        },
        "margin": {
         "t": 60
        },
        "template": {
         "data": {
          "bar": [
           {
            "error_x": {
             "color": "#2a3f5f"
            },
            "error_y": {
             "color": "#2a3f5f"
            },
            "marker": {
             "line": {
              "color": "#E5ECF6",
              "width": 0.5
             },
             "pattern": {
              "fillmode": "overlay",
              "size": 10,
              "solidity": 0.2
             }
            },
            "type": "bar"
           }
          ],
          "barpolar": [
           {
            "marker": {
             "line": {
              "color": "#E5ECF6",
              "width": 0.5
             },
             "pattern": {
              "fillmode": "overlay",
              "size": 10,
              "solidity": 0.2
             }
            },
            "type": "barpolar"
           }
          ],
          "carpet": [
           {
            "aaxis": {
             "endlinecolor": "#2a3f5f",
             "gridcolor": "white",
             "linecolor": "white",
             "minorgridcolor": "white",
             "startlinecolor": "#2a3f5f"
            },
            "baxis": {
             "endlinecolor": "#2a3f5f",
             "gridcolor": "white",
             "linecolor": "white",
             "minorgridcolor": "white",
             "startlinecolor": "#2a3f5f"
            },
            "type": "carpet"
           }
          ],
          "choropleth": [
           {
            "colorbar": {
             "outlinewidth": 0,
             "ticks": ""
            },
            "type": "choropleth"
           }
          ],
          "contour": [
           {
            "colorbar": {
             "outlinewidth": 0,
             "ticks": ""
            },
            "colorscale": [
             [
              0,
              "#0d0887"
             ],
             [
              0.1111111111111111,
              "#46039f"
             ],
             [
              0.2222222222222222,
              "#7201a8"
             ],
             [
              0.3333333333333333,
              "#9c179e"
             ],
             [
              0.4444444444444444,
              "#bd3786"
             ],
             [
              0.5555555555555556,
              "#d8576b"
             ],
             [
              0.6666666666666666,
              "#ed7953"
             ],
             [
              0.7777777777777778,
              "#fb9f3a"
             ],
             [
              0.8888888888888888,
              "#fdca26"
             ],
             [
              1,
              "#f0f921"
             ]
            ],
            "type": "contour"
           }
          ],
          "contourcarpet": [
           {
            "colorbar": {
             "outlinewidth": 0,
             "ticks": ""
            },
            "type": "contourcarpet"
           }
          ],
          "heatmap": [
           {
            "colorbar": {
             "outlinewidth": 0,
             "ticks": ""
            },
            "colorscale": [
             [
              0,
              "#0d0887"
             ],
             [
              0.1111111111111111,
              "#46039f"
             ],
             [
              0.2222222222222222,
              "#7201a8"
             ],
             [
              0.3333333333333333,
              "#9c179e"
             ],
             [
              0.4444444444444444,
              "#bd3786"
             ],
             [
              0.5555555555555556,
              "#d8576b"
             ],
             [
              0.6666666666666666,
              "#ed7953"
             ],
             [
              0.7777777777777778,
              "#fb9f3a"
             ],
             [
              0.8888888888888888,
              "#fdca26"
             ],
             [
              1,
              "#f0f921"
             ]
            ],
            "type": "heatmap"
           }
          ],
          "histogram": [
           {
            "marker": {
             "pattern": {
              "fillmode": "overlay",
              "size": 10,
              "solidity": 0.2
             }
            },
            "type": "histogram"
           }
          ],
          "histogram2d": [
           {
            "colorbar": {
             "outlinewidth": 0,
             "ticks": ""
            },
            "colorscale": [
             [
              0,
              "#0d0887"
             ],
             [
              0.1111111111111111,
              "#46039f"
             ],
             [
              0.2222222222222222,
              "#7201a8"
             ],
             [
              0.3333333333333333,
              "#9c179e"
             ],
             [
              0.4444444444444444,
              "#bd3786"
             ],
             [
              0.5555555555555556,
              "#d8576b"
             ],
             [
              0.6666666666666666,
              "#ed7953"
             ],
             [
              0.7777777777777778,
              "#fb9f3a"
             ],
             [
              0.8888888888888888,
              "#fdca26"
             ],
             [
              1,
              "#f0f921"
             ]
            ],
            "type": "histogram2d"
           }
          ],
          "histogram2dcontour": [
           {
            "colorbar": {
             "outlinewidth": 0,
             "ticks": ""
            },
            "colorscale": [
             [
              0,
              "#0d0887"
             ],
             [
              0.1111111111111111,
              "#46039f"
             ],
             [
              0.2222222222222222,
              "#7201a8"
             ],
             [
              0.3333333333333333,
              "#9c179e"
             ],
             [
              0.4444444444444444,
              "#bd3786"
             ],
             [
              0.5555555555555556,
              "#d8576b"
             ],
             [
              0.6666666666666666,
              "#ed7953"
             ],
             [
              0.7777777777777778,
              "#fb9f3a"
             ],
             [
              0.8888888888888888,
              "#fdca26"
             ],
             [
              1,
              "#f0f921"
             ]
            ],
            "type": "histogram2dcontour"
           }
          ],
          "mesh3d": [
           {
            "colorbar": {
             "outlinewidth": 0,
             "ticks": ""
            },
            "type": "mesh3d"
           }
          ],
          "parcoords": [
           {
            "line": {
             "colorbar": {
              "outlinewidth": 0,
              "ticks": ""
             }
            },
            "type": "parcoords"
           }
          ],
          "pie": [
           {
            "automargin": true,
            "type": "pie"
           }
          ],
          "scatter": [
           {
            "fillpattern": {
             "fillmode": "overlay",
             "size": 10,
             "solidity": 0.2
            },
            "type": "scatter"
           }
          ],
          "scatter3d": [
           {
            "line": {
             "colorbar": {
              "outlinewidth": 0,
              "ticks": ""
             }
            },
            "marker": {
             "colorbar": {
              "outlinewidth": 0,
              "ticks": ""
             }
            },
            "type": "scatter3d"
           }
          ],
          "scattercarpet": [
           {
            "marker": {
             "colorbar": {
              "outlinewidth": 0,
              "ticks": ""
             }
            },
            "type": "scattercarpet"
           }
          ],
          "scattergeo": [
           {
            "marker": {
             "colorbar": {
              "outlinewidth": 0,
              "ticks": ""
             }
            },
            "type": "scattergeo"
           }
          ],
          "scattergl": [
           {
            "marker": {
             "colorbar": {
              "outlinewidth": 0,
              "ticks": ""
             }
            },
            "type": "scattergl"
           }
          ],
          "scattermap": [
           {
            "marker": {
             "colorbar": {
              "outlinewidth": 0,
              "ticks": ""
             }
            },
            "type": "scattermap"
           }
          ],
          "scattermapbox": [
           {
            "marker": {
             "colorbar": {
              "outlinewidth": 0,
              "ticks": ""
             }
            },
            "type": "scattermapbox"
           }
          ],
          "scatterpolar": [
           {
            "marker": {
             "colorbar": {
              "outlinewidth": 0,
              "ticks": ""
             }
            },
            "type": "scatterpolar"
           }
          ],
          "scatterpolargl": [
           {
            "marker": {
             "colorbar": {
              "outlinewidth": 0,
              "ticks": ""
             }
            },
            "type": "scatterpolargl"
           }
          ],
          "scatterternary": [
           {
            "marker": {
             "colorbar": {
              "outlinewidth": 0,
              "ticks": ""
             }
            },
            "type": "scatterternary"
           }
          ],
          "surface": [
           {
            "colorbar": {
             "outlinewidth": 0,
             "ticks": ""
            },
            "colorscale": [
             [
              0,
              "#0d0887"
             ],
             [
              0.1111111111111111,
              "#46039f"
             ],
             [
              0.2222222222222222,
              "#7201a8"
             ],
             [
              0.3333333333333333,
              "#9c179e"
             ],
             [
              0.4444444444444444,
              "#bd3786"
             ],
             [
              0.5555555555555556,
              "#d8576b"
             ],
             [
              0.6666666666666666,
              "#ed7953"
             ],
             [
              0.7777777777777778,
              "#fb9f3a"
             ],
             [
              0.8888888888888888,
              "#fdca26"
             ],
             [
              1,
              "#f0f921"
             ]
            ],
            "type": "surface"
           }
          ],
          "table": [
           {
            "cells": {
             "fill": {
              "color": "#EBF0F8"
             },
             "line": {
              "color": "white"
             }
            },
            "header": {
             "fill": {
              "color": "#C8D4E3"
             },
             "line": {
              "color": "white"
             }
            },
            "type": "table"
           }
          ]
         },
         "layout": {
          "annotationdefaults": {
           "arrowcolor": "#2a3f5f",
           "arrowhead": 0,
           "arrowwidth": 1
          },
          "autotypenumbers": "strict",
          "coloraxis": {
           "colorbar": {
            "outlinewidth": 0,
            "ticks": ""
           }
          },
          "colorscale": {
           "diverging": [
            [
             0,
             "#8e0152"
            ],
            [
             0.1,
             "#c51b7d"
            ],
            [
             0.2,
             "#de77ae"
            ],
            [
             0.3,
             "#f1b6da"
            ],
            [
             0.4,
             "#fde0ef"
            ],
            [
             0.5,
             "#f7f7f7"
            ],
            [
             0.6,
             "#e6f5d0"
            ],
            [
             0.7,
             "#b8e186"
            ],
            [
             0.8,
             "#7fbc41"
            ],
            [
             0.9,
             "#4d9221"
            ],
            [
             1,
             "#276419"
            ]
           ],
           "sequential": [
            [
             0,
             "#0d0887"
            ],
            [
             0.1111111111111111,
             "#46039f"
            ],
            [
             0.2222222222222222,
             "#7201a8"
            ],
            [
             0.3333333333333333,
             "#9c179e"
            ],
            [
             0.4444444444444444,
             "#bd3786"
            ],
            [
             0.5555555555555556,
             "#d8576b"
            ],
            [
             0.6666666666666666,
             "#ed7953"
            ],
            [
             0.7777777777777778,
             "#fb9f3a"
            ],
            [
             0.8888888888888888,
             "#fdca26"
            ],
            [
             1,
             "#f0f921"
            ]
           ],
           "sequentialminus": [
            [
             0,
             "#0d0887"
            ],
            [
             0.1111111111111111,
             "#46039f"
            ],
            [
             0.2222222222222222,
             "#7201a8"
            ],
            [
             0.3333333333333333,
             "#9c179e"
            ],
            [
             0.4444444444444444,
             "#bd3786"
            ],
            [
             0.5555555555555556,
             "#d8576b"
            ],
            [
             0.6666666666666666,
             "#ed7953"
            ],
            [
             0.7777777777777778,
             "#fb9f3a"
            ],
            [
             0.8888888888888888,
             "#fdca26"
            ],
            [
             1,
             "#f0f921"
            ]
           ]
          },
          "colorway": [
           "#636efa",
           "#EF553B",
           "#00cc96",
           "#ab63fa",
           "#FFA15A",
           "#19d3f3",
           "#FF6692",
           "#B6E880",
           "#FF97FF",
           "#FECB52"
          ],
          "font": {
           "color": "#2a3f5f"
          },
          "geo": {
           "bgcolor": "white",
           "lakecolor": "white",
           "landcolor": "#E5ECF6",
           "showlakes": true,
           "showland": true,
           "subunitcolor": "white"
          },
          "hoverlabel": {
           "align": "left"
          },
          "hovermode": "closest",
          "mapbox": {
           "style": "light"
          },
          "paper_bgcolor": "white",
          "plot_bgcolor": "#E5ECF6",
          "polar": {
           "angularaxis": {
            "gridcolor": "white",
            "linecolor": "white",
            "ticks": ""
           },
           "bgcolor": "#E5ECF6",
           "radialaxis": {
            "gridcolor": "white",
            "linecolor": "white",
            "ticks": ""
           }
          },
          "scene": {
           "xaxis": {
            "backgroundcolor": "#E5ECF6",
            "gridcolor": "white",
            "gridwidth": 2,
            "linecolor": "white",
            "showbackground": true,
            "ticks": "",
            "zerolinecolor": "white"
           },
           "yaxis": {
            "backgroundcolor": "#E5ECF6",
            "gridcolor": "white",
            "gridwidth": 2,
            "linecolor": "white",
            "showbackground": true,
            "ticks": "",
            "zerolinecolor": "white"
           },
           "zaxis": {
            "backgroundcolor": "#E5ECF6",
            "gridcolor": "white",
            "gridwidth": 2,
            "linecolor": "white",
            "showbackground": true,
            "ticks": "",
            "zerolinecolor": "white"
           }
          },
          "shapedefaults": {
           "line": {
            "color": "#2a3f5f"
           }
          },
          "ternary": {
           "aaxis": {
            "gridcolor": "white",
            "linecolor": "white",
            "ticks": ""
           },
           "baxis": {
            "gridcolor": "white",
            "linecolor": "white",
            "ticks": ""
           },
           "bgcolor": "#E5ECF6",
           "caxis": {
            "gridcolor": "white",
            "linecolor": "white",
            "ticks": ""
           }
          },
          "title": {
           "x": 0.05
          },
          "xaxis": {
           "automargin": true,
           "gridcolor": "white",
           "linecolor": "white",
           "ticks": "",
           "title": {
            "standoff": 15
           },
           "zerolinecolor": "white",
           "zerolinewidth": 2
          },
          "yaxis": {
           "automargin": true,
           "gridcolor": "white",
           "linecolor": "white",
           "ticks": "",
           "title": {
            "standoff": 15
           },
           "zerolinecolor": "white",
           "zerolinewidth": 2
          }
         }
        },
        "xaxis": {
         "anchor": "y",
         "domain": [
          0,
          1
         ],
         "title": {
          "text": "attack"
         }
        },
        "yaxis": {
         "anchor": "x",
         "domain": [
          0,
          1
         ],
         "title": {
          "text": "defense"
         }
        }
       }
      }
     },
     "metadata": {},
     "output_type": "display_data"
    }
   ],
   "source": [
    "px.scatter(pokemon_df, x='attack', y='defense', hover_name='name', color='legendary', symbol='legendary')"
   ]
  },
  {
   "cell_type": "code",
   "execution_count": 5,
   "metadata": {},
   "outputs": [
    {
     "data": {
      "application/vnd.plotly.v1+json": {
       "config": {
        "plotlyServerURL": "https://plot.ly"
       },
       "data": [
        {
         "hovertemplate": "<b>%{hovertext}</b><br><br>attack=%{x}<br>defense=%{y}<br>total=%{marker.color}<extra></extra>",
         "hovertext": [
          "Bulbasaur",
          "Ivysaur",
          "Venusaur",
          "Mega Venusaur",
          "Gigantamax Venusaur",
          "Charmander",
          "Charmeleon",
          "Charizard",
          "Mega Charizard X",
          "Mega Charizard Y",
          "Gigantamax Charizard",
          "Squirtle",
          "Wartortle",
          "Blastoise",
          "Mega Blastoise",
          "Gigantamax Blasoise",
          "Caterpie",
          "Metapod",
          "Butterfree",
          "Gigantamax Butterfree",
          "Weedle",
          "Kakuna",
          "Beedrill",
          "Mega Beedrill",
          "Pidgey",
          "Pidgeotto",
          "Pidgeot",
          "Mega Pidgeot",
          "Rattata",
          "Alolan Rattata",
          "Raticate",
          "Alolan Raticate",
          "Spearow",
          "Fearow",
          "Ekans",
          "Arbok",
          "Pikachu",
          "Gigantamax Pikachu",
          "Raichu",
          "Alolan Raichu",
          "Sandshrew",
          "Alolan Sandshrew",
          "Sandslash",
          "Alolan Sandslash",
          "Nidoran♀",
          "Nidorina",
          "Nidoqueen",
          "Nidoran♂",
          "Nidorino",
          "Nidoking",
          "Clefairy",
          "Clefable",
          "Vulpix",
          "Alolan Vulpix",
          "Ninetales",
          "Alolan Ninetales",
          "Jigglypuff",
          "Wigglytuff",
          "Zubat",
          "Golbat",
          "Oddish",
          "Gloom",
          "Vileplume",
          "Paras",
          "Parasect",
          "Venonat",
          "Venomoth",
          "Diglett",
          "Alolan Diglett",
          "Dugtrio",
          "Alolan Dugtrio",
          "Meowth",
          "Gigantamax Meowth",
          "Alolan Meowth",
          "Galarian Meowth",
          "Persian",
          "Alolan Persian",
          "Psyduck",
          "Golduck",
          "Mankey",
          "Primeape",
          "Growlithe",
          "Arcanine",
          "Poliwag",
          "Poliwhirl",
          "Poliwrath",
          "Abra",
          "Kadabra",
          "Alakazam",
          "Mega Alakazam",
          "Machop",
          "Machoke",
          "Machamp",
          "Gigantamax Machamp",
          "Bellsprout",
          "Weepinbell",
          "Victreebel",
          "Tentacool",
          "Tentacruel",
          "Geodude",
          "Alolan Geodude",
          "Graveler",
          "Alolan Graveler",
          "Golem",
          "Alolan Golem",
          "Ponyta",
          "Galarian Ponyta",
          "Rapidash",
          "Galarian Rapidash",
          "Slowpoke",
          "Galarian Slowpoke",
          "Slowbro",
          "Galarian Slowbro",
          "Mega Slowbro",
          "Magnemite",
          "Magneton",
          "Farfetch'd",
          "Galarian Farfetched",
          "Doduo",
          "Dodrio",
          "Seel",
          "Dewgong",
          "Grimer",
          "Alolan Grimer",
          "Muk",
          "Alolan Muk",
          "Shellder",
          "Cloyster",
          "Gastly",
          "Haunter",
          "Gengar",
          "Mega Gengar",
          "Gigantamax Gengar",
          "Onix",
          "Drowzee",
          "Hypno",
          "Krabby",
          "Kingler",
          "Gigantamax Kingler",
          "Voltorb",
          "Electrode",
          "Exeggcute",
          "Exeggutor",
          "Alolan Exeggutor",
          "Cubone",
          "Marowak",
          "Alolan Marowak",
          "Hitmonlee",
          "Hitmonchan",
          "Lickitung",
          "Koffing",
          "Weezing",
          "Galarian Weezing",
          "Rhyhorn",
          "Rhydon",
          "Chansey",
          "Tangela",
          "Kangaskhan",
          "Mega Kangaskhan",
          "Horsea",
          "Seadra",
          "Goldeen",
          "Seaking",
          "Staryu",
          "Starmie",
          "Mr. Mime",
          "Galarian Mr. Mime",
          "Scyther",
          "Jynx",
          "Electabuzz",
          "Magmar",
          "Pinsir",
          "Mega Pinsir",
          "Tauros",
          "Magikarp",
          "Gyarados",
          "Mega Gyarados",
          "Lapras",
          "Gigantamax Lapras",
          "Ditto",
          "Eevee",
          "Gigantamax Eevee",
          "Vaporeon",
          "Jolteon",
          "Flareon",
          "Porygon",
          "Omanyte",
          "Omastar",
          "Kabuto",
          "Kabutops",
          "Aerodactyl",
          "Mega Aerodactyl",
          "Snorlax",
          "Gigantamax Snorlax",
          "Articuno",
          "Galarian Articuno",
          "Zapdos",
          "Galarian Zapdos",
          "Moltres",
          "Galarian Moltres",
          "Dratini",
          "Dragonair",
          "Dragonite",
          "Mewtwo",
          "Mega Mewtwo X",
          "Mega Mewtwo Y",
          "Mew",
          "Chikorita",
          "Bayleef",
          "Meganium",
          "Cyndaquil",
          "Quilava",
          "Typhlosion",
          "Totodile",
          "Croconaw",
          "Feraligatr",
          "Sentret",
          "Furret",
          "Hoothoot",
          "Noctowl",
          "Ledyba",
          "Ledian",
          "Spinarak",
          "Ariados",
          "Crobat",
          "Chinchou",
          "Lanturn",
          "Pichu",
          "Cleffa",
          "Igglybuff",
          "Togepi",
          "Togetic",
          "Natu",
          "Xatu",
          "Mareep",
          "Flaaffy",
          "Ampharos",
          "Mega Ampharos",
          "Bellossom",
          "Marill",
          "Azumarill",
          "Sudowoodo",
          "Politoed",
          "Hoppip",
          "Skiploom",
          "Jumpluff",
          "Aipom",
          "Sunkern",
          "Sunflora",
          "Yanma",
          "Wooper",
          "Quagsire",
          "Espeon",
          "Umbreon",
          "Murkrow",
          "Slowking",
          "Galarian Slowking",
          "Misdreavus",
          "Unown",
          "Wobbuffet",
          "Girafarig",
          "Pineco",
          "Forretress",
          "Dunsparce",
          "Gligar",
          "Steelix",
          "Mega Steelix",
          "Snubbull",
          "Granbull",
          "Qwilfish",
          "Scizor",
          "Mega Scizor",
          "Shuckle",
          "Heracross",
          "Mega Heracross",
          "Sneasel",
          "Teddiursa",
          "Ursaring",
          "Slugma",
          "Magcargo",
          "Swinub",
          "Piloswine",
          "Corsola",
          "Galarian Corsola",
          "Remoraid",
          "Octillery",
          "Delibird",
          "Mantine",
          "Skarmory",
          "Houndour",
          "Houndoom",
          "Mega Houndoom",
          "Kingdra",
          "Phanpy",
          "Donphan",
          "Porygon2",
          "Stantler",
          "Smeargle",
          "Tyrogue",
          "Hitmontop",
          "Smoochum",
          "Elekid",
          "Magby",
          "Miltank",
          "Blissey",
          "Raikou",
          "Entei",
          "Suicune",
          "Larvitar",
          "Pupitar",
          "Tyranitar",
          "Mega Tyranitar",
          "Lugia",
          "Ho-oh",
          "Celebi",
          "Treecko",
          "Grovyle",
          "Sceptile",
          "Mega Sceptile",
          "Torchic",
          "Combusken",
          "Blaziken",
          "Mega Blaziken",
          "Mudkip",
          "Marshtomp",
          "Swampert",
          "Mega Swampert",
          "Poochyena",
          "Mightyena",
          "Zigzagoon",
          "Galarian Zigzagoon",
          "Linoone",
          "Galarian Linoone",
          "Wurmple",
          "Silcoon",
          "Beautifly",
          "Cascoon",
          "Dustox",
          "Lotad",
          "Lombre",
          "Ludicolo",
          "Seedot",
          "Nuzleaf",
          "Shiftry",
          "Taillow",
          "Swellow",
          "Wingull",
          "Pelipper",
          "Ralts",
          "Kirlia",
          "Gardevoir",
          "Mega Gardevoir",
          "Surskit",
          "Masquerain",
          "Shroomish",
          "Breloom",
          "Slakoth",
          "Vigoroth",
          "Slaking",
          "Nincada",
          "Ninjask",
          "Shedinja",
          "Whismur",
          "Loudred",
          "Exploud",
          "Makuhita",
          "Hariyama",
          "Azurill",
          "Nosepass",
          "Skitty",
          "Delcatty",
          "Sableye",
          "Mega Sableye",
          "Mawile",
          "Mega Mawile",
          "Aron",
          "Lairon",
          "Aggron",
          "Mega Aggron",
          "Meditite",
          "Medicham",
          "Mega Medicham",
          "Electrike",
          "Manectric",
          "Mega Manectric",
          "Plusle",
          "Minun",
          "Volbeat",
          "Illumise",
          "Roselia",
          "Gulpin",
          "Swalot",
          "Carvanha",
          "Sharpedo",
          "Mega Sharpedo",
          "Wailmer",
          "Wailord",
          "Numel",
          "Camerupt",
          "Mega Camerupt",
          "Torkoal",
          "Spoink",
          "Grumpig",
          "Spinda",
          "Trapinch",
          "Vibrava",
          "Flygon",
          "Cacnea",
          "Cacturne",
          "Swablu",
          "Altaria",
          "Mega Altaria",
          "Zangoose",
          "Seviper",
          "Lunatone",
          "Solrock",
          "Barboach",
          "Whiscash",
          "Corphish",
          "Crawdaunt",
          "Baltoy",
          "Claydol",
          "Lileep",
          "Cradily",
          "Anorith",
          "Armaldo",
          "Feebas",
          "Milotic",
          "Castform",
          "Kecleon",
          "Shuppet",
          "Banette",
          "Mega Banette",
          "Duskull",
          "Dusclops",
          "Tropius",
          "Chimecho",
          "Absol",
          "Mega Absol",
          "Wynaut",
          "Snorunt",
          "Glalie",
          "Mega Glalie",
          "Spheal",
          "Sealeo",
          "Walrein",
          "Clamperl",
          "Huntail",
          "Gorebyss",
          "Relicanth",
          "Luvdisc",
          "Bagon",
          "Shelgon",
          "Salamence",
          "Mega Salamence",
          "Beldum",
          "Metang",
          "Metagross",
          "Mega Metagross",
          "Regirock",
          "Regice",
          "Registeel",
          "Latias",
          "Mega Latias",
          "Latios",
          "Mega Latios",
          "Kyogre",
          "Primal Kyogre",
          "Groudon",
          "Primal Groudon",
          "Rayquaza",
          "Mega Rayquaza",
          "Jirachi",
          "Deoxys Normal Forme",
          "Deoxys Attack Forme",
          "Deoxys Defense Forme",
          "Deoxys Speed Forme",
          "Turtwig",
          "Grotle",
          "Torterra",
          "Chimchar",
          "Monferno",
          "Infernape",
          "Piplup",
          "Prinplup",
          "Empoleon",
          "Starly",
          "Staravia",
          "Staraptor",
          "Bidoof",
          "Bibarel",
          "Kricketot",
          "Kricketune",
          "Shinx",
          "Luxio",
          "Luxray",
          "Budew",
          "Roserade",
          "Cranidos",
          "Rampardos",
          "Shieldon",
          "Bastiodon",
          "Burmy",
          "Wormadam Plant Cloak",
          "Wormadam Sandy Cloak",
          "Wormadam Trash Cloak",
          "Mothim",
          "Combee",
          "Vespiquen",
          "Pachirisu",
          "Buizel",
          "Floatzel",
          "Cherubi",
          "Cherrim",
          "Shellos",
          "Gastrodon",
          "Ambipom",
          "Drifloon",
          "Drifblim",
          "Buneary",
          "Lopunny",
          "Mega Lopunny",
          "Mismagius",
          "Honchkrow",
          "Glameow",
          "Purugly",
          "Chingling",
          "Stunky",
          "Skuntank",
          "Bronzor",
          "Bronzong",
          "Bonsly",
          "Mime Jr.",
          "Happiny",
          "Chatot",
          "Spiritomb",
          "Gible",
          "Gabite",
          "Garchomp",
          "Mega Garchomp",
          "Munchlax",
          "Riolu",
          "Lucario",
          "Mega Lucario",
          "Hippopotas",
          "Hippowdon",
          "Skorupi",
          "Drapion",
          "Croagunk",
          "Toxicroak",
          "Carnivine",
          "Finneon",
          "Lumineon",
          "Mantyke",
          "Snover",
          "Abomasnow",
          "Mega Abomasnow",
          "Weavile",
          "Magnezone",
          "Lickilicky",
          "Rhyperior",
          "Tangrowth",
          "Electivire",
          "Magmortar",
          "Togekiss",
          "Yanmega",
          "Leafeon",
          "Glaceon",
          "Gliscor",
          "Mamoswine",
          "Porygon-Z",
          "Gallade",
          "Mega Gallade",
          "Probopass",
          "Dusknoir",
          "Froslass",
          "Rotom",
          "Heat Rotom",
          "Wash Rotom",
          "Frost Rotom",
          "Fan Rotom",
          "Mow Rotom",
          "Uxie",
          "Mesprit",
          "Azelf",
          "Dialga",
          "Palkia",
          "Heatran",
          "Regigigas",
          "Giratina Altered Forme",
          "Giratina Origin Forme",
          "Cresselia",
          "Phione",
          "Manaphy",
          "Darkrai",
          "Shaymin Land Forme",
          "Shaymin Sky Forme",
          "Arceus",
          "Victini",
          "Snivy",
          "Servine",
          "Serperior",
          "Tepig",
          "Pignite",
          "Emboar",
          "Oshawott",
          "Dewott",
          "Samurott",
          "Patrat",
          "Watchog",
          "Lillipup",
          "Herdier",
          "Stoutland",
          "Purrloin",
          "Liepard",
          "Pansage",
          "Simisage",
          "Pansear",
          "Simisear",
          "Panpour",
          "Simipour",
          "Munna",
          "Musharna",
          "Pidove",
          "Tranquill",
          "Unfezant",
          "Blitzle",
          "Zebstrika",
          "Roggenrola",
          "Boldore",
          "Gigalith",
          "Woobat",
          "Swoobat",
          "Drilbur",
          "Excadrill",
          "Audino",
          "Mega Audino",
          "Timburr",
          "Gurdurr",
          "Conkeldurr",
          "Tympole",
          "Palpitoad",
          "Seismitoad",
          "Throh",
          "Sawk",
          "Sewaddle",
          "Swadloon",
          "Leavanny",
          "Venipede",
          "Whirlipede",
          "Scolipede",
          "Cottonee",
          "Whimsicott",
          "Petilil",
          "Lilligant",
          "Basculin",
          "Sandile",
          "Krokorok",
          "Krookodile",
          "Darumaka",
          "Galarian Darumaka",
          "Darmanitan Standard Mode",
          "Galarian Darmanitan Standard Mode",
          "Darmanitan Zen Mode",
          "Galarian Darmanitan Zen Mode",
          "Maractus",
          "Dwebble",
          "Crustle",
          "Scraggy",
          "Scrafty",
          "Sigilyph",
          "Yamask",
          "Galarian Yamask",
          "Cofagrigus",
          "Tirtouga",
          "Carracosta",
          "Archen",
          "Archeops",
          "Trubbish",
          "Garbodor",
          "Gigantamax Garbodor",
          "Zorua",
          "Zoroark",
          "Minccino",
          "Cinccino",
          "Gothita",
          "Gothorita",
          "Gothitelle",
          "Solosis",
          "Duosion",
          "Reuniclus",
          "Ducklett",
          "Swanna",
          "Vanillite",
          "Vanillish",
          "Vanilluxe",
          "Deerling",
          "Sawsbuck",
          "Emolga",
          "Karrablast",
          "Escavalier",
          "Foongus",
          "Amoonguss",
          "Frillish",
          "Jellicent",
          "Alomomola",
          "Joltik",
          "Galvantula",
          "Ferroseed",
          "Ferrothorn",
          "Klink",
          "Klang",
          "Klinklang",
          "Tynamo",
          "Eelektrik",
          "Eelektross",
          "Elgyem",
          "Beheeyem",
          "Litwick",
          "Lampent",
          "Chandelure",
          "Axew",
          "Fraxure",
          "Haxorus",
          "Cubchoo",
          "Beartic",
          "Cryogonal",
          "Shelmet",
          "Accelgor",
          "Stunfisk",
          "Galarian Stunfisk",
          "Mienfoo",
          "Mienshao",
          "Druddigon",
          "Golett",
          "Golurk",
          "Pawniard",
          "Bisharp",
          "Bouffalant",
          "Rufflet",
          "Braviary",
          "Vullaby",
          "Mandibuzz",
          "Heatmor",
          "Durant",
          "Deino",
          "Zweilous",
          "Hydreigon",
          "Larvesta",
          "Volcarona",
          "Cobalion",
          "Terrakion",
          "Virizion",
          "Tornadus Incarnate Forme",
          "Tornadus Therian Forme",
          "Thundurus Incarnate Forme",
          "Thundurus Therian Forme",
          "Reshiram",
          "Zekrom",
          "Landorus Incarnate Forme",
          "Landorus Therian Forme",
          "Kyurem",
          "Black Kyurem",
          "White Kyurem",
          "Keldeo Ordinary Forme",
          "Keldeo Resolute Forme",
          "Meloetta Aria Forme",
          "Meloetta Pirouette Forme",
          "Genesect",
          "Chespin",
          "Quilladin",
          "Chesnaught",
          "Fennekin",
          "Braixen",
          "Delphox",
          "Froakie",
          "Frogadier",
          "Greninja",
          "Ash-Greninja",
          "Bunnelby",
          "Diggersby",
          "Fletchling",
          "Fletchinder",
          "Talonflame",
          "Scatterbug",
          "Spewpa",
          "Vivillon",
          "Litleo",
          "Pyroar",
          "Flabébé",
          "Floette",
          "Florges",
          "Skiddo",
          "Gogoat",
          "Pancham",
          "Pangoro",
          "Furfrou",
          "Espurr",
          "Meowstic Male",
          "Meowstic Female",
          "Honedge",
          "Doublade",
          "Aegislash Blade Forme",
          "Aegislash Shield Forme",
          "Spritzee",
          "Aromatisse",
          "Swirlix",
          "Slurpuff",
          "Inkay",
          "Malamar",
          "Binacle",
          "Barbaracle",
          "Skrelp",
          "Dragalge",
          "Clauncher",
          "Clawitzer",
          "Helioptile",
          "Heliolisk",
          "Tyrunt",
          "Tyrantrum",
          "Amaura",
          "Aurorus",
          "Sylveon",
          "Hawlucha",
          "Dedenne",
          "Carbink",
          "Goomy",
          "Sliggoo",
          "Goodra",
          "Klefki",
          "Phantump",
          "Trevenant",
          "Pumpkaboo Average Size",
          "Pumpkaboo Small Size",
          "Pumpkaboo Large Size",
          "Pumpkaboo Super Size",
          "Gourgeist Average Size",
          "Gourgeist Small Size",
          "Gourgeist Large Size",
          "Gourgeist Super Size",
          "Bergmite",
          "Avalugg",
          "Noibat",
          "Noivern",
          "Xerneas",
          "Yveltal",
          "Zygarde 10% Forme",
          "Zygarde 50% Forme",
          "Zygarde Complete Forme",
          "Diancie",
          "Mega Diancie",
          "Hoopa Confined",
          "Hoopa Unbound",
          "Volcanion",
          "Rowlet",
          "Dartrix",
          "Decidueye",
          "Litten",
          "Torracat",
          "Incineroar",
          "Popplio",
          "Brionne",
          "Primarina",
          "Pikipek",
          "Trumbeak",
          "Toucannon",
          "Yungoos",
          "Gumshoos",
          "Grubbin",
          "Charjabug",
          "Vikavolt",
          "Crabrawler",
          "Crabominable",
          "Oricorio Baile Style",
          "Oricorio Pom-Pom Style",
          "Oricorio P'au Style",
          "Oricorio Sensu Style",
          "Cutiefly",
          "Ribombee",
          "Rockruff",
          "Lycanroc Midday Forme",
          "Lycanroc Midnight Forme",
          "Lycanroc Dusk Forme",
          "Wishiwashi Solo Forme",
          "Wishiwashi School Forme",
          "Mareanie",
          "Toxapex",
          "Mudbray",
          "Mudsdale",
          "Dewpider",
          "Araquanid",
          "Fomantis",
          "Lurantis",
          "Morelull",
          "Shiinotic",
          "Salandit",
          "Salazzle",
          "Stufful",
          "Bewear",
          "Bounsweet",
          "Steenee",
          "Tsareena",
          "Comfey",
          "Oranguru",
          "Passimian",
          "Wimpod",
          "Golisopod",
          "Sandygast",
          "Palossand",
          "Pyukumuku",
          "Type: Null",
          "Silvally",
          "Minior Meteor Forme",
          "Minior Core Forme",
          "Komala",
          "Turtonator",
          "Togedemaru",
          "Mimikyu",
          "Bruxish",
          "Drampa",
          "Dhelmise",
          "Jangmo-o",
          "Hakamo-o",
          "Kommo-o",
          "Tapu Koko",
          "Tapu Lele",
          "Tapu Bulu",
          "Tapu Fini",
          "Cosmog",
          "Cosmoem",
          "Solgaleo",
          "Lunala",
          "Nihilego",
          "Buzzwole",
          "Pheromosa",
          "Xurkitree",
          "Celesteela",
          "Kartana",
          "Guzzlord",
          "Necrozma",
          "Dusk Mane Necrozma",
          "Dawn Wings Necrozma",
          "Ultra Necrozma",
          "Magearna",
          "Marshadow",
          "Poipole",
          "Naganadel",
          "Stakataka",
          "Blacephalon",
          "Zeraora",
          "Meltan",
          "Melmetal",
          "Gigantamax Melmetal",
          "Grookey",
          "Thwackey",
          "Rillaboom",
          "Gigantamax Rillaboom",
          "Scorbunny",
          "Raboot",
          "Cinderace",
          "Gigantamax Cinderace",
          "Sobble",
          "Drizzile",
          "Inteleon",
          "Gigantamax Inteleon",
          "Skwovet",
          "Greedent",
          "Rookidee",
          "Corvisquire",
          "Corviknight",
          "Gigantamax Corviknight",
          "Blipbug",
          "Dottler",
          "Orbeetle",
          "Gigantamax Orbeetle",
          "Nickit",
          "Thievul",
          "Gossifleur",
          "Eldegoss",
          "Wooloo",
          "Dubwool",
          "Chewtle",
          "Drednaw",
          "Gigantamax Drednaw",
          "Yamper",
          "Boltund",
          "Rolycoly",
          "Carkol",
          "Coalossal",
          "Gigantamax Coalossal",
          "Applin",
          "Flapple",
          "Gigantamax Flapple",
          "Appletun",
          "Gigantamax Appletun",
          "Silicobra",
          "Sandaconda",
          "Gigantamax Sandaconda",
          "Cramorant",
          "Arrokuda",
          "Barraskewda",
          "Toxel",
          "Toxtricity Amped Forme",
          "Toxitricity Low Key Forme",
          "Gigantamax Toxitricity",
          "Sizzlipede",
          "Centiskorch",
          "Gigantamax Centiskorch",
          "Clobbopus",
          "Grapploct",
          "Sinistea",
          "Polteageist",
          "Hatenna",
          "Hattrem",
          "Hatterene",
          "Gigantamax Hatterene",
          "Impidimp",
          "Morgrem",
          "Grimmsnarl",
          "Gigantamax Grimmsnarl",
          "Obstagoon",
          "Perrserker",
          "Cursola",
          "Sirfetch'd",
          "Mr. Rime",
          "Runerigus",
          "Milcery",
          "Alcremie",
          "Gigantamax Alcremie",
          "Falinks",
          "Pincurchin",
          "Snom",
          "Frosmoth",
          "Stonjourner",
          "Eiscue Ice Face",
          "Eiscue Noice Face",
          "Indeedee Male",
          "Indeedee Female",
          "Morpeko Full Belly Mode",
          "Morpeko Hangry Mode",
          "Cufant",
          "Copperajah",
          "Gigantamax Copperajah",
          "Dracozolt",
          "Arctozolt",
          "Dracovish",
          "Arctovish",
          "Duraludon",
          "Gigantamax Duraludon",
          "Dreepy",
          "Drakloak",
          "Dragapult",
          "Zacian Hero of Many Battles",
          "Zacian Crowned Sword Forme",
          "Zamazenta Hero of Many Battles",
          "Zamazenta Crowned Sheild Forme",
          "Eternatus",
          "Eternamax Eternatus",
          "Kubfu",
          "Urshifu Single Strike Style",
          "Gigantamax Urshifu Single Strike Style",
          "Urshifu Rapid Strike Style",
          "Gigantamax Urshifu Rapid Strike Style",
          "Zarude",
          "Dada Zarude",
          "Regieleki",
          "Regidrago",
          "Glastrier",
          "Spectrier",
          "Calyrex",
          "Ice Rider Calyrex",
          "Shadow Rider Calyrex"
         ],
         "legendgroup": "",
         "marker": {
          "color": {
           "bdata": "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",
           "dtype": "i2"
          },
          "coloraxis": "coloraxis",
          "symbol": "circle"
         },
         "mode": "markers",
         "name": "",
         "showlegend": false,
         "type": "scattergl",
         "x": {
          "bdata": "MQA+AFIAZABSADQAQABUAIIAaABUADAAPwBTAGcAUwAeABQALQAtACMAGQBaAJYALQA8AFAAUAA4ADgAUQBHADwAWgA8AFUANwA3AFoAVQBLAEsAZABkAC8APgBcADkASABmAC0ARgApACkATABDAC0ARgAtAFAAMgBBAFAARgBfADcAQQA3ADcAUABkAC0ALQAjAEEARgA8ADQAUgBQAGkARgBuADIAQQBfABQAIwAyADIAUABkAIIAggBLAFoAaQAoAEYAUABQAF8AXwB4AHgAVQBVAGQAZABBAEEASwBkAEsAIwA8AFoAXwBVAG4ALQBGAFAAUABpAGkAQQBfACMAMgBBAEEAQQAtADAASQBpAIIAggAeADIAKABfAGkAMgBQAFAAeABpADcAQQBaAFoAVQCCAAUANwBfAH0AKABBAEMAXAAtAEsALQBBAG4AMgBTAF8AfQCbAGQACgB9AJsAVQBVADAANwA3AEEAQQCCADwAKAA8AFAAcwBpAIcAbgBuAFUAVQBaAH0AZABVAEAAVACGAG4AvgCWAGQAMQA+AFIANABAAFQAQQBQAGkALgBMAB4AMgAUACMAPABaAFoAJgA6ACgAGQAeABQAKAAyAEsAKAA3AEsAXwBQABQAMgBkAEsAIwAtADcARgAeAEsAQQAtAFUAQQBBAFUASwBBADwASAAhAFAAQQBaAEYASwBVAH0AUAB4AF8AggCWAAoAfQC5AF8AUACCACgAMgAyAGQANwA3AEEAaQA3ACgAUAA8AFoAWgBfADwAeABQAF8AFAAjAF8AHgA/AEsAUAAKAFUAcwBLAEAAVACGAKQAWgCCAGQALQBBAFUAbgA8AFUAeACgAEYAVQBuAJYANwBaAB4AHgBGAEYALQAjAEYAIwAyAB4AMgBGACgARgBkADcAVQAeADIAGQAjAEEAVQAeADwAKACCADwAUACgAC0AWgBaADMARwBbADwAeAAUAC0ALQBBAEsAVQBVAGkARgBaAG4AjAAoADwAZAAtAEsASwAyACgASQAvADwAKwBJAFoAeACMAEYAWgA8AGQAeABVABkALQA8AGQARgBkAFUAcwAoAEYAbgBzAGQANwBfADAATgBQAHgAKABGACkAUQBfAH0ADwA8AEYAWgBLAHMApQAoAEYARAAyAIIAlgAXADIAUAB4ACgAPABQAEAAaABUAFoAHgBLAF8AhwCRADcASwCHAJEAZAAyAEsAUABkAFoAggBkAJYAlgC0AJYAtABkAJYAtABGAF8ARABZAG0AOgBOAGgAMwBCAFYANwBLAHgALQBVABkAVQBBAFUAeAAeAEYAfQClACoANAAdADsATwBFAF4AHgBQAC0AQQBpACMAPAAwAFMAZAAyAFAAQgBMAIgAPAB9ADcAUgAeAD8AXQAYAFkAUAAZAAUAQQBcAEYAWgCCAKoAVQBGAG4AkQBIAHAAMgBaAD0AagBkADEARQAUAD4AXACEAHgARgBVAIwAZAB7AF8AMgBMAG4APABfAIIAUAB9AKUANwBkAFAAMgBBAEEAQQBBAEEASwBpAH0AeAB4AFoAoABkAHgARgBQAGQAWgBkAGcAeABkAC0APABLAD8AXQB7ADcASwBkADcAVQA8AFAAbgAyAFgANQBiADUAYgA1AGIAGQA3ADcATQBzADwAZABLAGkAhwAtADkAVQCHADwAPABQAGkAjAAyAEEAXwBkAH0ANQA/AGcALQA3AGQAGwBDACMAPABcAEgAUgB1AFoAWgCMAIwAHgCgAFYAQQBfAEsAWgA6AB4ANwAyAE4AbABwAIwAMgBfAF8AQQBpADIAXwAeAC0ANwAeACgAQQAsAFcAMgBBAF8APABkAEsASwCHADcAVQAoADwASwAvAE0AMgBeADcAUABkADcAVQBzADcASwAeACgANwBXAHUAkwBGAG4AMgAoAEYAQgBRAFUAfQB4AEoAfABVAH0AbgBTAHsANwBBAGEAbQBBAFUAaQBVADwAWgCBAFoAcwBkAHMAaQB4AJYAfQCRAIIAqgB4AEgASABNAIAAeAA9AE4AawAtADsARQA4AD8AXwCRACQAOAAyAEkAUQAjABYANAAyAEQAJgAtAEEAQQBkAFIAfABQADAAMAAwAFAAbgCWADIANABIADAAUAA2AFwANABpADwASwA1AEkAJgA3AFkAeQA7AE0AQQBcADoAMgAyAEsAZABQAEYAbgBCAEIAQgBCAFoAVQBfAGQARQB1AB4ARgCDAIMAZABkAGQAZACgAG4AoABuADcASwBrAEEAVQBzADYARQBKAEsAVQB4AEYAbgA+AFIARgBSAIQARgBGAEYARgAtADcAQQBzAHMAdQAUAIwANQA/AGQAfQAoAEYANwBpACMALQAsAEAASwB9AB4AKAB4ADQAPAB4ACMAfQA3AEsAPABfAF8APABkAHMATgBiAFoAaQA8AIMANwBLAG4AcwBVAIIASwAdAB0AiQBxADUAiwCJAFkAZQC1AGUAawCdAHEApwBfAH0ASQBJAIMAfwBwAEEAjwCPAEEAVQB9AH0ARwBWAHQAdAAoADwAVQBVADcAXwAvAEMAVwBXABQAIwAtAC0AHAA6ACgAMgAoAFAAQABzAHMALQBaACgAPABQAFAAKABuAG4AVQBVADkAawBrAFUAPwB7ACYAYgBiAGIAQQBzAHMARAB2AC0AQQAeACgAWgBaAC0APAB4AHgAWgBuAF8AhwBVAF8AKAA8ADwAZABlABkAQQB9AFAAUABBADcAXwBfAFAAggCCAGQAZABaAFoAXwBfADwAUAB4AIIAqgCCAIIAVQBzAFoAggCCAIIAggB4AHgAZABkAJEAQQBQAKUAVQA=",
          "dtype": "i2"
         },
         "xaxis": "x",
         "y": {
          "bdata": "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",
          "dtype": "i2"
         },
         "yaxis": "y"
        }
       ],
       "layout": {
        "coloraxis": {
         "colorbar": {
          "title": {
           "text": "total"
          }
         },
         "colorscale": [
          [
           0,
           "#0d0887"
          ],
          [
           0.1111111111111111,
           "#46039f"
          ],
          [
           0.2222222222222222,
           "#7201a8"
          ],
          [
           0.3333333333333333,
           "#9c179e"
          ],
          [
           0.4444444444444444,
           "#bd3786"
          ],
          [
           0.5555555555555556,
           "#d8576b"
          ],
          [
           0.6666666666666666,
           "#ed7953"
          ],
          [
           0.7777777777777778,
           "#fb9f3a"
          ],
          [
           0.8888888888888888,
           "#fdca26"
          ],
          [
           1,
           "#f0f921"
          ]
         ]
        },
        "legend": {
         "tracegroupgap": 0
        },
        "margin": {
         "t": 60
        },
        "template": {
         "data": {
          "bar": [
           {
            "error_x": {
             "color": "#2a3f5f"
            },
            "error_y": {
             "color": "#2a3f5f"
            },
            "marker": {
             "line": {
              "color": "#E5ECF6",
              "width": 0.5
             },
             "pattern": {
              "fillmode": "overlay",
              "size": 10,
              "solidity": 0.2
             }
            },
            "type": "bar"
           }
          ],
          "barpolar": [
           {
            "marker": {
             "line": {
              "color": "#E5ECF6",
              "width": 0.5
             },
             "pattern": {
              "fillmode": "overlay",
              "size": 10,
              "solidity": 0.2
             }
            },
            "type": "barpolar"
           }
          ],
          "carpet": [
           {
            "aaxis": {
             "endlinecolor": "#2a3f5f",
             "gridcolor": "white",
             "linecolor": "white",
             "minorgridcolor": "white",
             "startlinecolor": "#2a3f5f"
            },
            "baxis": {
             "endlinecolor": "#2a3f5f",
             "gridcolor": "white",
             "linecolor": "white",
             "minorgridcolor": "white",
             "startlinecolor": "#2a3f5f"
            },
            "type": "carpet"
           }
          ],
          "choropleth": [
           {
            "colorbar": {
             "outlinewidth": 0,
             "ticks": ""
            },
            "type": "choropleth"
           }
          ],
          "contour": [
           {
            "colorbar": {
             "outlinewidth": 0,
             "ticks": ""
            },
            "colorscale": [
             [
              0,
              "#0d0887"
             ],
             [
              0.1111111111111111,
              "#46039f"
             ],
             [
              0.2222222222222222,
              "#7201a8"
             ],
             [
              0.3333333333333333,
              "#9c179e"
             ],
             [
              0.4444444444444444,
              "#bd3786"
             ],
             [
              0.5555555555555556,
              "#d8576b"
             ],
             [
              0.6666666666666666,
              "#ed7953"
             ],
             [
              0.7777777777777778,
              "#fb9f3a"
             ],
             [
              0.8888888888888888,
              "#fdca26"
             ],
             [
              1,
              "#f0f921"
             ]
            ],
            "type": "contour"
           }
          ],
          "contourcarpet": [
           {
            "colorbar": {
             "outlinewidth": 0,
             "ticks": ""
            },
            "type": "contourcarpet"
           }
          ],
          "heatmap": [
           {
            "colorbar": {
             "outlinewidth": 0,
             "ticks": ""
            },
            "colorscale": [
             [
              0,
              "#0d0887"
             ],
             [
              0.1111111111111111,
              "#46039f"
             ],
             [
              0.2222222222222222,
              "#7201a8"
             ],
             [
              0.3333333333333333,
              "#9c179e"
             ],
             [
              0.4444444444444444,
              "#bd3786"
             ],
             [
              0.5555555555555556,
              "#d8576b"
             ],
             [
              0.6666666666666666,
              "#ed7953"
             ],
             [
              0.7777777777777778,
              "#fb9f3a"
             ],
             [
              0.8888888888888888,
              "#fdca26"
             ],
             [
              1,
              "#f0f921"
             ]
            ],
            "type": "heatmap"
           }
          ],
          "histogram": [
           {
            "marker": {
             "pattern": {
              "fillmode": "overlay",
              "size": 10,
              "solidity": 0.2
             }
            },
            "type": "histogram"
           }
          ],
          "histogram2d": [
           {
            "colorbar": {
             "outlinewidth": 0,
             "ticks": ""
            },
            "colorscale": [
             [
              0,
              "#0d0887"
             ],
             [
              0.1111111111111111,
              "#46039f"
             ],
             [
              0.2222222222222222,
              "#7201a8"
             ],
             [
              0.3333333333333333,
              "#9c179e"
             ],
             [
              0.4444444444444444,
              "#bd3786"
             ],
             [
              0.5555555555555556,
              "#d8576b"
             ],
             [
              0.6666666666666666,
              "#ed7953"
             ],
             [
              0.7777777777777778,
              "#fb9f3a"
             ],
             [
              0.8888888888888888,
              "#fdca26"
             ],
             [
              1,
              "#f0f921"
             ]
            ],
            "type": "histogram2d"
           }
          ],
          "histogram2dcontour": [
           {
            "colorbar": {
             "outlinewidth": 0,
             "ticks": ""
            },
            "colorscale": [
             [
              0,
              "#0d0887"
             ],
             [
              0.1111111111111111,
              "#46039f"
             ],
             [
              0.2222222222222222,
              "#7201a8"
             ],
             [
              0.3333333333333333,
              "#9c179e"
             ],
             [
              0.4444444444444444,
              "#bd3786"
             ],
             [
              0.5555555555555556,
              "#d8576b"
             ],
             [
              0.6666666666666666,
              "#ed7953"
             ],
             [
              0.7777777777777778,
              "#fb9f3a"
             ],
             [
              0.8888888888888888,
              "#fdca26"
             ],
             [
              1,
              "#f0f921"
             ]
            ],
            "type": "histogram2dcontour"
           }
          ],
          "mesh3d": [
           {
            "colorbar": {
             "outlinewidth": 0,
             "ticks": ""
            },
            "type": "mesh3d"
           }
          ],
          "parcoords": [
           {
            "line": {
             "colorbar": {
              "outlinewidth": 0,
              "ticks": ""
             }
            },
            "type": "parcoords"
           }
          ],
          "pie": [
           {
            "automargin": true,
            "type": "pie"
           }
          ],
          "scatter": [
           {
            "fillpattern": {
             "fillmode": "overlay",
             "size": 10,
             "solidity": 0.2
            },
            "type": "scatter"
           }
          ],
          "scatter3d": [
           {
            "line": {
             "colorbar": {
              "outlinewidth": 0,
              "ticks": ""
             }
            },
            "marker": {
             "colorbar": {
              "outlinewidth": 0,
              "ticks": ""
             }
            },
            "type": "scatter3d"
           }
          ],
          "scattercarpet": [
           {
            "marker": {
             "colorbar": {
              "outlinewidth": 0,
              "ticks": ""
             }
            },
            "type": "scattercarpet"
           }
          ],
          "scattergeo": [
           {
            "marker": {
             "colorbar": {
              "outlinewidth": 0,
              "ticks": ""
             }
            },
            "type": "scattergeo"
           }
          ],
          "scattergl": [
           {
            "marker": {
             "colorbar": {
              "outlinewidth": 0,
              "ticks": ""
             }
            },
            "type": "scattergl"
           }
          ],
          "scattermap": [
           {
            "marker": {
             "colorbar": {
              "outlinewidth": 0,
              "ticks": ""
             }
            },
            "type": "scattermap"
           }
          ],
          "scattermapbox": [
           {
            "marker": {
             "colorbar": {
              "outlinewidth": 0,
              "ticks": ""
             }
            },
            "type": "scattermapbox"
           }
          ],
          "scatterpolar": [
           {
            "marker": {
             "colorbar": {
              "outlinewidth": 0,
              "ticks": ""
             }
            },
            "type": "scatterpolar"
           }
          ],
          "scatterpolargl": [
           {
            "marker": {
             "colorbar": {
              "outlinewidth": 0,
              "ticks": ""
             }
            },
            "type": "scatterpolargl"
           }
          ],
          "scatterternary": [
           {
            "marker": {
             "colorbar": {
              "outlinewidth": 0,
              "ticks": ""
             }
            },
            "type": "scatterternary"
           }
          ],
          "surface": [
           {
            "colorbar": {
             "outlinewidth": 0,
             "ticks": ""
            },
            "colorscale": [
             [
              0,
              "#0d0887"
             ],
             [
              0.1111111111111111,
              "#46039f"
             ],
             [
              0.2222222222222222,
              "#7201a8"
             ],
             [
              0.3333333333333333,
              "#9c179e"
             ],
             [
              0.4444444444444444,
              "#bd3786"
             ],
             [
              0.5555555555555556,
              "#d8576b"
             ],
             [
              0.6666666666666666,
              "#ed7953"
             ],
             [
              0.7777777777777778,
              "#fb9f3a"
             ],
             [
              0.8888888888888888,
              "#fdca26"
             ],
             [
              1,
              "#f0f921"
             ]
            ],
            "type": "surface"
           }
          ],
          "table": [
           {
            "cells": {
             "fill": {
              "color": "#EBF0F8"
             },
             "line": {
              "color": "white"
             }
            },
            "header": {
             "fill": {
              "color": "#C8D4E3"
             },
             "line": {
              "color": "white"
             }
            },
            "type": "table"
           }
          ]
         },
         "layout": {
          "annotationdefaults": {
           "arrowcolor": "#2a3f5f",
           "arrowhead": 0,
           "arrowwidth": 1
          },
          "autotypenumbers": "strict",
          "coloraxis": {
           "colorbar": {
            "outlinewidth": 0,
            "ticks": ""
           }
          },
          "colorscale": {
           "diverging": [
            [
             0,
             "#8e0152"
            ],
            [
             0.1,
             "#c51b7d"
            ],
            [
             0.2,
             "#de77ae"
            ],
            [
             0.3,
             "#f1b6da"
            ],
            [
             0.4,
             "#fde0ef"
            ],
            [
             0.5,
             "#f7f7f7"
            ],
            [
             0.6,
             "#e6f5d0"
            ],
            [
             0.7,
             "#b8e186"
            ],
            [
             0.8,
             "#7fbc41"
            ],
            [
             0.9,
             "#4d9221"
            ],
            [
             1,
             "#276419"
            ]
           ],
           "sequential": [
            [
             0,
             "#0d0887"
            ],
            [
             0.1111111111111111,
             "#46039f"
            ],
            [
             0.2222222222222222,
             "#7201a8"
            ],
            [
             0.3333333333333333,
             "#9c179e"
            ],
            [
             0.4444444444444444,
             "#bd3786"
            ],
            [
             0.5555555555555556,
             "#d8576b"
            ],
            [
             0.6666666666666666,
             "#ed7953"
            ],
            [
             0.7777777777777778,
             "#fb9f3a"
            ],
            [
             0.8888888888888888,
             "#fdca26"
            ],
            [
             1,
             "#f0f921"
            ]
           ],
           "sequentialminus": [
            [
             0,
             "#0d0887"
            ],
            [
             0.1111111111111111,
             "#46039f"
            ],
            [
             0.2222222222222222,
             "#7201a8"
            ],
            [
             0.3333333333333333,
             "#9c179e"
            ],
            [
             0.4444444444444444,
             "#bd3786"
            ],
            [
             0.5555555555555556,
             "#d8576b"
            ],
            [
             0.6666666666666666,
             "#ed7953"
            ],
            [
             0.7777777777777778,
             "#fb9f3a"
            ],
            [
             0.8888888888888888,
             "#fdca26"
            ],
            [
             1,
             "#f0f921"
            ]
           ]
          },
          "colorway": [
           "#636efa",
           "#EF553B",
           "#00cc96",
           "#ab63fa",
           "#FFA15A",
           "#19d3f3",
           "#FF6692",
           "#B6E880",
           "#FF97FF",
           "#FECB52"
          ],
          "font": {
           "color": "#2a3f5f"
          },
          "geo": {
           "bgcolor": "white",
           "lakecolor": "white",
           "landcolor": "#E5ECF6",
           "showlakes": true,
           "showland": true,
           "subunitcolor": "white"
          },
          "hoverlabel": {
           "align": "left"
          },
          "hovermode": "closest",
          "mapbox": {
           "style": "light"
          },
          "paper_bgcolor": "white",
          "plot_bgcolor": "#E5ECF6",
          "polar": {
           "angularaxis": {
            "gridcolor": "white",
            "linecolor": "white",
            "ticks": ""
           },
           "bgcolor": "#E5ECF6",
           "radialaxis": {
            "gridcolor": "white",
            "linecolor": "white",
            "ticks": ""
           }
          },
          "scene": {
           "xaxis": {
            "backgroundcolor": "#E5ECF6",
            "gridcolor": "white",
            "gridwidth": 2,
            "linecolor": "white",
            "showbackground": true,
            "ticks": "",
            "zerolinecolor": "white"
           },
           "yaxis": {
            "backgroundcolor": "#E5ECF6",
            "gridcolor": "white",
            "gridwidth": 2,
            "linecolor": "white",
            "showbackground": true,
            "ticks": "",
            "zerolinecolor": "white"
           },
           "zaxis": {
            "backgroundcolor": "#E5ECF6",
            "gridcolor": "white",
            "gridwidth": 2,
            "linecolor": "white",
            "showbackground": true,
            "ticks": "",
            "zerolinecolor": "white"
           }
          },
          "shapedefaults": {
           "line": {
            "color": "#2a3f5f"
           }
          },
          "ternary": {
           "aaxis": {
            "gridcolor": "white",
            "linecolor": "white",
            "ticks": ""
           },
           "baxis": {
            "gridcolor": "white",
            "linecolor": "white",
            "ticks": ""
           },
           "bgcolor": "#E5ECF6",
           "caxis": {
            "gridcolor": "white",
            "linecolor": "white",
            "ticks": ""
           }
          },
          "title": {
           "x": 0.05
          },
          "xaxis": {
           "automargin": true,
           "gridcolor": "white",
           "linecolor": "white",
           "ticks": "",
           "title": {
            "standoff": 15
           },
           "zerolinecolor": "white",
           "zerolinewidth": 2
          },
          "yaxis": {
           "automargin": true,
           "gridcolor": "white",
           "linecolor": "white",
           "ticks": "",
           "title": {
            "standoff": 15
           },
           "zerolinecolor": "white",
           "zerolinewidth": 2
          }
         }
        },
        "xaxis": {
         "anchor": "y",
         "domain": [
          0,
          1
         ],
         "title": {
          "text": "attack"
         }
        },
        "yaxis": {
         "anchor": "x",
         "domain": [
          0,
          1
         ],
         "title": {
          "text": "defense"
         }
        }
       }
      }
     },
     "metadata": {},
     "output_type": "display_data"
    }
   ],
   "source": [
    "px.scatter(pokemon_df, x='attack', y='defense', hover_name='name', color='total')"
   ]
  },
  {
   "cell_type": "code",
   "execution_count": null,
   "metadata": {},
   "outputs": [
    {
     "data": {
      "application/vnd.plotly.v1+json": {
       "config": {
        "plotlyServerURL": "https://plot.ly"
       },
       "data": [
        {
         "hovertemplate": "attack=%{x}<br>defense=%{y}<extra></extra>",
         "legendgroup": "",
         "marker": {
          "color": "#636efa",
          "symbol": "circle"
         },
         "mode": "markers",
         "name": "",
         "showlegend": false,
         "type": "scattergl",
         "x": {
          "bdata": "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",
          "dtype": "i2"
         },
         "xaxis": "x",
         "y": {
          "bdata": "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",
          "dtype": "i2"
         },
         "yaxis": "y"
        },
        {
         "hovertemplate": "<b>OLS trendline</b><br>defense = 0.442789 * attack + 39.1296<br>R<sup>2</sup>=0.212155<br><br>attack=%{x}<br>defense=%{y} <b>(trend)</b><extra></extra>",
         "legendgroup": "",
         "line": {
          "color": "purple"
         },
         "marker": {
          "color": "#636efa",
          "symbol": "circle"
         },
         "mode": "lines",
         "name": "",
         "showlegend": false,
         "type": "scattergl",
         "x": {
          "bdata": "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",
          "dtype": "i2"
         },
         "xaxis": "x",
         "y": {
          "bdata": "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",
          "dtype": "f8"
         },
         "yaxis": "y"
        }
       ],
       "layout": {
        "legend": {
         "tracegroupgap": 0
        },
        "margin": {
         "t": 60
        },
        "template": {
         "data": {
          "bar": [
           {
            "error_x": {
             "color": "#2a3f5f"
            },
            "error_y": {
             "color": "#2a3f5f"
            },
            "marker": {
             "line": {
              "color": "#E5ECF6",
              "width": 0.5
             },
             "pattern": {
              "fillmode": "overlay",
              "size": 10,
              "solidity": 0.2
             }
            },
            "type": "bar"
           }
          ],
          "barpolar": [
           {
            "marker": {
             "line": {
              "color": "#E5ECF6",
              "width": 0.5
             },
             "pattern": {
              "fillmode": "overlay",
              "size": 10,
              "solidity": 0.2
             }
            },
            "type": "barpolar"
           }
          ],
          "carpet": [
           {
            "aaxis": {
             "endlinecolor": "#2a3f5f",
             "gridcolor": "white",
             "linecolor": "white",
             "minorgridcolor": "white",
             "startlinecolor": "#2a3f5f"
            },
            "baxis": {
             "endlinecolor": "#2a3f5f",
             "gridcolor": "white",
             "linecolor": "white",
             "minorgridcolor": "white",
             "startlinecolor": "#2a3f5f"
            },
            "type": "carpet"
           }
          ],
          "choropleth": [
           {
            "colorbar": {
             "outlinewidth": 0,
             "ticks": ""
            },
            "type": "choropleth"
           }
          ],
          "contour": [
           {
            "colorbar": {
             "outlinewidth": 0,
             "ticks": ""
            },
            "colorscale": [
             [
              0,
              "#0d0887"
             ],
             [
              0.1111111111111111,
              "#46039f"
             ],
             [
              0.2222222222222222,
              "#7201a8"
             ],
             [
              0.3333333333333333,
              "#9c179e"
             ],
             [
              0.4444444444444444,
              "#bd3786"
             ],
             [
              0.5555555555555556,
              "#d8576b"
             ],
             [
              0.6666666666666666,
              "#ed7953"
             ],
             [
              0.7777777777777778,
              "#fb9f3a"
             ],
             [
              0.8888888888888888,
              "#fdca26"
             ],
             [
              1,
              "#f0f921"
             ]
            ],
            "type": "contour"
           }
          ],
          "contourcarpet": [
           {
            "colorbar": {
             "outlinewidth": 0,
             "ticks": ""
            },
            "type": "contourcarpet"
           }
          ],
          "heatmap": [
           {
            "colorbar": {
             "outlinewidth": 0,
             "ticks": ""
            },
            "colorscale": [
             [
              0,
              "#0d0887"
             ],
             [
              0.1111111111111111,
              "#46039f"
             ],
             [
              0.2222222222222222,
              "#7201a8"
             ],
             [
              0.3333333333333333,
              "#9c179e"
             ],
             [
              0.4444444444444444,
              "#bd3786"
             ],
             [
              0.5555555555555556,
              "#d8576b"
             ],
             [
              0.6666666666666666,
              "#ed7953"
             ],
             [
              0.7777777777777778,
              "#fb9f3a"
             ],
             [
              0.8888888888888888,
              "#fdca26"
             ],
             [
              1,
              "#f0f921"
             ]
            ],
            "type": "heatmap"
           }
          ],
          "histogram": [
           {
            "marker": {
             "pattern": {
              "fillmode": "overlay",
              "size": 10,
              "solidity": 0.2
             }
            },
            "type": "histogram"
           }
          ],
          "histogram2d": [
           {
            "colorbar": {
             "outlinewidth": 0,
             "ticks": ""
            },
            "colorscale": [
             [
              0,
              "#0d0887"
             ],
             [
              0.1111111111111111,
              "#46039f"
             ],
             [
              0.2222222222222222,
              "#7201a8"
             ],
             [
              0.3333333333333333,
              "#9c179e"
             ],
             [
              0.4444444444444444,
              "#bd3786"
             ],
             [
              0.5555555555555556,
              "#d8576b"
             ],
             [
              0.6666666666666666,
              "#ed7953"
             ],
             [
              0.7777777777777778,
              "#fb9f3a"
             ],
             [
              0.8888888888888888,
              "#fdca26"
             ],
             [
              1,
              "#f0f921"
             ]
            ],
            "type": "histogram2d"
           }
          ],
          "histogram2dcontour": [
           {
            "colorbar": {
             "outlinewidth": 0,
             "ticks": ""
            },
            "colorscale": [
             [
              0,
              "#0d0887"
             ],
             [
              0.1111111111111111,
              "#46039f"
             ],
             [
              0.2222222222222222,
              "#7201a8"
             ],
             [
              0.3333333333333333,
              "#9c179e"
             ],
             [
              0.4444444444444444,
              "#bd3786"
             ],
             [
              0.5555555555555556,
              "#d8576b"
             ],
             [
              0.6666666666666666,
              "#ed7953"
             ],
             [
              0.7777777777777778,
              "#fb9f3a"
             ],
             [
              0.8888888888888888,
              "#fdca26"
             ],
             [
              1,
              "#f0f921"
             ]
            ],
            "type": "histogram2dcontour"
           }
          ],
          "mesh3d": [
           {
            "colorbar": {
             "outlinewidth": 0,
             "ticks": ""
            },
            "type": "mesh3d"
           }
          ],
          "parcoords": [
           {
            "line": {
             "colorbar": {
              "outlinewidth": 0,
              "ticks": ""
             }
            },
            "type": "parcoords"
           }
          ],
          "pie": [
           {
            "automargin": true,
            "type": "pie"
           }
          ],
          "scatter": [
           {
            "fillpattern": {
             "fillmode": "overlay",
             "size": 10,
             "solidity": 0.2
            },
            "type": "scatter"
           }
          ],
          "scatter3d": [
           {
            "line": {
             "colorbar": {
              "outlinewidth": 0,
              "ticks": ""
             }
            },
            "marker": {
             "colorbar": {
              "outlinewidth": 0,
              "ticks": ""
             }
            },
            "type": "scatter3d"
           }
          ],
          "scattercarpet": [
           {
            "marker": {
             "colorbar": {
              "outlinewidth": 0,
              "ticks": ""
             }
            },
            "type": "scattercarpet"
           }
          ],
          "scattergeo": [
           {
            "marker": {
             "colorbar": {
              "outlinewidth": 0,
              "ticks": ""
             }
            },
            "type": "scattergeo"
           }
          ],
          "scattergl": [
           {
            "marker": {
             "colorbar": {
              "outlinewidth": 0,
              "ticks": ""
             }
            },
            "type": "scattergl"
           }
          ],
          "scattermap": [
           {
            "marker": {
             "colorbar": {
              "outlinewidth": 0,
              "ticks": ""
             }
            },
            "type": "scattermap"
           }
          ],
          "scattermapbox": [
           {
            "marker": {
             "colorbar": {
              "outlinewidth": 0,
              "ticks": ""
             }
            },
            "type": "scattermapbox"
           }
          ],
          "scatterpolar": [
           {
            "marker": {
             "colorbar": {
              "outlinewidth": 0,
              "ticks": ""
             }
            },
            "type": "scatterpolar"
           }
          ],
          "scatterpolargl": [
           {
            "marker": {
             "colorbar": {
              "outlinewidth": 0,
              "ticks": ""
             }
            },
            "type": "scatterpolargl"
           }
          ],
          "scatterternary": [
           {
            "marker": {
             "colorbar": {
              "outlinewidth": 0,
              "ticks": ""
             }
            },
            "type": "scatterternary"
           }
          ],
          "surface": [
           {
            "colorbar": {
             "outlinewidth": 0,
             "ticks": ""
            },
            "colorscale": [
             [
              0,
              "#0d0887"
             ],
             [
              0.1111111111111111,
              "#46039f"
             ],
             [
              0.2222222222222222,
              "#7201a8"
             ],
             [
              0.3333333333333333,
              "#9c179e"
             ],
             [
              0.4444444444444444,
              "#bd3786"
             ],
             [
              0.5555555555555556,
              "#d8576b"
             ],
             [
              0.6666666666666666,
              "#ed7953"
             ],
             [
              0.7777777777777778,
              "#fb9f3a"
             ],
             [
              0.8888888888888888,
              "#fdca26"
             ],
             [
              1,
              "#f0f921"
             ]
            ],
            "type": "surface"
           }
          ],
          "table": [
           {
            "cells": {
             "fill": {
              "color": "#EBF0F8"
             },
             "line": {
              "color": "white"
             }
            },
            "header": {
             "fill": {
              "color": "#C8D4E3"
             },
             "line": {
              "color": "white"
             }
            },
            "type": "table"
           }
          ]
         },
         "layout": {
          "annotationdefaults": {
           "arrowcolor": "#2a3f5f",
           "arrowhead": 0,
           "arrowwidth": 1
          },
          "autotypenumbers": "strict",
          "coloraxis": {
           "colorbar": {
            "outlinewidth": 0,
            "ticks": ""
           }
          },
          "colorscale": {
           "diverging": [
            [
             0,
             "#8e0152"
            ],
            [
             0.1,
             "#c51b7d"
            ],
            [
             0.2,
             "#de77ae"
            ],
            [
             0.3,
             "#f1b6da"
            ],
            [
             0.4,
             "#fde0ef"
            ],
            [
             0.5,
             "#f7f7f7"
            ],
            [
             0.6,
             "#e6f5d0"
            ],
            [
             0.7,
             "#b8e186"
            ],
            [
             0.8,
             "#7fbc41"
            ],
            [
             0.9,
             "#4d9221"
            ],
            [
             1,
             "#276419"
            ]
           ],
           "sequential": [
            [
             0,
             "#0d0887"
            ],
            [
             0.1111111111111111,
             "#46039f"
            ],
            [
             0.2222222222222222,
             "#7201a8"
            ],
            [
             0.3333333333333333,
             "#9c179e"
            ],
            [
             0.4444444444444444,
             "#bd3786"
            ],
            [
             0.5555555555555556,
             "#d8576b"
            ],
            [
             0.6666666666666666,
             "#ed7953"
            ],
            [
             0.7777777777777778,
             "#fb9f3a"
            ],
            [
             0.8888888888888888,
             "#fdca26"
            ],
            [
             1,
             "#f0f921"
            ]
           ],
           "sequentialminus": [
            [
             0,
             "#0d0887"
            ],
            [
             0.1111111111111111,
             "#46039f"
            ],
            [
             0.2222222222222222,
             "#7201a8"
            ],
            [
             0.3333333333333333,
             "#9c179e"
            ],
            [
             0.4444444444444444,
             "#bd3786"
            ],
            [
             0.5555555555555556,
             "#d8576b"
            ],
            [
             0.6666666666666666,
             "#ed7953"
            ],
            [
             0.7777777777777778,
             "#fb9f3a"
            ],
            [
             0.8888888888888888,
             "#fdca26"
            ],
            [
             1,
             "#f0f921"
            ]
           ]
          },
          "colorway": [
           "#636efa",
           "#EF553B",
           "#00cc96",
           "#ab63fa",
           "#FFA15A",
           "#19d3f3",
           "#FF6692",
           "#B6E880",
           "#FF97FF",
           "#FECB52"
          ],
          "font": {
           "color": "#2a3f5f"
          },
          "geo": {
           "bgcolor": "white",
           "lakecolor": "white",
           "landcolor": "#E5ECF6",
           "showlakes": true,
           "showland": true,
           "subunitcolor": "white"
          },
          "hoverlabel": {
           "align": "left"
          },
          "hovermode": "closest",
          "mapbox": {
           "style": "light"
          },
          "paper_bgcolor": "white",
          "plot_bgcolor": "#E5ECF6",
          "polar": {
           "angularaxis": {
            "gridcolor": "white",
            "linecolor": "white",
            "ticks": ""
           },
           "bgcolor": "#E5ECF6",
           "radialaxis": {
            "gridcolor": "white",
            "linecolor": "white",
            "ticks": ""
           }
          },
          "scene": {
           "xaxis": {
            "backgroundcolor": "#E5ECF6",
            "gridcolor": "white",
            "gridwidth": 2,
            "linecolor": "white",
            "showbackground": true,
            "ticks": "",
            "zerolinecolor": "white"
           },
           "yaxis": {
            "backgroundcolor": "#E5ECF6",
            "gridcolor": "white",
            "gridwidth": 2,
            "linecolor": "white",
            "showbackground": true,
            "ticks": "",
            "zerolinecolor": "white"
           },
           "zaxis": {
            "backgroundcolor": "#E5ECF6",
            "gridcolor": "white",
            "gridwidth": 2,
            "linecolor": "white",
            "showbackground": true,
            "ticks": "",
            "zerolinecolor": "white"
           }
          },
          "shapedefaults": {
           "line": {
            "color": "#2a3f5f"
           }
          },
          "ternary": {
           "aaxis": {
            "gridcolor": "white",
            "linecolor": "white",
            "ticks": ""
           },
           "baxis": {
            "gridcolor": "white",
            "linecolor": "white",
            "ticks": ""
           },
           "bgcolor": "#E5ECF6",
           "caxis": {
            "gridcolor": "white",
            "linecolor": "white",
            "ticks": ""
           }
          },
          "title": {
           "x": 0.05
          },
          "xaxis": {
           "automargin": true,
           "gridcolor": "white",
           "linecolor": "white",
           "ticks": "",
           "title": {
            "standoff": 15
           },
           "zerolinecolor": "white",
           "zerolinewidth": 2
          },
          "yaxis": {
           "automargin": true,
           "gridcolor": "white",
           "linecolor": "white",
           "ticks": "",
           "title": {
            "standoff": 15
           },
           "zerolinecolor": "white",
           "zerolinewidth": 2
          }
         }
        },
        "xaxis": {
         "anchor": "y",
         "domain": [
          0,
          1
         ],
         "title": {
          "text": "attack"
         }
        },
        "yaxis": {
         "anchor": "x",
         "domain": [
          0,
          1
         ],
         "title": {
          "text": "defense"
         }
        }
       }
      }
     },
     "metadata": {},
     "output_type": "display_data"
    }
   ],
   "source": [
    "px.scatter(pokemon_df, x='attack', y='defense', trendline='ols', trendline_color_override='purple')"
   ]
  },
  {
   "cell_type": "code",
   "execution_count": 7,
   "metadata": {},
   "outputs": [
    {
     "data": {
      "application/vnd.plotly.v1+json": {
       "config": {
        "plotlyServerURL": "https://plot.ly"
       },
       "data": [
        {
         "hovertemplate": "attack=%{x}<br>defense=%{y}<extra></extra>",
         "legendgroup": "",
         "marker": {
          "color": "#636efa",
          "symbol": "circle"
         },
         "mode": "markers",
         "name": "",
         "showlegend": false,
         "type": "scattergl",
         "x": {
          "bdata": "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",
          "dtype": "i2"
         },
         "xaxis": "x",
         "y": {
          "bdata": "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",
          "dtype": "i2"
         },
         "yaxis": "y"
        },
        {
         "bingroup": "x",
         "hovertemplate": "attack=%{x}<br>count=%{y}<extra></extra>",
         "legendgroup": "",
         "marker": {
          "color": "#636efa"
         },
         "name": "",
         "opacity": 0.5,
         "showlegend": false,
         "type": "histogram",
         "x": {
          "bdata": "MQA+AFIAZABSADQAQABUAIIAaABUADAAPwBTAGcAUwAeABQALQAtACMAGQBaAJYALQA8AFAAUAA4ADgAUQBHADwAWgA8AFUANwA3AFoAVQBLAEsAZABkAC8APgBcADkASABmAC0ARgApACkATABDAC0ARgAtAFAAMgBBAFAARgBfADcAQQA3ADcAUABkAC0ALQAjAEEARgA8ADQAUgBQAGkARgBuADIAQQBfABQAIwAyADIAUABkAIIAggBLAFoAaQAoAEYAUABQAF8AXwB4AHgAVQBVAGQAZABBAEEASwBkAEsAIwA8AFoAXwBVAG4ALQBGAFAAUABpAGkAQQBfACMAMgBBAEEAQQAtADAASQBpAIIAggAeADIAKABfAGkAMgBQAFAAeABpADcAQQBaAFoAVQCCAAUANwBfAH0AKABBAEMAXAAtAEsALQBBAG4AMgBTAF8AfQCbAGQACgB9AJsAVQBVADAANwA3AEEAQQCCADwAKAA8AFAAcwBpAIcAbgBuAFUAVQBaAH0AZABVAEAAVACGAG4AvgCWAGQAMQA+AFIANABAAFQAQQBQAGkALgBMAB4AMgAUACMAPABaAFoAJgA6ACgAGQAeABQAKAAyAEsAKAA3AEsAXwBQABQAMgBkAEsAIwAtADcARgAeAEsAQQAtAFUAQQBBAFUASwBBADwASAAhAFAAQQBaAEYASwBVAH0AUAB4AF8AggCWAAoAfQC5AF8AUACCACgAMgAyAGQANwA3AEEAaQA3ACgAUAA8AFoAWgBfADwAeABQAF8AFAAjAF8AHgA/AEsAUAAKAFUAcwBLAEAAVACGAKQAWgCCAGQALQBBAFUAbgA8AFUAeACgAEYAVQBuAJYANwBaAB4AHgBGAEYALQAjAEYAIwAyAB4AMgBGACgARgBkADcAVQAeADIAGQAjAEEAVQAeADwAKACCADwAUACgAC0AWgBaADMARwBbADwAeAAUAC0ALQBBAEsAVQBVAGkARgBaAG4AjAAoADwAZAAtAEsASwAyACgASQAvADwAKwBJAFoAeACMAEYAWgA8AGQAeABVABkALQA8AGQARgBkAFUAcwAoAEYAbgBzAGQANwBfADAATgBQAHgAKABGACkAUQBfAH0ADwA8AEYAWgBLAHMApQAoAEYARAAyAIIAlgAXADIAUAB4ACgAPABQAEAAaABUAFoAHgBLAF8AhwCRADcASwCHAJEAZAAyAEsAUABkAFoAggBkAJYAlgC0AJYAtABkAJYAtABGAF8ARABZAG0AOgBOAGgAMwBCAFYANwBLAHgALQBVABkAVQBBAFUAeAAeAEYAfQClACoANAAdADsATwBFAF4AHgBQAC0AQQBpACMAPAAwAFMAZAAyAFAAQgBMAIgAPAB9ADcAUgAeAD8AXQAYAFkAUAAZAAUAQQBcAEYAWgCCAKoAVQBGAG4AkQBIAHAAMgBaAD0AagBkADEARQAUAD4AXACEAHgARgBVAIwAZAB7AF8AMgBMAG4APABfAIIAUAB9AKUANwBkAFAAMgBBAEEAQQBBAEEASwBpAH0AeAB4AFoAoABkAHgARgBQAGQAWgBkAGcAeABkAC0APABLAD8AXQB7ADcASwBkADcAVQA8AFAAbgAyAFgANQBiADUAYgA1AGIAGQA3ADcATQBzADwAZABLAGkAhwAtADkAVQCHADwAPABQAGkAjAAyAEEAXwBkAH0ANQA/AGcALQA3AGQAGwBDACMAPABcAEgAUgB1AFoAWgCMAIwAHgCgAFYAQQBfAEsAWgA6AB4ANwAyAE4AbABwAIwAMgBfAF8AQQBpADIAXwAeAC0ANwAeACgAQQAsAFcAMgBBAF8APABkAEsASwCHADcAVQAoADwASwAvAE0AMgBeADcAUABkADcAVQBzADcASwAeACgANwBXAHUAkwBGAG4AMgAoAEYAQgBRAFUAfQB4AEoAfABVAH0AbgBTAHsANwBBAGEAbQBBAFUAaQBVADwAWgCBAFoAcwBkAHMAaQB4AJYAfQCRAIIAqgB4AEgASABNAIAAeAA9AE4AawAtADsARQA4AD8AXwCRACQAOAAyAEkAUQAjABYANAAyAEQAJgAtAEEAQQBkAFIAfABQADAAMAAwAFAAbgCWADIANABIADAAUAA2AFwANABpADwASwA1AEkAJgA3AFkAeQA7AE0AQQBcADoAMgAyAEsAZABQAEYAbgBCAEIAQgBCAFoAVQBfAGQARQB1AB4ARgCDAIMAZABkAGQAZACgAG4AoABuADcASwBrAEEAVQBzADYARQBKAEsAVQB4AEYAbgA+AFIARgBSAIQARgBGAEYARgAtADcAQQBzAHMAdQAUAIwANQA/AGQAfQAoAEYANwBpACMALQAsAEAASwB9AB4AKAB4ADQAPAB4ACMAfQA3AEsAPABfAF8APABkAHMATgBiAFoAaQA8AIMANwBLAG4AcwBVAIIASwAdAB0AiQBxADUAiwCJAFkAZQC1AGUAawCdAHEApwBfAH0ASQBJAIMAfwBwAEEAjwCPAEEAVQB9AH0ARwBWAHQAdAAoADwAVQBVADcAXwAvAEMAVwBXABQAIwAtAC0AHAA6ACgAMgAoAFAAQABzAHMALQBaACgAPABQAFAAKABuAG4AVQBVADkAawBrAFUAPwB7ACYAYgBiAGIAQQBzAHMARAB2AC0AQQAeACgAWgBaAC0APAB4AHgAWgBuAF8AhwBVAF8AKAA8ADwAZABlABkAQQB9AFAAUABBADcAXwBfAFAAggCCAGQAZABaAFoAXwBfADwAUAB4AIIAqgCCAIIAVQBzAFoAggCCAIIAggB4AHgAZABkAJEAQQBQAKUAVQA=",
          "dtype": "i2"
         },
         "xaxis": "x3",
         "yaxis": "y3"
        },
        {
         "boxpoints": "all",
         "fillcolor": "rgba(255,255,255,0)",
         "hoveron": "points",
         "hovertemplate": "defense=%{y}<extra></extra>",
         "jitter": 0,
         "legendgroup": "",
         "line": {
          "color": "rgba(255,255,255,0)"
         },
         "marker": {
          "color": "#636efa",
          "symbol": "line-ew-open"
         },
         "name": "",
         "showlegend": false,
         "type": "box",
         "xaxis": "x2",
         "y": {
          "bdata": "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",
          "dtype": "i2"
         },
         "yaxis": "y2"
        }
       ],
       "layout": {
        "barmode": "overlay",
        "legend": {
         "tracegroupgap": 0
        },
        "margin": {
         "t": 60
        },
        "template": {
         "data": {
          "bar": [
           {
            "error_x": {
             "color": "#2a3f5f"
            },
            "error_y": {
             "color": "#2a3f5f"
            },
            "marker": {
             "line": {
              "color": "#E5ECF6",
              "width": 0.5
             },
             "pattern": {
              "fillmode": "overlay",
              "size": 10,
              "solidity": 0.2
             }
            },
            "type": "bar"
           }
          ],
          "barpolar": [
           {
            "marker": {
             "line": {
              "color": "#E5ECF6",
              "width": 0.5
             },
             "pattern": {
              "fillmode": "overlay",
              "size": 10,
              "solidity": 0.2
             }
            },
            "type": "barpolar"
           }
          ],
          "carpet": [
           {
            "aaxis": {
             "endlinecolor": "#2a3f5f",
             "gridcolor": "white",
             "linecolor": "white",
             "minorgridcolor": "white",
             "startlinecolor": "#2a3f5f"
            },
            "baxis": {
             "endlinecolor": "#2a3f5f",
             "gridcolor": "white",
             "linecolor": "white",
             "minorgridcolor": "white",
             "startlinecolor": "#2a3f5f"
            },
            "type": "carpet"
           }
          ],
          "choropleth": [
           {
            "colorbar": {
             "outlinewidth": 0,
             "ticks": ""
            },
            "type": "choropleth"
           }
          ],
          "contour": [
           {
            "colorbar": {
             "outlinewidth": 0,
             "ticks": ""
            },
            "colorscale": [
             [
              0,
              "#0d0887"
             ],
             [
              0.1111111111111111,
              "#46039f"
             ],
             [
              0.2222222222222222,
              "#7201a8"
             ],
             [
              0.3333333333333333,
              "#9c179e"
             ],
             [
              0.4444444444444444,
              "#bd3786"
             ],
             [
              0.5555555555555556,
              "#d8576b"
             ],
             [
              0.6666666666666666,
              "#ed7953"
             ],
             [
              0.7777777777777778,
              "#fb9f3a"
             ],
             [
              0.8888888888888888,
              "#fdca26"
             ],
             [
              1,
              "#f0f921"
             ]
            ],
            "type": "contour"
           }
          ],
          "contourcarpet": [
           {
            "colorbar": {
             "outlinewidth": 0,
             "ticks": ""
            },
            "type": "contourcarpet"
           }
          ],
          "heatmap": [
           {
            "colorbar": {
             "outlinewidth": 0,
             "ticks": ""
            },
            "colorscale": [
             [
              0,
              "#0d0887"
             ],
             [
              0.1111111111111111,
              "#46039f"
             ],
             [
              0.2222222222222222,
              "#7201a8"
             ],
             [
              0.3333333333333333,
              "#9c179e"
             ],
             [
              0.4444444444444444,
              "#bd3786"
             ],
             [
              0.5555555555555556,
              "#d8576b"
             ],
             [
              0.6666666666666666,
              "#ed7953"
             ],
             [
              0.7777777777777778,
              "#fb9f3a"
             ],
             [
              0.8888888888888888,
              "#fdca26"
             ],
             [
              1,
              "#f0f921"
             ]
            ],
            "type": "heatmap"
           }
          ],
          "histogram": [
           {
            "marker": {
             "pattern": {
              "fillmode": "overlay",
              "size": 10,
              "solidity": 0.2
             }
            },
            "type": "histogram"
           }
          ],
          "histogram2d": [
           {
            "colorbar": {
             "outlinewidth": 0,
             "ticks": ""
            },
            "colorscale": [
             [
              0,
              "#0d0887"
             ],
             [
              0.1111111111111111,
              "#46039f"
             ],
             [
              0.2222222222222222,
              "#7201a8"
             ],
             [
              0.3333333333333333,
              "#9c179e"
             ],
             [
              0.4444444444444444,
              "#bd3786"
             ],
             [
              0.5555555555555556,
              "#d8576b"
             ],
             [
              0.6666666666666666,
              "#ed7953"
             ],
             [
              0.7777777777777778,
              "#fb9f3a"
             ],
             [
              0.8888888888888888,
              "#fdca26"
             ],
             [
              1,
              "#f0f921"
             ]
            ],
            "type": "histogram2d"
           }
          ],
          "histogram2dcontour": [
           {
            "colorbar": {
             "outlinewidth": 0,
             "ticks": ""
            },
            "colorscale": [
             [
              0,
              "#0d0887"
             ],
             [
              0.1111111111111111,
              "#46039f"
             ],
             [
              0.2222222222222222,
              "#7201a8"
             ],
             [
              0.3333333333333333,
              "#9c179e"
             ],
             [
              0.4444444444444444,
              "#bd3786"
             ],
             [
              0.5555555555555556,
              "#d8576b"
             ],
             [
              0.6666666666666666,
              "#ed7953"
             ],
             [
              0.7777777777777778,
              "#fb9f3a"
             ],
             [
              0.8888888888888888,
              "#fdca26"
             ],
             [
              1,
              "#f0f921"
             ]
            ],
            "type": "histogram2dcontour"
           }
          ],
          "mesh3d": [
           {
            "colorbar": {
             "outlinewidth": 0,
             "ticks": ""
            },
            "type": "mesh3d"
           }
          ],
          "parcoords": [
           {
            "line": {
             "colorbar": {
              "outlinewidth": 0,
              "ticks": ""
             }
            },
            "type": "parcoords"
           }
          ],
          "pie": [
           {
            "automargin": true,
            "type": "pie"
           }
          ],
          "scatter": [
           {
            "fillpattern": {
             "fillmode": "overlay",
             "size": 10,
             "solidity": 0.2
            },
            "type": "scatter"
           }
          ],
          "scatter3d": [
           {
            "line": {
             "colorbar": {
              "outlinewidth": 0,
              "ticks": ""
             }
            },
            "marker": {
             "colorbar": {
              "outlinewidth": 0,
              "ticks": ""
             }
            },
            "type": "scatter3d"
           }
          ],
          "scattercarpet": [
           {
            "marker": {
             "colorbar": {
              "outlinewidth": 0,
              "ticks": ""
             }
            },
            "type": "scattercarpet"
           }
          ],
          "scattergeo": [
           {
            "marker": {
             "colorbar": {
              "outlinewidth": 0,
              "ticks": ""
             }
            },
            "type": "scattergeo"
           }
          ],
          "scattergl": [
           {
            "marker": {
             "colorbar": {
              "outlinewidth": 0,
              "ticks": ""
             }
            },
            "type": "scattergl"
           }
          ],
          "scattermap": [
           {
            "marker": {
             "colorbar": {
              "outlinewidth": 0,
              "ticks": ""
             }
            },
            "type": "scattermap"
           }
          ],
          "scattermapbox": [
           {
            "marker": {
             "colorbar": {
              "outlinewidth": 0,
              "ticks": ""
             }
            },
            "type": "scattermapbox"
           }
          ],
          "scatterpolar": [
           {
            "marker": {
             "colorbar": {
              "outlinewidth": 0,
              "ticks": ""
             }
            },
            "type": "scatterpolar"
           }
          ],
          "scatterpolargl": [
           {
            "marker": {
             "colorbar": {
              "outlinewidth": 0,
              "ticks": ""
             }
            },
            "type": "scatterpolargl"
           }
          ],
          "scatterternary": [
           {
            "marker": {
             "colorbar": {
              "outlinewidth": 0,
              "ticks": ""
             }
            },
            "type": "scatterternary"
           }
          ],
          "surface": [
           {
            "colorbar": {
             "outlinewidth": 0,
             "ticks": ""
            },
            "colorscale": [
             [
              0,
              "#0d0887"
             ],
             [
              0.1111111111111111,
              "#46039f"
             ],
             [
              0.2222222222222222,
              "#7201a8"
             ],
             [
              0.3333333333333333,
              "#9c179e"
             ],
             [
              0.4444444444444444,
              "#bd3786"
             ],
             [
              0.5555555555555556,
              "#d8576b"
             ],
             [
              0.6666666666666666,
              "#ed7953"
             ],
             [
              0.7777777777777778,
              "#fb9f3a"
             ],
             [
              0.8888888888888888,
              "#fdca26"
             ],
             [
              1,
              "#f0f921"
             ]
            ],
            "type": "surface"
           }
          ],
          "table": [
           {
            "cells": {
             "fill": {
              "color": "#EBF0F8"
             },
             "line": {
              "color": "white"
             }
            },
            "header": {
             "fill": {
              "color": "#C8D4E3"
             },
             "line": {
              "color": "white"
             }
            },
            "type": "table"
           }
          ]
         },
         "layout": {
          "annotationdefaults": {
           "arrowcolor": "#2a3f5f",
           "arrowhead": 0,
           "arrowwidth": 1
          },
          "autotypenumbers": "strict",
          "coloraxis": {
           "colorbar": {
            "outlinewidth": 0,
            "ticks": ""
           }
          },
          "colorscale": {
           "diverging": [
            [
             0,
             "#8e0152"
            ],
            [
             0.1,
             "#c51b7d"
            ],
            [
             0.2,
             "#de77ae"
            ],
            [
             0.3,
             "#f1b6da"
            ],
            [
             0.4,
             "#fde0ef"
            ],
            [
             0.5,
             "#f7f7f7"
            ],
            [
             0.6,
             "#e6f5d0"
            ],
            [
             0.7,
             "#b8e186"
            ],
            [
             0.8,
             "#7fbc41"
            ],
            [
             0.9,
             "#4d9221"
            ],
            [
             1,
             "#276419"
            ]
           ],
           "sequential": [
            [
             0,
             "#0d0887"
            ],
            [
             0.1111111111111111,
             "#46039f"
            ],
            [
             0.2222222222222222,
             "#7201a8"
            ],
            [
             0.3333333333333333,
             "#9c179e"
            ],
            [
             0.4444444444444444,
             "#bd3786"
            ],
            [
             0.5555555555555556,
             "#d8576b"
            ],
            [
             0.6666666666666666,
             "#ed7953"
            ],
            [
             0.7777777777777778,
             "#fb9f3a"
            ],
            [
             0.8888888888888888,
             "#fdca26"
            ],
            [
             1,
             "#f0f921"
            ]
           ],
           "sequentialminus": [
            [
             0,
             "#0d0887"
            ],
            [
             0.1111111111111111,
             "#46039f"
            ],
            [
             0.2222222222222222,
             "#7201a8"
            ],
            [
             0.3333333333333333,
             "#9c179e"
            ],
            [
             0.4444444444444444,
             "#bd3786"
            ],
            [
             0.5555555555555556,
             "#d8576b"
            ],
            [
             0.6666666666666666,
             "#ed7953"
            ],
            [
             0.7777777777777778,
             "#fb9f3a"
            ],
            [
             0.8888888888888888,
             "#fdca26"
            ],
            [
             1,
             "#f0f921"
            ]
           ]
          },
          "colorway": [
           "#636efa",
           "#EF553B",
           "#00cc96",
           "#ab63fa",
           "#FFA15A",
           "#19d3f3",
           "#FF6692",
           "#B6E880",
           "#FF97FF",
           "#FECB52"
          ],
          "font": {
           "color": "#2a3f5f"
          },
          "geo": {
           "bgcolor": "white",
           "lakecolor": "white",
           "landcolor": "#E5ECF6",
           "showlakes": true,
           "showland": true,
           "subunitcolor": "white"
          },
          "hoverlabel": {
           "align": "left"
          },
          "hovermode": "closest",
          "mapbox": {
           "style": "light"
          },
          "paper_bgcolor": "white",
          "plot_bgcolor": "#E5ECF6",
          "polar": {
           "angularaxis": {
            "gridcolor": "white",
            "linecolor": "white",
            "ticks": ""
           },
           "bgcolor": "#E5ECF6",
           "radialaxis": {
            "gridcolor": "white",
            "linecolor": "white",
            "ticks": ""
           }
          },
          "scene": {
           "xaxis": {
            "backgroundcolor": "#E5ECF6",
            "gridcolor": "white",
            "gridwidth": 2,
            "linecolor": "white",
            "showbackground": true,
            "ticks": "",
            "zerolinecolor": "white"
           },
           "yaxis": {
            "backgroundcolor": "#E5ECF6",
            "gridcolor": "white",
            "gridwidth": 2,
            "linecolor": "white",
            "showbackground": true,
            "ticks": "",
            "zerolinecolor": "white"
           },
           "zaxis": {
            "backgroundcolor": "#E5ECF6",
            "gridcolor": "white",
            "gridwidth": 2,
            "linecolor": "white",
            "showbackground": true,
            "ticks": "",
            "zerolinecolor": "white"
           }
          },
          "shapedefaults": {
           "line": {
            "color": "#2a3f5f"
           }
          },
          "ternary": {
           "aaxis": {
            "gridcolor": "white",
            "linecolor": "white",
            "ticks": ""
           },
           "baxis": {
            "gridcolor": "white",
            "linecolor": "white",
            "ticks": ""
           },
           "bgcolor": "#E5ECF6",
           "caxis": {
            "gridcolor": "white",
            "linecolor": "white",
            "ticks": ""
           }
          },
          "title": {
           "x": 0.05
          },
          "xaxis": {
           "automargin": true,
           "gridcolor": "white",
           "linecolor": "white",
           "ticks": "",
           "title": {
            "standoff": 15
           },
           "zerolinecolor": "white",
           "zerolinewidth": 2
          },
          "yaxis": {
           "automargin": true,
           "gridcolor": "white",
           "linecolor": "white",
           "ticks": "",
           "title": {
            "standoff": 15
           },
           "zerolinecolor": "white",
           "zerolinewidth": 2
          }
         }
        },
        "xaxis": {
         "anchor": "y",
         "domain": [
          0,
          0.8358
         ],
         "title": {
          "text": "attack"
         }
        },
        "xaxis2": {
         "anchor": "y2",
         "domain": [
          0.8408,
          1
         ],
         "matches": "x2",
         "showgrid": false,
         "showline": false,
         "showticklabels": false,
         "ticks": ""
        },
        "xaxis3": {
         "anchor": "y3",
         "domain": [
          0,
          0.8358
         ],
         "matches": "x",
         "showgrid": true,
         "showticklabels": false
        },
        "xaxis4": {
         "anchor": "y4",
         "domain": [
          0.8408,
          1
         ],
         "matches": "x2",
         "showgrid": false,
         "showline": false,
         "showticklabels": false,
         "ticks": ""
        },
        "yaxis": {
         "anchor": "x",
         "domain": [
          0,
          0.7326
         ],
         "title": {
          "text": "defense"
         }
        },
        "yaxis2": {
         "anchor": "x2",
         "domain": [
          0,
          0.7326
         ],
         "matches": "y",
         "showgrid": true,
         "showticklabels": false
        },
        "yaxis3": {
         "anchor": "x3",
         "domain": [
          0.7426,
          1
         ],
         "matches": "y3",
         "showgrid": true,
         "showline": false,
         "showticklabels": false,
         "ticks": ""
        },
        "yaxis4": {
         "anchor": "x4",
         "domain": [
          0.7426,
          1
         ],
         "matches": "y3",
         "showgrid": true,
         "showline": false,
         "showticklabels": false,
         "ticks": ""
        }
       }
      }
     },
     "metadata": {},
     "output_type": "display_data"
    }
   ],
   "source": [
    "px.scatter(pokemon_df, x='attack', y='defense', marginal_x='histogram', marginal_y='rug')"
   ]
  },
  {
   "cell_type": "code",
   "execution_count": 8,
   "metadata": {},
   "outputs": [
    {
     "data": {
      "application/vnd.plotly.v1+json": {
       "config": {
        "plotlyServerURL": "https://plot.ly"
       },
       "data": [
        {
         "hovertemplate": "attack=%{x}<br>defense=%{y}<extra></extra>",
         "legendgroup": "",
         "marker": {
          "color": "#636efa",
          "symbol": "circle"
         },
         "mode": "markers",
         "name": "",
         "showlegend": false,
         "type": "scattergl",
         "x": {
          "bdata": "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",
          "dtype": "i2"
         },
         "xaxis": "x",
         "y": {
          "bdata": "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",
          "dtype": "i2"
         },
         "yaxis": "y"
        },
        {
         "alignmentgroup": "True",
         "hovertemplate": "attack=%{x}<extra></extra>",
         "legendgroup": "",
         "marker": {
          "color": "#636efa",
          "symbol": "circle"
         },
         "name": "",
         "offsetgroup": "",
         "scalegroup": "x",
         "showlegend": false,
         "type": "violin",
         "x": {
          "bdata": "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",
          "dtype": "i2"
         },
         "xaxis": "x3",
         "yaxis": "y3"
        },
        {
         "alignmentgroup": "True",
         "boxpoints": "all",
         "fillcolor": "rgba(255,255,255,0)",
         "hoveron": "points",
         "hovertemplate": "defense=%{y}<extra></extra>",
         "jitter": 0,
         "legendgroup": "",
         "line": {
          "color": "rgba(255,255,255,0)"
         },
         "marker": {
          "color": "#636efa",
          "symbol": "line-ew-open"
         },
         "name": "",
         "offsetgroup": "",
         "showlegend": false,
         "type": "box",
         "xaxis": "x2",
         "y": {
          "bdata": "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",
          "dtype": "i2"
         },
         "yaxis": "y2"
        }
       ],
       "layout": {
        "legend": {
         "tracegroupgap": 0
        },
        "margin": {
         "t": 60
        },
        "template": {
         "data": {
          "bar": [
           {
            "error_x": {
             "color": "#2a3f5f"
            },
            "error_y": {
             "color": "#2a3f5f"
            },
            "marker": {
             "line": {
              "color": "#E5ECF6",
              "width": 0.5
             },
             "pattern": {
              "fillmode": "overlay",
              "size": 10,
              "solidity": 0.2
             }
            },
            "type": "bar"
           }
          ],
          "barpolar": [
           {
            "marker": {
             "line": {
              "color": "#E5ECF6",
              "width": 0.5
             },
             "pattern": {
              "fillmode": "overlay",
              "size": 10,
              "solidity": 0.2
             }
            },
            "type": "barpolar"
           }
          ],
          "carpet": [
           {
            "aaxis": {
             "endlinecolor": "#2a3f5f",
             "gridcolor": "white",
             "linecolor": "white",
             "minorgridcolor": "white",
             "startlinecolor": "#2a3f5f"
            },
            "baxis": {
             "endlinecolor": "#2a3f5f",
             "gridcolor": "white",
             "linecolor": "white",
             "minorgridcolor": "white",
             "startlinecolor": "#2a3f5f"
            },
            "type": "carpet"
           }
          ],
          "choropleth": [
           {
            "colorbar": {
             "outlinewidth": 0,
             "ticks": ""
            },
            "type": "choropleth"
           }
          ],
          "contour": [
           {
            "colorbar": {
             "outlinewidth": 0,
             "ticks": ""
            },
            "colorscale": [
             [
              0,
              "#0d0887"
             ],
             [
              0.1111111111111111,
              "#46039f"
             ],
             [
              0.2222222222222222,
              "#7201a8"
             ],
             [
              0.3333333333333333,
              "#9c179e"
             ],
             [
              0.4444444444444444,
              "#bd3786"
             ],
             [
              0.5555555555555556,
              "#d8576b"
             ],
             [
              0.6666666666666666,
              "#ed7953"
             ],
             [
              0.7777777777777778,
              "#fb9f3a"
             ],
             [
              0.8888888888888888,
              "#fdca26"
             ],
             [
              1,
              "#f0f921"
             ]
            ],
            "type": "contour"
           }
          ],
          "contourcarpet": [
           {
            "colorbar": {
             "outlinewidth": 0,
             "ticks": ""
            },
            "type": "contourcarpet"
           }
          ],
          "heatmap": [
           {
            "colorbar": {
             "outlinewidth": 0,
             "ticks": ""
            },
            "colorscale": [
             [
              0,
              "#0d0887"
             ],
             [
              0.1111111111111111,
              "#46039f"
             ],
             [
              0.2222222222222222,
              "#7201a8"
             ],
             [
              0.3333333333333333,
              "#9c179e"
             ],
             [
              0.4444444444444444,
              "#bd3786"
             ],
             [
              0.5555555555555556,
              "#d8576b"
             ],
             [
              0.6666666666666666,
              "#ed7953"
             ],
             [
              0.7777777777777778,
              "#fb9f3a"
             ],
             [
              0.8888888888888888,
              "#fdca26"
             ],
             [
              1,
              "#f0f921"
             ]
            ],
            "type": "heatmap"
           }
          ],
          "histogram": [
           {
            "marker": {
             "pattern": {
              "fillmode": "overlay",
              "size": 10,
              "solidity": 0.2
             }
            },
            "type": "histogram"
           }
          ],
          "histogram2d": [
           {
            "colorbar": {
             "outlinewidth": 0,
             "ticks": ""
            },
            "colorscale": [
             [
              0,
              "#0d0887"
             ],
             [
              0.1111111111111111,
              "#46039f"
             ],
             [
              0.2222222222222222,
              "#7201a8"
             ],
             [
              0.3333333333333333,
              "#9c179e"
             ],
             [
              0.4444444444444444,
              "#bd3786"
             ],
             [
              0.5555555555555556,
              "#d8576b"
             ],
             [
              0.6666666666666666,
              "#ed7953"
             ],
             [
              0.7777777777777778,
              "#fb9f3a"
             ],
             [
              0.8888888888888888,
              "#fdca26"
             ],
             [
              1,
              "#f0f921"
             ]
            ],
            "type": "histogram2d"
           }
          ],
          "histogram2dcontour": [
           {
            "colorbar": {
             "outlinewidth": 0,
             "ticks": ""
            },
            "colorscale": [
             [
              0,
              "#0d0887"
             ],
             [
              0.1111111111111111,
              "#46039f"
             ],
             [
              0.2222222222222222,
              "#7201a8"
             ],
             [
              0.3333333333333333,
              "#9c179e"
             ],
             [
              0.4444444444444444,
              "#bd3786"
             ],
             [
              0.5555555555555556,
              "#d8576b"
             ],
             [
              0.6666666666666666,
              "#ed7953"
             ],
             [
              0.7777777777777778,
              "#fb9f3a"
             ],
             [
              0.8888888888888888,
              "#fdca26"
             ],
             [
              1,
              "#f0f921"
             ]
            ],
            "type": "histogram2dcontour"
           }
          ],
          "mesh3d": [
           {
            "colorbar": {
             "outlinewidth": 0,
             "ticks": ""
            },
            "type": "mesh3d"
           }
          ],
          "parcoords": [
           {
            "line": {
             "colorbar": {
              "outlinewidth": 0,
              "ticks": ""
             }
            },
            "type": "parcoords"
           }
          ],
          "pie": [
           {
            "automargin": true,
            "type": "pie"
           }
          ],
          "scatter": [
           {
            "fillpattern": {
             "fillmode": "overlay",
             "size": 10,
             "solidity": 0.2
            },
            "type": "scatter"
           }
          ],
          "scatter3d": [
           {
            "line": {
             "colorbar": {
              "outlinewidth": 0,
              "ticks": ""
             }
            },
            "marker": {
             "colorbar": {
              "outlinewidth": 0,
              "ticks": ""
             }
            },
            "type": "scatter3d"
           }
          ],
          "scattercarpet": [
           {
            "marker": {
             "colorbar": {
              "outlinewidth": 0,
              "ticks": ""
             }
            },
            "type": "scattercarpet"
           }
          ],
          "scattergeo": [
           {
            "marker": {
             "colorbar": {
              "outlinewidth": 0,
              "ticks": ""
             }
            },
            "type": "scattergeo"
           }
          ],
          "scattergl": [
           {
            "marker": {
             "colorbar": {
              "outlinewidth": 0,
              "ticks": ""
             }
            },
            "type": "scattergl"
           }
          ],
          "scattermap": [
           {
            "marker": {
             "colorbar": {
              "outlinewidth": 0,
              "ticks": ""
             }
            },
            "type": "scattermap"
           }
          ],
          "scattermapbox": [
           {
            "marker": {
             "colorbar": {
              "outlinewidth": 0,
              "ticks": ""
             }
            },
            "type": "scattermapbox"
           }
          ],
          "scatterpolar": [
           {
            "marker": {
             "colorbar": {
              "outlinewidth": 0,
              "ticks": ""
             }
            },
            "type": "scatterpolar"
           }
          ],
          "scatterpolargl": [
           {
            "marker": {
             "colorbar": {
              "outlinewidth": 0,
              "ticks": ""
             }
            },
            "type": "scatterpolargl"
           }
          ],
          "scatterternary": [
           {
            "marker": {
             "colorbar": {
              "outlinewidth": 0,
              "ticks": ""
             }
            },
            "type": "scatterternary"
           }
          ],
          "surface": [
           {
            "colorbar": {
             "outlinewidth": 0,
             "ticks": ""
            },
            "colorscale": [
             [
              0,
              "#0d0887"
             ],
             [
              0.1111111111111111,
              "#46039f"
             ],
             [
              0.2222222222222222,
              "#7201a8"
             ],
             [
              0.3333333333333333,
              "#9c179e"
             ],
             [
              0.4444444444444444,
              "#bd3786"
             ],
             [
              0.5555555555555556,
              "#d8576b"
             ],
             [
              0.6666666666666666,
              "#ed7953"
             ],
             [
              0.7777777777777778,
              "#fb9f3a"
             ],
             [
              0.8888888888888888,
              "#fdca26"
             ],
             [
              1,
              "#f0f921"
             ]
            ],
            "type": "surface"
           }
          ],
          "table": [
           {
            "cells": {
             "fill": {
              "color": "#EBF0F8"
             },
             "line": {
              "color": "white"
             }
            },
            "header": {
             "fill": {
              "color": "#C8D4E3"
             },
             "line": {
              "color": "white"
             }
            },
            "type": "table"
           }
          ]
         },
         "layout": {
          "annotationdefaults": {
           "arrowcolor": "#2a3f5f",
           "arrowhead": 0,
           "arrowwidth": 1
          },
          "autotypenumbers": "strict",
          "coloraxis": {
           "colorbar": {
            "outlinewidth": 0,
            "ticks": ""
           }
          },
          "colorscale": {
           "diverging": [
            [
             0,
             "#8e0152"
            ],
            [
             0.1,
             "#c51b7d"
            ],
            [
             0.2,
             "#de77ae"
            ],
            [
             0.3,
             "#f1b6da"
            ],
            [
             0.4,
             "#fde0ef"
            ],
            [
             0.5,
             "#f7f7f7"
            ],
            [
             0.6,
             "#e6f5d0"
            ],
            [
             0.7,
             "#b8e186"
            ],
            [
             0.8,
             "#7fbc41"
            ],
            [
             0.9,
             "#4d9221"
            ],
            [
             1,
             "#276419"
            ]
           ],
           "sequential": [
            [
             0,
             "#0d0887"
            ],
            [
             0.1111111111111111,
             "#46039f"
            ],
            [
             0.2222222222222222,
             "#7201a8"
            ],
            [
             0.3333333333333333,
             "#9c179e"
            ],
            [
             0.4444444444444444,
             "#bd3786"
            ],
            [
             0.5555555555555556,
             "#d8576b"
            ],
            [
             0.6666666666666666,
             "#ed7953"
            ],
            [
             0.7777777777777778,
             "#fb9f3a"
            ],
            [
             0.8888888888888888,
             "#fdca26"
            ],
            [
             1,
             "#f0f921"
            ]
           ],
           "sequentialminus": [
            [
             0,
             "#0d0887"
            ],
            [
             0.1111111111111111,
             "#46039f"
            ],
            [
             0.2222222222222222,
             "#7201a8"
            ],
            [
             0.3333333333333333,
             "#9c179e"
            ],
            [
             0.4444444444444444,
             "#bd3786"
            ],
            [
             0.5555555555555556,
             "#d8576b"
            ],
            [
             0.6666666666666666,
             "#ed7953"
            ],
            [
             0.7777777777777778,
             "#fb9f3a"
            ],
            [
             0.8888888888888888,
             "#fdca26"
            ],
            [
             1,
             "#f0f921"
            ]
           ]
          },
          "colorway": [
           "#636efa",
           "#EF553B",
           "#00cc96",
           "#ab63fa",
           "#FFA15A",
           "#19d3f3",
           "#FF6692",
           "#B6E880",
           "#FF97FF",
           "#FECB52"
          ],
          "font": {
           "color": "#2a3f5f"
          },
          "geo": {
           "bgcolor": "white",
           "lakecolor": "white",
           "landcolor": "#E5ECF6",
           "showlakes": true,
           "showland": true,
           "subunitcolor": "white"
          },
          "hoverlabel": {
           "align": "left"
          },
          "hovermode": "closest",
          "mapbox": {
           "style": "light"
          },
          "paper_bgcolor": "white",
          "plot_bgcolor": "#E5ECF6",
          "polar": {
           "angularaxis": {
            "gridcolor": "white",
            "linecolor": "white",
            "ticks": ""
           },
           "bgcolor": "#E5ECF6",
           "radialaxis": {
            "gridcolor": "white",
            "linecolor": "white",
            "ticks": ""
           }
          },
          "scene": {
           "xaxis": {
            "backgroundcolor": "#E5ECF6",
            "gridcolor": "white",
            "gridwidth": 2,
            "linecolor": "white",
            "showbackground": true,
            "ticks": "",
            "zerolinecolor": "white"
           },
           "yaxis": {
            "backgroundcolor": "#E5ECF6",
            "gridcolor": "white",
            "gridwidth": 2,
            "linecolor": "white",
            "showbackground": true,
            "ticks": "",
            "zerolinecolor": "white"
           },
           "zaxis": {
            "backgroundcolor": "#E5ECF6",
            "gridcolor": "white",
            "gridwidth": 2,
            "linecolor": "white",
            "showbackground": true,
            "ticks": "",
            "zerolinecolor": "white"
           }
          },
          "shapedefaults": {
           "line": {
            "color": "#2a3f5f"
           }
          },
          "ternary": {
           "aaxis": {
            "gridcolor": "white",
            "linecolor": "white",
            "ticks": ""
           },
           "baxis": {
            "gridcolor": "white",
            "linecolor": "white",
            "ticks": ""
           },
           "bgcolor": "#E5ECF6",
           "caxis": {
            "gridcolor": "white",
            "linecolor": "white",
            "ticks": ""
           }
          },
          "title": {
           "x": 0.05
          },
          "xaxis": {
           "automargin": true,
           "gridcolor": "white",
           "linecolor": "white",
           "ticks": "",
           "title": {
            "standoff": 15
           },
           "zerolinecolor": "white",
           "zerolinewidth": 2
          },
          "yaxis": {
           "automargin": true,
           "gridcolor": "white",
           "linecolor": "white",
           "ticks": "",
           "title": {
            "standoff": 15
           },
           "zerolinecolor": "white",
           "zerolinewidth": 2
          }
         }
        },
        "xaxis": {
         "anchor": "y",
         "domain": [
          0,
          0.8358
         ],
         "title": {
          "text": "attack"
         }
        },
        "xaxis2": {
         "anchor": "y2",
         "domain": [
          0.8408,
          1
         ],
         "matches": "x2",
         "showgrid": false,
         "showline": false,
         "showticklabels": false,
         "ticks": ""
        },
        "xaxis3": {
         "anchor": "y3",
         "domain": [
          0,
          0.8358
         ],
         "matches": "x",
         "showgrid": true,
         "showticklabels": false
        },
        "xaxis4": {
         "anchor": "y4",
         "domain": [
          0.8408,
          1
         ],
         "matches": "x2",
         "showgrid": false,
         "showline": false,
         "showticklabels": false,
         "ticks": ""
        },
        "yaxis": {
         "anchor": "x",
         "domain": [
          0,
          0.8316
         ],
         "title": {
          "text": "defense"
         }
        },
        "yaxis2": {
         "anchor": "x2",
         "domain": [
          0,
          0.8316
         ],
         "matches": "y",
         "showgrid": true,
         "showticklabels": false
        },
        "yaxis3": {
         "anchor": "x3",
         "domain": [
          0.8416,
          1
         ],
         "matches": "y3",
         "showgrid": false,
         "showline": false,
         "showticklabels": false,
         "ticks": ""
        },
        "yaxis4": {
         "anchor": "x4",
         "domain": [
          0.8416,
          1
         ],
         "matches": "y3",
         "showgrid": true,
         "showline": false,
         "showticklabels": false,
         "ticks": ""
        }
       }
      }
     },
     "metadata": {},
     "output_type": "display_data"
    }
   ],
   "source": [
    "px.scatter(pokemon_df, x='attack', y='defense', marginal_x='violin', marginal_y='rug')"
   ]
  },
  {
   "cell_type": "code",
   "execution_count": 9,
   "metadata": {},
   "outputs": [
    {
     "data": {
      "application/vnd.plotly.v1+json": {
       "config": {
        "plotlyServerURL": "https://plot.ly"
       },
       "data": [
        {
         "hovertemplate": "attack=%{x}<br>defense=%{y}<extra></extra>",
         "legendgroup": "",
         "marker": {
          "color": "#636efa",
          "symbol": "circle"
         },
         "mode": "markers",
         "name": "",
         "showlegend": false,
         "type": "scattergl",
         "x": {
          "bdata": "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",
          "dtype": "i2"
         },
         "xaxis": "x",
         "y": {
          "bdata": "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",
          "dtype": "i2"
         },
         "yaxis": "y"
        },
        {
         "alignmentgroup": "True",
         "hovertemplate": "attack=%{x}<extra></extra>",
         "legendgroup": "",
         "marker": {
          "color": "#636efa",
          "symbol": "circle"
         },
         "name": "",
         "notched": true,
         "offsetgroup": "",
         "showlegend": false,
         "type": "box",
         "x": {
          "bdata": "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",
          "dtype": "i2"
         },
         "xaxis": "x3",
         "yaxis": "y3"
        },
        {
         "alignmentgroup": "True",
         "boxpoints": "all",
         "fillcolor": "rgba(255,255,255,0)",
         "hoveron": "points",
         "hovertemplate": "defense=%{y}<extra></extra>",
         "jitter": 0,
         "legendgroup": "",
         "line": {
          "color": "rgba(255,255,255,0)"
         },
         "marker": {
          "color": "#636efa",
          "symbol": "line-ew-open"
         },
         "name": "",
         "offsetgroup": "",
         "showlegend": false,
         "type": "box",
         "xaxis": "x2",
         "y": {
          "bdata": "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",
          "dtype": "i2"
         },
         "yaxis": "y2"
        }
       ],
       "layout": {
        "legend": {
         "tracegroupgap": 0
        },
        "margin": {
         "t": 60
        },
        "template": {
         "data": {
          "bar": [
           {
            "error_x": {
             "color": "#2a3f5f"
            },
            "error_y": {
             "color": "#2a3f5f"
            },
            "marker": {
             "line": {
              "color": "#E5ECF6",
              "width": 0.5
             },
             "pattern": {
              "fillmode": "overlay",
              "size": 10,
              "solidity": 0.2
             }
            },
            "type": "bar"
           }
          ],
          "barpolar": [
           {
            "marker": {
             "line": {
              "color": "#E5ECF6",
              "width": 0.5
             },
             "pattern": {
              "fillmode": "overlay",
              "size": 10,
              "solidity": 0.2
             }
            },
            "type": "barpolar"
           }
          ],
          "carpet": [
           {
            "aaxis": {
             "endlinecolor": "#2a3f5f",
             "gridcolor": "white",
             "linecolor": "white",
             "minorgridcolor": "white",
             "startlinecolor": "#2a3f5f"
            },
            "baxis": {
             "endlinecolor": "#2a3f5f",
             "gridcolor": "white",
             "linecolor": "white",
             "minorgridcolor": "white",
             "startlinecolor": "#2a3f5f"
            },
            "type": "carpet"
           }
          ],
          "choropleth": [
           {
            "colorbar": {
             "outlinewidth": 0,
             "ticks": ""
            },
            "type": "choropleth"
           }
          ],
          "contour": [
           {
            "colorbar": {
             "outlinewidth": 0,
             "ticks": ""
            },
            "colorscale": [
             [
              0,
              "#0d0887"
             ],
             [
              0.1111111111111111,
              "#46039f"
             ],
             [
              0.2222222222222222,
              "#7201a8"
             ],
             [
              0.3333333333333333,
              "#9c179e"
             ],
             [
              0.4444444444444444,
              "#bd3786"
             ],
             [
              0.5555555555555556,
              "#d8576b"
             ],
             [
              0.6666666666666666,
              "#ed7953"
             ],
             [
              0.7777777777777778,
              "#fb9f3a"
             ],
             [
              0.8888888888888888,
              "#fdca26"
             ],
             [
              1,
              "#f0f921"
             ]
            ],
            "type": "contour"
           }
          ],
          "contourcarpet": [
           {
            "colorbar": {
             "outlinewidth": 0,
             "ticks": ""
            },
            "type": "contourcarpet"
           }
          ],
          "heatmap": [
           {
            "colorbar": {
             "outlinewidth": 0,
             "ticks": ""
            },
            "colorscale": [
             [
              0,
              "#0d0887"
             ],
             [
              0.1111111111111111,
              "#46039f"
             ],
             [
              0.2222222222222222,
              "#7201a8"
             ],
             [
              0.3333333333333333,
              "#9c179e"
             ],
             [
              0.4444444444444444,
              "#bd3786"
             ],
             [
              0.5555555555555556,
              "#d8576b"
             ],
             [
              0.6666666666666666,
              "#ed7953"
             ],
             [
              0.7777777777777778,
              "#fb9f3a"
             ],
             [
              0.8888888888888888,
              "#fdca26"
             ],
             [
              1,
              "#f0f921"
             ]
            ],
            "type": "heatmap"
           }
          ],
          "histogram": [
           {
            "marker": {
             "pattern": {
              "fillmode": "overlay",
              "size": 10,
              "solidity": 0.2
             }
            },
            "type": "histogram"
           }
          ],
          "histogram2d": [
           {
            "colorbar": {
             "outlinewidth": 0,
             "ticks": ""
            },
            "colorscale": [
             [
              0,
              "#0d0887"
             ],
             [
              0.1111111111111111,
              "#46039f"
             ],
             [
              0.2222222222222222,
              "#7201a8"
             ],
             [
              0.3333333333333333,
              "#9c179e"
             ],
             [
              0.4444444444444444,
              "#bd3786"
             ],
             [
              0.5555555555555556,
              "#d8576b"
             ],
             [
              0.6666666666666666,
              "#ed7953"
             ],
             [
              0.7777777777777778,
              "#fb9f3a"
             ],
             [
              0.8888888888888888,
              "#fdca26"
             ],
             [
              1,
              "#f0f921"
             ]
            ],
            "type": "histogram2d"
           }
          ],
          "histogram2dcontour": [
           {
            "colorbar": {
             "outlinewidth": 0,
             "ticks": ""
            },
            "colorscale": [
             [
              0,
              "#0d0887"
             ],
             [
              0.1111111111111111,
              "#46039f"
             ],
             [
              0.2222222222222222,
              "#7201a8"
             ],
             [
              0.3333333333333333,
              "#9c179e"
             ],
             [
              0.4444444444444444,
              "#bd3786"
             ],
             [
              0.5555555555555556,
              "#d8576b"
             ],
             [
              0.6666666666666666,
              "#ed7953"
             ],
             [
              0.7777777777777778,
              "#fb9f3a"
             ],
             [
              0.8888888888888888,
              "#fdca26"
             ],
             [
              1,
              "#f0f921"
             ]
            ],
            "type": "histogram2dcontour"
           }
          ],
          "mesh3d": [
           {
            "colorbar": {
             "outlinewidth": 0,
             "ticks": ""
            },
            "type": "mesh3d"
           }
          ],
          "parcoords": [
           {
            "line": {
             "colorbar": {
              "outlinewidth": 0,
              "ticks": ""
             }
            },
            "type": "parcoords"
           }
          ],
          "pie": [
           {
            "automargin": true,
            "type": "pie"
           }
          ],
          "scatter": [
           {
            "fillpattern": {
             "fillmode": "overlay",
             "size": 10,
             "solidity": 0.2
            },
            "type": "scatter"
           }
          ],
          "scatter3d": [
           {
            "line": {
             "colorbar": {
              "outlinewidth": 0,
              "ticks": ""
             }
            },
            "marker": {
             "colorbar": {
              "outlinewidth": 0,
              "ticks": ""
             }
            },
            "type": "scatter3d"
           }
          ],
          "scattercarpet": [
           {
            "marker": {
             "colorbar": {
              "outlinewidth": 0,
              "ticks": ""
             }
            },
            "type": "scattercarpet"
           }
          ],
          "scattergeo": [
           {
            "marker": {
             "colorbar": {
              "outlinewidth": 0,
              "ticks": ""
             }
            },
            "type": "scattergeo"
           }
          ],
          "scattergl": [
           {
            "marker": {
             "colorbar": {
              "outlinewidth": 0,
              "ticks": ""
             }
            },
            "type": "scattergl"
           }
          ],
          "scattermap": [
           {
            "marker": {
             "colorbar": {
              "outlinewidth": 0,
              "ticks": ""
             }
            },
            "type": "scattermap"
           }
          ],
          "scattermapbox": [
           {
            "marker": {
             "colorbar": {
              "outlinewidth": 0,
              "ticks": ""
             }
            },
            "type": "scattermapbox"
           }
          ],
          "scatterpolar": [
           {
            "marker": {
             "colorbar": {
              "outlinewidth": 0,
              "ticks": ""
             }
            },
            "type": "scatterpolar"
           }
          ],
          "scatterpolargl": [
           {
            "marker": {
             "colorbar": {
              "outlinewidth": 0,
              "ticks": ""
             }
            },
            "type": "scatterpolargl"
           }
          ],
          "scatterternary": [
           {
            "marker": {
             "colorbar": {
              "outlinewidth": 0,
              "ticks": ""
             }
            },
            "type": "scatterternary"
           }
          ],
          "surface": [
           {
            "colorbar": {
             "outlinewidth": 0,
             "ticks": ""
            },
            "colorscale": [
             [
              0,
              "#0d0887"
             ],
             [
              0.1111111111111111,
              "#46039f"
             ],
             [
              0.2222222222222222,
              "#7201a8"
             ],
             [
              0.3333333333333333,
              "#9c179e"
             ],
             [
              0.4444444444444444,
              "#bd3786"
             ],
             [
              0.5555555555555556,
              "#d8576b"
             ],
             [
              0.6666666666666666,
              "#ed7953"
             ],
             [
              0.7777777777777778,
              "#fb9f3a"
             ],
             [
              0.8888888888888888,
              "#fdca26"
             ],
             [
              1,
              "#f0f921"
             ]
            ],
            "type": "surface"
           }
          ],
          "table": [
           {
            "cells": {
             "fill": {
              "color": "#EBF0F8"
             },
             "line": {
              "color": "white"
             }
            },
            "header": {
             "fill": {
              "color": "#C8D4E3"
             },
             "line": {
              "color": "white"
             }
            },
            "type": "table"
           }
          ]
         },
         "layout": {
          "annotationdefaults": {
           "arrowcolor": "#2a3f5f",
           "arrowhead": 0,
           "arrowwidth": 1
          },
          "autotypenumbers": "strict",
          "coloraxis": {
           "colorbar": {
            "outlinewidth": 0,
            "ticks": ""
           }
          },
          "colorscale": {
           "diverging": [
            [
             0,
             "#8e0152"
            ],
            [
             0.1,
             "#c51b7d"
            ],
            [
             0.2,
             "#de77ae"
            ],
            [
             0.3,
             "#f1b6da"
            ],
            [
             0.4,
             "#fde0ef"
            ],
            [
             0.5,
             "#f7f7f7"
            ],
            [
             0.6,
             "#e6f5d0"
            ],
            [
             0.7,
             "#b8e186"
            ],
            [
             0.8,
             "#7fbc41"
            ],
            [
             0.9,
             "#4d9221"
            ],
            [
             1,
             "#276419"
            ]
           ],
           "sequential": [
            [
             0,
             "#0d0887"
            ],
            [
             0.1111111111111111,
             "#46039f"
            ],
            [
             0.2222222222222222,
             "#7201a8"
            ],
            [
             0.3333333333333333,
             "#9c179e"
            ],
            [
             0.4444444444444444,
             "#bd3786"
            ],
            [
             0.5555555555555556,
             "#d8576b"
            ],
            [
             0.6666666666666666,
             "#ed7953"
            ],
            [
             0.7777777777777778,
             "#fb9f3a"
            ],
            [
             0.8888888888888888,
             "#fdca26"
            ],
            [
             1,
             "#f0f921"
            ]
           ],
           "sequentialminus": [
            [
             0,
             "#0d0887"
            ],
            [
             0.1111111111111111,
             "#46039f"
            ],
            [
             0.2222222222222222,
             "#7201a8"
            ],
            [
             0.3333333333333333,
             "#9c179e"
            ],
            [
             0.4444444444444444,
             "#bd3786"
            ],
            [
             0.5555555555555556,
             "#d8576b"
            ],
            [
             0.6666666666666666,
             "#ed7953"
            ],
            [
             0.7777777777777778,
             "#fb9f3a"
            ],
            [
             0.8888888888888888,
             "#fdca26"
            ],
            [
             1,
             "#f0f921"
            ]
           ]
          },
          "colorway": [
           "#636efa",
           "#EF553B",
           "#00cc96",
           "#ab63fa",
           "#FFA15A",
           "#19d3f3",
           "#FF6692",
           "#B6E880",
           "#FF97FF",
           "#FECB52"
          ],
          "font": {
           "color": "#2a3f5f"
          },
          "geo": {
           "bgcolor": "white",
           "lakecolor": "white",
           "landcolor": "#E5ECF6",
           "showlakes": true,
           "showland": true,
           "subunitcolor": "white"
          },
          "hoverlabel": {
           "align": "left"
          },
          "hovermode": "closest",
          "mapbox": {
           "style": "light"
          },
          "paper_bgcolor": "white",
          "plot_bgcolor": "#E5ECF6",
          "polar": {
           "angularaxis": {
            "gridcolor": "white",
            "linecolor": "white",
            "ticks": ""
           },
           "bgcolor": "#E5ECF6",
           "radialaxis": {
            "gridcolor": "white",
            "linecolor": "white",
            "ticks": ""
           }
          },
          "scene": {
           "xaxis": {
            "backgroundcolor": "#E5ECF6",
            "gridcolor": "white",
            "gridwidth": 2,
            "linecolor": "white",
            "showbackground": true,
            "ticks": "",
            "zerolinecolor": "white"
           },
           "yaxis": {
            "backgroundcolor": "#E5ECF6",
            "gridcolor": "white",
            "gridwidth": 2,
            "linecolor": "white",
            "showbackground": true,
            "ticks": "",
            "zerolinecolor": "white"
           },
           "zaxis": {
            "backgroundcolor": "#E5ECF6",
            "gridcolor": "white",
            "gridwidth": 2,
            "linecolor": "white",
            "showbackground": true,
            "ticks": "",
            "zerolinecolor": "white"
           }
          },
          "shapedefaults": {
           "line": {
            "color": "#2a3f5f"
           }
          },
          "ternary": {
           "aaxis": {
            "gridcolor": "white",
            "linecolor": "white",
            "ticks": ""
           },
           "baxis": {
            "gridcolor": "white",
            "linecolor": "white",
            "ticks": ""
           },
           "bgcolor": "#E5ECF6",
           "caxis": {
            "gridcolor": "white",
            "linecolor": "white",
            "ticks": ""
           }
          },
          "title": {
           "x": 0.05
          },
          "xaxis": {
           "automargin": true,
           "gridcolor": "white",
           "linecolor": "white",
           "ticks": "",
           "title": {
            "standoff": 15
           },
           "zerolinecolor": "white",
           "zerolinewidth": 2
          },
          "yaxis": {
           "automargin": true,
           "gridcolor": "white",
           "linecolor": "white",
           "ticks": "",
           "title": {
            "standoff": 15
           },
           "zerolinecolor": "white",
           "zerolinewidth": 2
          }
         }
        },
        "xaxis": {
         "anchor": "y",
         "domain": [
          0,
          0.8358
         ],
         "title": {
          "text": "attack"
         }
        },
        "xaxis2": {
         "anchor": "y2",
         "domain": [
          0.8408,
          1
         ],
         "matches": "x2",
         "showgrid": false,
         "showline": false,
         "showticklabels": false,
         "ticks": ""
        },
        "xaxis3": {
         "anchor": "y3",
         "domain": [
          0,
          0.8358
         ],
         "matches": "x",
         "showgrid": true,
         "showticklabels": false
        },
        "xaxis4": {
         "anchor": "y4",
         "domain": [
          0.8408,
          1
         ],
         "matches": "x2",
         "showgrid": false,
         "showline": false,
         "showticklabels": false,
         "ticks": ""
        },
        "yaxis": {
         "anchor": "x",
         "domain": [
          0,
          0.8316
         ],
         "title": {
          "text": "defense"
         }
        },
        "yaxis2": {
         "anchor": "x2",
         "domain": [
          0,
          0.8316
         ],
         "matches": "y",
         "showgrid": true,
         "showticklabels": false
        },
        "yaxis3": {
         "anchor": "x3",
         "domain": [
          0.8416,
          1
         ],
         "matches": "y3",
         "showgrid": false,
         "showline": false,
         "showticklabels": false,
         "ticks": ""
        },
        "yaxis4": {
         "anchor": "x4",
         "domain": [
          0.8416,
          1
         ],
         "matches": "y3",
         "showgrid": true,
         "showline": false,
         "showticklabels": false,
         "ticks": ""
        }
       }
      }
     },
     "metadata": {},
     "output_type": "display_data"
    }
   ],
   "source": [
    "px.scatter(pokemon_df, x='attack', y='defense', marginal_x='box', marginal_y='rug')"
   ]
  },
  {
   "cell_type": "code",
   "execution_count": 10,
   "metadata": {},
   "outputs": [
    {
     "data": {
      "text/html": [
       "<div>\n",
       "<style scoped>\n",
       "    .dataframe tbody tr th:only-of-type {\n",
       "        vertical-align: middle;\n",
       "    }\n",
       "\n",
       "    .dataframe tbody tr th {\n",
       "        vertical-align: top;\n",
       "    }\n",
       "\n",
       "    .dataframe thead th {\n",
       "        text-align: right;\n",
       "    }\n",
       "</style>\n",
       "<table border=\"1\" class=\"dataframe\">\n",
       "  <thead>\n",
       "    <tr style=\"text-align: right;\">\n",
       "      <th></th>\n",
       "      <th>Country</th>\n",
       "      <th>Continent</th>\n",
       "      <th>Year</th>\n",
       "      <th>Population</th>\n",
       "      <th>Life Expectancy</th>\n",
       "      <th>GDP per Cap</th>\n",
       "      <th>Military Expenditure</th>\n",
       "    </tr>\n",
       "  </thead>\n",
       "  <tbody>\n",
       "    <tr>\n",
       "      <th>7012</th>\n",
       "      <td>Ukraine</td>\n",
       "      <td>Europe</td>\n",
       "      <td>2020</td>\n",
       "      <td>43.90</td>\n",
       "      <td>73.2</td>\n",
       "      <td>3720.0</td>\n",
       "      <td>5920.0</td>\n",
       "    </tr>\n",
       "    <tr>\n",
       "      <th>7013</th>\n",
       "      <td>Uruguay</td>\n",
       "      <td>South America</td>\n",
       "      <td>2020</td>\n",
       "      <td>3.43</td>\n",
       "      <td>77.3</td>\n",
       "      <td>15400.0</td>\n",
       "      <td>1160.0</td>\n",
       "    </tr>\n",
       "    <tr>\n",
       "      <th>7014</th>\n",
       "      <td>United States</td>\n",
       "      <td>North America</td>\n",
       "      <td>2020</td>\n",
       "      <td>336.00</td>\n",
       "      <td>77.0</td>\n",
       "      <td>63200.0</td>\n",
       "      <td>778000.0</td>\n",
       "    </tr>\n",
       "    <tr>\n",
       "      <th>7015</th>\n",
       "      <td>South Africa</td>\n",
       "      <td>Africa</td>\n",
       "      <td>2020</td>\n",
       "      <td>58.80</td>\n",
       "      <td>64.3</td>\n",
       "      <td>5660.0</td>\n",
       "      <td>3150.0</td>\n",
       "    </tr>\n",
       "    <tr>\n",
       "      <th>7016</th>\n",
       "      <td>Zambia</td>\n",
       "      <td>Africa</td>\n",
       "      <td>2020</td>\n",
       "      <td>18.90</td>\n",
       "      <td>63.1</td>\n",
       "      <td>985.0</td>\n",
       "      <td>212.0</td>\n",
       "    </tr>\n",
       "  </tbody>\n",
       "</table>\n",
       "</div>"
      ],
      "text/plain": [
       "            Country      Continent  Year  Population  Life Expectancy  \\\n",
       "7012        Ukraine         Europe  2020       43.90             73.2   \n",
       "7013        Uruguay  South America  2020        3.43             77.3   \n",
       "7014  United States  North America  2020      336.00             77.0   \n",
       "7015   South Africa         Africa  2020       58.80             64.3   \n",
       "7016         Zambia         Africa  2020       18.90             63.1   \n",
       "\n",
       "      GDP per Cap  Military Expenditure  \n",
       "7012       3720.0                5920.0  \n",
       "7013      15400.0                1160.0  \n",
       "7014      63200.0              778000.0  \n",
       "7015       5660.0                3150.0  \n",
       "7016        985.0                 212.0  "
      ]
     },
     "execution_count": 10,
     "metadata": {},
     "output_type": "execute_result"
    }
   ],
   "source": [
    "gapminder_df = pd.read_csv(\"../data/gapminder_1960to2020.csv\")\n",
    "gapminder_df.tail()"
   ]
  },
  {
   "cell_type": "code",
   "execution_count": 11,
   "metadata": {},
   "outputs": [
    {
     "data": {
      "application/vnd.plotly.v1+json": {
       "config": {
        "plotlyServerURL": "https://plot.ly"
       },
       "data": [
        {
         "hovertemplate": "<b>%{hovertext}</b><br><br>Continent=Asia<br>GDP per Cap=%{x}<br>Life Expectancy=%{y}<br>Population=%{marker.size}<extra></extra>",
         "hovertext": [
          "Afghanistan",
          "Armenia",
          "Azerbaijan",
          "Bangladesh",
          "Bahrain",
          "Brunei",
          "China",
          "Cyprus",
          "Georgia",
          "Indonesia",
          "India",
          "Iran",
          "Iraq",
          "Israel",
          "Jordan",
          "Japan",
          "Kazakhstan",
          "Kyrgyz Republic",
          "Cambodia",
          "South Korea",
          "Kuwait",
          "Lebanon",
          "Sri Lanka",
          "Myanmar",
          "Mongolia",
          "Malaysia",
          "Nepal",
          "Oman",
          "Pakistan",
          "Philippines",
          "Saudi Arabia",
          "Singapore",
          "Thailand",
          "Tajikistan",
          "Timor-Leste",
          "Turkey"
         ],
         "legendgroup": "Asia",
         "marker": {
          "color": "#636efa",
          "size": {
           "bdata": "AAAAAACAQ0B7FK5H4XoGQJqZmZmZmSRAAAAAAADgZECuR+F6FK73P30/NV66Sdw/AAAAAAAwlkDXo3A9CtfzPylcj8L1KA5AAAAAAAAAcUAAAAAAAOCVQDMzMzMz01VAzczMzMxMRUCF61G4HoUhQM3MzMzMzCVAAAAAAABAX0AAAAAAAAAzQK5H4XoUrhlAZmZmZmZmMEBmZmZmZuZJQHE9CtejcBFApHA9CtejFkAzMzMzM7M1QDMzMzMzs0pAUrgehetRCkCamZmZmZlAQM3MzMzMTD1AKVyPwvUoEkAAAAAAAGBsQAAAAAAAAFxAAAAAAAAAQkCkcD0K16MXQAAAAAAA4FFAFK5H4XoUI0DNzMzMzMz0P2ZmZmZmBlVA",
           "dtype": "f8"
          },
          "sizemode": "area",
          "sizeref": 3.55,
          "symbol": "circle"
         },
         "mode": "markers",
         "name": "Asia",
         "orientation": "v",
         "showlegend": true,
         "type": "scatter",
         "x": {
          "bdata": "AAAAAAAogEAAAAAAAK6wQAAAAAAAfLBAAAAAAACgnkAAAAAAAOzTQAAAAAAAwtpAAAAAAABQxEAAAAAAANvaQAAAAAAApLBAAAAAAAA8rkAAAAAAACieQAAAAAAA6KJAAAAAAAA2sEAAAAAAAJXlQAAAAAAAuLBAAAAAAACh40AAAAAAANDBQAAAAAAAcJJAAAAAAAAQmEAAAAAAANzeQAAAAAAAONhAAAAAAAAqskAAAAAAAMCsQAAAAAAA+JZAAAAAAAC4r0AAAAAAAFDEQAAAAAAAIJJAAAAAAABSzEAAAAAAAJiSQAAAAAAAyKlAAAAAAACh00AAAAAAADPtQAAAAAAAFrxAAAAAAADYikAAAAAAAICWQAAAAAAArsBA",
          "dtype": "f8"
         },
         "xaxis": "x",
         "y": {
          "bdata": "MzMzMzOzT0AAAAAAAIBSQJqZmZmZmVFAzczMzMysUkAzMzMzMxNTQJqZmZmZmVJAzczMzMxsU0AzMzMzMzNUQGZmZmZmJlJAmpmZmZnZUUAzMzMzM7NRQM3MzMzMDFNAZmZmZmYGUkAAAAAAAIBUQJqZmZmZOVNAzczMzMwsVUDNzMzMzMxRQJqZmZmZOVJAAAAAAACAUUAzMzMzM7NUQM3MzMzMTFRAzczMzMwMU0AzMzMzM1NTQJqZmZmZWVFAzczMzMwMUUBmZmZmZsZSQGZmZmZmxlFAzczMzMwsUkCamZmZmXlQQDMzMzMz81FAMzMzMzOTUkCamZmZmTlVQAAAAAAAoFNAZmZmZmZmUUDNzMzMzKxRQDMzMzMzc1NA",
          "dtype": "f8"
         },
         "yaxis": "y"
        },
        {
         "hovertemplate": "<b>%{hovertext}</b><br><br>Continent=Africa<br>GDP per Cap=%{x}<br>Life Expectancy=%{y}<br>Population=%{marker.size}<extra></extra>",
         "hovertext": [
          "Angola",
          "Burundi",
          "Benin",
          "Burkina Faso",
          "Botswana",
          "Central African Republic",
          "Cote d'Ivoire",
          "Cameroon",
          "Congo, Dem. Rep.",
          "Congo, Rep.",
          "Cape Verde",
          "Algeria",
          "Egypt",
          "Ethiopia",
          "Gabon",
          "Ghana",
          "Guinea",
          "Gambia",
          "Guinea-Bissau",
          "Kenya",
          "Liberia",
          "Lesotho",
          "Morocco",
          "Madagascar",
          "Mali",
          "Mozambique",
          "Mauritania",
          "Mauritius",
          "Malawi",
          "Namibia",
          "Niger",
          "Nigeria",
          "Rwanda",
          "Sudan",
          "Senegal",
          "Sierra Leone",
          "Somalia",
          "Eswatini",
          "Chad",
          "Togo",
          "Tunisia",
          "Tanzania",
          "Uganda",
          "South Africa",
          "Zambia"
         ],
         "legendgroup": "Africa",
         "marker": {
          "color": "#EF553B",
          "size": {
           "bdata": "MzMzMzOzQEBmZmZmZmYoQDMzMzMzMylAAAAAAACANUBmZmZmZmYEQFyPwvUoXBVAzczMzMzMOkAAAAAAAIA6QJqZmZmZOVdAzczMzMzMFkAOLbKd76fiPwAAAAAAwEVAAAAAAADAWkAAAAAAAEBdQFK4HoXrUQJAmpmZmZkZQEBmZmZmZmYqQI/C9ShcjwRAKVyPwvUoAEAAAAAAAABKQFyPwvUoXBRAAAAAAAAAAkCamZmZmVlCQDMzMzMzMzxAMzMzMzMzNUAzMzMzMzM/QAAAAAAAABJAzczMzMzM9D9mZmZmZmYzQOxRuB6F6wNAzczMzMxMOEAAAAAAAABqQDMzMzMzMypAMzMzMzMzRkBmZmZmZmYwQPYoXI/CdSBAAAAAAACAMEDhehSuR+HyP5qZmZmZmTBA4XoUrkfhIEBmZmZmZmYoQJqZmZmZ2U5AMzMzMzMzRkBmZmZmZmZNQGZmZmZm5jJA",
           "dtype": "f8"
          },
          "sizemode": "area",
          "sizeref": 3.55,
          "symbol": "circle"
         },
         "mode": "markers",
         "name": "Africa",
         "orientation": "v",
         "showlegend": true,
         "type": "scatter",
         "x": {
          "bdata": "AAAAAADQm0AAAAAAAOBtQAAAAAAAKJRAAAAAAADQikAAAAAAAAC5QAAAAAAA0H5AAAAAAAA0okAAAAAAABCYQAAAAAAAAIFAAAAAAADonEAAAAAAAOinQAAAAAAA3KlAAAAAAADkq0AAAAAAAECNQAAAAAAA4LpAAAAAAABEoUAAAAAAAJiSQAAAAAAAKIhAAAAAAADAhkAAAAAAAGCdQAAAAAAAyINAAAAAAABYi0AAAAAAAOinQAAAAAAAcH1AAAAAAADwikAAAAAAABB8QAAAAAAAkJpAAAAAAADbwEAAAAAAAOiDQAAAAAAAVLBAAAAAAADAgUAAAAAAAGigQAAAAAAA8IhAAAAAAABgfkAAAAAAAPiWQAAAAAAA0H9AAAAAAABge0AAAAAAALiqQAAAAAAAmIRAAAAAAACYjEAAAAAAAICrQAAAAAAA4JBAAAAAAACwiUAAAAAAABy2QAAAAAAAyI5A",
          "dtype": "f8"
         },
         "xaxis": "x",
         "y": {
          "bdata": "zczMzMxMUEAAAAAAAABQQGZmZmZmJlBAZmZmZmbmTkDNzMzMzMxOQDMzMzMzM0pAmpmZmZkZUEAAAAAAAMBPQM3MzMzMTFBAmpmZmZlZUEBmZmZmZkZSQM3MzMzMDFNAAAAAAADAUUAAAAAAAEBRQDMzMzMz81BAmpmZmZmZUEBmZmZmZqZOQJqZmZmZuVBAAAAAAACATkCamZmZmZlQQM3MzMzMjFBAAAAAAAAASkAAAAAAAEBSQGZmZmZmZlBAAAAAAAAAT0AzMzMzMzNNQM3MzMzMrFFAAAAAAADgUkAzMzMzMzNQQJqZmZmZWVBAzczMzMxMT0AAAAAAACBQQM3MzMzMLFFAAAAAAACgUUAAAAAAACBRQDMzMzMz805AzczMzMxMTUAAAAAAAABNQAAAAAAAQE5AzczMzMxMUEAAAAAAAEBTQDMzMzMz01BAmpmZmZmZUEAzMzMzMxNQQM3MzMzMjE9A",
          "dtype": "f8"
         },
         "yaxis": "y"
        },
        {
         "hovertemplate": "<b>%{hovertext}</b><br><br>Continent=Europe<br>GDP per Cap=%{x}<br>Life Expectancy=%{y}<br>Population=%{marker.size}<extra></extra>",
         "hovertext": [
          "Albania",
          "Austria",
          "Belgium",
          "Bulgaria",
          "Bosnia and Herzegovina",
          "Belarus",
          "Switzerland",
          "Czech Republic",
          "Germany",
          "Denmark",
          "Spain",
          "Estonia",
          "Finland",
          "France",
          "United Kingdom",
          "Greece",
          "Croatia",
          "Hungary",
          "Ireland",
          "Iceland",
          "Italy",
          "Lithuania",
          "Luxembourg",
          "Latvia",
          "Moldova",
          "North Macedonia",
          "Malta",
          "Montenegro",
          "Netherlands",
          "Norway",
          "Poland",
          "Portugal",
          "Romania",
          "Russia",
          "Serbia",
          "Slovak Republic",
          "Slovenia",
          "Sweden",
          "Ukraine"
         ],
         "legendgroup": "Europe",
         "marker": {
          "color": "#00cc96",
          "size": {
           "bdata": "9ihcj8L1BkBSuB6F69EhQDMzMzMzMydA7FG4HoXrG0CPwvUoXI8KQMP1KFyPQiNASOF6FK5HIUAAAAAAAAAlQDMzMzMz01RAUrgehetRF0AzMzMzM7NHQEjhehSuR/U/H4XrUbgeFkAAAAAAACBQQGZmZmZmxlBAAAAAAAAAJUBmZmZmZmYQQAAAAAAAgCNAzczMzMzME0CwcmiR7XzXPwAAAAAAwE1Aj8L1KFyPBkApXI/C9SjkP2ZmZmZmZv4/pHA9CtejCEDhehSuR+EAQHsUrkfheuA/VOOlm8Qg5D9mZmZmZmYxQIXrUbgehRVAMzMzMzMzQ0CamZmZmZkkQGZmZmZmZjNAAAAAAABAYkBxPQrXo3AdQNejcD0K1xVA9ihcj8L1AEDNzMzMzMwkQDMzMzMz80VA",
           "dtype": "f8"
          },
          "sizemode": "area",
          "sizeref": 3.55,
          "symbol": "circle"
         },
         "mode": "markers",
         "name": "Europe",
         "orientation": "v",
         "showlegend": true,
         "type": "scatter",
         "x": {
          "bdata": "AAAAAACCtEAAAAAAALvnQAAAAAAAEuZAAAAAAAC6w0AAAAAAAMC3QAAAAAAAFLlAAAAAAMBD9UAAAAAAAF3WQAAAAACAm+ZAAAAAAIDV7UAAAAAAAHfaQAAAAAAAj9ZAAAAAAADU50AAAAAAAAvjQAAAAACAEeRAAAAAAAAw0UAAAAAAAIrLQAAAAAAAQM9AAAAAAIDZ9EAAAAAAgPTsQAAAAAAADt9AAAAAAAC600AAAAAAAFL8QAAAAAAASdFAAAAAAADGsUAAAAAAACC3QAAAAAAAvNtAAAAAAAAAvkAAAAAAAJbpQAAAAABAbvBAAAAAAACqzkAAAAAAAK7VQAAAAAAAMslAAAAAAAC6w0AAAAAAADK+QAAAAAAA2dJAAAAAAADn2EAAAAAAgInpQAAAAAAAEK1A",
          "dtype": "f8"
         },
         "xaxis": "x",
         "y": {
          "bdata": "mpmZmZl5U0AAAAAAAGBUQM3MzMzMDFRAMzMzMzPzUUCamZmZmdlSQAAAAAAAYFJAzczMzMzMVEAAAAAAAKBTQAAAAAAAQFRAzczMzMxMVEAAAAAAAGBUQM3MzMzMbFNAAAAAAACAVEDNzMzMzIxUQJqZmZmZ2VNAmpmZmZkZVECamZmZmXlTQDMzMzMz81JAZmZmZmZGVEAAAAAAAABVQJqZmZmZeVRAMzMzMzOzUkAAAAAAAIBUQJqZmZmZ+VJAMzMzMzNTUkAzMzMzMzNSQDMzMzMzk1RAmpmZmZmZUkAAAAAAAEBUQM3MzMzMzFRAzczMzMwsU0CamZmZmTlUQGZmZmZmhlJAzczMzMzMUUDNzMzMzMxSQM3MzMzMLFNAmpmZmZkZVEAAAAAAAIBUQM3MzMzMTFJA",
          "dtype": "f8"
         },
         "yaxis": "y"
        },
        {
         "hovertemplate": "<b>%{hovertext}</b><br><br>Continent=South America<br>GDP per Cap=%{x}<br>Life Expectancy=%{y}<br>Population=%{marker.size}<extra></extra>",
         "hovertext": [
          "Argentina",
          "Bolivia",
          "Brazil",
          "Chile",
          "Colombia",
          "Ecuador",
          "Guyana",
          "Peru",
          "Paraguay",
          "Uruguay"
         ],
         "legendgroup": "South America",
         "marker": {
          "color": "#ab63fa",
          "size": {
           "bdata": "AAAAAACARkDNzMzMzMwnQAAAAAAAoGpAzczMzMxMM0AzMzMzM3NJQJqZmZmZmTFAGy/dJAaB6T9mZmZmZqZAQHsUrkfhehpAcT0K16NwC0A=",
           "dtype": "f8"
          },
          "sizemode": "area",
          "sizeref": 3.55,
          "symbol": "circle"
         },
         "mode": "markers",
         "name": "South America",
         "orientation": "v",
         "showlegend": true,
         "type": "scatter",
         "x": {
          "bdata": "AAAAAADCwEAAAAAAAHSoQAAAAAAAkLpAAAAAAADIyUAAAAAAANK0QAAAAAAA4LVAAAAAAAAwu0AAAAAAAPK3QAAAAAAAiLNAAAAAAAAUzkA=",
          "dtype": "f8"
         },
         "xaxis": "x",
         "y": {
          "bdata": "ZmZmZmamUkAzMzMzM3NRQGZmZmZmZlJAZmZmZmbGU0AzMzMzM3NTQJqZmZmZeVJAMzMzMzOzUECamZmZmVlTQM3MzMzM7FJAMzMzMzNTU0A=",
          "dtype": "f8"
         },
         "yaxis": "y"
        },
        {
         "hovertemplate": "<b>%{hovertext}</b><br><br>Continent=Oceania<br>GDP per Cap=%{x}<br>Life Expectancy=%{y}<br>Population=%{marker.size}<extra></extra>",
         "hovertext": [
          "Australia",
          "Fiji",
          "New Zealand",
          "Papua New Guinea"
         ],
         "legendgroup": "Oceania",
         "marker": {
          "color": "#FFA15A",
          "size": {
           "bdata": "MzMzMzOzOUBxPQrXo3DtPz0K16NwPRRAAAAAAACAI0A=",
           "dtype": "f8"
          },
          "sizemode": "area",
          "sizeref": 3.55,
          "symbol": "circle"
         },
         "mode": "markers",
         "name": "Oceania",
         "orientation": "v",
         "showlegend": true,
         "type": "scatter",
         "x": {
          "bdata": "AAAAAIA+6UAAAAAAAMSzQAAAAAAAN+RAAAAAAACQpUA=",
          "dtype": "f8"
         },
         "xaxis": "x",
         "y": {
          "bdata": "mpmZmZm5VECamZmZmRlRQDMzMzMzc1RAMzMzMzMzUEA=",
          "dtype": "f8"
         },
         "yaxis": "y"
        },
        {
         "hovertemplate": "<b>%{hovertext}</b><br><br>Continent=North America<br>GDP per Cap=%{x}<br>Life Expectancy=%{y}<br>Population=%{marker.size}<extra></extra>",
         "hovertext": [
          "Belize",
          "Canada",
          "Costa Rica",
          "Dominican Republic",
          "Guatemala",
          "Honduras",
          "Haiti",
          "Jamaica",
          "Mexico",
          "Nicaragua",
          "Panama",
          "El Salvador",
          "Trinidad and Tobago",
          "United States"
         ],
         "legendgroup": "North America",
         "marker": {
          "color": "#19d3f3",
          "size": {
           "bdata": "SOF6FK5H2T8zMzMzM/NCQHsUrkfhehRAAAAAAAAAJkBmZmZmZmYxQDMzMzMzMyRAmpmZmZmZJkCPwvUoXI8GQAAAAAAAgF9ACtejcD0KG0ApXI/C9SgRQClcj8L1KBlAUrgehetR+D8AAAAAAAB1QA==",
           "dtype": "f8"
          },
          "sizemode": "area",
          "sizeref": 3.55,
          "symbol": "circle"
         },
         "mode": "markers",
         "name": "North America",
         "orientation": "v",
         "showlegend": true,
         "type": "scatter",
         "x": {
          "bdata": "AAAAAAAYsEAAAAAAgCTlQAAAAAAAosdAAAAAAABmvEAAAAAAAPixQAAAAAAArKJAAAAAAADYk0AAAAAAADSyQAAAAAAARcBAAAAAAADYnUAAAAAAAGrIQAAAAAAAsK1AAAAAAAAUzkAAAAAAANzuQA==",
          "dtype": "f8"
         },
         "xaxis": "x",
         "y": {
          "bdata": "ZmZmZmYGUkAAAAAAAGBUQJqZmZmZuVNAzczMzMwsUkAAAAAAAOBRQM3MzMzMrFFAMzMzMzPzT0DNzMzMzAxTQAAAAAAAQFJAmpmZmZnZUkAAAAAAAEBTQGZmZmZmxlJAMzMzMzOzUkAAAAAAAEBTQA==",
          "dtype": "f8"
         },
         "yaxis": "y"
        }
       ],
       "layout": {
        "legend": {
         "itemsizing": "constant",
         "title": {
          "text": "Continent"
         },
         "tracegroupgap": 0
        },
        "margin": {
         "t": 60
        },
        "template": {
         "data": {
          "bar": [
           {
            "error_x": {
             "color": "#2a3f5f"
            },
            "error_y": {
             "color": "#2a3f5f"
            },
            "marker": {
             "line": {
              "color": "#E5ECF6",
              "width": 0.5
             },
             "pattern": {
              "fillmode": "overlay",
              "size": 10,
              "solidity": 0.2
             }
            },
            "type": "bar"
           }
          ],
          "barpolar": [
           {
            "marker": {
             "line": {
              "color": "#E5ECF6",
              "width": 0.5
             },
             "pattern": {
              "fillmode": "overlay",
              "size": 10,
              "solidity": 0.2
             }
            },
            "type": "barpolar"
           }
          ],
          "carpet": [
           {
            "aaxis": {
             "endlinecolor": "#2a3f5f",
             "gridcolor": "white",
             "linecolor": "white",
             "minorgridcolor": "white",
             "startlinecolor": "#2a3f5f"
            },
            "baxis": {
             "endlinecolor": "#2a3f5f",
             "gridcolor": "white",
             "linecolor": "white",
             "minorgridcolor": "white",
             "startlinecolor": "#2a3f5f"
            },
            "type": "carpet"
           }
          ],
          "choropleth": [
           {
            "colorbar": {
             "outlinewidth": 0,
             "ticks": ""
            },
            "type": "choropleth"
           }
          ],
          "contour": [
           {
            "colorbar": {
             "outlinewidth": 0,
             "ticks": ""
            },
            "colorscale": [
             [
              0,
              "#0d0887"
             ],
             [
              0.1111111111111111,
              "#46039f"
             ],
             [
              0.2222222222222222,
              "#7201a8"
             ],
             [
              0.3333333333333333,
              "#9c179e"
             ],
             [
              0.4444444444444444,
              "#bd3786"
             ],
             [
              0.5555555555555556,
              "#d8576b"
             ],
             [
              0.6666666666666666,
              "#ed7953"
             ],
             [
              0.7777777777777778,
              "#fb9f3a"
             ],
             [
              0.8888888888888888,
              "#fdca26"
             ],
             [
              1,
              "#f0f921"
             ]
            ],
            "type": "contour"
           }
          ],
          "contourcarpet": [
           {
            "colorbar": {
             "outlinewidth": 0,
             "ticks": ""
            },
            "type": "contourcarpet"
           }
          ],
          "heatmap": [
           {
            "colorbar": {
             "outlinewidth": 0,
             "ticks": ""
            },
            "colorscale": [
             [
              0,
              "#0d0887"
             ],
             [
              0.1111111111111111,
              "#46039f"
             ],
             [
              0.2222222222222222,
              "#7201a8"
             ],
             [
              0.3333333333333333,
              "#9c179e"
             ],
             [
              0.4444444444444444,
              "#bd3786"
             ],
             [
              0.5555555555555556,
              "#d8576b"
             ],
             [
              0.6666666666666666,
              "#ed7953"
             ],
             [
              0.7777777777777778,
              "#fb9f3a"
             ],
             [
              0.8888888888888888,
              "#fdca26"
             ],
             [
              1,
              "#f0f921"
             ]
            ],
            "type": "heatmap"
           }
          ],
          "histogram": [
           {
            "marker": {
             "pattern": {
              "fillmode": "overlay",
              "size": 10,
              "solidity": 0.2
             }
            },
            "type": "histogram"
           }
          ],
          "histogram2d": [
           {
            "colorbar": {
             "outlinewidth": 0,
             "ticks": ""
            },
            "colorscale": [
             [
              0,
              "#0d0887"
             ],
             [
              0.1111111111111111,
              "#46039f"
             ],
             [
              0.2222222222222222,
              "#7201a8"
             ],
             [
              0.3333333333333333,
              "#9c179e"
             ],
             [
              0.4444444444444444,
              "#bd3786"
             ],
             [
              0.5555555555555556,
              "#d8576b"
             ],
             [
              0.6666666666666666,
              "#ed7953"
             ],
             [
              0.7777777777777778,
              "#fb9f3a"
             ],
             [
              0.8888888888888888,
              "#fdca26"
             ],
             [
              1,
              "#f0f921"
             ]
            ],
            "type": "histogram2d"
           }
          ],
          "histogram2dcontour": [
           {
            "colorbar": {
             "outlinewidth": 0,
             "ticks": ""
            },
            "colorscale": [
             [
              0,
              "#0d0887"
             ],
             [
              0.1111111111111111,
              "#46039f"
             ],
             [
              0.2222222222222222,
              "#7201a8"
             ],
             [
              0.3333333333333333,
              "#9c179e"
             ],
             [
              0.4444444444444444,
              "#bd3786"
             ],
             [
              0.5555555555555556,
              "#d8576b"
             ],
             [
              0.6666666666666666,
              "#ed7953"
             ],
             [
              0.7777777777777778,
              "#fb9f3a"
             ],
             [
              0.8888888888888888,
              "#fdca26"
             ],
             [
              1,
              "#f0f921"
             ]
            ],
            "type": "histogram2dcontour"
           }
          ],
          "mesh3d": [
           {
            "colorbar": {
             "outlinewidth": 0,
             "ticks": ""
            },
            "type": "mesh3d"
           }
          ],
          "parcoords": [
           {
            "line": {
             "colorbar": {
              "outlinewidth": 0,
              "ticks": ""
             }
            },
            "type": "parcoords"
           }
          ],
          "pie": [
           {
            "automargin": true,
            "type": "pie"
           }
          ],
          "scatter": [
           {
            "fillpattern": {
             "fillmode": "overlay",
             "size": 10,
             "solidity": 0.2
            },
            "type": "scatter"
           }
          ],
          "scatter3d": [
           {
            "line": {
             "colorbar": {
              "outlinewidth": 0,
              "ticks": ""
             }
            },
            "marker": {
             "colorbar": {
              "outlinewidth": 0,
              "ticks": ""
             }
            },
            "type": "scatter3d"
           }
          ],
          "scattercarpet": [
           {
            "marker": {
             "colorbar": {
              "outlinewidth": 0,
              "ticks": ""
             }
            },
            "type": "scattercarpet"
           }
          ],
          "scattergeo": [
           {
            "marker": {
             "colorbar": {
              "outlinewidth": 0,
              "ticks": ""
             }
            },
            "type": "scattergeo"
           }
          ],
          "scattergl": [
           {
            "marker": {
             "colorbar": {
              "outlinewidth": 0,
              "ticks": ""
             }
            },
            "type": "scattergl"
           }
          ],
          "scattermap": [
           {
            "marker": {
             "colorbar": {
              "outlinewidth": 0,
              "ticks": ""
             }
            },
            "type": "scattermap"
           }
          ],
          "scattermapbox": [
           {
            "marker": {
             "colorbar": {
              "outlinewidth": 0,
              "ticks": ""
             }
            },
            "type": "scattermapbox"
           }
          ],
          "scatterpolar": [
           {
            "marker": {
             "colorbar": {
              "outlinewidth": 0,
              "ticks": ""
             }
            },
            "type": "scatterpolar"
           }
          ],
          "scatterpolargl": [
           {
            "marker": {
             "colorbar": {
              "outlinewidth": 0,
              "ticks": ""
             }
            },
            "type": "scatterpolargl"
           }
          ],
          "scatterternary": [
           {
            "marker": {
             "colorbar": {
              "outlinewidth": 0,
              "ticks": ""
             }
            },
            "type": "scatterternary"
           }
          ],
          "surface": [
           {
            "colorbar": {
             "outlinewidth": 0,
             "ticks": ""
            },
            "colorscale": [
             [
              0,
              "#0d0887"
             ],
             [
              0.1111111111111111,
              "#46039f"
             ],
             [
              0.2222222222222222,
              "#7201a8"
             ],
             [
              0.3333333333333333,
              "#9c179e"
             ],
             [
              0.4444444444444444,
              "#bd3786"
             ],
             [
              0.5555555555555556,
              "#d8576b"
             ],
             [
              0.6666666666666666,
              "#ed7953"
             ],
             [
              0.7777777777777778,
              "#fb9f3a"
             ],
             [
              0.8888888888888888,
              "#fdca26"
             ],
             [
              1,
              "#f0f921"
             ]
            ],
            "type": "surface"
           }
          ],
          "table": [
           {
            "cells": {
             "fill": {
              "color": "#EBF0F8"
             },
             "line": {
              "color": "white"
             }
            },
            "header": {
             "fill": {
              "color": "#C8D4E3"
             },
             "line": {
              "color": "white"
             }
            },
            "type": "table"
           }
          ]
         },
         "layout": {
          "annotationdefaults": {
           "arrowcolor": "#2a3f5f",
           "arrowhead": 0,
           "arrowwidth": 1
          },
          "autotypenumbers": "strict",
          "coloraxis": {
           "colorbar": {
            "outlinewidth": 0,
            "ticks": ""
           }
          },
          "colorscale": {
           "diverging": [
            [
             0,
             "#8e0152"
            ],
            [
             0.1,
             "#c51b7d"
            ],
            [
             0.2,
             "#de77ae"
            ],
            [
             0.3,
             "#f1b6da"
            ],
            [
             0.4,
             "#fde0ef"
            ],
            [
             0.5,
             "#f7f7f7"
            ],
            [
             0.6,
             "#e6f5d0"
            ],
            [
             0.7,
             "#b8e186"
            ],
            [
             0.8,
             "#7fbc41"
            ],
            [
             0.9,
             "#4d9221"
            ],
            [
             1,
             "#276419"
            ]
           ],
           "sequential": [
            [
             0,
             "#0d0887"
            ],
            [
             0.1111111111111111,
             "#46039f"
            ],
            [
             0.2222222222222222,
             "#7201a8"
            ],
            [
             0.3333333333333333,
             "#9c179e"
            ],
            [
             0.4444444444444444,
             "#bd3786"
            ],
            [
             0.5555555555555556,
             "#d8576b"
            ],
            [
             0.6666666666666666,
             "#ed7953"
            ],
            [
             0.7777777777777778,
             "#fb9f3a"
            ],
            [
             0.8888888888888888,
             "#fdca26"
            ],
            [
             1,
             "#f0f921"
            ]
           ],
           "sequentialminus": [
            [
             0,
             "#0d0887"
            ],
            [
             0.1111111111111111,
             "#46039f"
            ],
            [
             0.2222222222222222,
             "#7201a8"
            ],
            [
             0.3333333333333333,
             "#9c179e"
            ],
            [
             0.4444444444444444,
             "#bd3786"
            ],
            [
             0.5555555555555556,
             "#d8576b"
            ],
            [
             0.6666666666666666,
             "#ed7953"
            ],
            [
             0.7777777777777778,
             "#fb9f3a"
            ],
            [
             0.8888888888888888,
             "#fdca26"
            ],
            [
             1,
             "#f0f921"
            ]
           ]
          },
          "colorway": [
           "#636efa",
           "#EF553B",
           "#00cc96",
           "#ab63fa",
           "#FFA15A",
           "#19d3f3",
           "#FF6692",
           "#B6E880",
           "#FF97FF",
           "#FECB52"
          ],
          "font": {
           "color": "#2a3f5f"
          },
          "geo": {
           "bgcolor": "white",
           "lakecolor": "white",
           "landcolor": "#E5ECF6",
           "showlakes": true,
           "showland": true,
           "subunitcolor": "white"
          },
          "hoverlabel": {
           "align": "left"
          },
          "hovermode": "closest",
          "mapbox": {
           "style": "light"
          },
          "paper_bgcolor": "white",
          "plot_bgcolor": "#E5ECF6",
          "polar": {
           "angularaxis": {
            "gridcolor": "white",
            "linecolor": "white",
            "ticks": ""
           },
           "bgcolor": "#E5ECF6",
           "radialaxis": {
            "gridcolor": "white",
            "linecolor": "white",
            "ticks": ""
           }
          },
          "scene": {
           "xaxis": {
            "backgroundcolor": "#E5ECF6",
            "gridcolor": "white",
            "gridwidth": 2,
            "linecolor": "white",
            "showbackground": true,
            "ticks": "",
            "zerolinecolor": "white"
           },
           "yaxis": {
            "backgroundcolor": "#E5ECF6",
            "gridcolor": "white",
            "gridwidth": 2,
            "linecolor": "white",
            "showbackground": true,
            "ticks": "",
            "zerolinecolor": "white"
           },
           "zaxis": {
            "backgroundcolor": "#E5ECF6",
            "gridcolor": "white",
            "gridwidth": 2,
            "linecolor": "white",
            "showbackground": true,
            "ticks": "",
            "zerolinecolor": "white"
           }
          },
          "shapedefaults": {
           "line": {
            "color": "#2a3f5f"
           }
          },
          "ternary": {
           "aaxis": {
            "gridcolor": "white",
            "linecolor": "white",
            "ticks": ""
           },
           "baxis": {
            "gridcolor": "white",
            "linecolor": "white",
            "ticks": ""
           },
           "bgcolor": "#E5ECF6",
           "caxis": {
            "gridcolor": "white",
            "linecolor": "white",
            "ticks": ""
           }
          },
          "title": {
           "x": 0.05
          },
          "xaxis": {
           "automargin": true,
           "gridcolor": "white",
           "linecolor": "white",
           "ticks": "",
           "title": {
            "standoff": 15
           },
           "zerolinecolor": "white",
           "zerolinewidth": 2
          },
          "yaxis": {
           "automargin": true,
           "gridcolor": "white",
           "linecolor": "white",
           "ticks": "",
           "title": {
            "standoff": 15
           },
           "zerolinecolor": "white",
           "zerolinewidth": 2
          }
         }
        },
        "xaxis": {
         "anchor": "y",
         "domain": [
          0,
          1
         ],
         "title": {
          "text": "GDP per Cap"
         }
        },
        "yaxis": {
         "anchor": "x",
         "domain": [
          0,
          1
         ],
         "title": {
          "text": "Life Expectancy"
         }
        }
       }
      }
     },
     "metadata": {},
     "output_type": "display_data"
    }
   ],
   "source": [
    "px.scatter(gapminder_df.query('Year == 2020'), x='GDP per Cap', y='Life Expectancy', size='Population', color='Continent', hover_name='Country')"
   ]
  },
  {
   "cell_type": "code",
   "execution_count": 12,
   "metadata": {},
   "outputs": [
    {
     "data": {
      "application/vnd.plotly.v1+json": {
       "config": {
        "plotlyServerURL": "https://plot.ly"
       },
       "data": [
        {
         "hovertemplate": "<b>%{hovertext}</b><br><br>Continent=Asia<br>GDP per Cap=%{x}<br>Life Expectancy=%{y}<br>Population=%{marker.size}<extra></extra>",
         "hovertext": [
          "Afghanistan",
          "Armenia",
          "Azerbaijan",
          "Bangladesh",
          "Bahrain",
          "Brunei",
          "China",
          "Cyprus",
          "Georgia",
          "Indonesia",
          "India",
          "Iran",
          "Iraq",
          "Israel",
          "Jordan",
          "Japan",
          "Kazakhstan",
          "Kyrgyz Republic",
          "Cambodia",
          "South Korea",
          "Kuwait",
          "Lebanon",
          "Sri Lanka",
          "Myanmar",
          "Mongolia",
          "Malaysia",
          "Nepal",
          "Oman",
          "Pakistan",
          "Philippines",
          "Saudi Arabia",
          "Singapore",
          "Thailand",
          "Tajikistan",
          "Timor-Leste",
          "Turkey"
         ],
         "legendgroup": "Asia",
         "marker": {
          "color": "#636efa",
          "size": {
           "bdata": "AAAAAACAQ0B7FK5H4XoGQJqZmZmZmSRAAAAAAADgZECuR+F6FK73P30/NV66Sdw/AAAAAAAwlkDXo3A9CtfzPylcj8L1KA5AAAAAAAAAcUAAAAAAAOCVQDMzMzMz01VAzczMzMxMRUCF61G4HoUhQM3MzMzMzCVAAAAAAABAX0AAAAAAAAAzQK5H4XoUrhlAZmZmZmZmMEBmZmZmZuZJQHE9CtejcBFApHA9CtejFkAzMzMzM7M1QDMzMzMzs0pAUrgehetRCkCamZmZmZlAQM3MzMzMTD1AKVyPwvUoEkAAAAAAAGBsQAAAAAAAAFxAAAAAAAAAQkCkcD0K16MXQAAAAAAA4FFAFK5H4XoUI0DNzMzMzMz0P2ZmZmZmBlVA",
           "dtype": "f8"
          },
          "sizemode": "area",
          "sizeref": 0.8875,
          "symbol": "circle"
         },
         "mode": "markers",
         "name": "Asia",
         "orientation": "v",
         "showlegend": true,
         "type": "scatter",
         "x": {
          "bdata": "AAAAAAAogEAAAAAAAK6wQAAAAAAAfLBAAAAAAACgnkAAAAAAAOzTQAAAAAAAwtpAAAAAAABQxEAAAAAAANvaQAAAAAAApLBAAAAAAAA8rkAAAAAAACieQAAAAAAA6KJAAAAAAAA2sEAAAAAAAJXlQAAAAAAAuLBAAAAAAACh40AAAAAAANDBQAAAAAAAcJJAAAAAAAAQmEAAAAAAANzeQAAAAAAAONhAAAAAAAAqskAAAAAAAMCsQAAAAAAA+JZAAAAAAAC4r0AAAAAAAFDEQAAAAAAAIJJAAAAAAABSzEAAAAAAAJiSQAAAAAAAyKlAAAAAAACh00AAAAAAADPtQAAAAAAAFrxAAAAAAADYikAAAAAAAICWQAAAAAAArsBA",
          "dtype": "f8"
         },
         "xaxis": "x",
         "y": {
          "bdata": "MzMzMzOzT0AAAAAAAIBSQJqZmZmZmVFAzczMzMysUkAzMzMzMxNTQJqZmZmZmVJAzczMzMxsU0AzMzMzMzNUQGZmZmZmJlJAmpmZmZnZUUAzMzMzM7NRQM3MzMzMDFNAZmZmZmYGUkAAAAAAAIBUQJqZmZmZOVNAzczMzMwsVUDNzMzMzMxRQJqZmZmZOVJAAAAAAACAUUAzMzMzM7NUQM3MzMzMTFRAzczMzMwMU0AzMzMzM1NTQJqZmZmZWVFAzczMzMwMUUBmZmZmZsZSQGZmZmZmxlFAzczMzMwsUkCamZmZmXlQQDMzMzMz81FAMzMzMzOTUkCamZmZmTlVQAAAAAAAoFNAZmZmZmZmUUDNzMzMzKxRQDMzMzMzc1NA",
          "dtype": "f8"
         },
         "yaxis": "y"
        },
        {
         "hovertemplate": "<b>%{hovertext}</b><br><br>Continent=Africa<br>GDP per Cap=%{x}<br>Life Expectancy=%{y}<br>Population=%{marker.size}<extra></extra>",
         "hovertext": [
          "Angola",
          "Burundi",
          "Benin",
          "Burkina Faso",
          "Botswana",
          "Central African Republic",
          "Cote d'Ivoire",
          "Cameroon",
          "Congo, Dem. Rep.",
          "Congo, Rep.",
          "Cape Verde",
          "Algeria",
          "Egypt",
          "Ethiopia",
          "Gabon",
          "Ghana",
          "Guinea",
          "Gambia",
          "Guinea-Bissau",
          "Kenya",
          "Liberia",
          "Lesotho",
          "Morocco",
          "Madagascar",
          "Mali",
          "Mozambique",
          "Mauritania",
          "Mauritius",
          "Malawi",
          "Namibia",
          "Niger",
          "Nigeria",
          "Rwanda",
          "Sudan",
          "Senegal",
          "Sierra Leone",
          "Somalia",
          "Eswatini",
          "Chad",
          "Togo",
          "Tunisia",
          "Tanzania",
          "Uganda",
          "South Africa",
          "Zambia"
         ],
         "legendgroup": "Africa",
         "marker": {
          "color": "#EF553B",
          "size": {
           "bdata": "MzMzMzOzQEBmZmZmZmYoQDMzMzMzMylAAAAAAACANUBmZmZmZmYEQFyPwvUoXBVAzczMzMzMOkAAAAAAAIA6QJqZmZmZOVdAzczMzMzMFkAOLbKd76fiPwAAAAAAwEVAAAAAAADAWkAAAAAAAEBdQFK4HoXrUQJAmpmZmZkZQEBmZmZmZmYqQI/C9ShcjwRAKVyPwvUoAEAAAAAAAABKQFyPwvUoXBRAAAAAAAAAAkCamZmZmVlCQDMzMzMzMzxAMzMzMzMzNUAzMzMzMzM/QAAAAAAAABJAzczMzMzM9D9mZmZmZmYzQOxRuB6F6wNAzczMzMxMOEAAAAAAAABqQDMzMzMzMypAMzMzMzMzRkBmZmZmZmYwQPYoXI/CdSBAAAAAAACAMEDhehSuR+HyP5qZmZmZmTBA4XoUrkfhIEBmZmZmZmYoQJqZmZmZ2U5AMzMzMzMzRkBmZmZmZmZNQGZmZmZm5jJA",
           "dtype": "f8"
          },
          "sizemode": "area",
          "sizeref": 0.8875,
          "symbol": "circle"
         },
         "mode": "markers",
         "name": "Africa",
         "orientation": "v",
         "showlegend": true,
         "type": "scatter",
         "x": {
          "bdata": "AAAAAADQm0AAAAAAAOBtQAAAAAAAKJRAAAAAAADQikAAAAAAAAC5QAAAAAAA0H5AAAAAAAA0okAAAAAAABCYQAAAAAAAAIFAAAAAAADonEAAAAAAAOinQAAAAAAA3KlAAAAAAADkq0AAAAAAAECNQAAAAAAA4LpAAAAAAABEoUAAAAAAAJiSQAAAAAAAKIhAAAAAAADAhkAAAAAAAGCdQAAAAAAAyINAAAAAAABYi0AAAAAAAOinQAAAAAAAcH1AAAAAAADwikAAAAAAABB8QAAAAAAAkJpAAAAAAADbwEAAAAAAAOiDQAAAAAAAVLBAAAAAAADAgUAAAAAAAGigQAAAAAAA8IhAAAAAAABgfkAAAAAAAPiWQAAAAAAA0H9AAAAAAABge0AAAAAAALiqQAAAAAAAmIRAAAAAAACYjEAAAAAAAICrQAAAAAAA4JBAAAAAAACwiUAAAAAAABy2QAAAAAAAyI5A",
          "dtype": "f8"
         },
         "xaxis": "x",
         "y": {
          "bdata": "zczMzMxMUEAAAAAAAABQQGZmZmZmJlBAZmZmZmbmTkDNzMzMzMxOQDMzMzMzM0pAmpmZmZkZUEAAAAAAAMBPQM3MzMzMTFBAmpmZmZlZUEBmZmZmZkZSQM3MzMzMDFNAAAAAAADAUUAAAAAAAEBRQDMzMzMz81BAmpmZmZmZUEBmZmZmZqZOQJqZmZmZuVBAAAAAAACATkCamZmZmZlQQM3MzMzMjFBAAAAAAAAASkAAAAAAAEBSQGZmZmZmZlBAAAAAAAAAT0AzMzMzMzNNQM3MzMzMrFFAAAAAAADgUkAzMzMzMzNQQJqZmZmZWVBAzczMzMxMT0AAAAAAACBQQM3MzMzMLFFAAAAAAACgUUAAAAAAACBRQDMzMzMz805AzczMzMxMTUAAAAAAAABNQAAAAAAAQE5AzczMzMxMUEAAAAAAAEBTQDMzMzMz01BAmpmZmZmZUEAzMzMzMxNQQM3MzMzMjE9A",
          "dtype": "f8"
         },
         "yaxis": "y"
        },
        {
         "hovertemplate": "<b>%{hovertext}</b><br><br>Continent=Europe<br>GDP per Cap=%{x}<br>Life Expectancy=%{y}<br>Population=%{marker.size}<extra></extra>",
         "hovertext": [
          "Albania",
          "Austria",
          "Belgium",
          "Bulgaria",
          "Bosnia and Herzegovina",
          "Belarus",
          "Switzerland",
          "Czech Republic",
          "Germany",
          "Denmark",
          "Spain",
          "Estonia",
          "Finland",
          "France",
          "United Kingdom",
          "Greece",
          "Croatia",
          "Hungary",
          "Ireland",
          "Iceland",
          "Italy",
          "Lithuania",
          "Luxembourg",
          "Latvia",
          "Moldova",
          "North Macedonia",
          "Malta",
          "Montenegro",
          "Netherlands",
          "Norway",
          "Poland",
          "Portugal",
          "Romania",
          "Russia",
          "Serbia",
          "Slovak Republic",
          "Slovenia",
          "Sweden",
          "Ukraine"
         ],
         "legendgroup": "Europe",
         "marker": {
          "color": "#00cc96",
          "size": {
           "bdata": "9ihcj8L1BkBSuB6F69EhQDMzMzMzMydA7FG4HoXrG0CPwvUoXI8KQMP1KFyPQiNASOF6FK5HIUAAAAAAAAAlQDMzMzMz01RAUrgehetRF0AzMzMzM7NHQEjhehSuR/U/H4XrUbgeFkAAAAAAACBQQGZmZmZmxlBAAAAAAAAAJUBmZmZmZmYQQAAAAAAAgCNAzczMzMzME0CwcmiR7XzXPwAAAAAAwE1Aj8L1KFyPBkApXI/C9SjkP2ZmZmZmZv4/pHA9CtejCEDhehSuR+EAQHsUrkfheuA/VOOlm8Qg5D9mZmZmZmYxQIXrUbgehRVAMzMzMzMzQ0CamZmZmZkkQGZmZmZmZjNAAAAAAABAYkBxPQrXo3AdQNejcD0K1xVA9ihcj8L1AEDNzMzMzMwkQDMzMzMz80VA",
           "dtype": "f8"
          },
          "sizemode": "area",
          "sizeref": 0.8875,
          "symbol": "circle"
         },
         "mode": "markers",
         "name": "Europe",
         "orientation": "v",
         "showlegend": true,
         "type": "scatter",
         "x": {
          "bdata": "AAAAAACCtEAAAAAAALvnQAAAAAAAEuZAAAAAAAC6w0AAAAAAAMC3QAAAAAAAFLlAAAAAAMBD9UAAAAAAAF3WQAAAAACAm+ZAAAAAAIDV7UAAAAAAAHfaQAAAAAAAj9ZAAAAAAADU50AAAAAAAAvjQAAAAACAEeRAAAAAAAAw0UAAAAAAAIrLQAAAAAAAQM9AAAAAAIDZ9EAAAAAAgPTsQAAAAAAADt9AAAAAAAC600AAAAAAAFL8QAAAAAAASdFAAAAAAADGsUAAAAAAACC3QAAAAAAAvNtAAAAAAAAAvkAAAAAAAJbpQAAAAABAbvBAAAAAAACqzkAAAAAAAK7VQAAAAAAAMslAAAAAAAC6w0AAAAAAADK+QAAAAAAA2dJAAAAAAADn2EAAAAAAgInpQAAAAAAAEK1A",
          "dtype": "f8"
         },
         "xaxis": "x",
         "y": {
          "bdata": "mpmZmZl5U0AAAAAAAGBUQM3MzMzMDFRAMzMzMzPzUUCamZmZmdlSQAAAAAAAYFJAzczMzMzMVEAAAAAAAKBTQAAAAAAAQFRAzczMzMxMVEAAAAAAAGBUQM3MzMzMbFNAAAAAAACAVEDNzMzMzIxUQJqZmZmZ2VNAmpmZmZkZVECamZmZmXlTQDMzMzMz81JAZmZmZmZGVEAAAAAAAABVQJqZmZmZeVRAMzMzMzOzUkAAAAAAAIBUQJqZmZmZ+VJAMzMzMzNTUkAzMzMzMzNSQDMzMzMzk1RAmpmZmZmZUkAAAAAAAEBUQM3MzMzMzFRAzczMzMwsU0CamZmZmTlUQGZmZmZmhlJAzczMzMzMUUDNzMzMzMxSQM3MzMzMLFNAmpmZmZkZVEAAAAAAAIBUQM3MzMzMTFJA",
          "dtype": "f8"
         },
         "yaxis": "y"
        },
        {
         "hovertemplate": "<b>%{hovertext}</b><br><br>Continent=South America<br>GDP per Cap=%{x}<br>Life Expectancy=%{y}<br>Population=%{marker.size}<extra></extra>",
         "hovertext": [
          "Argentina",
          "Bolivia",
          "Brazil",
          "Chile",
          "Colombia",
          "Ecuador",
          "Guyana",
          "Peru",
          "Paraguay",
          "Uruguay"
         ],
         "legendgroup": "South America",
         "marker": {
          "color": "#ab63fa",
          "size": {
           "bdata": "AAAAAACARkDNzMzMzMwnQAAAAAAAoGpAzczMzMxMM0AzMzMzM3NJQJqZmZmZmTFAGy/dJAaB6T9mZmZmZqZAQHsUrkfhehpAcT0K16NwC0A=",
           "dtype": "f8"
          },
          "sizemode": "area",
          "sizeref": 0.8875,
          "symbol": "circle"
         },
         "mode": "markers",
         "name": "South America",
         "orientation": "v",
         "showlegend": true,
         "type": "scatter",
         "x": {
          "bdata": "AAAAAADCwEAAAAAAAHSoQAAAAAAAkLpAAAAAAADIyUAAAAAAANK0QAAAAAAA4LVAAAAAAAAwu0AAAAAAAPK3QAAAAAAAiLNAAAAAAAAUzkA=",
          "dtype": "f8"
         },
         "xaxis": "x",
         "y": {
          "bdata": "ZmZmZmamUkAzMzMzM3NRQGZmZmZmZlJAZmZmZmbGU0AzMzMzM3NTQJqZmZmZeVJAMzMzMzOzUECamZmZmVlTQM3MzMzM7FJAMzMzMzNTU0A=",
          "dtype": "f8"
         },
         "yaxis": "y"
        },
        {
         "hovertemplate": "<b>%{hovertext}</b><br><br>Continent=Oceania<br>GDP per Cap=%{x}<br>Life Expectancy=%{y}<br>Population=%{marker.size}<extra></extra>",
         "hovertext": [
          "Australia",
          "Fiji",
          "New Zealand",
          "Papua New Guinea"
         ],
         "legendgroup": "Oceania",
         "marker": {
          "color": "#FFA15A",
          "size": {
           "bdata": "MzMzMzOzOUBxPQrXo3DtPz0K16NwPRRAAAAAAACAI0A=",
           "dtype": "f8"
          },
          "sizemode": "area",
          "sizeref": 0.8875,
          "symbol": "circle"
         },
         "mode": "markers",
         "name": "Oceania",
         "orientation": "v",
         "showlegend": true,
         "type": "scatter",
         "x": {
          "bdata": "AAAAAIA+6UAAAAAAAMSzQAAAAAAAN+RAAAAAAACQpUA=",
          "dtype": "f8"
         },
         "xaxis": "x",
         "y": {
          "bdata": "mpmZmZm5VECamZmZmRlRQDMzMzMzc1RAMzMzMzMzUEA=",
          "dtype": "f8"
         },
         "yaxis": "y"
        },
        {
         "hovertemplate": "<b>%{hovertext}</b><br><br>Continent=North America<br>GDP per Cap=%{x}<br>Life Expectancy=%{y}<br>Population=%{marker.size}<extra></extra>",
         "hovertext": [
          "Belize",
          "Canada",
          "Costa Rica",
          "Dominican Republic",
          "Guatemala",
          "Honduras",
          "Haiti",
          "Jamaica",
          "Mexico",
          "Nicaragua",
          "Panama",
          "El Salvador",
          "Trinidad and Tobago",
          "United States"
         ],
         "legendgroup": "North America",
         "marker": {
          "color": "#19d3f3",
          "size": {
           "bdata": "SOF6FK5H2T8zMzMzM/NCQHsUrkfhehRAAAAAAAAAJkBmZmZmZmYxQDMzMzMzMyRAmpmZmZmZJkCPwvUoXI8GQAAAAAAAgF9ACtejcD0KG0ApXI/C9SgRQClcj8L1KBlAUrgehetR+D8AAAAAAAB1QA==",
           "dtype": "f8"
          },
          "sizemode": "area",
          "sizeref": 0.8875,
          "symbol": "circle"
         },
         "mode": "markers",
         "name": "North America",
         "orientation": "v",
         "showlegend": true,
         "type": "scatter",
         "x": {
          "bdata": "AAAAAAAYsEAAAAAAgCTlQAAAAAAAosdAAAAAAABmvEAAAAAAAPixQAAAAAAArKJAAAAAAADYk0AAAAAAADSyQAAAAAAARcBAAAAAAADYnUAAAAAAAGrIQAAAAAAAsK1AAAAAAAAUzkAAAAAAANzuQA==",
          "dtype": "f8"
         },
         "xaxis": "x",
         "y": {
          "bdata": "ZmZmZmYGUkAAAAAAAGBUQJqZmZmZuVNAzczMzMwsUkAAAAAAAOBRQM3MzMzMrFFAMzMzMzPzT0DNzMzMzAxTQAAAAAAAQFJAmpmZmZnZUkAAAAAAAEBTQGZmZmZmxlJAMzMzMzOzUkAAAAAAAEBTQA==",
          "dtype": "f8"
         },
         "yaxis": "y"
        }
       ],
       "layout": {
        "legend": {
         "itemsizing": "constant",
         "title": {
          "text": "Continent"
         },
         "tracegroupgap": 0
        },
        "margin": {
         "t": 60
        },
        "template": {
         "data": {
          "bar": [
           {
            "error_x": {
             "color": "#2a3f5f"
            },
            "error_y": {
             "color": "#2a3f5f"
            },
            "marker": {
             "line": {
              "color": "#E5ECF6",
              "width": 0.5
             },
             "pattern": {
              "fillmode": "overlay",
              "size": 10,
              "solidity": 0.2
             }
            },
            "type": "bar"
           }
          ],
          "barpolar": [
           {
            "marker": {
             "line": {
              "color": "#E5ECF6",
              "width": 0.5
             },
             "pattern": {
              "fillmode": "overlay",
              "size": 10,
              "solidity": 0.2
             }
            },
            "type": "barpolar"
           }
          ],
          "carpet": [
           {
            "aaxis": {
             "endlinecolor": "#2a3f5f",
             "gridcolor": "white",
             "linecolor": "white",
             "minorgridcolor": "white",
             "startlinecolor": "#2a3f5f"
            },
            "baxis": {
             "endlinecolor": "#2a3f5f",
             "gridcolor": "white",
             "linecolor": "white",
             "minorgridcolor": "white",
             "startlinecolor": "#2a3f5f"
            },
            "type": "carpet"
           }
          ],
          "choropleth": [
           {
            "colorbar": {
             "outlinewidth": 0,
             "ticks": ""
            },
            "type": "choropleth"
           }
          ],
          "contour": [
           {
            "colorbar": {
             "outlinewidth": 0,
             "ticks": ""
            },
            "colorscale": [
             [
              0,
              "#0d0887"
             ],
             [
              0.1111111111111111,
              "#46039f"
             ],
             [
              0.2222222222222222,
              "#7201a8"
             ],
             [
              0.3333333333333333,
              "#9c179e"
             ],
             [
              0.4444444444444444,
              "#bd3786"
             ],
             [
              0.5555555555555556,
              "#d8576b"
             ],
             [
              0.6666666666666666,
              "#ed7953"
             ],
             [
              0.7777777777777778,
              "#fb9f3a"
             ],
             [
              0.8888888888888888,
              "#fdca26"
             ],
             [
              1,
              "#f0f921"
             ]
            ],
            "type": "contour"
           }
          ],
          "contourcarpet": [
           {
            "colorbar": {
             "outlinewidth": 0,
             "ticks": ""
            },
            "type": "contourcarpet"
           }
          ],
          "heatmap": [
           {
            "colorbar": {
             "outlinewidth": 0,
             "ticks": ""
            },
            "colorscale": [
             [
              0,
              "#0d0887"
             ],
             [
              0.1111111111111111,
              "#46039f"
             ],
             [
              0.2222222222222222,
              "#7201a8"
             ],
             [
              0.3333333333333333,
              "#9c179e"
             ],
             [
              0.4444444444444444,
              "#bd3786"
             ],
             [
              0.5555555555555556,
              "#d8576b"
             ],
             [
              0.6666666666666666,
              "#ed7953"
             ],
             [
              0.7777777777777778,
              "#fb9f3a"
             ],
             [
              0.8888888888888888,
              "#fdca26"
             ],
             [
              1,
              "#f0f921"
             ]
            ],
            "type": "heatmap"
           }
          ],
          "histogram": [
           {
            "marker": {
             "pattern": {
              "fillmode": "overlay",
              "size": 10,
              "solidity": 0.2
             }
            },
            "type": "histogram"
           }
          ],
          "histogram2d": [
           {
            "colorbar": {
             "outlinewidth": 0,
             "ticks": ""
            },
            "colorscale": [
             [
              0,
              "#0d0887"
             ],
             [
              0.1111111111111111,
              "#46039f"
             ],
             [
              0.2222222222222222,
              "#7201a8"
             ],
             [
              0.3333333333333333,
              "#9c179e"
             ],
             [
              0.4444444444444444,
              "#bd3786"
             ],
             [
              0.5555555555555556,
              "#d8576b"
             ],
             [
              0.6666666666666666,
              "#ed7953"
             ],
             [
              0.7777777777777778,
              "#fb9f3a"
             ],
             [
              0.8888888888888888,
              "#fdca26"
             ],
             [
              1,
              "#f0f921"
             ]
            ],
            "type": "histogram2d"
           }
          ],
          "histogram2dcontour": [
           {
            "colorbar": {
             "outlinewidth": 0,
             "ticks": ""
            },
            "colorscale": [
             [
              0,
              "#0d0887"
             ],
             [
              0.1111111111111111,
              "#46039f"
             ],
             [
              0.2222222222222222,
              "#7201a8"
             ],
             [
              0.3333333333333333,
              "#9c179e"
             ],
             [
              0.4444444444444444,
              "#bd3786"
             ],
             [
              0.5555555555555556,
              "#d8576b"
             ],
             [
              0.6666666666666666,
              "#ed7953"
             ],
             [
              0.7777777777777778,
              "#fb9f3a"
             ],
             [
              0.8888888888888888,
              "#fdca26"
             ],
             [
              1,
              "#f0f921"
             ]
            ],
            "type": "histogram2dcontour"
           }
          ],
          "mesh3d": [
           {
            "colorbar": {
             "outlinewidth": 0,
             "ticks": ""
            },
            "type": "mesh3d"
           }
          ],
          "parcoords": [
           {
            "line": {
             "colorbar": {
              "outlinewidth": 0,
              "ticks": ""
             }
            },
            "type": "parcoords"
           }
          ],
          "pie": [
           {
            "automargin": true,
            "type": "pie"
           }
          ],
          "scatter": [
           {
            "fillpattern": {
             "fillmode": "overlay",
             "size": 10,
             "solidity": 0.2
            },
            "type": "scatter"
           }
          ],
          "scatter3d": [
           {
            "line": {
             "colorbar": {
              "outlinewidth": 0,
              "ticks": ""
             }
            },
            "marker": {
             "colorbar": {
              "outlinewidth": 0,
              "ticks": ""
             }
            },
            "type": "scatter3d"
           }
          ],
          "scattercarpet": [
           {
            "marker": {
             "colorbar": {
              "outlinewidth": 0,
              "ticks": ""
             }
            },
            "type": "scattercarpet"
           }
          ],
          "scattergeo": [
           {
            "marker": {
             "colorbar": {
              "outlinewidth": 0,
              "ticks": ""
             }
            },
            "type": "scattergeo"
           }
          ],
          "scattergl": [
           {
            "marker": {
             "colorbar": {
              "outlinewidth": 0,
              "ticks": ""
             }
            },
            "type": "scattergl"
           }
          ],
          "scattermap": [
           {
            "marker": {
             "colorbar": {
              "outlinewidth": 0,
              "ticks": ""
             }
            },
            "type": "scattermap"
           }
          ],
          "scattermapbox": [
           {
            "marker": {
             "colorbar": {
              "outlinewidth": 0,
              "ticks": ""
             }
            },
            "type": "scattermapbox"
           }
          ],
          "scatterpolar": [
           {
            "marker": {
             "colorbar": {
              "outlinewidth": 0,
              "ticks": ""
             }
            },
            "type": "scatterpolar"
           }
          ],
          "scatterpolargl": [
           {
            "marker": {
             "colorbar": {
              "outlinewidth": 0,
              "ticks": ""
             }
            },
            "type": "scatterpolargl"
           }
          ],
          "scatterternary": [
           {
            "marker": {
             "colorbar": {
              "outlinewidth": 0,
              "ticks": ""
             }
            },
            "type": "scatterternary"
           }
          ],
          "surface": [
           {
            "colorbar": {
             "outlinewidth": 0,
             "ticks": ""
            },
            "colorscale": [
             [
              0,
              "#0d0887"
             ],
             [
              0.1111111111111111,
              "#46039f"
             ],
             [
              0.2222222222222222,
              "#7201a8"
             ],
             [
              0.3333333333333333,
              "#9c179e"
             ],
             [
              0.4444444444444444,
              "#bd3786"
             ],
             [
              0.5555555555555556,
              "#d8576b"
             ],
             [
              0.6666666666666666,
              "#ed7953"
             ],
             [
              0.7777777777777778,
              "#fb9f3a"
             ],
             [
              0.8888888888888888,
              "#fdca26"
             ],
             [
              1,
              "#f0f921"
             ]
            ],
            "type": "surface"
           }
          ],
          "table": [
           {
            "cells": {
             "fill": {
              "color": "#EBF0F8"
             },
             "line": {
              "color": "white"
             }
            },
            "header": {
             "fill": {
              "color": "#C8D4E3"
             },
             "line": {
              "color": "white"
             }
            },
            "type": "table"
           }
          ]
         },
         "layout": {
          "annotationdefaults": {
           "arrowcolor": "#2a3f5f",
           "arrowhead": 0,
           "arrowwidth": 1
          },
          "autotypenumbers": "strict",
          "coloraxis": {
           "colorbar": {
            "outlinewidth": 0,
            "ticks": ""
           }
          },
          "colorscale": {
           "diverging": [
            [
             0,
             "#8e0152"
            ],
            [
             0.1,
             "#c51b7d"
            ],
            [
             0.2,
             "#de77ae"
            ],
            [
             0.3,
             "#f1b6da"
            ],
            [
             0.4,
             "#fde0ef"
            ],
            [
             0.5,
             "#f7f7f7"
            ],
            [
             0.6,
             "#e6f5d0"
            ],
            [
             0.7,
             "#b8e186"
            ],
            [
             0.8,
             "#7fbc41"
            ],
            [
             0.9,
             "#4d9221"
            ],
            [
             1,
             "#276419"
            ]
           ],
           "sequential": [
            [
             0,
             "#0d0887"
            ],
            [
             0.1111111111111111,
             "#46039f"
            ],
            [
             0.2222222222222222,
             "#7201a8"
            ],
            [
             0.3333333333333333,
             "#9c179e"
            ],
            [
             0.4444444444444444,
             "#bd3786"
            ],
            [
             0.5555555555555556,
             "#d8576b"
            ],
            [
             0.6666666666666666,
             "#ed7953"
            ],
            [
             0.7777777777777778,
             "#fb9f3a"
            ],
            [
             0.8888888888888888,
             "#fdca26"
            ],
            [
             1,
             "#f0f921"
            ]
           ],
           "sequentialminus": [
            [
             0,
             "#0d0887"
            ],
            [
             0.1111111111111111,
             "#46039f"
            ],
            [
             0.2222222222222222,
             "#7201a8"
            ],
            [
             0.3333333333333333,
             "#9c179e"
            ],
            [
             0.4444444444444444,
             "#bd3786"
            ],
            [
             0.5555555555555556,
             "#d8576b"
            ],
            [
             0.6666666666666666,
             "#ed7953"
            ],
            [
             0.7777777777777778,
             "#fb9f3a"
            ],
            [
             0.8888888888888888,
             "#fdca26"
            ],
            [
             1,
             "#f0f921"
            ]
           ]
          },
          "colorway": [
           "#636efa",
           "#EF553B",
           "#00cc96",
           "#ab63fa",
           "#FFA15A",
           "#19d3f3",
           "#FF6692",
           "#B6E880",
           "#FF97FF",
           "#FECB52"
          ],
          "font": {
           "color": "#2a3f5f"
          },
          "geo": {
           "bgcolor": "white",
           "lakecolor": "white",
           "landcolor": "#E5ECF6",
           "showlakes": true,
           "showland": true,
           "subunitcolor": "white"
          },
          "hoverlabel": {
           "align": "left"
          },
          "hovermode": "closest",
          "mapbox": {
           "style": "light"
          },
          "paper_bgcolor": "white",
          "plot_bgcolor": "#E5ECF6",
          "polar": {
           "angularaxis": {
            "gridcolor": "white",
            "linecolor": "white",
            "ticks": ""
           },
           "bgcolor": "#E5ECF6",
           "radialaxis": {
            "gridcolor": "white",
            "linecolor": "white",
            "ticks": ""
           }
          },
          "scene": {
           "xaxis": {
            "backgroundcolor": "#E5ECF6",
            "gridcolor": "white",
            "gridwidth": 2,
            "linecolor": "white",
            "showbackground": true,
            "ticks": "",
            "zerolinecolor": "white"
           },
           "yaxis": {
            "backgroundcolor": "#E5ECF6",
            "gridcolor": "white",
            "gridwidth": 2,
            "linecolor": "white",
            "showbackground": true,
            "ticks": "",
            "zerolinecolor": "white"
           },
           "zaxis": {
            "backgroundcolor": "#E5ECF6",
            "gridcolor": "white",
            "gridwidth": 2,
            "linecolor": "white",
            "showbackground": true,
            "ticks": "",
            "zerolinecolor": "white"
           }
          },
          "shapedefaults": {
           "line": {
            "color": "#2a3f5f"
           }
          },
          "ternary": {
           "aaxis": {
            "gridcolor": "white",
            "linecolor": "white",
            "ticks": ""
           },
           "baxis": {
            "gridcolor": "white",
            "linecolor": "white",
            "ticks": ""
           },
           "bgcolor": "#E5ECF6",
           "caxis": {
            "gridcolor": "white",
            "linecolor": "white",
            "ticks": ""
           }
          },
          "title": {
           "x": 0.05
          },
          "xaxis": {
           "automargin": true,
           "gridcolor": "white",
           "linecolor": "white",
           "ticks": "",
           "title": {
            "standoff": 15
           },
           "zerolinecolor": "white",
           "zerolinewidth": 2
          },
          "yaxis": {
           "automargin": true,
           "gridcolor": "white",
           "linecolor": "white",
           "ticks": "",
           "title": {
            "standoff": 15
           },
           "zerolinecolor": "white",
           "zerolinewidth": 2
          }
         }
        },
        "xaxis": {
         "anchor": "y",
         "domain": [
          0,
          1
         ],
         "title": {
          "text": "GDP per Cap"
         }
        },
        "yaxis": {
         "anchor": "x",
         "domain": [
          0,
          1
         ],
         "title": {
          "text": "Life Expectancy"
         }
        }
       }
      }
     },
     "metadata": {},
     "output_type": "display_data"
    }
   ],
   "source": [
    "px.scatter(gapminder_df.query('Year == 2020'), x='GDP per Cap', y='Life Expectancy', size='Population', color='Continent', hover_name='Country', size_max=40)"
   ]
  },
  {
   "cell_type": "code",
   "execution_count": 13,
   "metadata": {},
   "outputs": [
    {
     "data": {
      "application/vnd.plotly.v1+json": {
       "config": {
        "plotlyServerURL": "https://plot.ly"
       },
       "data": [
        {
         "hovertemplate": "Life Expectancy=%{x}<br>Country=%{y}<br>Year=%{marker.color}<extra></extra>",
         "legendgroup": "",
         "marker": {
          "color": {
           "bdata": "0AfQB9AH0AfQB9AH0AfQB9AH0AfQB9AH0QfRB9EH0QfRB9EH0QfRB9EH0QfRB9EH0QfSB9IH0gfSB9IH0gfSB9IH0gfSB9IH0gfSB9MH0wfTB9MH0wfTB9MH0wfTB9MH0wfTB9MH0wfUB9QH1AfUB9QH1AfUB9QH1AfUB9QH1AfUB9QH1QfVB9UH1QfVB9UH1QfVB9UH1QfVB9UH1QfVB9YH1gfWB9YH1gfWB9YH1gfWB9YH1gfWB9YH1gfXB9cH1wfXB9cH1wfXB9cH1wfXB9cH1wfXB9cH2AfYB9gH2AfYB9gH2AfYB9gH2AfYB9gH2AfYB9kH2QfZB9kH2QfZB9kH2QfZB9kH2QfZB9kH2QfaB9oH2gfaB9oH2gfaB9oH2gfaB9oH2gfaB9oH2wfbB9sH2wfbB9sH2wfbB9sH2wfbB9sH2wfbB9wH3AfcB9wH3AfcB9wH3AfcB9wH3AfcB9wH3AfdB90H3QfdB90H3QfdB90H3QfdB90H3QfdB90H3QfeB94H3gfeB94H3gfeB94H3gfeB94H3gfeB94H3gffB98H3wffB98H3wffB98H3wffB98H3wffB98H3wfgB+AH4AfgB+AH4AfgB+AH4AfgB+AH4AfgB+AH4AfhB+EH4QfhB+EH4QfhB+EH4QfhB+EH4QfhB+EH4QfiB+IH4gfiB+IH4gfiB+IH4gfiB+IH4gfiB+IH4gfjB+MH4wfjB+MH4wfjB+MH4wfjB+MH4wfjB+MH5AfkB+QH5AfkB+QH5AfkB+QH5AfkB+QH5AfkBw==",
           "dtype": "i2"
          },
          "coloraxis": "coloraxis",
          "symbol": "circle"
         },
         "mode": "markers",
         "name": "",
         "orientation": "h",
         "showlegend": false,
         "type": "scatter",
         "x": {
          "bdata": "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",
          "dtype": "f8"
         },
         "xaxis": "x",
         "y": [
          "Belize",
          "Canada",
          "Costa Rica",
          "Dominican Republic",
          "Guatemala",
          "Honduras",
          "Jamaica",
          "Mexico",
          "Nicaragua",
          "Panama",
          "El Salvador",
          "United States",
          "Belize",
          "Canada",
          "Costa Rica",
          "Dominican Republic",
          "Guatemala",
          "Honduras",
          "Jamaica",
          "Mexico",
          "Nicaragua",
          "Panama",
          "El Salvador",
          "Trinidad and Tobago",
          "United States",
          "Belize",
          "Canada",
          "Costa Rica",
          "Dominican Republic",
          "Guatemala",
          "Honduras",
          "Jamaica",
          "Mexico",
          "Nicaragua",
          "Panama",
          "El Salvador",
          "Trinidad and Tobago",
          "United States",
          "Belize",
          "Canada",
          "Costa Rica",
          "Cuba",
          "Dominican Republic",
          "Guatemala",
          "Honduras",
          "Jamaica",
          "Mexico",
          "Nicaragua",
          "Panama",
          "El Salvador",
          "Trinidad and Tobago",
          "United States",
          "Belize",
          "Canada",
          "Costa Rica",
          "Cuba",
          "Dominican Republic",
          "Guatemala",
          "Honduras",
          "Jamaica",
          "Mexico",
          "Nicaragua",
          "Panama",
          "El Salvador",
          "Trinidad and Tobago",
          "United States",
          "Belize",
          "Canada",
          "Costa Rica",
          "Cuba",
          "Dominican Republic",
          "Guatemala",
          "Honduras",
          "Jamaica",
          "Mexico",
          "Nicaragua",
          "Panama",
          "El Salvador",
          "Trinidad and Tobago",
          "United States",
          "Belize",
          "Canada",
          "Costa Rica",
          "Cuba",
          "Dominican Republic",
          "Guatemala",
          "Honduras",
          "Jamaica",
          "Mexico",
          "Nicaragua",
          "Panama",
          "El Salvador",
          "Trinidad and Tobago",
          "United States",
          "Belize",
          "Canada",
          "Costa Rica",
          "Cuba",
          "Dominican Republic",
          "Guatemala",
          "Honduras",
          "Jamaica",
          "Mexico",
          "Nicaragua",
          "Panama",
          "El Salvador",
          "Trinidad and Tobago",
          "United States",
          "Belize",
          "Canada",
          "Costa Rica",
          "Cuba",
          "Dominican Republic",
          "Guatemala",
          "Honduras",
          "Jamaica",
          "Mexico",
          "Nicaragua",
          "Panama",
          "El Salvador",
          "Trinidad and Tobago",
          "United States",
          "Belize",
          "Canada",
          "Costa Rica",
          "Cuba",
          "Dominican Republic",
          "Guatemala",
          "Honduras",
          "Jamaica",
          "Mexico",
          "Nicaragua",
          "Panama",
          "El Salvador",
          "Trinidad and Tobago",
          "United States",
          "Belize",
          "Canada",
          "Costa Rica",
          "Cuba",
          "Dominican Republic",
          "Guatemala",
          "Honduras",
          "Jamaica",
          "Mexico",
          "Nicaragua",
          "Panama",
          "El Salvador",
          "Trinidad and Tobago",
          "United States",
          "Belize",
          "Canada",
          "Costa Rica",
          "Cuba",
          "Dominican Republic",
          "Guatemala",
          "Honduras",
          "Jamaica",
          "Mexico",
          "Nicaragua",
          "Panama",
          "El Salvador",
          "Trinidad and Tobago",
          "United States",
          "Belize",
          "Canada",
          "Costa Rica",
          "Cuba",
          "Dominican Republic",
          "Guatemala",
          "Honduras",
          "Jamaica",
          "Mexico",
          "Nicaragua",
          "Panama",
          "El Salvador",
          "Trinidad and Tobago",
          "United States",
          "Belize",
          "Canada",
          "Costa Rica",
          "Cuba",
          "Dominican Republic",
          "Guatemala",
          "Honduras",
          "Haiti",
          "Jamaica",
          "Mexico",
          "Nicaragua",
          "Panama",
          "El Salvador",
          "Trinidad and Tobago",
          "United States",
          "Belize",
          "Canada",
          "Costa Rica",
          "Cuba",
          "Dominican Republic",
          "Guatemala",
          "Honduras",
          "Haiti",
          "Jamaica",
          "Mexico",
          "Nicaragua",
          "Panama",
          "El Salvador",
          "Trinidad and Tobago",
          "United States",
          "Belize",
          "Canada",
          "Costa Rica",
          "Cuba",
          "Dominican Republic",
          "Guatemala",
          "Honduras",
          "Haiti",
          "Jamaica",
          "Mexico",
          "Nicaragua",
          "Panama",
          "El Salvador",
          "Trinidad and Tobago",
          "United States",
          "Belize",
          "Canada",
          "Costa Rica",
          "Cuba",
          "Dominican Republic",
          "Guatemala",
          "Honduras",
          "Haiti",
          "Jamaica",
          "Mexico",
          "Nicaragua",
          "Panama",
          "El Salvador",
          "Trinidad and Tobago",
          "United States",
          "Belize",
          "Canada",
          "Costa Rica",
          "Cuba",
          "Dominican Republic",
          "Guatemala",
          "Honduras",
          "Haiti",
          "Jamaica",
          "Mexico",
          "Nicaragua",
          "Panama",
          "El Salvador",
          "Trinidad and Tobago",
          "United States",
          "Belize",
          "Canada",
          "Costa Rica",
          "Cuba",
          "Dominican Republic",
          "Guatemala",
          "Honduras",
          "Haiti",
          "Jamaica",
          "Mexico",
          "Nicaragua",
          "Panama",
          "El Salvador",
          "Trinidad and Tobago",
          "United States",
          "Belize",
          "Canada",
          "Costa Rica",
          "Dominican Republic",
          "Guatemala",
          "Honduras",
          "Haiti",
          "Jamaica",
          "Mexico",
          "Nicaragua",
          "Panama",
          "El Salvador",
          "Trinidad and Tobago",
          "United States",
          "Belize",
          "Canada",
          "Costa Rica",
          "Dominican Republic",
          "Guatemala",
          "Honduras",
          "Haiti",
          "Jamaica",
          "Mexico",
          "Nicaragua",
          "Panama",
          "El Salvador",
          "Trinidad and Tobago",
          "United States"
         ],
         "yaxis": "y"
        }
       ],
       "layout": {
        "coloraxis": {
         "colorbar": {
          "title": {
           "text": "Year"
          }
         },
         "colorscale": [
          [
           0,
           "#0d0887"
          ],
          [
           0.1111111111111111,
           "#46039f"
          ],
          [
           0.2222222222222222,
           "#7201a8"
          ],
          [
           0.3333333333333333,
           "#9c179e"
          ],
          [
           0.4444444444444444,
           "#bd3786"
          ],
          [
           0.5555555555555556,
           "#d8576b"
          ],
          [
           0.6666666666666666,
           "#ed7953"
          ],
          [
           0.7777777777777778,
           "#fb9f3a"
          ],
          [
           0.8888888888888888,
           "#fdca26"
          ],
          [
           1,
           "#f0f921"
          ]
         ]
        },
        "legend": {
         "tracegroupgap": 0
        },
        "margin": {
         "t": 60
        },
        "template": {
         "data": {
          "bar": [
           {
            "error_x": {
             "color": "#2a3f5f"
            },
            "error_y": {
             "color": "#2a3f5f"
            },
            "marker": {
             "line": {
              "color": "#E5ECF6",
              "width": 0.5
             },
             "pattern": {
              "fillmode": "overlay",
              "size": 10,
              "solidity": 0.2
             }
            },
            "type": "bar"
           }
          ],
          "barpolar": [
           {
            "marker": {
             "line": {
              "color": "#E5ECF6",
              "width": 0.5
             },
             "pattern": {
              "fillmode": "overlay",
              "size": 10,
              "solidity": 0.2
             }
            },
            "type": "barpolar"
           }
          ],
          "carpet": [
           {
            "aaxis": {
             "endlinecolor": "#2a3f5f",
             "gridcolor": "white",
             "linecolor": "white",
             "minorgridcolor": "white",
             "startlinecolor": "#2a3f5f"
            },
            "baxis": {
             "endlinecolor": "#2a3f5f",
             "gridcolor": "white",
             "linecolor": "white",
             "minorgridcolor": "white",
             "startlinecolor": "#2a3f5f"
            },
            "type": "carpet"
           }
          ],
          "choropleth": [
           {
            "colorbar": {
             "outlinewidth": 0,
             "ticks": ""
            },
            "type": "choropleth"
           }
          ],
          "contour": [
           {
            "colorbar": {
             "outlinewidth": 0,
             "ticks": ""
            },
            "colorscale": [
             [
              0,
              "#0d0887"
             ],
             [
              0.1111111111111111,
              "#46039f"
             ],
             [
              0.2222222222222222,
              "#7201a8"
             ],
             [
              0.3333333333333333,
              "#9c179e"
             ],
             [
              0.4444444444444444,
              "#bd3786"
             ],
             [
              0.5555555555555556,
              "#d8576b"
             ],
             [
              0.6666666666666666,
              "#ed7953"
             ],
             [
              0.7777777777777778,
              "#fb9f3a"
             ],
             [
              0.8888888888888888,
              "#fdca26"
             ],
             [
              1,
              "#f0f921"
             ]
            ],
            "type": "contour"
           }
          ],
          "contourcarpet": [
           {
            "colorbar": {
             "outlinewidth": 0,
             "ticks": ""
            },
            "type": "contourcarpet"
           }
          ],
          "heatmap": [
           {
            "colorbar": {
             "outlinewidth": 0,
             "ticks": ""
            },
            "colorscale": [
             [
              0,
              "#0d0887"
             ],
             [
              0.1111111111111111,
              "#46039f"
             ],
             [
              0.2222222222222222,
              "#7201a8"
             ],
             [
              0.3333333333333333,
              "#9c179e"
             ],
             [
              0.4444444444444444,
              "#bd3786"
             ],
             [
              0.5555555555555556,
              "#d8576b"
             ],
             [
              0.6666666666666666,
              "#ed7953"
             ],
             [
              0.7777777777777778,
              "#fb9f3a"
             ],
             [
              0.8888888888888888,
              "#fdca26"
             ],
             [
              1,
              "#f0f921"
             ]
            ],
            "type": "heatmap"
           }
          ],
          "histogram": [
           {
            "marker": {
             "pattern": {
              "fillmode": "overlay",
              "size": 10,
              "solidity": 0.2
             }
            },
            "type": "histogram"
           }
          ],
          "histogram2d": [
           {
            "colorbar": {
             "outlinewidth": 0,
             "ticks": ""
            },
            "colorscale": [
             [
              0,
              "#0d0887"
             ],
             [
              0.1111111111111111,
              "#46039f"
             ],
             [
              0.2222222222222222,
              "#7201a8"
             ],
             [
              0.3333333333333333,
              "#9c179e"
             ],
             [
              0.4444444444444444,
              "#bd3786"
             ],
             [
              0.5555555555555556,
              "#d8576b"
             ],
             [
              0.6666666666666666,
              "#ed7953"
             ],
             [
              0.7777777777777778,
              "#fb9f3a"
             ],
             [
              0.8888888888888888,
              "#fdca26"
             ],
             [
              1,
              "#f0f921"
             ]
            ],
            "type": "histogram2d"
           }
          ],
          "histogram2dcontour": [
           {
            "colorbar": {
             "outlinewidth": 0,
             "ticks": ""
            },
            "colorscale": [
             [
              0,
              "#0d0887"
             ],
             [
              0.1111111111111111,
              "#46039f"
             ],
             [
              0.2222222222222222,
              "#7201a8"
             ],
             [
              0.3333333333333333,
              "#9c179e"
             ],
             [
              0.4444444444444444,
              "#bd3786"
             ],
             [
              0.5555555555555556,
              "#d8576b"
             ],
             [
              0.6666666666666666,
              "#ed7953"
             ],
             [
              0.7777777777777778,
              "#fb9f3a"
             ],
             [
              0.8888888888888888,
              "#fdca26"
             ],
             [
              1,
              "#f0f921"
             ]
            ],
            "type": "histogram2dcontour"
           }
          ],
          "mesh3d": [
           {
            "colorbar": {
             "outlinewidth": 0,
             "ticks": ""
            },
            "type": "mesh3d"
           }
          ],
          "parcoords": [
           {
            "line": {
             "colorbar": {
              "outlinewidth": 0,
              "ticks": ""
             }
            },
            "type": "parcoords"
           }
          ],
          "pie": [
           {
            "automargin": true,
            "type": "pie"
           }
          ],
          "scatter": [
           {
            "fillpattern": {
             "fillmode": "overlay",
             "size": 10,
             "solidity": 0.2
            },
            "type": "scatter"
           }
          ],
          "scatter3d": [
           {
            "line": {
             "colorbar": {
              "outlinewidth": 0,
              "ticks": ""
             }
            },
            "marker": {
             "colorbar": {
              "outlinewidth": 0,
              "ticks": ""
             }
            },
            "type": "scatter3d"
           }
          ],
          "scattercarpet": [
           {
            "marker": {
             "colorbar": {
              "outlinewidth": 0,
              "ticks": ""
             }
            },
            "type": "scattercarpet"
           }
          ],
          "scattergeo": [
           {
            "marker": {
             "colorbar": {
              "outlinewidth": 0,
              "ticks": ""
             }
            },
            "type": "scattergeo"
           }
          ],
          "scattergl": [
           {
            "marker": {
             "colorbar": {
              "outlinewidth": 0,
              "ticks": ""
             }
            },
            "type": "scattergl"
           }
          ],
          "scattermap": [
           {
            "marker": {
             "colorbar": {
              "outlinewidth": 0,
              "ticks": ""
             }
            },
            "type": "scattermap"
           }
          ],
          "scattermapbox": [
           {
            "marker": {
             "colorbar": {
              "outlinewidth": 0,
              "ticks": ""
             }
            },
            "type": "scattermapbox"
           }
          ],
          "scatterpolar": [
           {
            "marker": {
             "colorbar": {
              "outlinewidth": 0,
              "ticks": ""
             }
            },
            "type": "scatterpolar"
           }
          ],
          "scatterpolargl": [
           {
            "marker": {
             "colorbar": {
              "outlinewidth": 0,
              "ticks": ""
             }
            },
            "type": "scatterpolargl"
           }
          ],
          "scatterternary": [
           {
            "marker": {
             "colorbar": {
              "outlinewidth": 0,
              "ticks": ""
             }
            },
            "type": "scatterternary"
           }
          ],
          "surface": [
           {
            "colorbar": {
             "outlinewidth": 0,
             "ticks": ""
            },
            "colorscale": [
             [
              0,
              "#0d0887"
             ],
             [
              0.1111111111111111,
              "#46039f"
             ],
             [
              0.2222222222222222,
              "#7201a8"
             ],
             [
              0.3333333333333333,
              "#9c179e"
             ],
             [
              0.4444444444444444,
              "#bd3786"
             ],
             [
              0.5555555555555556,
              "#d8576b"
             ],
             [
              0.6666666666666666,
              "#ed7953"
             ],
             [
              0.7777777777777778,
              "#fb9f3a"
             ],
             [
              0.8888888888888888,
              "#fdca26"
             ],
             [
              1,
              "#f0f921"
             ]
            ],
            "type": "surface"
           }
          ],
          "table": [
           {
            "cells": {
             "fill": {
              "color": "#EBF0F8"
             },
             "line": {
              "color": "white"
             }
            },
            "header": {
             "fill": {
              "color": "#C8D4E3"
             },
             "line": {
              "color": "white"
             }
            },
            "type": "table"
           }
          ]
         },
         "layout": {
          "annotationdefaults": {
           "arrowcolor": "#2a3f5f",
           "arrowhead": 0,
           "arrowwidth": 1
          },
          "autotypenumbers": "strict",
          "coloraxis": {
           "colorbar": {
            "outlinewidth": 0,
            "ticks": ""
           }
          },
          "colorscale": {
           "diverging": [
            [
             0,
             "#8e0152"
            ],
            [
             0.1,
             "#c51b7d"
            ],
            [
             0.2,
             "#de77ae"
            ],
            [
             0.3,
             "#f1b6da"
            ],
            [
             0.4,
             "#fde0ef"
            ],
            [
             0.5,
             "#f7f7f7"
            ],
            [
             0.6,
             "#e6f5d0"
            ],
            [
             0.7,
             "#b8e186"
            ],
            [
             0.8,
             "#7fbc41"
            ],
            [
             0.9,
             "#4d9221"
            ],
            [
             1,
             "#276419"
            ]
           ],
           "sequential": [
            [
             0,
             "#0d0887"
            ],
            [
             0.1111111111111111,
             "#46039f"
            ],
            [
             0.2222222222222222,
             "#7201a8"
            ],
            [
             0.3333333333333333,
             "#9c179e"
            ],
            [
             0.4444444444444444,
             "#bd3786"
            ],
            [
             0.5555555555555556,
             "#d8576b"
            ],
            [
             0.6666666666666666,
             "#ed7953"
            ],
            [
             0.7777777777777778,
             "#fb9f3a"
            ],
            [
             0.8888888888888888,
             "#fdca26"
            ],
            [
             1,
             "#f0f921"
            ]
           ],
           "sequentialminus": [
            [
             0,
             "#0d0887"
            ],
            [
             0.1111111111111111,
             "#46039f"
            ],
            [
             0.2222222222222222,
             "#7201a8"
            ],
            [
             0.3333333333333333,
             "#9c179e"
            ],
            [
             0.4444444444444444,
             "#bd3786"
            ],
            [
             0.5555555555555556,
             "#d8576b"
            ],
            [
             0.6666666666666666,
             "#ed7953"
            ],
            [
             0.7777777777777778,
             "#fb9f3a"
            ],
            [
             0.8888888888888888,
             "#fdca26"
            ],
            [
             1,
             "#f0f921"
            ]
           ]
          },
          "colorway": [
           "#636efa",
           "#EF553B",
           "#00cc96",
           "#ab63fa",
           "#FFA15A",
           "#19d3f3",
           "#FF6692",
           "#B6E880",
           "#FF97FF",
           "#FECB52"
          ],
          "font": {
           "color": "#2a3f5f"
          },
          "geo": {
           "bgcolor": "white",
           "lakecolor": "white",
           "landcolor": "#E5ECF6",
           "showlakes": true,
           "showland": true,
           "subunitcolor": "white"
          },
          "hoverlabel": {
           "align": "left"
          },
          "hovermode": "closest",
          "mapbox": {
           "style": "light"
          },
          "paper_bgcolor": "white",
          "plot_bgcolor": "#E5ECF6",
          "polar": {
           "angularaxis": {
            "gridcolor": "white",
            "linecolor": "white",
            "ticks": ""
           },
           "bgcolor": "#E5ECF6",
           "radialaxis": {
            "gridcolor": "white",
            "linecolor": "white",
            "ticks": ""
           }
          },
          "scene": {
           "xaxis": {
            "backgroundcolor": "#E5ECF6",
            "gridcolor": "white",
            "gridwidth": 2,
            "linecolor": "white",
            "showbackground": true,
            "ticks": "",
            "zerolinecolor": "white"
           },
           "yaxis": {
            "backgroundcolor": "#E5ECF6",
            "gridcolor": "white",
            "gridwidth": 2,
            "linecolor": "white",
            "showbackground": true,
            "ticks": "",
            "zerolinecolor": "white"
           },
           "zaxis": {
            "backgroundcolor": "#E5ECF6",
            "gridcolor": "white",
            "gridwidth": 2,
            "linecolor": "white",
            "showbackground": true,
            "ticks": "",
            "zerolinecolor": "white"
           }
          },
          "shapedefaults": {
           "line": {
            "color": "#2a3f5f"
           }
          },
          "ternary": {
           "aaxis": {
            "gridcolor": "white",
            "linecolor": "white",
            "ticks": ""
           },
           "baxis": {
            "gridcolor": "white",
            "linecolor": "white",
            "ticks": ""
           },
           "bgcolor": "#E5ECF6",
           "caxis": {
            "gridcolor": "white",
            "linecolor": "white",
            "ticks": ""
           }
          },
          "title": {
           "x": 0.05
          },
          "xaxis": {
           "automargin": true,
           "gridcolor": "white",
           "linecolor": "white",
           "ticks": "",
           "title": {
            "standoff": 15
           },
           "zerolinecolor": "white",
           "zerolinewidth": 2
          },
          "yaxis": {
           "automargin": true,
           "gridcolor": "white",
           "linecolor": "white",
           "ticks": "",
           "title": {
            "standoff": 15
           },
           "zerolinecolor": "white",
           "zerolinewidth": 2
          }
         }
        },
        "xaxis": {
         "anchor": "y",
         "domain": [
          0,
          1
         ],
         "title": {
          "text": "Life Expectancy"
         }
        },
        "yaxis": {
         "anchor": "x",
         "domain": [
          0,
          1
         ],
         "title": {
          "text": "Country"
         }
        }
       }
      }
     },
     "metadata": {},
     "output_type": "display_data"
    }
   ],
   "source": [
    "temp = gapminder_df.query('Continent == \"North America\" & Year >= 2000')\n",
    "\n",
    "px.scatter(temp, x='Life Expectancy', y='Country', color='Year')"
   ]
  },
  {
   "cell_type": "code",
   "execution_count": 14,
   "metadata": {},
   "outputs": [
    {
     "data": {
      "text/html": [
       "<div>\n",
       "<style scoped>\n",
       "    .dataframe tbody tr th:only-of-type {\n",
       "        vertical-align: middle;\n",
       "    }\n",
       "\n",
       "    .dataframe tbody tr th {\n",
       "        vertical-align: top;\n",
       "    }\n",
       "\n",
       "    .dataframe thead th {\n",
       "        text-align: right;\n",
       "    }\n",
       "</style>\n",
       "<table border=\"1\" class=\"dataframe\">\n",
       "  <thead>\n",
       "    <tr style=\"text-align: right;\">\n",
       "      <th></th>\n",
       "      <th>video_id</th>\n",
       "      <th>trending_date</th>\n",
       "      <th>title</th>\n",
       "      <th>channel_title</th>\n",
       "      <th>category_id</th>\n",
       "      <th>publish_time</th>\n",
       "      <th>tags</th>\n",
       "      <th>views</th>\n",
       "      <th>likes</th>\n",
       "      <th>dislikes</th>\n",
       "      <th>comment_count</th>\n",
       "      <th>thumbnail_link</th>\n",
       "      <th>comments_disabled</th>\n",
       "      <th>ratings_disabled</th>\n",
       "      <th>video_error_or_removed</th>\n",
       "      <th>description</th>\n",
       "    </tr>\n",
       "  </thead>\n",
       "  <tbody>\n",
       "    <tr>\n",
       "      <th>0</th>\n",
       "      <td>2kyS6SvSYSE</td>\n",
       "      <td>17.14.11</td>\n",
       "      <td>WE WANT TO TALK ABOUT OUR MARRIAGE</td>\n",
       "      <td>CaseyNeistat</td>\n",
       "      <td>22</td>\n",
       "      <td>2017-11-13T17:13:01.000Z</td>\n",
       "      <td>SHANtell martin</td>\n",
       "      <td>748374</td>\n",
       "      <td>57527</td>\n",
       "      <td>2966</td>\n",
       "      <td>15954</td>\n",
       "      <td>https://i.ytimg.com/vi/2kyS6SvSYSE/default.jpg</td>\n",
       "      <td>False</td>\n",
       "      <td>False</td>\n",
       "      <td>False</td>\n",
       "      <td>SHANTELL'S CHANNEL - https://www.youtube.com/s...</td>\n",
       "    </tr>\n",
       "    <tr>\n",
       "      <th>1</th>\n",
       "      <td>1ZAPwfrtAFY</td>\n",
       "      <td>17.14.11</td>\n",
       "      <td>The Trump Presidency: Last Week Tonight with J...</td>\n",
       "      <td>LastWeekTonight</td>\n",
       "      <td>24</td>\n",
       "      <td>2017-11-13T07:30:00.000Z</td>\n",
       "      <td>last week tonight trump presidency|\"last week ...</td>\n",
       "      <td>2418783</td>\n",
       "      <td>97185</td>\n",
       "      <td>6146</td>\n",
       "      <td>12703</td>\n",
       "      <td>https://i.ytimg.com/vi/1ZAPwfrtAFY/default.jpg</td>\n",
       "      <td>False</td>\n",
       "      <td>False</td>\n",
       "      <td>False</td>\n",
       "      <td>One year after the presidential election, John...</td>\n",
       "    </tr>\n",
       "    <tr>\n",
       "      <th>2</th>\n",
       "      <td>5qpjK5DgCt4</td>\n",
       "      <td>17.14.11</td>\n",
       "      <td>Racist Superman | Rudy Mancuso, King Bach &amp; Le...</td>\n",
       "      <td>Rudy Mancuso</td>\n",
       "      <td>23</td>\n",
       "      <td>2017-11-12T19:05:24.000Z</td>\n",
       "      <td>racist superman|\"rudy\"|\"mancuso\"|\"king\"|\"bach\"...</td>\n",
       "      <td>3191434</td>\n",
       "      <td>146033</td>\n",
       "      <td>5339</td>\n",
       "      <td>8181</td>\n",
       "      <td>https://i.ytimg.com/vi/5qpjK5DgCt4/default.jpg</td>\n",
       "      <td>False</td>\n",
       "      <td>False</td>\n",
       "      <td>False</td>\n",
       "      <td>WATCH MY PREVIOUS VIDEO ▶ \\n\\nSUBSCRIBE ► http...</td>\n",
       "    </tr>\n",
       "    <tr>\n",
       "      <th>3</th>\n",
       "      <td>puqaWrEC7tY</td>\n",
       "      <td>17.14.11</td>\n",
       "      <td>Nickelback Lyrics: Real or Fake?</td>\n",
       "      <td>Good Mythical Morning</td>\n",
       "      <td>24</td>\n",
       "      <td>2017-11-13T11:00:04.000Z</td>\n",
       "      <td>rhett and link|\"gmm\"|\"good mythical morning\"|\"...</td>\n",
       "      <td>343168</td>\n",
       "      <td>10172</td>\n",
       "      <td>666</td>\n",
       "      <td>2146</td>\n",
       "      <td>https://i.ytimg.com/vi/puqaWrEC7tY/default.jpg</td>\n",
       "      <td>False</td>\n",
       "      <td>False</td>\n",
       "      <td>False</td>\n",
       "      <td>Today we find out if Link is a Nickelback amat...</td>\n",
       "    </tr>\n",
       "    <tr>\n",
       "      <th>4</th>\n",
       "      <td>d380meD0W0M</td>\n",
       "      <td>17.14.11</td>\n",
       "      <td>I Dare You: GOING BALD!?</td>\n",
       "      <td>nigahiga</td>\n",
       "      <td>24</td>\n",
       "      <td>2017-11-12T18:01:41.000Z</td>\n",
       "      <td>ryan|\"higa\"|\"higatv\"|\"nigahiga\"|\"i dare you\"|\"...</td>\n",
       "      <td>2095731</td>\n",
       "      <td>132235</td>\n",
       "      <td>1989</td>\n",
       "      <td>17518</td>\n",
       "      <td>https://i.ytimg.com/vi/d380meD0W0M/default.jpg</td>\n",
       "      <td>False</td>\n",
       "      <td>False</td>\n",
       "      <td>False</td>\n",
       "      <td>I know it's been a while since we did this sho...</td>\n",
       "    </tr>\n",
       "    <tr>\n",
       "      <th>...</th>\n",
       "      <td>...</td>\n",
       "      <td>...</td>\n",
       "      <td>...</td>\n",
       "      <td>...</td>\n",
       "      <td>...</td>\n",
       "      <td>...</td>\n",
       "      <td>...</td>\n",
       "      <td>...</td>\n",
       "      <td>...</td>\n",
       "      <td>...</td>\n",
       "      <td>...</td>\n",
       "      <td>...</td>\n",
       "      <td>...</td>\n",
       "      <td>...</td>\n",
       "      <td>...</td>\n",
       "      <td>...</td>\n",
       "    </tr>\n",
       "    <tr>\n",
       "      <th>40944</th>\n",
       "      <td>BZt0qjTWNhw</td>\n",
       "      <td>18.14.06</td>\n",
       "      <td>The Cat Who Caught the Laser</td>\n",
       "      <td>AaronsAnimals</td>\n",
       "      <td>15</td>\n",
       "      <td>2018-05-18T13:00:04.000Z</td>\n",
       "      <td>aarons animals|\"aarons\"|\"animals\"|\"cat\"|\"cats\"...</td>\n",
       "      <td>1685609</td>\n",
       "      <td>38160</td>\n",
       "      <td>1385</td>\n",
       "      <td>2657</td>\n",
       "      <td>https://i.ytimg.com/vi/BZt0qjTWNhw/default.jpg</td>\n",
       "      <td>False</td>\n",
       "      <td>False</td>\n",
       "      <td>False</td>\n",
       "      <td>The Cat Who Caught the Laser - Aaron's Animals</td>\n",
       "    </tr>\n",
       "    <tr>\n",
       "      <th>40945</th>\n",
       "      <td>1h7KV2sjUWY</td>\n",
       "      <td>18.14.06</td>\n",
       "      <td>True Facts : Ant Mutualism</td>\n",
       "      <td>zefrank1</td>\n",
       "      <td>22</td>\n",
       "      <td>2018-05-18T01:00:06.000Z</td>\n",
       "      <td>[none]</td>\n",
       "      <td>1064798</td>\n",
       "      <td>60008</td>\n",
       "      <td>382</td>\n",
       "      <td>3936</td>\n",
       "      <td>https://i.ytimg.com/vi/1h7KV2sjUWY/default.jpg</td>\n",
       "      <td>False</td>\n",
       "      <td>False</td>\n",
       "      <td>False</td>\n",
       "      <td>NaN</td>\n",
       "    </tr>\n",
       "    <tr>\n",
       "      <th>40946</th>\n",
       "      <td>D6Oy4LfoqsU</td>\n",
       "      <td>18.14.06</td>\n",
       "      <td>I GAVE SAFIYA NYGAARD A PERFECT HAIR MAKEOVER ...</td>\n",
       "      <td>Brad Mondo</td>\n",
       "      <td>24</td>\n",
       "      <td>2018-05-18T17:34:22.000Z</td>\n",
       "      <td>I gave safiya nygaard a perfect hair makeover ...</td>\n",
       "      <td>1066451</td>\n",
       "      <td>48068</td>\n",
       "      <td>1032</td>\n",
       "      <td>3992</td>\n",
       "      <td>https://i.ytimg.com/vi/D6Oy4LfoqsU/default.jpg</td>\n",
       "      <td>False</td>\n",
       "      <td>False</td>\n",
       "      <td>False</td>\n",
       "      <td>I had so much fun transforming Safiyas hair in...</td>\n",
       "    </tr>\n",
       "    <tr>\n",
       "      <th>40947</th>\n",
       "      <td>oV0zkMe1K8s</td>\n",
       "      <td>18.14.06</td>\n",
       "      <td>How Black Panther Should Have Ended</td>\n",
       "      <td>How It Should Have Ended</td>\n",
       "      <td>1</td>\n",
       "      <td>2018-05-17T17:00:04.000Z</td>\n",
       "      <td>Black Panther|\"HISHE\"|\"Marvel\"|\"Infinity War\"|...</td>\n",
       "      <td>5660813</td>\n",
       "      <td>192957</td>\n",
       "      <td>2846</td>\n",
       "      <td>13088</td>\n",
       "      <td>https://i.ytimg.com/vi/oV0zkMe1K8s/default.jpg</td>\n",
       "      <td>False</td>\n",
       "      <td>False</td>\n",
       "      <td>False</td>\n",
       "      <td>How Black Panther Should Have EndedWatch More ...</td>\n",
       "    </tr>\n",
       "    <tr>\n",
       "      <th>40948</th>\n",
       "      <td>ooyjaVdt-jA</td>\n",
       "      <td>18.14.06</td>\n",
       "      <td>Official Call of Duty®: Black Ops 4 — Multipla...</td>\n",
       "      <td>Call of Duty</td>\n",
       "      <td>20</td>\n",
       "      <td>2018-05-17T17:09:38.000Z</td>\n",
       "      <td>call of duty|\"cod\"|\"activision\"|\"Black Ops 4\"</td>\n",
       "      <td>10306119</td>\n",
       "      <td>357079</td>\n",
       "      <td>212976</td>\n",
       "      <td>144795</td>\n",
       "      <td>https://i.ytimg.com/vi/ooyjaVdt-jA/default.jpg</td>\n",
       "      <td>False</td>\n",
       "      <td>False</td>\n",
       "      <td>False</td>\n",
       "      <td>Call of Duty: Black Ops 4 Multiplayer raises t...</td>\n",
       "    </tr>\n",
       "  </tbody>\n",
       "</table>\n",
       "<p>40949 rows × 16 columns</p>\n",
       "</div>"
      ],
      "text/plain": [
       "          video_id trending_date  \\\n",
       "0      2kyS6SvSYSE      17.14.11   \n",
       "1      1ZAPwfrtAFY      17.14.11   \n",
       "2      5qpjK5DgCt4      17.14.11   \n",
       "3      puqaWrEC7tY      17.14.11   \n",
       "4      d380meD0W0M      17.14.11   \n",
       "...            ...           ...   \n",
       "40944  BZt0qjTWNhw      18.14.06   \n",
       "40945  1h7KV2sjUWY      18.14.06   \n",
       "40946  D6Oy4LfoqsU      18.14.06   \n",
       "40947  oV0zkMe1K8s      18.14.06   \n",
       "40948  ooyjaVdt-jA      18.14.06   \n",
       "\n",
       "                                                   title  \\\n",
       "0                     WE WANT TO TALK ABOUT OUR MARRIAGE   \n",
       "1      The Trump Presidency: Last Week Tonight with J...   \n",
       "2      Racist Superman | Rudy Mancuso, King Bach & Le...   \n",
       "3                       Nickelback Lyrics: Real or Fake?   \n",
       "4                               I Dare You: GOING BALD!?   \n",
       "...                                                  ...   \n",
       "40944                       The Cat Who Caught the Laser   \n",
       "40945                         True Facts : Ant Mutualism   \n",
       "40946  I GAVE SAFIYA NYGAARD A PERFECT HAIR MAKEOVER ...   \n",
       "40947                How Black Panther Should Have Ended   \n",
       "40948  Official Call of Duty®: Black Ops 4 — Multipla...   \n",
       "\n",
       "                  channel_title  category_id              publish_time  \\\n",
       "0                  CaseyNeistat           22  2017-11-13T17:13:01.000Z   \n",
       "1               LastWeekTonight           24  2017-11-13T07:30:00.000Z   \n",
       "2                  Rudy Mancuso           23  2017-11-12T19:05:24.000Z   \n",
       "3         Good Mythical Morning           24  2017-11-13T11:00:04.000Z   \n",
       "4                      nigahiga           24  2017-11-12T18:01:41.000Z   \n",
       "...                         ...          ...                       ...   \n",
       "40944             AaronsAnimals           15  2018-05-18T13:00:04.000Z   \n",
       "40945                  zefrank1           22  2018-05-18T01:00:06.000Z   \n",
       "40946                Brad Mondo           24  2018-05-18T17:34:22.000Z   \n",
       "40947  How It Should Have Ended            1  2018-05-17T17:00:04.000Z   \n",
       "40948              Call of Duty           20  2018-05-17T17:09:38.000Z   \n",
       "\n",
       "                                                    tags     views   likes  \\\n",
       "0                                        SHANtell martin    748374   57527   \n",
       "1      last week tonight trump presidency|\"last week ...   2418783   97185   \n",
       "2      racist superman|\"rudy\"|\"mancuso\"|\"king\"|\"bach\"...   3191434  146033   \n",
       "3      rhett and link|\"gmm\"|\"good mythical morning\"|\"...    343168   10172   \n",
       "4      ryan|\"higa\"|\"higatv\"|\"nigahiga\"|\"i dare you\"|\"...   2095731  132235   \n",
       "...                                                  ...       ...     ...   \n",
       "40944  aarons animals|\"aarons\"|\"animals\"|\"cat\"|\"cats\"...   1685609   38160   \n",
       "40945                                             [none]   1064798   60008   \n",
       "40946  I gave safiya nygaard a perfect hair makeover ...   1066451   48068   \n",
       "40947  Black Panther|\"HISHE\"|\"Marvel\"|\"Infinity War\"|...   5660813  192957   \n",
       "40948      call of duty|\"cod\"|\"activision\"|\"Black Ops 4\"  10306119  357079   \n",
       "\n",
       "       dislikes  comment_count  \\\n",
       "0          2966          15954   \n",
       "1          6146          12703   \n",
       "2          5339           8181   \n",
       "3           666           2146   \n",
       "4          1989          17518   \n",
       "...         ...            ...   \n",
       "40944      1385           2657   \n",
       "40945       382           3936   \n",
       "40946      1032           3992   \n",
       "40947      2846          13088   \n",
       "40948    212976         144795   \n",
       "\n",
       "                                       thumbnail_link  comments_disabled  \\\n",
       "0      https://i.ytimg.com/vi/2kyS6SvSYSE/default.jpg              False   \n",
       "1      https://i.ytimg.com/vi/1ZAPwfrtAFY/default.jpg              False   \n",
       "2      https://i.ytimg.com/vi/5qpjK5DgCt4/default.jpg              False   \n",
       "3      https://i.ytimg.com/vi/puqaWrEC7tY/default.jpg              False   \n",
       "4      https://i.ytimg.com/vi/d380meD0W0M/default.jpg              False   \n",
       "...                                               ...                ...   \n",
       "40944  https://i.ytimg.com/vi/BZt0qjTWNhw/default.jpg              False   \n",
       "40945  https://i.ytimg.com/vi/1h7KV2sjUWY/default.jpg              False   \n",
       "40946  https://i.ytimg.com/vi/D6Oy4LfoqsU/default.jpg              False   \n",
       "40947  https://i.ytimg.com/vi/oV0zkMe1K8s/default.jpg              False   \n",
       "40948  https://i.ytimg.com/vi/ooyjaVdt-jA/default.jpg              False   \n",
       "\n",
       "       ratings_disabled  video_error_or_removed  \\\n",
       "0                 False                   False   \n",
       "1                 False                   False   \n",
       "2                 False                   False   \n",
       "3                 False                   False   \n",
       "4                 False                   False   \n",
       "...                 ...                     ...   \n",
       "40944             False                   False   \n",
       "40945             False                   False   \n",
       "40946             False                   False   \n",
       "40947             False                   False   \n",
       "40948             False                   False   \n",
       "\n",
       "                                             description  \n",
       "0      SHANTELL'S CHANNEL - https://www.youtube.com/s...  \n",
       "1      One year after the presidential election, John...  \n",
       "2      WATCH MY PREVIOUS VIDEO ▶ \\n\\nSUBSCRIBE ► http...  \n",
       "3      Today we find out if Link is a Nickelback amat...  \n",
       "4      I know it's been a while since we did this sho...  \n",
       "...                                                  ...  \n",
       "40944     The Cat Who Caught the Laser - Aaron's Animals  \n",
       "40945                                                NaN  \n",
       "40946  I had so much fun transforming Safiyas hair in...  \n",
       "40947  How Black Panther Should Have EndedWatch More ...  \n",
       "40948  Call of Duty: Black Ops 4 Multiplayer raises t...  \n",
       "\n",
       "[40949 rows x 16 columns]"
      ]
     },
     "execution_count": 14,
     "metadata": {},
     "output_type": "execute_result"
    }
   ],
   "source": [
    "import pandas as pd\n",
    "import plotly.express as px\n",
    "\n",
    "youtube_df = pd.read_csv('../data/youtube_videos_us.csv')\n",
    "\n",
    "youtube_df\n",
    "\n"
   ]
  },
  {
   "cell_type": "code",
   "execution_count": 15,
   "metadata": {},
   "outputs": [
    {
     "data": {
      "text/html": [
       "<div>\n",
       "<style scoped>\n",
       "    .dataframe tbody tr th:only-of-type {\n",
       "        vertical-align: middle;\n",
       "    }\n",
       "\n",
       "    .dataframe tbody tr th {\n",
       "        vertical-align: top;\n",
       "    }\n",
       "\n",
       "    .dataframe thead th {\n",
       "        text-align: right;\n",
       "    }\n",
       "</style>\n",
       "<table border=\"1\" class=\"dataframe\">\n",
       "  <thead>\n",
       "    <tr style=\"text-align: right;\">\n",
       "      <th></th>\n",
       "      <th>comments_disabled</th>\n",
       "      <th>ratings_disabled</th>\n",
       "      <th>views</th>\n",
       "    </tr>\n",
       "  </thead>\n",
       "  <tbody>\n",
       "    <tr>\n",
       "      <th>0</th>\n",
       "      <td>False</td>\n",
       "      <td>False</td>\n",
       "      <td>2.360486e+06</td>\n",
       "    </tr>\n",
       "    <tr>\n",
       "      <th>1</th>\n",
       "      <td>False</td>\n",
       "      <td>True</td>\n",
       "      <td>9.641913e+05</td>\n",
       "    </tr>\n",
       "    <tr>\n",
       "      <th>2</th>\n",
       "      <td>True</td>\n",
       "      <td>False</td>\n",
       "      <td>1.817993e+06</td>\n",
       "    </tr>\n",
       "    <tr>\n",
       "      <th>3</th>\n",
       "      <td>True</td>\n",
       "      <td>True</td>\n",
       "      <td>6.002661e+06</td>\n",
       "    </tr>\n",
       "  </tbody>\n",
       "</table>\n",
       "</div>"
      ],
      "text/plain": [
       "   comments_disabled  ratings_disabled         views\n",
       "0              False             False  2.360486e+06\n",
       "1              False              True  9.641913e+05\n",
       "2               True             False  1.817993e+06\n",
       "3               True              True  6.002661e+06"
      ]
     },
     "execution_count": 15,
     "metadata": {},
     "output_type": "execute_result"
    }
   ],
   "source": [
    "youtube_group = youtube_df.groupby(['comments_disabled', 'ratings_disabled'], observed=False)[['views']].mean().reset_index()\n",
    "youtube_group.head()"
   ]
  },
  {
   "cell_type": "code",
   "execution_count": 16,
   "metadata": {},
   "outputs": [
    {
     "data": {
      "application/vnd.plotly.v1+json": {
       "config": {
        "plotlyServerURL": "https://plot.ly"
       },
       "data": [
        {
         "hovertemplate": "ratings_disabled=False<br>comments_disabled=%{x}<br>views=%{y}<extra></extra>",
         "legendgroup": "False",
         "marker": {
          "color": "#636efa",
          "pattern": {
           "shape": ""
          }
         },
         "name": "False",
         "orientation": "v",
         "showlegend": true,
         "textposition": "auto",
         "type": "bar",
         "x": [
          false,
          true
         ],
         "xaxis": "x",
         "y": {
          "bdata": "hopHO1MCQkFWwW4kib07QQ==",
          "dtype": "f8"
         },
         "yaxis": "y"
        },
        {
         "hovertemplate": "ratings_disabled=True<br>comments_disabled=%{x}<br>views=%{y}<extra></extra>",
         "legendgroup": "True",
         "marker": {
          "color": "#EF553B",
          "pattern": {
           "shape": ""
          }
         },
         "name": "True",
         "orientation": "v",
         "showlegend": true,
         "textposition": "auto",
         "type": "bar",
         "x": [
          false,
          true
         ],
         "xaxis": "x2",
         "y": {
          "bdata": "iqIoir5sLUFITTBe+eVWQQ==",
          "dtype": "f8"
         },
         "yaxis": "y2"
        }
       ],
       "layout": {
        "annotations": [
         {
          "font": {},
          "showarrow": false,
          "text": "ratings_disabled=False",
          "x": 0.245,
          "xanchor": "center",
          "xref": "paper",
          "y": 1,
          "yanchor": "bottom",
          "yref": "paper"
         },
         {
          "font": {},
          "showarrow": false,
          "text": "ratings_disabled=True",
          "x": 0.755,
          "xanchor": "center",
          "xref": "paper",
          "y": 1,
          "yanchor": "bottom",
          "yref": "paper"
         }
        ],
        "barmode": "relative",
        "legend": {
         "title": {
          "text": "ratings_disabled"
         },
         "tracegroupgap": 0
        },
        "margin": {
         "t": 60
        },
        "template": {
         "data": {
          "bar": [
           {
            "error_x": {
             "color": "#2a3f5f"
            },
            "error_y": {
             "color": "#2a3f5f"
            },
            "marker": {
             "line": {
              "color": "#E5ECF6",
              "width": 0.5
             },
             "pattern": {
              "fillmode": "overlay",
              "size": 10,
              "solidity": 0.2
             }
            },
            "type": "bar"
           }
          ],
          "barpolar": [
           {
            "marker": {
             "line": {
              "color": "#E5ECF6",
              "width": 0.5
             },
             "pattern": {
              "fillmode": "overlay",
              "size": 10,
              "solidity": 0.2
             }
            },
            "type": "barpolar"
           }
          ],
          "carpet": [
           {
            "aaxis": {
             "endlinecolor": "#2a3f5f",
             "gridcolor": "white",
             "linecolor": "white",
             "minorgridcolor": "white",
             "startlinecolor": "#2a3f5f"
            },
            "baxis": {
             "endlinecolor": "#2a3f5f",
             "gridcolor": "white",
             "linecolor": "white",
             "minorgridcolor": "white",
             "startlinecolor": "#2a3f5f"
            },
            "type": "carpet"
           }
          ],
          "choropleth": [
           {
            "colorbar": {
             "outlinewidth": 0,
             "ticks": ""
            },
            "type": "choropleth"
           }
          ],
          "contour": [
           {
            "colorbar": {
             "outlinewidth": 0,
             "ticks": ""
            },
            "colorscale": [
             [
              0,
              "#0d0887"
             ],
             [
              0.1111111111111111,
              "#46039f"
             ],
             [
              0.2222222222222222,
              "#7201a8"
             ],
             [
              0.3333333333333333,
              "#9c179e"
             ],
             [
              0.4444444444444444,
              "#bd3786"
             ],
             [
              0.5555555555555556,
              "#d8576b"
             ],
             [
              0.6666666666666666,
              "#ed7953"
             ],
             [
              0.7777777777777778,
              "#fb9f3a"
             ],
             [
              0.8888888888888888,
              "#fdca26"
             ],
             [
              1,
              "#f0f921"
             ]
            ],
            "type": "contour"
           }
          ],
          "contourcarpet": [
           {
            "colorbar": {
             "outlinewidth": 0,
             "ticks": ""
            },
            "type": "contourcarpet"
           }
          ],
          "heatmap": [
           {
            "colorbar": {
             "outlinewidth": 0,
             "ticks": ""
            },
            "colorscale": [
             [
              0,
              "#0d0887"
             ],
             [
              0.1111111111111111,
              "#46039f"
             ],
             [
              0.2222222222222222,
              "#7201a8"
             ],
             [
              0.3333333333333333,
              "#9c179e"
             ],
             [
              0.4444444444444444,
              "#bd3786"
             ],
             [
              0.5555555555555556,
              "#d8576b"
             ],
             [
              0.6666666666666666,
              "#ed7953"
             ],
             [
              0.7777777777777778,
              "#fb9f3a"
             ],
             [
              0.8888888888888888,
              "#fdca26"
             ],
             [
              1,
              "#f0f921"
             ]
            ],
            "type": "heatmap"
           }
          ],
          "histogram": [
           {
            "marker": {
             "pattern": {
              "fillmode": "overlay",
              "size": 10,
              "solidity": 0.2
             }
            },
            "type": "histogram"
           }
          ],
          "histogram2d": [
           {
            "colorbar": {
             "outlinewidth": 0,
             "ticks": ""
            },
            "colorscale": [
             [
              0,
              "#0d0887"
             ],
             [
              0.1111111111111111,
              "#46039f"
             ],
             [
              0.2222222222222222,
              "#7201a8"
             ],
             [
              0.3333333333333333,
              "#9c179e"
             ],
             [
              0.4444444444444444,
              "#bd3786"
             ],
             [
              0.5555555555555556,
              "#d8576b"
             ],
             [
              0.6666666666666666,
              "#ed7953"
             ],
             [
              0.7777777777777778,
              "#fb9f3a"
             ],
             [
              0.8888888888888888,
              "#fdca26"
             ],
             [
              1,
              "#f0f921"
             ]
            ],
            "type": "histogram2d"
           }
          ],
          "histogram2dcontour": [
           {
            "colorbar": {
             "outlinewidth": 0,
             "ticks": ""
            },
            "colorscale": [
             [
              0,
              "#0d0887"
             ],
             [
              0.1111111111111111,
              "#46039f"
             ],
             [
              0.2222222222222222,
              "#7201a8"
             ],
             [
              0.3333333333333333,
              "#9c179e"
             ],
             [
              0.4444444444444444,
              "#bd3786"
             ],
             [
              0.5555555555555556,
              "#d8576b"
             ],
             [
              0.6666666666666666,
              "#ed7953"
             ],
             [
              0.7777777777777778,
              "#fb9f3a"
             ],
             [
              0.8888888888888888,
              "#fdca26"
             ],
             [
              1,
              "#f0f921"
             ]
            ],
            "type": "histogram2dcontour"
           }
          ],
          "mesh3d": [
           {
            "colorbar": {
             "outlinewidth": 0,
             "ticks": ""
            },
            "type": "mesh3d"
           }
          ],
          "parcoords": [
           {
            "line": {
             "colorbar": {
              "outlinewidth": 0,
              "ticks": ""
             }
            },
            "type": "parcoords"
           }
          ],
          "pie": [
           {
            "automargin": true,
            "type": "pie"
           }
          ],
          "scatter": [
           {
            "fillpattern": {
             "fillmode": "overlay",
             "size": 10,
             "solidity": 0.2
            },
            "type": "scatter"
           }
          ],
          "scatter3d": [
           {
            "line": {
             "colorbar": {
              "outlinewidth": 0,
              "ticks": ""
             }
            },
            "marker": {
             "colorbar": {
              "outlinewidth": 0,
              "ticks": ""
             }
            },
            "type": "scatter3d"
           }
          ],
          "scattercarpet": [
           {
            "marker": {
             "colorbar": {
              "outlinewidth": 0,
              "ticks": ""
             }
            },
            "type": "scattercarpet"
           }
          ],
          "scattergeo": [
           {
            "marker": {
             "colorbar": {
              "outlinewidth": 0,
              "ticks": ""
             }
            },
            "type": "scattergeo"
           }
          ],
          "scattergl": [
           {
            "marker": {
             "colorbar": {
              "outlinewidth": 0,
              "ticks": ""
             }
            },
            "type": "scattergl"
           }
          ],
          "scattermap": [
           {
            "marker": {
             "colorbar": {
              "outlinewidth": 0,
              "ticks": ""
             }
            },
            "type": "scattermap"
           }
          ],
          "scattermapbox": [
           {
            "marker": {
             "colorbar": {
              "outlinewidth": 0,
              "ticks": ""
             }
            },
            "type": "scattermapbox"
           }
          ],
          "scatterpolar": [
           {
            "marker": {
             "colorbar": {
              "outlinewidth": 0,
              "ticks": ""
             }
            },
            "type": "scatterpolar"
           }
          ],
          "scatterpolargl": [
           {
            "marker": {
             "colorbar": {
              "outlinewidth": 0,
              "ticks": ""
             }
            },
            "type": "scatterpolargl"
           }
          ],
          "scatterternary": [
           {
            "marker": {
             "colorbar": {
              "outlinewidth": 0,
              "ticks": ""
             }
            },
            "type": "scatterternary"
           }
          ],
          "surface": [
           {
            "colorbar": {
             "outlinewidth": 0,
             "ticks": ""
            },
            "colorscale": [
             [
              0,
              "#0d0887"
             ],
             [
              0.1111111111111111,
              "#46039f"
             ],
             [
              0.2222222222222222,
              "#7201a8"
             ],
             [
              0.3333333333333333,
              "#9c179e"
             ],
             [
              0.4444444444444444,
              "#bd3786"
             ],
             [
              0.5555555555555556,
              "#d8576b"
             ],
             [
              0.6666666666666666,
              "#ed7953"
             ],
             [
              0.7777777777777778,
              "#fb9f3a"
             ],
             [
              0.8888888888888888,
              "#fdca26"
             ],
             [
              1,
              "#f0f921"
             ]
            ],
            "type": "surface"
           }
          ],
          "table": [
           {
            "cells": {
             "fill": {
              "color": "#EBF0F8"
             },
             "line": {
              "color": "white"
             }
            },
            "header": {
             "fill": {
              "color": "#C8D4E3"
             },
             "line": {
              "color": "white"
             }
            },
            "type": "table"
           }
          ]
         },
         "layout": {
          "annotationdefaults": {
           "arrowcolor": "#2a3f5f",
           "arrowhead": 0,
           "arrowwidth": 1
          },
          "autotypenumbers": "strict",
          "coloraxis": {
           "colorbar": {
            "outlinewidth": 0,
            "ticks": ""
           }
          },
          "colorscale": {
           "diverging": [
            [
             0,
             "#8e0152"
            ],
            [
             0.1,
             "#c51b7d"
            ],
            [
             0.2,
             "#de77ae"
            ],
            [
             0.3,
             "#f1b6da"
            ],
            [
             0.4,
             "#fde0ef"
            ],
            [
             0.5,
             "#f7f7f7"
            ],
            [
             0.6,
             "#e6f5d0"
            ],
            [
             0.7,
             "#b8e186"
            ],
            [
             0.8,
             "#7fbc41"
            ],
            [
             0.9,
             "#4d9221"
            ],
            [
             1,
             "#276419"
            ]
           ],
           "sequential": [
            [
             0,
             "#0d0887"
            ],
            [
             0.1111111111111111,
             "#46039f"
            ],
            [
             0.2222222222222222,
             "#7201a8"
            ],
            [
             0.3333333333333333,
             "#9c179e"
            ],
            [
             0.4444444444444444,
             "#bd3786"
            ],
            [
             0.5555555555555556,
             "#d8576b"
            ],
            [
             0.6666666666666666,
             "#ed7953"
            ],
            [
             0.7777777777777778,
             "#fb9f3a"
            ],
            [
             0.8888888888888888,
             "#fdca26"
            ],
            [
             1,
             "#f0f921"
            ]
           ],
           "sequentialminus": [
            [
             0,
             "#0d0887"
            ],
            [
             0.1111111111111111,
             "#46039f"
            ],
            [
             0.2222222222222222,
             "#7201a8"
            ],
            [
             0.3333333333333333,
             "#9c179e"
            ],
            [
             0.4444444444444444,
             "#bd3786"
            ],
            [
             0.5555555555555556,
             "#d8576b"
            ],
            [
             0.6666666666666666,
             "#ed7953"
            ],
            [
             0.7777777777777778,
             "#fb9f3a"
            ],
            [
             0.8888888888888888,
             "#fdca26"
            ],
            [
             1,
             "#f0f921"
            ]
           ]
          },
          "colorway": [
           "#636efa",
           "#EF553B",
           "#00cc96",
           "#ab63fa",
           "#FFA15A",
           "#19d3f3",
           "#FF6692",
           "#B6E880",
           "#FF97FF",
           "#FECB52"
          ],
          "font": {
           "color": "#2a3f5f"
          },
          "geo": {
           "bgcolor": "white",
           "lakecolor": "white",
           "landcolor": "#E5ECF6",
           "showlakes": true,
           "showland": true,
           "subunitcolor": "white"
          },
          "hoverlabel": {
           "align": "left"
          },
          "hovermode": "closest",
          "mapbox": {
           "style": "light"
          },
          "paper_bgcolor": "white",
          "plot_bgcolor": "#E5ECF6",
          "polar": {
           "angularaxis": {
            "gridcolor": "white",
            "linecolor": "white",
            "ticks": ""
           },
           "bgcolor": "#E5ECF6",
           "radialaxis": {
            "gridcolor": "white",
            "linecolor": "white",
            "ticks": ""
           }
          },
          "scene": {
           "xaxis": {
            "backgroundcolor": "#E5ECF6",
            "gridcolor": "white",
            "gridwidth": 2,
            "linecolor": "white",
            "showbackground": true,
            "ticks": "",
            "zerolinecolor": "white"
           },
           "yaxis": {
            "backgroundcolor": "#E5ECF6",
            "gridcolor": "white",
            "gridwidth": 2,
            "linecolor": "white",
            "showbackground": true,
            "ticks": "",
            "zerolinecolor": "white"
           },
           "zaxis": {
            "backgroundcolor": "#E5ECF6",
            "gridcolor": "white",
            "gridwidth": 2,
            "linecolor": "white",
            "showbackground": true,
            "ticks": "",
            "zerolinecolor": "white"
           }
          },
          "shapedefaults": {
           "line": {
            "color": "#2a3f5f"
           }
          },
          "ternary": {
           "aaxis": {
            "gridcolor": "white",
            "linecolor": "white",
            "ticks": ""
           },
           "baxis": {
            "gridcolor": "white",
            "linecolor": "white",
            "ticks": ""
           },
           "bgcolor": "#E5ECF6",
           "caxis": {
            "gridcolor": "white",
            "linecolor": "white",
            "ticks": ""
           }
          },
          "title": {
           "x": 0.05
          },
          "xaxis": {
           "automargin": true,
           "gridcolor": "white",
           "linecolor": "white",
           "ticks": "",
           "title": {
            "standoff": 15
           },
           "zerolinecolor": "white",
           "zerolinewidth": 2
          },
          "yaxis": {
           "automargin": true,
           "gridcolor": "white",
           "linecolor": "white",
           "ticks": "",
           "title": {
            "standoff": 15
           },
           "zerolinecolor": "white",
           "zerolinewidth": 2
          }
         }
        },
        "xaxis": {
         "anchor": "y",
         "domain": [
          0,
          0.49
         ],
         "title": {
          "text": "comments_disabled"
         }
        },
        "xaxis2": {
         "anchor": "y2",
         "domain": [
          0.51,
          1
         ],
         "matches": "x",
         "title": {
          "text": "comments_disabled"
         }
        },
        "yaxis": {
         "anchor": "x",
         "domain": [
          0,
          1
         ],
         "title": {
          "text": "views"
         }
        },
        "yaxis2": {
         "anchor": "x2",
         "domain": [
          0,
          1
         ],
         "matches": "y",
         "showticklabels": false
        }
       }
      }
     },
     "metadata": {},
     "output_type": "display_data"
    }
   ],
   "source": [
    "px.bar(youtube_group, x='comments_disabled', y='views', facet_col='ratings_disabled', color='ratings_disabled')"
   ]
  },
  {
   "cell_type": "code",
   "execution_count": 17,
   "metadata": {},
   "outputs": [],
   "source": [
    "gapminder_asia = gapminder_df.query('Year == 2020 & Continent == \"Asia\"')\n",
    "\n",
    "gapminder_asia.sort_values(by='Population', ascending=False, inplace=True)\n",
    "gapminder_asia.iloc[10:, 0] = 'Other countries'"
   ]
  },
  {
   "cell_type": "code",
   "execution_count": 18,
   "metadata": {},
   "outputs": [
    {
     "data": {
      "application/vnd.plotly.v1+json": {
       "config": {
        "plotlyServerURL": "https://plot.ly"
       },
       "data": [
        {
         "domain": {
          "x": [
           0,
           1
          ],
          "y": [
           0,
           1
          ]
         },
         "hovertemplate": "Country=%{label}<br>Population=%{value}<extra></extra>",
         "labels": [
          "China",
          "India",
          "Indonesia",
          "Pakistan",
          "Bangladesh",
          "Japan",
          "Philippines",
          "Iran",
          "Turkey",
          "Thailand",
          "Other countries",
          "Other countries",
          "Other countries",
          "Other countries",
          "Other countries",
          "Other countries",
          "Other countries",
          "Other countries",
          "Other countries",
          "Other countries",
          "Other countries",
          "Other countries",
          "Other countries",
          "Other countries",
          "Other countries",
          "Other countries",
          "Other countries",
          "Other countries",
          "Other countries",
          "Other countries",
          "Other countries",
          "Other countries",
          "Other countries",
          "Other countries",
          "Other countries",
          "Other countries"
         ],
         "legendgroup": "",
         "name": "",
         "showlegend": true,
         "type": "pie",
         "values": {
          "bdata": "AAAAAAAwlkAAAAAAAOCVQAAAAAAAAHFAAAAAAABgbEAAAAAAAOBkQAAAAAAAQF9AAAAAAAAAXEAzMzMzM9NVQGZmZmZmBlVAAAAAAADgUUAzMzMzM7NKQGZmZmZm5klAzczMzMxMRUAAAAAAAIBDQAAAAAAAAEJAmpmZmZmZQEDNzMzMzEw9QDMzMzMzszVAAAAAAAAAM0BmZmZmZmYwQM3MzMzMzCVAmpmZmZmZJEAUrkfhehQjQIXrUbgehSFArkfhehSuGUCkcD0K16MXQKRwPQrXoxZAKVyPwvUoEkBxPQrXo3ARQClcj8L1KA5AUrgehetRCkB7FK5H4XoGQK5H4XoUrvc/zczMzMzM9D/Xo3A9CtfzP30/NV66Sdw/",
          "dtype": "f8"
         }
        }
       ],
       "layout": {
        "legend": {
         "tracegroupgap": 0
        },
        "margin": {
         "t": 60
        },
        "template": {
         "data": {
          "bar": [
           {
            "error_x": {
             "color": "#2a3f5f"
            },
            "error_y": {
             "color": "#2a3f5f"
            },
            "marker": {
             "line": {
              "color": "#E5ECF6",
              "width": 0.5
             },
             "pattern": {
              "fillmode": "overlay",
              "size": 10,
              "solidity": 0.2
             }
            },
            "type": "bar"
           }
          ],
          "barpolar": [
           {
            "marker": {
             "line": {
              "color": "#E5ECF6",
              "width": 0.5
             },
             "pattern": {
              "fillmode": "overlay",
              "size": 10,
              "solidity": 0.2
             }
            },
            "type": "barpolar"
           }
          ],
          "carpet": [
           {
            "aaxis": {
             "endlinecolor": "#2a3f5f",
             "gridcolor": "white",
             "linecolor": "white",
             "minorgridcolor": "white",
             "startlinecolor": "#2a3f5f"
            },
            "baxis": {
             "endlinecolor": "#2a3f5f",
             "gridcolor": "white",
             "linecolor": "white",
             "minorgridcolor": "white",
             "startlinecolor": "#2a3f5f"
            },
            "type": "carpet"
           }
          ],
          "choropleth": [
           {
            "colorbar": {
             "outlinewidth": 0,
             "ticks": ""
            },
            "type": "choropleth"
           }
          ],
          "contour": [
           {
            "colorbar": {
             "outlinewidth": 0,
             "ticks": ""
            },
            "colorscale": [
             [
              0,
              "#0d0887"
             ],
             [
              0.1111111111111111,
              "#46039f"
             ],
             [
              0.2222222222222222,
              "#7201a8"
             ],
             [
              0.3333333333333333,
              "#9c179e"
             ],
             [
              0.4444444444444444,
              "#bd3786"
             ],
             [
              0.5555555555555556,
              "#d8576b"
             ],
             [
              0.6666666666666666,
              "#ed7953"
             ],
             [
              0.7777777777777778,
              "#fb9f3a"
             ],
             [
              0.8888888888888888,
              "#fdca26"
             ],
             [
              1,
              "#f0f921"
             ]
            ],
            "type": "contour"
           }
          ],
          "contourcarpet": [
           {
            "colorbar": {
             "outlinewidth": 0,
             "ticks": ""
            },
            "type": "contourcarpet"
           }
          ],
          "heatmap": [
           {
            "colorbar": {
             "outlinewidth": 0,
             "ticks": ""
            },
            "colorscale": [
             [
              0,
              "#0d0887"
             ],
             [
              0.1111111111111111,
              "#46039f"
             ],
             [
              0.2222222222222222,
              "#7201a8"
             ],
             [
              0.3333333333333333,
              "#9c179e"
             ],
             [
              0.4444444444444444,
              "#bd3786"
             ],
             [
              0.5555555555555556,
              "#d8576b"
             ],
             [
              0.6666666666666666,
              "#ed7953"
             ],
             [
              0.7777777777777778,
              "#fb9f3a"
             ],
             [
              0.8888888888888888,
              "#fdca26"
             ],
             [
              1,
              "#f0f921"
             ]
            ],
            "type": "heatmap"
           }
          ],
          "histogram": [
           {
            "marker": {
             "pattern": {
              "fillmode": "overlay",
              "size": 10,
              "solidity": 0.2
             }
            },
            "type": "histogram"
           }
          ],
          "histogram2d": [
           {
            "colorbar": {
             "outlinewidth": 0,
             "ticks": ""
            },
            "colorscale": [
             [
              0,
              "#0d0887"
             ],
             [
              0.1111111111111111,
              "#46039f"
             ],
             [
              0.2222222222222222,
              "#7201a8"
             ],
             [
              0.3333333333333333,
              "#9c179e"
             ],
             [
              0.4444444444444444,
              "#bd3786"
             ],
             [
              0.5555555555555556,
              "#d8576b"
             ],
             [
              0.6666666666666666,
              "#ed7953"
             ],
             [
              0.7777777777777778,
              "#fb9f3a"
             ],
             [
              0.8888888888888888,
              "#fdca26"
             ],
             [
              1,
              "#f0f921"
             ]
            ],
            "type": "histogram2d"
           }
          ],
          "histogram2dcontour": [
           {
            "colorbar": {
             "outlinewidth": 0,
             "ticks": ""
            },
            "colorscale": [
             [
              0,
              "#0d0887"
             ],
             [
              0.1111111111111111,
              "#46039f"
             ],
             [
              0.2222222222222222,
              "#7201a8"
             ],
             [
              0.3333333333333333,
              "#9c179e"
             ],
             [
              0.4444444444444444,
              "#bd3786"
             ],
             [
              0.5555555555555556,
              "#d8576b"
             ],
             [
              0.6666666666666666,
              "#ed7953"
             ],
             [
              0.7777777777777778,
              "#fb9f3a"
             ],
             [
              0.8888888888888888,
              "#fdca26"
             ],
             [
              1,
              "#f0f921"
             ]
            ],
            "type": "histogram2dcontour"
           }
          ],
          "mesh3d": [
           {
            "colorbar": {
             "outlinewidth": 0,
             "ticks": ""
            },
            "type": "mesh3d"
           }
          ],
          "parcoords": [
           {
            "line": {
             "colorbar": {
              "outlinewidth": 0,
              "ticks": ""
             }
            },
            "type": "parcoords"
           }
          ],
          "pie": [
           {
            "automargin": true,
            "type": "pie"
           }
          ],
          "scatter": [
           {
            "fillpattern": {
             "fillmode": "overlay",
             "size": 10,
             "solidity": 0.2
            },
            "type": "scatter"
           }
          ],
          "scatter3d": [
           {
            "line": {
             "colorbar": {
              "outlinewidth": 0,
              "ticks": ""
             }
            },
            "marker": {
             "colorbar": {
              "outlinewidth": 0,
              "ticks": ""
             }
            },
            "type": "scatter3d"
           }
          ],
          "scattercarpet": [
           {
            "marker": {
             "colorbar": {
              "outlinewidth": 0,
              "ticks": ""
             }
            },
            "type": "scattercarpet"
           }
          ],
          "scattergeo": [
           {
            "marker": {
             "colorbar": {
              "outlinewidth": 0,
              "ticks": ""
             }
            },
            "type": "scattergeo"
           }
          ],
          "scattergl": [
           {
            "marker": {
             "colorbar": {
              "outlinewidth": 0,
              "ticks": ""
             }
            },
            "type": "scattergl"
           }
          ],
          "scattermap": [
           {
            "marker": {
             "colorbar": {
              "outlinewidth": 0,
              "ticks": ""
             }
            },
            "type": "scattermap"
           }
          ],
          "scattermapbox": [
           {
            "marker": {
             "colorbar": {
              "outlinewidth": 0,
              "ticks": ""
             }
            },
            "type": "scattermapbox"
           }
          ],
          "scatterpolar": [
           {
            "marker": {
             "colorbar": {
              "outlinewidth": 0,
              "ticks": ""
             }
            },
            "type": "scatterpolar"
           }
          ],
          "scatterpolargl": [
           {
            "marker": {
             "colorbar": {
              "outlinewidth": 0,
              "ticks": ""
             }
            },
            "type": "scatterpolargl"
           }
          ],
          "scatterternary": [
           {
            "marker": {
             "colorbar": {
              "outlinewidth": 0,
              "ticks": ""
             }
            },
            "type": "scatterternary"
           }
          ],
          "surface": [
           {
            "colorbar": {
             "outlinewidth": 0,
             "ticks": ""
            },
            "colorscale": [
             [
              0,
              "#0d0887"
             ],
             [
              0.1111111111111111,
              "#46039f"
             ],
             [
              0.2222222222222222,
              "#7201a8"
             ],
             [
              0.3333333333333333,
              "#9c179e"
             ],
             [
              0.4444444444444444,
              "#bd3786"
             ],
             [
              0.5555555555555556,
              "#d8576b"
             ],
             [
              0.6666666666666666,
              "#ed7953"
             ],
             [
              0.7777777777777778,
              "#fb9f3a"
             ],
             [
              0.8888888888888888,
              "#fdca26"
             ],
             [
              1,
              "#f0f921"
             ]
            ],
            "type": "surface"
           }
          ],
          "table": [
           {
            "cells": {
             "fill": {
              "color": "#EBF0F8"
             },
             "line": {
              "color": "white"
             }
            },
            "header": {
             "fill": {
              "color": "#C8D4E3"
             },
             "line": {
              "color": "white"
             }
            },
            "type": "table"
           }
          ]
         },
         "layout": {
          "annotationdefaults": {
           "arrowcolor": "#2a3f5f",
           "arrowhead": 0,
           "arrowwidth": 1
          },
          "autotypenumbers": "strict",
          "coloraxis": {
           "colorbar": {
            "outlinewidth": 0,
            "ticks": ""
           }
          },
          "colorscale": {
           "diverging": [
            [
             0,
             "#8e0152"
            ],
            [
             0.1,
             "#c51b7d"
            ],
            [
             0.2,
             "#de77ae"
            ],
            [
             0.3,
             "#f1b6da"
            ],
            [
             0.4,
             "#fde0ef"
            ],
            [
             0.5,
             "#f7f7f7"
            ],
            [
             0.6,
             "#e6f5d0"
            ],
            [
             0.7,
             "#b8e186"
            ],
            [
             0.8,
             "#7fbc41"
            ],
            [
             0.9,
             "#4d9221"
            ],
            [
             1,
             "#276419"
            ]
           ],
           "sequential": [
            [
             0,
             "#0d0887"
            ],
            [
             0.1111111111111111,
             "#46039f"
            ],
            [
             0.2222222222222222,
             "#7201a8"
            ],
            [
             0.3333333333333333,
             "#9c179e"
            ],
            [
             0.4444444444444444,
             "#bd3786"
            ],
            [
             0.5555555555555556,
             "#d8576b"
            ],
            [
             0.6666666666666666,
             "#ed7953"
            ],
            [
             0.7777777777777778,
             "#fb9f3a"
            ],
            [
             0.8888888888888888,
             "#fdca26"
            ],
            [
             1,
             "#f0f921"
            ]
           ],
           "sequentialminus": [
            [
             0,
             "#0d0887"
            ],
            [
             0.1111111111111111,
             "#46039f"
            ],
            [
             0.2222222222222222,
             "#7201a8"
            ],
            [
             0.3333333333333333,
             "#9c179e"
            ],
            [
             0.4444444444444444,
             "#bd3786"
            ],
            [
             0.5555555555555556,
             "#d8576b"
            ],
            [
             0.6666666666666666,
             "#ed7953"
            ],
            [
             0.7777777777777778,
             "#fb9f3a"
            ],
            [
             0.8888888888888888,
             "#fdca26"
            ],
            [
             1,
             "#f0f921"
            ]
           ]
          },
          "colorway": [
           "#636efa",
           "#EF553B",
           "#00cc96",
           "#ab63fa",
           "#FFA15A",
           "#19d3f3",
           "#FF6692",
           "#B6E880",
           "#FF97FF",
           "#FECB52"
          ],
          "font": {
           "color": "#2a3f5f"
          },
          "geo": {
           "bgcolor": "white",
           "lakecolor": "white",
           "landcolor": "#E5ECF6",
           "showlakes": true,
           "showland": true,
           "subunitcolor": "white"
          },
          "hoverlabel": {
           "align": "left"
          },
          "hovermode": "closest",
          "mapbox": {
           "style": "light"
          },
          "paper_bgcolor": "white",
          "plot_bgcolor": "#E5ECF6",
          "polar": {
           "angularaxis": {
            "gridcolor": "white",
            "linecolor": "white",
            "ticks": ""
           },
           "bgcolor": "#E5ECF6",
           "radialaxis": {
            "gridcolor": "white",
            "linecolor": "white",
            "ticks": ""
           }
          },
          "scene": {
           "xaxis": {
            "backgroundcolor": "#E5ECF6",
            "gridcolor": "white",
            "gridwidth": 2,
            "linecolor": "white",
            "showbackground": true,
            "ticks": "",
            "zerolinecolor": "white"
           },
           "yaxis": {
            "backgroundcolor": "#E5ECF6",
            "gridcolor": "white",
            "gridwidth": 2,
            "linecolor": "white",
            "showbackground": true,
            "ticks": "",
            "zerolinecolor": "white"
           },
           "zaxis": {
            "backgroundcolor": "#E5ECF6",
            "gridcolor": "white",
            "gridwidth": 2,
            "linecolor": "white",
            "showbackground": true,
            "ticks": "",
            "zerolinecolor": "white"
           }
          },
          "shapedefaults": {
           "line": {
            "color": "#2a3f5f"
           }
          },
          "ternary": {
           "aaxis": {
            "gridcolor": "white",
            "linecolor": "white",
            "ticks": ""
           },
           "baxis": {
            "gridcolor": "white",
            "linecolor": "white",
            "ticks": ""
           },
           "bgcolor": "#E5ECF6",
           "caxis": {
            "gridcolor": "white",
            "linecolor": "white",
            "ticks": ""
           }
          },
          "title": {
           "x": 0.05
          },
          "xaxis": {
           "automargin": true,
           "gridcolor": "white",
           "linecolor": "white",
           "ticks": "",
           "title": {
            "standoff": 15
           },
           "zerolinecolor": "white",
           "zerolinewidth": 2
          },
          "yaxis": {
           "automargin": true,
           "gridcolor": "white",
           "linecolor": "white",
           "ticks": "",
           "title": {
            "standoff": 15
           },
           "zerolinecolor": "white",
           "zerolinewidth": 2
          }
         }
        }
       }
      }
     },
     "metadata": {},
     "output_type": "display_data"
    }
   ],
   "source": [
    "px.pie(gapminder_asia, values='Population', names='Country')"
   ]
  },
  {
   "cell_type": "code",
   "execution_count": 19,
   "metadata": {},
   "outputs": [
    {
     "data": {
      "application/vnd.plotly.v1+json": {
       "config": {
        "plotlyServerURL": "https://plot.ly"
       },
       "data": [
        {
         "branchvalues": "total",
         "domain": {
          "x": [
           0,
           1
          ],
          "y": [
           0,
           1
          ]
         },
         "hovertemplate": "labels=%{label}<br>Population=%{value}<br>parent=%{parent}<br>id=%{id}<extra></extra>",
         "ids": [
          "Asia/Afghanistan",
          "Africa/Angola",
          "Europe/Albania",
          "South America/Argentina",
          "Asia/Armenia",
          "Oceania/Australia",
          "Europe/Austria",
          "Asia/Azerbaijan",
          "Africa/Burundi",
          "Europe/Belgium",
          "Africa/Benin",
          "Africa/Burkina Faso",
          "Asia/Bangladesh",
          "Europe/Bulgaria",
          "Asia/Bahrain",
          "Europe/Bosnia and Herzegovina",
          "Europe/Belarus",
          "North America/Belize",
          "South America/Bolivia",
          "South America/Brazil",
          "Asia/Brunei",
          "Africa/Botswana",
          "Africa/Central African Republic",
          "North America/Canada",
          "Europe/Switzerland",
          "South America/Chile",
          "Asia/China",
          "Africa/Cote d'Ivoire",
          "Africa/Cameroon",
          "Africa/Congo, Dem. Rep.",
          "Africa/Congo, Rep.",
          "South America/Colombia",
          "Africa/Cape Verde",
          "North America/Costa Rica",
          "Asia/Cyprus",
          "Europe/Czech Republic",
          "Europe/Germany",
          "Europe/Denmark",
          "North America/Dominican Republic",
          "Africa/Algeria",
          "South America/Ecuador",
          "Africa/Egypt",
          "Europe/Spain",
          "Europe/Estonia",
          "Africa/Ethiopia",
          "Europe/Finland",
          "Oceania/Fiji",
          "Europe/France",
          "Africa/Gabon",
          "Europe/United Kingdom",
          "Asia/Georgia",
          "Africa/Ghana",
          "Africa/Guinea",
          "Africa/Gambia",
          "Africa/Guinea-Bissau",
          "Europe/Greece",
          "North America/Guatemala",
          "South America/Guyana",
          "North America/Honduras",
          "Europe/Croatia",
          "North America/Haiti",
          "Europe/Hungary",
          "Asia/Indonesia",
          "Asia/India",
          "Europe/Ireland",
          "Asia/Iran",
          "Asia/Iraq",
          "Europe/Iceland",
          "Asia/Israel",
          "Europe/Italy",
          "North America/Jamaica",
          "Asia/Jordan",
          "Asia/Japan",
          "Asia/Kazakhstan",
          "Africa/Kenya",
          "Asia/Kyrgyz Republic",
          "Asia/Cambodia",
          "Asia/South Korea",
          "Asia/Kuwait",
          "Asia/Lebanon",
          "Africa/Liberia",
          "Asia/Sri Lanka",
          "Africa/Lesotho",
          "Europe/Lithuania",
          "Europe/Luxembourg",
          "Europe/Latvia",
          "Africa/Morocco",
          "Europe/Moldova",
          "Africa/Madagascar",
          "North America/Mexico",
          "Europe/North Macedonia",
          "Africa/Mali",
          "Europe/Malta",
          "Asia/Myanmar",
          "Europe/Montenegro",
          "Asia/Mongolia",
          "Africa/Mozambique",
          "Africa/Mauritania",
          "Africa/Mauritius",
          "Africa/Malawi",
          "Asia/Malaysia",
          "Africa/Namibia",
          "Africa/Niger",
          "Africa/Nigeria",
          "North America/Nicaragua",
          "Europe/Netherlands",
          "Europe/Norway",
          "Asia/Nepal",
          "Oceania/New Zealand",
          "Asia/Oman",
          "Asia/Pakistan",
          "North America/Panama",
          "South America/Peru",
          "Asia/Philippines",
          "Oceania/Papua New Guinea",
          "Europe/Poland",
          "Europe/Portugal",
          "South America/Paraguay",
          "Europe/Romania",
          "Europe/Russia",
          "Africa/Rwanda",
          "Asia/Saudi Arabia",
          "Africa/Sudan",
          "Africa/Senegal",
          "Asia/Singapore",
          "Africa/Sierra Leone",
          "North America/El Salvador",
          "Africa/Somalia",
          "Europe/Serbia",
          "Europe/Slovak Republic",
          "Europe/Slovenia",
          "Europe/Sweden",
          "Africa/Eswatini",
          "Africa/Chad",
          "Africa/Togo",
          "Asia/Thailand",
          "Asia/Tajikistan",
          "Asia/Timor-Leste",
          "North America/Trinidad and Tobago",
          "Africa/Tunisia",
          "Asia/Turkey",
          "Africa/Tanzania",
          "Africa/Uganda",
          "Europe/Ukraine",
          "South America/Uruguay",
          "North America/United States",
          "Africa/South Africa",
          "Africa/Zambia",
          "Asia",
          "Africa",
          "Europe",
          "South America",
          "Oceania",
          "North America"
         ],
         "labels": [
          "Afghanistan",
          "Angola",
          "Albania",
          "Argentina",
          "Armenia",
          "Australia",
          "Austria",
          "Azerbaijan",
          "Burundi",
          "Belgium",
          "Benin",
          "Burkina Faso",
          "Bangladesh",
          "Bulgaria",
          "Bahrain",
          "Bosnia and Herzegovina",
          "Belarus",
          "Belize",
          "Bolivia",
          "Brazil",
          "Brunei",
          "Botswana",
          "Central African Republic",
          "Canada",
          "Switzerland",
          "Chile",
          "China",
          "Cote d'Ivoire",
          "Cameroon",
          "Congo, Dem. Rep.",
          "Congo, Rep.",
          "Colombia",
          "Cape Verde",
          "Costa Rica",
          "Cyprus",
          "Czech Republic",
          "Germany",
          "Denmark",
          "Dominican Republic",
          "Algeria",
          "Ecuador",
          "Egypt",
          "Spain",
          "Estonia",
          "Ethiopia",
          "Finland",
          "Fiji",
          "France",
          "Gabon",
          "United Kingdom",
          "Georgia",
          "Ghana",
          "Guinea",
          "Gambia",
          "Guinea-Bissau",
          "Greece",
          "Guatemala",
          "Guyana",
          "Honduras",
          "Croatia",
          "Haiti",
          "Hungary",
          "Indonesia",
          "India",
          "Ireland",
          "Iran",
          "Iraq",
          "Iceland",
          "Israel",
          "Italy",
          "Jamaica",
          "Jordan",
          "Japan",
          "Kazakhstan",
          "Kenya",
          "Kyrgyz Republic",
          "Cambodia",
          "South Korea",
          "Kuwait",
          "Lebanon",
          "Liberia",
          "Sri Lanka",
          "Lesotho",
          "Lithuania",
          "Luxembourg",
          "Latvia",
          "Morocco",
          "Moldova",
          "Madagascar",
          "Mexico",
          "North Macedonia",
          "Mali",
          "Malta",
          "Myanmar",
          "Montenegro",
          "Mongolia",
          "Mozambique",
          "Mauritania",
          "Mauritius",
          "Malawi",
          "Malaysia",
          "Namibia",
          "Niger",
          "Nigeria",
          "Nicaragua",
          "Netherlands",
          "Norway",
          "Nepal",
          "New Zealand",
          "Oman",
          "Pakistan",
          "Panama",
          "Peru",
          "Philippines",
          "Papua New Guinea",
          "Poland",
          "Portugal",
          "Paraguay",
          "Romania",
          "Russia",
          "Rwanda",
          "Saudi Arabia",
          "Sudan",
          "Senegal",
          "Singapore",
          "Sierra Leone",
          "El Salvador",
          "Somalia",
          "Serbia",
          "Slovak Republic",
          "Slovenia",
          "Sweden",
          "Eswatini",
          "Chad",
          "Togo",
          "Thailand",
          "Tajikistan",
          "Timor-Leste",
          "Trinidad and Tobago",
          "Tunisia",
          "Turkey",
          "Tanzania",
          "Uganda",
          "Ukraine",
          "Uruguay",
          "United States",
          "South Africa",
          "Zambia",
          "Asia",
          "Africa",
          "Europe",
          "South America",
          "Oceania",
          "North America"
         ],
         "name": "",
         "parents": [
          "Asia",
          "Africa",
          "Europe",
          "South America",
          "Asia",
          "Oceania",
          "Europe",
          "Asia",
          "Africa",
          "Europe",
          "Africa",
          "Africa",
          "Asia",
          "Europe",
          "Asia",
          "Europe",
          "Europe",
          "North America",
          "South America",
          "South America",
          "Asia",
          "Africa",
          "Africa",
          "North America",
          "Europe",
          "South America",
          "Asia",
          "Africa",
          "Africa",
          "Africa",
          "Africa",
          "South America",
          "Africa",
          "North America",
          "Asia",
          "Europe",
          "Europe",
          "Europe",
          "North America",
          "Africa",
          "South America",
          "Africa",
          "Europe",
          "Europe",
          "Africa",
          "Europe",
          "Oceania",
          "Europe",
          "Africa",
          "Europe",
          "Asia",
          "Africa",
          "Africa",
          "Africa",
          "Africa",
          "Europe",
          "North America",
          "South America",
          "North America",
          "Europe",
          "North America",
          "Europe",
          "Asia",
          "Asia",
          "Europe",
          "Asia",
          "Asia",
          "Europe",
          "Asia",
          "Europe",
          "North America",
          "Asia",
          "Asia",
          "Asia",
          "Africa",
          "Asia",
          "Asia",
          "Asia",
          "Asia",
          "Asia",
          "Africa",
          "Asia",
          "Africa",
          "Europe",
          "Europe",
          "Europe",
          "Africa",
          "Europe",
          "Africa",
          "North America",
          "Europe",
          "Africa",
          "Europe",
          "Asia",
          "Europe",
          "Asia",
          "Africa",
          "Africa",
          "Africa",
          "Africa",
          "Asia",
          "Africa",
          "Africa",
          "Africa",
          "North America",
          "Europe",
          "Europe",
          "Asia",
          "Oceania",
          "Asia",
          "Asia",
          "North America",
          "South America",
          "Asia",
          "Oceania",
          "Europe",
          "Europe",
          "South America",
          "Europe",
          "Europe",
          "Africa",
          "Asia",
          "Africa",
          "Africa",
          "Asia",
          "Africa",
          "North America",
          "Africa",
          "Europe",
          "Europe",
          "Europe",
          "Europe",
          "Africa",
          "Africa",
          "Africa",
          "Asia",
          "Asia",
          "Asia",
          "North America",
          "Africa",
          "Asia",
          "Africa",
          "Africa",
          "Europe",
          "South America",
          "North America",
          "Africa",
          "Africa",
          "",
          "",
          "",
          "",
          "",
          ""
         ],
         "type": "treemap",
         "values": {
          "bdata": "AAAAAACAQ0AzMzMzM7NAQPYoXI/C9QZAAAAAAACARkB7FK5H4XoGQDMzMzMzszlAUrgehevRIUCamZmZmZkkQGZmZmZmZihAMzMzMzMzJ0AzMzMzMzMpQAAAAAAAgDVAAAAAAADgZEDsUbgehesbQK5H4XoUrvc/j8L1KFyPCkDD9Shcj0IjQEjhehSuR9k/zczMzMzMJ0AAAAAAAKBqQH0/NV66Sdw/ZmZmZmZmBEBcj8L1KFwVQDMzMzMz80JASOF6FK5HIUDNzMzMzEwzQAAAAAAAMJZAzczMzMzMOkAAAAAAAIA6QJqZmZmZOVdAzczMzMzMFkAzMzMzM3NJQA4tsp3vp+I/exSuR+F6FEDXo3A9CtfzPwAAAAAAACVAMzMzMzPTVEBSuB6F61EXQAAAAAAAACZAAAAAAADARUCamZmZmZkxQAAAAAAAwFpAMzMzMzOzR0BI4XoUrkf1PwAAAAAAQF1AH4XrUbgeFkBxPQrXo3DtPwAAAAAAIFBAUrgehetRAkBmZmZmZsZQQClcj8L1KA5AmpmZmZkZQEBmZmZmZmYqQI/C9ShcjwRAKVyPwvUoAEAAAAAAAAAlQGZmZmZmZjFAGy/dJAaB6T8zMzMzMzMkQGZmZmZmZhBAmpmZmZmZJkAAAAAAAIAjQAAAAAAAAHFAAAAAAADglUDNzMzMzMwTQDMzMzMz01VAzczMzMxMRUCwcmiR7XzXP4XrUbgehSFAAAAAAADATUCPwvUoXI8GQM3MzMzMzCVAAAAAAABAX0AAAAAAAAAzQAAAAAAAAEpArkfhehSuGUBmZmZmZmYwQGZmZmZm5klAcT0K16NwEUCkcD0K16MWQFyPwvUoXBRAMzMzMzOzNUAAAAAAAAACQI/C9ShcjwZAKVyPwvUo5D9mZmZmZmb+P5qZmZmZWUJApHA9CtejCEAzMzMzMzM8QAAAAAAAgF9A4XoUrkfhAEAzMzMzMzM1QHsUrkfheuA/MzMzMzOzSkBU46WbxCDkP1K4HoXrUQpAMzMzMzMzP0AAAAAAAAASQM3MzMzMzPQ/ZmZmZmZmM0CamZmZmZlAQOxRuB6F6wNAzczMzMxMOEAAAAAAAABqQArXo3A9ChtAZmZmZmZmMUCF61G4HoUVQM3MzMzMTD1APQrXo3A9FEApXI/C9SgSQAAAAAAAYGxAKVyPwvUoEUBmZmZmZqZAQAAAAAAAAFxAAAAAAACAI0AzMzMzMzNDQJqZmZmZmSRAexSuR+F6GkBmZmZmZmYzQAAAAAAAQGJAMzMzMzMzKkAAAAAAAABCQDMzMzMzM0ZAZmZmZmZmMECkcD0K16MXQPYoXI/CdSBAKVyPwvUoGUAAAAAAAIAwQHE9CtejcB1A16NwPQrXFUD2KFyPwvUAQM3MzMzMzCRA4XoUrkfh8j+amZmZmZkwQOF6FK5H4SBAAAAAAADgUUAUrkfhehQjQM3MzMzMzPQ/UrgehetR+D9mZmZmZmYoQGZmZmZmBlVAmpmZmZnZTkAzMzMzMzNGQDMzMzMz80VAcT0K16NwC0AAAAAAAAB1QGZmZmZmZk1AZmZmZmbmMkCDwMqhBSWxQEa28/1UlZRAPzVeuklDh0BkO99PjR15QNejcD0Kt0RAXI/C9SgHgkA=",
          "dtype": "f8"
         }
        }
       ],
       "layout": {
        "legend": {
         "tracegroupgap": 0
        },
        "margin": {
         "t": 60
        },
        "template": {
         "data": {
          "bar": [
           {
            "error_x": {
             "color": "#2a3f5f"
            },
            "error_y": {
             "color": "#2a3f5f"
            },
            "marker": {
             "line": {
              "color": "#E5ECF6",
              "width": 0.5
             },
             "pattern": {
              "fillmode": "overlay",
              "size": 10,
              "solidity": 0.2
             }
            },
            "type": "bar"
           }
          ],
          "barpolar": [
           {
            "marker": {
             "line": {
              "color": "#E5ECF6",
              "width": 0.5
             },
             "pattern": {
              "fillmode": "overlay",
              "size": 10,
              "solidity": 0.2
             }
            },
            "type": "barpolar"
           }
          ],
          "carpet": [
           {
            "aaxis": {
             "endlinecolor": "#2a3f5f",
             "gridcolor": "white",
             "linecolor": "white",
             "minorgridcolor": "white",
             "startlinecolor": "#2a3f5f"
            },
            "baxis": {
             "endlinecolor": "#2a3f5f",
             "gridcolor": "white",
             "linecolor": "white",
             "minorgridcolor": "white",
             "startlinecolor": "#2a3f5f"
            },
            "type": "carpet"
           }
          ],
          "choropleth": [
           {
            "colorbar": {
             "outlinewidth": 0,
             "ticks": ""
            },
            "type": "choropleth"
           }
          ],
          "contour": [
           {
            "colorbar": {
             "outlinewidth": 0,
             "ticks": ""
            },
            "colorscale": [
             [
              0,
              "#0d0887"
             ],
             [
              0.1111111111111111,
              "#46039f"
             ],
             [
              0.2222222222222222,
              "#7201a8"
             ],
             [
              0.3333333333333333,
              "#9c179e"
             ],
             [
              0.4444444444444444,
              "#bd3786"
             ],
             [
              0.5555555555555556,
              "#d8576b"
             ],
             [
              0.6666666666666666,
              "#ed7953"
             ],
             [
              0.7777777777777778,
              "#fb9f3a"
             ],
             [
              0.8888888888888888,
              "#fdca26"
             ],
             [
              1,
              "#f0f921"
             ]
            ],
            "type": "contour"
           }
          ],
          "contourcarpet": [
           {
            "colorbar": {
             "outlinewidth": 0,
             "ticks": ""
            },
            "type": "contourcarpet"
           }
          ],
          "heatmap": [
           {
            "colorbar": {
             "outlinewidth": 0,
             "ticks": ""
            },
            "colorscale": [
             [
              0,
              "#0d0887"
             ],
             [
              0.1111111111111111,
              "#46039f"
             ],
             [
              0.2222222222222222,
              "#7201a8"
             ],
             [
              0.3333333333333333,
              "#9c179e"
             ],
             [
              0.4444444444444444,
              "#bd3786"
             ],
             [
              0.5555555555555556,
              "#d8576b"
             ],
             [
              0.6666666666666666,
              "#ed7953"
             ],
             [
              0.7777777777777778,
              "#fb9f3a"
             ],
             [
              0.8888888888888888,
              "#fdca26"
             ],
             [
              1,
              "#f0f921"
             ]
            ],
            "type": "heatmap"
           }
          ],
          "histogram": [
           {
            "marker": {
             "pattern": {
              "fillmode": "overlay",
              "size": 10,
              "solidity": 0.2
             }
            },
            "type": "histogram"
           }
          ],
          "histogram2d": [
           {
            "colorbar": {
             "outlinewidth": 0,
             "ticks": ""
            },
            "colorscale": [
             [
              0,
              "#0d0887"
             ],
             [
              0.1111111111111111,
              "#46039f"
             ],
             [
              0.2222222222222222,
              "#7201a8"
             ],
             [
              0.3333333333333333,
              "#9c179e"
             ],
             [
              0.4444444444444444,
              "#bd3786"
             ],
             [
              0.5555555555555556,
              "#d8576b"
             ],
             [
              0.6666666666666666,
              "#ed7953"
             ],
             [
              0.7777777777777778,
              "#fb9f3a"
             ],
             [
              0.8888888888888888,
              "#fdca26"
             ],
             [
              1,
              "#f0f921"
             ]
            ],
            "type": "histogram2d"
           }
          ],
          "histogram2dcontour": [
           {
            "colorbar": {
             "outlinewidth": 0,
             "ticks": ""
            },
            "colorscale": [
             [
              0,
              "#0d0887"
             ],
             [
              0.1111111111111111,
              "#46039f"
             ],
             [
              0.2222222222222222,
              "#7201a8"
             ],
             [
              0.3333333333333333,
              "#9c179e"
             ],
             [
              0.4444444444444444,
              "#bd3786"
             ],
             [
              0.5555555555555556,
              "#d8576b"
             ],
             [
              0.6666666666666666,
              "#ed7953"
             ],
             [
              0.7777777777777778,
              "#fb9f3a"
             ],
             [
              0.8888888888888888,
              "#fdca26"
             ],
             [
              1,
              "#f0f921"
             ]
            ],
            "type": "histogram2dcontour"
           }
          ],
          "mesh3d": [
           {
            "colorbar": {
             "outlinewidth": 0,
             "ticks": ""
            },
            "type": "mesh3d"
           }
          ],
          "parcoords": [
           {
            "line": {
             "colorbar": {
              "outlinewidth": 0,
              "ticks": ""
             }
            },
            "type": "parcoords"
           }
          ],
          "pie": [
           {
            "automargin": true,
            "type": "pie"
           }
          ],
          "scatter": [
           {
            "fillpattern": {
             "fillmode": "overlay",
             "size": 10,
             "solidity": 0.2
            },
            "type": "scatter"
           }
          ],
          "scatter3d": [
           {
            "line": {
             "colorbar": {
              "outlinewidth": 0,
              "ticks": ""
             }
            },
            "marker": {
             "colorbar": {
              "outlinewidth": 0,
              "ticks": ""
             }
            },
            "type": "scatter3d"
           }
          ],
          "scattercarpet": [
           {
            "marker": {
             "colorbar": {
              "outlinewidth": 0,
              "ticks": ""
             }
            },
            "type": "scattercarpet"
           }
          ],
          "scattergeo": [
           {
            "marker": {
             "colorbar": {
              "outlinewidth": 0,
              "ticks": ""
             }
            },
            "type": "scattergeo"
           }
          ],
          "scattergl": [
           {
            "marker": {
             "colorbar": {
              "outlinewidth": 0,
              "ticks": ""
             }
            },
            "type": "scattergl"
           }
          ],
          "scattermap": [
           {
            "marker": {
             "colorbar": {
              "outlinewidth": 0,
              "ticks": ""
             }
            },
            "type": "scattermap"
           }
          ],
          "scattermapbox": [
           {
            "marker": {
             "colorbar": {
              "outlinewidth": 0,
              "ticks": ""
             }
            },
            "type": "scattermapbox"
           }
          ],
          "scatterpolar": [
           {
            "marker": {
             "colorbar": {
              "outlinewidth": 0,
              "ticks": ""
             }
            },
            "type": "scatterpolar"
           }
          ],
          "scatterpolargl": [
           {
            "marker": {
             "colorbar": {
              "outlinewidth": 0,
              "ticks": ""
             }
            },
            "type": "scatterpolargl"
           }
          ],
          "scatterternary": [
           {
            "marker": {
             "colorbar": {
              "outlinewidth": 0,
              "ticks": ""
             }
            },
            "type": "scatterternary"
           }
          ],
          "surface": [
           {
            "colorbar": {
             "outlinewidth": 0,
             "ticks": ""
            },
            "colorscale": [
             [
              0,
              "#0d0887"
             ],
             [
              0.1111111111111111,
              "#46039f"
             ],
             [
              0.2222222222222222,
              "#7201a8"
             ],
             [
              0.3333333333333333,
              "#9c179e"
             ],
             [
              0.4444444444444444,
              "#bd3786"
             ],
             [
              0.5555555555555556,
              "#d8576b"
             ],
             [
              0.6666666666666666,
              "#ed7953"
             ],
             [
              0.7777777777777778,
              "#fb9f3a"
             ],
             [
              0.8888888888888888,
              "#fdca26"
             ],
             [
              1,
              "#f0f921"
             ]
            ],
            "type": "surface"
           }
          ],
          "table": [
           {
            "cells": {
             "fill": {
              "color": "#EBF0F8"
             },
             "line": {
              "color": "white"
             }
            },
            "header": {
             "fill": {
              "color": "#C8D4E3"
             },
             "line": {
              "color": "white"
             }
            },
            "type": "table"
           }
          ]
         },
         "layout": {
          "annotationdefaults": {
           "arrowcolor": "#2a3f5f",
           "arrowhead": 0,
           "arrowwidth": 1
          },
          "autotypenumbers": "strict",
          "coloraxis": {
           "colorbar": {
            "outlinewidth": 0,
            "ticks": ""
           }
          },
          "colorscale": {
           "diverging": [
            [
             0,
             "#8e0152"
            ],
            [
             0.1,
             "#c51b7d"
            ],
            [
             0.2,
             "#de77ae"
            ],
            [
             0.3,
             "#f1b6da"
            ],
            [
             0.4,
             "#fde0ef"
            ],
            [
             0.5,
             "#f7f7f7"
            ],
            [
             0.6,
             "#e6f5d0"
            ],
            [
             0.7,
             "#b8e186"
            ],
            [
             0.8,
             "#7fbc41"
            ],
            [
             0.9,
             "#4d9221"
            ],
            [
             1,
             "#276419"
            ]
           ],
           "sequential": [
            [
             0,
             "#0d0887"
            ],
            [
             0.1111111111111111,
             "#46039f"
            ],
            [
             0.2222222222222222,
             "#7201a8"
            ],
            [
             0.3333333333333333,
             "#9c179e"
            ],
            [
             0.4444444444444444,
             "#bd3786"
            ],
            [
             0.5555555555555556,
             "#d8576b"
            ],
            [
             0.6666666666666666,
             "#ed7953"
            ],
            [
             0.7777777777777778,
             "#fb9f3a"
            ],
            [
             0.8888888888888888,
             "#fdca26"
            ],
            [
             1,
             "#f0f921"
            ]
           ],
           "sequentialminus": [
            [
             0,
             "#0d0887"
            ],
            [
             0.1111111111111111,
             "#46039f"
            ],
            [
             0.2222222222222222,
             "#7201a8"
            ],
            [
             0.3333333333333333,
             "#9c179e"
            ],
            [
             0.4444444444444444,
             "#bd3786"
            ],
            [
             0.5555555555555556,
             "#d8576b"
            ],
            [
             0.6666666666666666,
             "#ed7953"
            ],
            [
             0.7777777777777778,
             "#fb9f3a"
            ],
            [
             0.8888888888888888,
             "#fdca26"
            ],
            [
             1,
             "#f0f921"
            ]
           ]
          },
          "colorway": [
           "#636efa",
           "#EF553B",
           "#00cc96",
           "#ab63fa",
           "#FFA15A",
           "#19d3f3",
           "#FF6692",
           "#B6E880",
           "#FF97FF",
           "#FECB52"
          ],
          "font": {
           "color": "#2a3f5f"
          },
          "geo": {
           "bgcolor": "white",
           "lakecolor": "white",
           "landcolor": "#E5ECF6",
           "showlakes": true,
           "showland": true,
           "subunitcolor": "white"
          },
          "hoverlabel": {
           "align": "left"
          },
          "hovermode": "closest",
          "mapbox": {
           "style": "light"
          },
          "paper_bgcolor": "white",
          "plot_bgcolor": "#E5ECF6",
          "polar": {
           "angularaxis": {
            "gridcolor": "white",
            "linecolor": "white",
            "ticks": ""
           },
           "bgcolor": "#E5ECF6",
           "radialaxis": {
            "gridcolor": "white",
            "linecolor": "white",
            "ticks": ""
           }
          },
          "scene": {
           "xaxis": {
            "backgroundcolor": "#E5ECF6",
            "gridcolor": "white",
            "gridwidth": 2,
            "linecolor": "white",
            "showbackground": true,
            "ticks": "",
            "zerolinecolor": "white"
           },
           "yaxis": {
            "backgroundcolor": "#E5ECF6",
            "gridcolor": "white",
            "gridwidth": 2,
            "linecolor": "white",
            "showbackground": true,
            "ticks": "",
            "zerolinecolor": "white"
           },
           "zaxis": {
            "backgroundcolor": "#E5ECF6",
            "gridcolor": "white",
            "gridwidth": 2,
            "linecolor": "white",
            "showbackground": true,
            "ticks": "",
            "zerolinecolor": "white"
           }
          },
          "shapedefaults": {
           "line": {
            "color": "#2a3f5f"
           }
          },
          "ternary": {
           "aaxis": {
            "gridcolor": "white",
            "linecolor": "white",
            "ticks": ""
           },
           "baxis": {
            "gridcolor": "white",
            "linecolor": "white",
            "ticks": ""
           },
           "bgcolor": "#E5ECF6",
           "caxis": {
            "gridcolor": "white",
            "linecolor": "white",
            "ticks": ""
           }
          },
          "title": {
           "x": 0.05
          },
          "xaxis": {
           "automargin": true,
           "gridcolor": "white",
           "linecolor": "white",
           "ticks": "",
           "title": {
            "standoff": 15
           },
           "zerolinecolor": "white",
           "zerolinewidth": 2
          },
          "yaxis": {
           "automargin": true,
           "gridcolor": "white",
           "linecolor": "white",
           "ticks": "",
           "title": {
            "standoff": 15
           },
           "zerolinecolor": "white",
           "zerolinewidth": 2
          }
         }
        }
       }
      }
     },
     "metadata": {},
     "output_type": "display_data"
    }
   ],
   "source": [
    "px.treemap(gapminder_df.query('Year == 2020'), path=['Continent', 'Country'], values='Population')"
   ]
  },
  {
   "cell_type": "code",
   "execution_count": 20,
   "metadata": {},
   "outputs": [
    {
     "data": {
      "application/vnd.plotly.v1+json": {
       "config": {
        "plotlyServerURL": "https://plot.ly"
       },
       "data": [
        {
         "branchvalues": "total",
         "domain": {
          "x": [
           0,
           1
          ],
          "y": [
           0,
           1
          ]
         },
         "hovertemplate": "labels=%{label}<br>Population=%{value}<br>parent=%{parent}<br>id=%{id}<extra></extra>",
         "ids": [
          "Asia/Afghanistan",
          "Africa/Angola",
          "Europe/Albania",
          "South America/Argentina",
          "Asia/Armenia",
          "Oceania/Australia",
          "Europe/Austria",
          "Asia/Azerbaijan",
          "Africa/Burundi",
          "Europe/Belgium",
          "Africa/Benin",
          "Africa/Burkina Faso",
          "Asia/Bangladesh",
          "Europe/Bulgaria",
          "Asia/Bahrain",
          "Europe/Bosnia and Herzegovina",
          "Europe/Belarus",
          "North America/Belize",
          "South America/Bolivia",
          "South America/Brazil",
          "Asia/Brunei",
          "Africa/Botswana",
          "Africa/Central African Republic",
          "North America/Canada",
          "Europe/Switzerland",
          "South America/Chile",
          "Asia/China",
          "Africa/Cote d'Ivoire",
          "Africa/Cameroon",
          "Africa/Congo, Dem. Rep.",
          "Africa/Congo, Rep.",
          "South America/Colombia",
          "Africa/Cape Verde",
          "North America/Costa Rica",
          "Asia/Cyprus",
          "Europe/Czech Republic",
          "Europe/Germany",
          "Europe/Denmark",
          "North America/Dominican Republic",
          "Africa/Algeria",
          "South America/Ecuador",
          "Africa/Egypt",
          "Europe/Spain",
          "Europe/Estonia",
          "Africa/Ethiopia",
          "Europe/Finland",
          "Oceania/Fiji",
          "Europe/France",
          "Africa/Gabon",
          "Europe/United Kingdom",
          "Asia/Georgia",
          "Africa/Ghana",
          "Africa/Guinea",
          "Africa/Gambia",
          "Africa/Guinea-Bissau",
          "Europe/Greece",
          "North America/Guatemala",
          "South America/Guyana",
          "North America/Honduras",
          "Europe/Croatia",
          "North America/Haiti",
          "Europe/Hungary",
          "Asia/Indonesia",
          "Asia/India",
          "Europe/Ireland",
          "Asia/Iran",
          "Asia/Iraq",
          "Europe/Iceland",
          "Asia/Israel",
          "Europe/Italy",
          "North America/Jamaica",
          "Asia/Jordan",
          "Asia/Japan",
          "Asia/Kazakhstan",
          "Africa/Kenya",
          "Asia/Kyrgyz Republic",
          "Asia/Cambodia",
          "Asia/South Korea",
          "Asia/Kuwait",
          "Asia/Lebanon",
          "Africa/Liberia",
          "Asia/Sri Lanka",
          "Africa/Lesotho",
          "Europe/Lithuania",
          "Europe/Luxembourg",
          "Europe/Latvia",
          "Africa/Morocco",
          "Europe/Moldova",
          "Africa/Madagascar",
          "North America/Mexico",
          "Europe/North Macedonia",
          "Africa/Mali",
          "Europe/Malta",
          "Asia/Myanmar",
          "Europe/Montenegro",
          "Asia/Mongolia",
          "Africa/Mozambique",
          "Africa/Mauritania",
          "Africa/Mauritius",
          "Africa/Malawi",
          "Asia/Malaysia",
          "Africa/Namibia",
          "Africa/Niger",
          "Africa/Nigeria",
          "North America/Nicaragua",
          "Europe/Netherlands",
          "Europe/Norway",
          "Asia/Nepal",
          "Oceania/New Zealand",
          "Asia/Oman",
          "Asia/Pakistan",
          "North America/Panama",
          "South America/Peru",
          "Asia/Philippines",
          "Oceania/Papua New Guinea",
          "Europe/Poland",
          "Europe/Portugal",
          "South America/Paraguay",
          "Europe/Romania",
          "Europe/Russia",
          "Africa/Rwanda",
          "Asia/Saudi Arabia",
          "Africa/Sudan",
          "Africa/Senegal",
          "Asia/Singapore",
          "Africa/Sierra Leone",
          "North America/El Salvador",
          "Africa/Somalia",
          "Europe/Serbia",
          "Europe/Slovak Republic",
          "Europe/Slovenia",
          "Europe/Sweden",
          "Africa/Eswatini",
          "Africa/Chad",
          "Africa/Togo",
          "Asia/Thailand",
          "Asia/Tajikistan",
          "Asia/Timor-Leste",
          "North America/Trinidad and Tobago",
          "Africa/Tunisia",
          "Asia/Turkey",
          "Africa/Tanzania",
          "Africa/Uganda",
          "Europe/Ukraine",
          "South America/Uruguay",
          "North America/United States",
          "Africa/South Africa",
          "Africa/Zambia",
          "Asia",
          "Africa",
          "Europe",
          "South America",
          "Oceania",
          "North America"
         ],
         "labels": [
          "Afghanistan",
          "Angola",
          "Albania",
          "Argentina",
          "Armenia",
          "Australia",
          "Austria",
          "Azerbaijan",
          "Burundi",
          "Belgium",
          "Benin",
          "Burkina Faso",
          "Bangladesh",
          "Bulgaria",
          "Bahrain",
          "Bosnia and Herzegovina",
          "Belarus",
          "Belize",
          "Bolivia",
          "Brazil",
          "Brunei",
          "Botswana",
          "Central African Republic",
          "Canada",
          "Switzerland",
          "Chile",
          "China",
          "Cote d'Ivoire",
          "Cameroon",
          "Congo, Dem. Rep.",
          "Congo, Rep.",
          "Colombia",
          "Cape Verde",
          "Costa Rica",
          "Cyprus",
          "Czech Republic",
          "Germany",
          "Denmark",
          "Dominican Republic",
          "Algeria",
          "Ecuador",
          "Egypt",
          "Spain",
          "Estonia",
          "Ethiopia",
          "Finland",
          "Fiji",
          "France",
          "Gabon",
          "United Kingdom",
          "Georgia",
          "Ghana",
          "Guinea",
          "Gambia",
          "Guinea-Bissau",
          "Greece",
          "Guatemala",
          "Guyana",
          "Honduras",
          "Croatia",
          "Haiti",
          "Hungary",
          "Indonesia",
          "India",
          "Ireland",
          "Iran",
          "Iraq",
          "Iceland",
          "Israel",
          "Italy",
          "Jamaica",
          "Jordan",
          "Japan",
          "Kazakhstan",
          "Kenya",
          "Kyrgyz Republic",
          "Cambodia",
          "South Korea",
          "Kuwait",
          "Lebanon",
          "Liberia",
          "Sri Lanka",
          "Lesotho",
          "Lithuania",
          "Luxembourg",
          "Latvia",
          "Morocco",
          "Moldova",
          "Madagascar",
          "Mexico",
          "North Macedonia",
          "Mali",
          "Malta",
          "Myanmar",
          "Montenegro",
          "Mongolia",
          "Mozambique",
          "Mauritania",
          "Mauritius",
          "Malawi",
          "Malaysia",
          "Namibia",
          "Niger",
          "Nigeria",
          "Nicaragua",
          "Netherlands",
          "Norway",
          "Nepal",
          "New Zealand",
          "Oman",
          "Pakistan",
          "Panama",
          "Peru",
          "Philippines",
          "Papua New Guinea",
          "Poland",
          "Portugal",
          "Paraguay",
          "Romania",
          "Russia",
          "Rwanda",
          "Saudi Arabia",
          "Sudan",
          "Senegal",
          "Singapore",
          "Sierra Leone",
          "El Salvador",
          "Somalia",
          "Serbia",
          "Slovak Republic",
          "Slovenia",
          "Sweden",
          "Eswatini",
          "Chad",
          "Togo",
          "Thailand",
          "Tajikistan",
          "Timor-Leste",
          "Trinidad and Tobago",
          "Tunisia",
          "Turkey",
          "Tanzania",
          "Uganda",
          "Ukraine",
          "Uruguay",
          "United States",
          "South Africa",
          "Zambia",
          "Asia",
          "Africa",
          "Europe",
          "South America",
          "Oceania",
          "North America"
         ],
         "name": "",
         "parents": [
          "Asia",
          "Africa",
          "Europe",
          "South America",
          "Asia",
          "Oceania",
          "Europe",
          "Asia",
          "Africa",
          "Europe",
          "Africa",
          "Africa",
          "Asia",
          "Europe",
          "Asia",
          "Europe",
          "Europe",
          "North America",
          "South America",
          "South America",
          "Asia",
          "Africa",
          "Africa",
          "North America",
          "Europe",
          "South America",
          "Asia",
          "Africa",
          "Africa",
          "Africa",
          "Africa",
          "South America",
          "Africa",
          "North America",
          "Asia",
          "Europe",
          "Europe",
          "Europe",
          "North America",
          "Africa",
          "South America",
          "Africa",
          "Europe",
          "Europe",
          "Africa",
          "Europe",
          "Oceania",
          "Europe",
          "Africa",
          "Europe",
          "Asia",
          "Africa",
          "Africa",
          "Africa",
          "Africa",
          "Europe",
          "North America",
          "South America",
          "North America",
          "Europe",
          "North America",
          "Europe",
          "Asia",
          "Asia",
          "Europe",
          "Asia",
          "Asia",
          "Europe",
          "Asia",
          "Europe",
          "North America",
          "Asia",
          "Asia",
          "Asia",
          "Africa",
          "Asia",
          "Asia",
          "Asia",
          "Asia",
          "Asia",
          "Africa",
          "Asia",
          "Africa",
          "Europe",
          "Europe",
          "Europe",
          "Africa",
          "Europe",
          "Africa",
          "North America",
          "Europe",
          "Africa",
          "Europe",
          "Asia",
          "Europe",
          "Asia",
          "Africa",
          "Africa",
          "Africa",
          "Africa",
          "Asia",
          "Africa",
          "Africa",
          "Africa",
          "North America",
          "Europe",
          "Europe",
          "Asia",
          "Oceania",
          "Asia",
          "Asia",
          "North America",
          "South America",
          "Asia",
          "Oceania",
          "Europe",
          "Europe",
          "South America",
          "Europe",
          "Europe",
          "Africa",
          "Asia",
          "Africa",
          "Africa",
          "Asia",
          "Africa",
          "North America",
          "Africa",
          "Europe",
          "Europe",
          "Europe",
          "Europe",
          "Africa",
          "Africa",
          "Africa",
          "Asia",
          "Asia",
          "Asia",
          "North America",
          "Africa",
          "Asia",
          "Africa",
          "Africa",
          "Europe",
          "South America",
          "North America",
          "Africa",
          "Africa",
          "",
          "",
          "",
          "",
          "",
          ""
         ],
         "type": "sunburst",
         "values": {
          "bdata": "AAAAAACAQ0AzMzMzM7NAQPYoXI/C9QZAAAAAAACARkB7FK5H4XoGQDMzMzMzszlAUrgehevRIUCamZmZmZkkQGZmZmZmZihAMzMzMzMzJ0AzMzMzMzMpQAAAAAAAgDVAAAAAAADgZEDsUbgehesbQK5H4XoUrvc/j8L1KFyPCkDD9Shcj0IjQEjhehSuR9k/zczMzMzMJ0AAAAAAAKBqQH0/NV66Sdw/ZmZmZmZmBEBcj8L1KFwVQDMzMzMz80JASOF6FK5HIUDNzMzMzEwzQAAAAAAAMJZAzczMzMzMOkAAAAAAAIA6QJqZmZmZOVdAzczMzMzMFkAzMzMzM3NJQA4tsp3vp+I/exSuR+F6FEDXo3A9CtfzPwAAAAAAACVAMzMzMzPTVEBSuB6F61EXQAAAAAAAACZAAAAAAADARUCamZmZmZkxQAAAAAAAwFpAMzMzMzOzR0BI4XoUrkf1PwAAAAAAQF1AH4XrUbgeFkBxPQrXo3DtPwAAAAAAIFBAUrgehetRAkBmZmZmZsZQQClcj8L1KA5AmpmZmZkZQEBmZmZmZmYqQI/C9ShcjwRAKVyPwvUoAEAAAAAAAAAlQGZmZmZmZjFAGy/dJAaB6T8zMzMzMzMkQGZmZmZmZhBAmpmZmZmZJkAAAAAAAIAjQAAAAAAAAHFAAAAAAADglUDNzMzMzMwTQDMzMzMz01VAzczMzMxMRUCwcmiR7XzXP4XrUbgehSFAAAAAAADATUCPwvUoXI8GQM3MzMzMzCVAAAAAAABAX0AAAAAAAAAzQAAAAAAAAEpArkfhehSuGUBmZmZmZmYwQGZmZmZm5klAcT0K16NwEUCkcD0K16MWQFyPwvUoXBRAMzMzMzOzNUAAAAAAAAACQI/C9ShcjwZAKVyPwvUo5D9mZmZmZmb+P5qZmZmZWUJApHA9CtejCEAzMzMzMzM8QAAAAAAAgF9A4XoUrkfhAEAzMzMzMzM1QHsUrkfheuA/MzMzMzOzSkBU46WbxCDkP1K4HoXrUQpAMzMzMzMzP0AAAAAAAAASQM3MzMzMzPQ/ZmZmZmZmM0CamZmZmZlAQOxRuB6F6wNAzczMzMxMOEAAAAAAAABqQArXo3A9ChtAZmZmZmZmMUCF61G4HoUVQM3MzMzMTD1APQrXo3A9FEApXI/C9SgSQAAAAAAAYGxAKVyPwvUoEUBmZmZmZqZAQAAAAAAAAFxAAAAAAACAI0AzMzMzMzNDQJqZmZmZmSRAexSuR+F6GkBmZmZmZmYzQAAAAAAAQGJAMzMzMzMzKkAAAAAAAABCQDMzMzMzM0ZAZmZmZmZmMECkcD0K16MXQPYoXI/CdSBAKVyPwvUoGUAAAAAAAIAwQHE9CtejcB1A16NwPQrXFUD2KFyPwvUAQM3MzMzMzCRA4XoUrkfh8j+amZmZmZkwQOF6FK5H4SBAAAAAAADgUUAUrkfhehQjQM3MzMzMzPQ/UrgehetR+D9mZmZmZmYoQGZmZmZmBlVAmpmZmZnZTkAzMzMzMzNGQDMzMzMz80VAcT0K16NwC0AAAAAAAAB1QGZmZmZmZk1AZmZmZmbmMkCDwMqhBSWxQEa28/1UlZRAPzVeuklDh0BkO99PjR15QNejcD0Kt0RAXI/C9SgHgkA=",
          "dtype": "f8"
         }
        }
       ],
       "layout": {
        "legend": {
         "tracegroupgap": 0
        },
        "margin": {
         "t": 60
        },
        "template": {
         "data": {
          "bar": [
           {
            "error_x": {
             "color": "#2a3f5f"
            },
            "error_y": {
             "color": "#2a3f5f"
            },
            "marker": {
             "line": {
              "color": "#E5ECF6",
              "width": 0.5
             },
             "pattern": {
              "fillmode": "overlay",
              "size": 10,
              "solidity": 0.2
             }
            },
            "type": "bar"
           }
          ],
          "barpolar": [
           {
            "marker": {
             "line": {
              "color": "#E5ECF6",
              "width": 0.5
             },
             "pattern": {
              "fillmode": "overlay",
              "size": 10,
              "solidity": 0.2
             }
            },
            "type": "barpolar"
           }
          ],
          "carpet": [
           {
            "aaxis": {
             "endlinecolor": "#2a3f5f",
             "gridcolor": "white",
             "linecolor": "white",
             "minorgridcolor": "white",
             "startlinecolor": "#2a3f5f"
            },
            "baxis": {
             "endlinecolor": "#2a3f5f",
             "gridcolor": "white",
             "linecolor": "white",
             "minorgridcolor": "white",
             "startlinecolor": "#2a3f5f"
            },
            "type": "carpet"
           }
          ],
          "choropleth": [
           {
            "colorbar": {
             "outlinewidth": 0,
             "ticks": ""
            },
            "type": "choropleth"
           }
          ],
          "contour": [
           {
            "colorbar": {
             "outlinewidth": 0,
             "ticks": ""
            },
            "colorscale": [
             [
              0,
              "#0d0887"
             ],
             [
              0.1111111111111111,
              "#46039f"
             ],
             [
              0.2222222222222222,
              "#7201a8"
             ],
             [
              0.3333333333333333,
              "#9c179e"
             ],
             [
              0.4444444444444444,
              "#bd3786"
             ],
             [
              0.5555555555555556,
              "#d8576b"
             ],
             [
              0.6666666666666666,
              "#ed7953"
             ],
             [
              0.7777777777777778,
              "#fb9f3a"
             ],
             [
              0.8888888888888888,
              "#fdca26"
             ],
             [
              1,
              "#f0f921"
             ]
            ],
            "type": "contour"
           }
          ],
          "contourcarpet": [
           {
            "colorbar": {
             "outlinewidth": 0,
             "ticks": ""
            },
            "type": "contourcarpet"
           }
          ],
          "heatmap": [
           {
            "colorbar": {
             "outlinewidth": 0,
             "ticks": ""
            },
            "colorscale": [
             [
              0,
              "#0d0887"
             ],
             [
              0.1111111111111111,
              "#46039f"
             ],
             [
              0.2222222222222222,
              "#7201a8"
             ],
             [
              0.3333333333333333,
              "#9c179e"
             ],
             [
              0.4444444444444444,
              "#bd3786"
             ],
             [
              0.5555555555555556,
              "#d8576b"
             ],
             [
              0.6666666666666666,
              "#ed7953"
             ],
             [
              0.7777777777777778,
              "#fb9f3a"
             ],
             [
              0.8888888888888888,
              "#fdca26"
             ],
             [
              1,
              "#f0f921"
             ]
            ],
            "type": "heatmap"
           }
          ],
          "histogram": [
           {
            "marker": {
             "pattern": {
              "fillmode": "overlay",
              "size": 10,
              "solidity": 0.2
             }
            },
            "type": "histogram"
           }
          ],
          "histogram2d": [
           {
            "colorbar": {
             "outlinewidth": 0,
             "ticks": ""
            },
            "colorscale": [
             [
              0,
              "#0d0887"
             ],
             [
              0.1111111111111111,
              "#46039f"
             ],
             [
              0.2222222222222222,
              "#7201a8"
             ],
             [
              0.3333333333333333,
              "#9c179e"
             ],
             [
              0.4444444444444444,
              "#bd3786"
             ],
             [
              0.5555555555555556,
              "#d8576b"
             ],
             [
              0.6666666666666666,
              "#ed7953"
             ],
             [
              0.7777777777777778,
              "#fb9f3a"
             ],
             [
              0.8888888888888888,
              "#fdca26"
             ],
             [
              1,
              "#f0f921"
             ]
            ],
            "type": "histogram2d"
           }
          ],
          "histogram2dcontour": [
           {
            "colorbar": {
             "outlinewidth": 0,
             "ticks": ""
            },
            "colorscale": [
             [
              0,
              "#0d0887"
             ],
             [
              0.1111111111111111,
              "#46039f"
             ],
             [
              0.2222222222222222,
              "#7201a8"
             ],
             [
              0.3333333333333333,
              "#9c179e"
             ],
             [
              0.4444444444444444,
              "#bd3786"
             ],
             [
              0.5555555555555556,
              "#d8576b"
             ],
             [
              0.6666666666666666,
              "#ed7953"
             ],
             [
              0.7777777777777778,
              "#fb9f3a"
             ],
             [
              0.8888888888888888,
              "#fdca26"
             ],
             [
              1,
              "#f0f921"
             ]
            ],
            "type": "histogram2dcontour"
           }
          ],
          "mesh3d": [
           {
            "colorbar": {
             "outlinewidth": 0,
             "ticks": ""
            },
            "type": "mesh3d"
           }
          ],
          "parcoords": [
           {
            "line": {
             "colorbar": {
              "outlinewidth": 0,
              "ticks": ""
             }
            },
            "type": "parcoords"
           }
          ],
          "pie": [
           {
            "automargin": true,
            "type": "pie"
           }
          ],
          "scatter": [
           {
            "fillpattern": {
             "fillmode": "overlay",
             "size": 10,
             "solidity": 0.2
            },
            "type": "scatter"
           }
          ],
          "scatter3d": [
           {
            "line": {
             "colorbar": {
              "outlinewidth": 0,
              "ticks": ""
             }
            },
            "marker": {
             "colorbar": {
              "outlinewidth": 0,
              "ticks": ""
             }
            },
            "type": "scatter3d"
           }
          ],
          "scattercarpet": [
           {
            "marker": {
             "colorbar": {
              "outlinewidth": 0,
              "ticks": ""
             }
            },
            "type": "scattercarpet"
           }
          ],
          "scattergeo": [
           {
            "marker": {
             "colorbar": {
              "outlinewidth": 0,
              "ticks": ""
             }
            },
            "type": "scattergeo"
           }
          ],
          "scattergl": [
           {
            "marker": {
             "colorbar": {
              "outlinewidth": 0,
              "ticks": ""
             }
            },
            "type": "scattergl"
           }
          ],
          "scattermap": [
           {
            "marker": {
             "colorbar": {
              "outlinewidth": 0,
              "ticks": ""
             }
            },
            "type": "scattermap"
           }
          ],
          "scattermapbox": [
           {
            "marker": {
             "colorbar": {
              "outlinewidth": 0,
              "ticks": ""
             }
            },
            "type": "scattermapbox"
           }
          ],
          "scatterpolar": [
           {
            "marker": {
             "colorbar": {
              "outlinewidth": 0,
              "ticks": ""
             }
            },
            "type": "scatterpolar"
           }
          ],
          "scatterpolargl": [
           {
            "marker": {
             "colorbar": {
              "outlinewidth": 0,
              "ticks": ""
             }
            },
            "type": "scatterpolargl"
           }
          ],
          "scatterternary": [
           {
            "marker": {
             "colorbar": {
              "outlinewidth": 0,
              "ticks": ""
             }
            },
            "type": "scatterternary"
           }
          ],
          "surface": [
           {
            "colorbar": {
             "outlinewidth": 0,
             "ticks": ""
            },
            "colorscale": [
             [
              0,
              "#0d0887"
             ],
             [
              0.1111111111111111,
              "#46039f"
             ],
             [
              0.2222222222222222,
              "#7201a8"
             ],
             [
              0.3333333333333333,
              "#9c179e"
             ],
             [
              0.4444444444444444,
              "#bd3786"
             ],
             [
              0.5555555555555556,
              "#d8576b"
             ],
             [
              0.6666666666666666,
              "#ed7953"
             ],
             [
              0.7777777777777778,
              "#fb9f3a"
             ],
             [
              0.8888888888888888,
              "#fdca26"
             ],
             [
              1,
              "#f0f921"
             ]
            ],
            "type": "surface"
           }
          ],
          "table": [
           {
            "cells": {
             "fill": {
              "color": "#EBF0F8"
             },
             "line": {
              "color": "white"
             }
            },
            "header": {
             "fill": {
              "color": "#C8D4E3"
             },
             "line": {
              "color": "white"
             }
            },
            "type": "table"
           }
          ]
         },
         "layout": {
          "annotationdefaults": {
           "arrowcolor": "#2a3f5f",
           "arrowhead": 0,
           "arrowwidth": 1
          },
          "autotypenumbers": "strict",
          "coloraxis": {
           "colorbar": {
            "outlinewidth": 0,
            "ticks": ""
           }
          },
          "colorscale": {
           "diverging": [
            [
             0,
             "#8e0152"
            ],
            [
             0.1,
             "#c51b7d"
            ],
            [
             0.2,
             "#de77ae"
            ],
            [
             0.3,
             "#f1b6da"
            ],
            [
             0.4,
             "#fde0ef"
            ],
            [
             0.5,
             "#f7f7f7"
            ],
            [
             0.6,
             "#e6f5d0"
            ],
            [
             0.7,
             "#b8e186"
            ],
            [
             0.8,
             "#7fbc41"
            ],
            [
             0.9,
             "#4d9221"
            ],
            [
             1,
             "#276419"
            ]
           ],
           "sequential": [
            [
             0,
             "#0d0887"
            ],
            [
             0.1111111111111111,
             "#46039f"
            ],
            [
             0.2222222222222222,
             "#7201a8"
            ],
            [
             0.3333333333333333,
             "#9c179e"
            ],
            [
             0.4444444444444444,
             "#bd3786"
            ],
            [
             0.5555555555555556,
             "#d8576b"
            ],
            [
             0.6666666666666666,
             "#ed7953"
            ],
            [
             0.7777777777777778,
             "#fb9f3a"
            ],
            [
             0.8888888888888888,
             "#fdca26"
            ],
            [
             1,
             "#f0f921"
            ]
           ],
           "sequentialminus": [
            [
             0,
             "#0d0887"
            ],
            [
             0.1111111111111111,
             "#46039f"
            ],
            [
             0.2222222222222222,
             "#7201a8"
            ],
            [
             0.3333333333333333,
             "#9c179e"
            ],
            [
             0.4444444444444444,
             "#bd3786"
            ],
            [
             0.5555555555555556,
             "#d8576b"
            ],
            [
             0.6666666666666666,
             "#ed7953"
            ],
            [
             0.7777777777777778,
             "#fb9f3a"
            ],
            [
             0.8888888888888888,
             "#fdca26"
            ],
            [
             1,
             "#f0f921"
            ]
           ]
          },
          "colorway": [
           "#636efa",
           "#EF553B",
           "#00cc96",
           "#ab63fa",
           "#FFA15A",
           "#19d3f3",
           "#FF6692",
           "#B6E880",
           "#FF97FF",
           "#FECB52"
          ],
          "font": {
           "color": "#2a3f5f"
          },
          "geo": {
           "bgcolor": "white",
           "lakecolor": "white",
           "landcolor": "#E5ECF6",
           "showlakes": true,
           "showland": true,
           "subunitcolor": "white"
          },
          "hoverlabel": {
           "align": "left"
          },
          "hovermode": "closest",
          "mapbox": {
           "style": "light"
          },
          "paper_bgcolor": "white",
          "plot_bgcolor": "#E5ECF6",
          "polar": {
           "angularaxis": {
            "gridcolor": "white",
            "linecolor": "white",
            "ticks": ""
           },
           "bgcolor": "#E5ECF6",
           "radialaxis": {
            "gridcolor": "white",
            "linecolor": "white",
            "ticks": ""
           }
          },
          "scene": {
           "xaxis": {
            "backgroundcolor": "#E5ECF6",
            "gridcolor": "white",
            "gridwidth": 2,
            "linecolor": "white",
            "showbackground": true,
            "ticks": "",
            "zerolinecolor": "white"
           },
           "yaxis": {
            "backgroundcolor": "#E5ECF6",
            "gridcolor": "white",
            "gridwidth": 2,
            "linecolor": "white",
            "showbackground": true,
            "ticks": "",
            "zerolinecolor": "white"
           },
           "zaxis": {
            "backgroundcolor": "#E5ECF6",
            "gridcolor": "white",
            "gridwidth": 2,
            "linecolor": "white",
            "showbackground": true,
            "ticks": "",
            "zerolinecolor": "white"
           }
          },
          "shapedefaults": {
           "line": {
            "color": "#2a3f5f"
           }
          },
          "ternary": {
           "aaxis": {
            "gridcolor": "white",
            "linecolor": "white",
            "ticks": ""
           },
           "baxis": {
            "gridcolor": "white",
            "linecolor": "white",
            "ticks": ""
           },
           "bgcolor": "#E5ECF6",
           "caxis": {
            "gridcolor": "white",
            "linecolor": "white",
            "ticks": ""
           }
          },
          "title": {
           "x": 0.05
          },
          "xaxis": {
           "automargin": true,
           "gridcolor": "white",
           "linecolor": "white",
           "ticks": "",
           "title": {
            "standoff": 15
           },
           "zerolinecolor": "white",
           "zerolinewidth": 2
          },
          "yaxis": {
           "automargin": true,
           "gridcolor": "white",
           "linecolor": "white",
           "ticks": "",
           "title": {
            "standoff": 15
           },
           "zerolinecolor": "white",
           "zerolinewidth": 2
          }
         }
        }
       }
      }
     },
     "metadata": {},
     "output_type": "display_data"
    }
   ],
   "source": [
    "px.sunburst(gapminder_df.query('Year == 2020'), path=['Continent', 'Country'], values='Population')"
   ]
  },
  {
   "cell_type": "code",
   "execution_count": 21,
   "metadata": {},
   "outputs": [
    {
     "data": {
      "application/vnd.plotly.v1+json": {
       "config": {
        "plotlyServerURL": "https://plot.ly"
       },
       "data": [
        {
         "branchvalues": "total",
         "domain": {
          "x": [
           0,
           1
          ],
          "y": [
           0,
           1
          ]
         },
         "hovertemplate": "labels=%{label}<br>Population=%{value}<br>parent=%{parent}<br>id=%{id}<extra></extra>",
         "ids": [
          "world/Asia/Afghanistan",
          "world/Africa/Angola",
          "world/Europe/Albania",
          "world/South America/Argentina",
          "world/Asia/Armenia",
          "world/Oceania/Australia",
          "world/Europe/Austria",
          "world/Asia/Azerbaijan",
          "world/Africa/Burundi",
          "world/Europe/Belgium",
          "world/Africa/Benin",
          "world/Africa/Burkina Faso",
          "world/Asia/Bangladesh",
          "world/Europe/Bulgaria",
          "world/Asia/Bahrain",
          "world/Europe/Bosnia and Herzegovina",
          "world/Europe/Belarus",
          "world/North America/Belize",
          "world/South America/Bolivia",
          "world/South America/Brazil",
          "world/Asia/Brunei",
          "world/Africa/Botswana",
          "world/Africa/Central African Republic",
          "world/North America/Canada",
          "world/Europe/Switzerland",
          "world/South America/Chile",
          "world/Asia/China",
          "world/Africa/Cote d'Ivoire",
          "world/Africa/Cameroon",
          "world/Africa/Congo, Dem. Rep.",
          "world/Africa/Congo, Rep.",
          "world/South America/Colombia",
          "world/Africa/Cape Verde",
          "world/North America/Costa Rica",
          "world/Asia/Cyprus",
          "world/Europe/Czech Republic",
          "world/Europe/Germany",
          "world/Europe/Denmark",
          "world/North America/Dominican Republic",
          "world/Africa/Algeria",
          "world/South America/Ecuador",
          "world/Africa/Egypt",
          "world/Europe/Spain",
          "world/Europe/Estonia",
          "world/Africa/Ethiopia",
          "world/Europe/Finland",
          "world/Oceania/Fiji",
          "world/Europe/France",
          "world/Africa/Gabon",
          "world/Europe/United Kingdom",
          "world/Asia/Georgia",
          "world/Africa/Ghana",
          "world/Africa/Guinea",
          "world/Africa/Gambia",
          "world/Africa/Guinea-Bissau",
          "world/Europe/Greece",
          "world/North America/Guatemala",
          "world/South America/Guyana",
          "world/North America/Honduras",
          "world/Europe/Croatia",
          "world/North America/Haiti",
          "world/Europe/Hungary",
          "world/Asia/Indonesia",
          "world/Asia/India",
          "world/Europe/Ireland",
          "world/Asia/Iran",
          "world/Asia/Iraq",
          "world/Europe/Iceland",
          "world/Asia/Israel",
          "world/Europe/Italy",
          "world/North America/Jamaica",
          "world/Asia/Jordan",
          "world/Asia/Japan",
          "world/Asia/Kazakhstan",
          "world/Africa/Kenya",
          "world/Asia/Kyrgyz Republic",
          "world/Asia/Cambodia",
          "world/Asia/South Korea",
          "world/Asia/Kuwait",
          "world/Asia/Lebanon",
          "world/Africa/Liberia",
          "world/Asia/Sri Lanka",
          "world/Africa/Lesotho",
          "world/Europe/Lithuania",
          "world/Europe/Luxembourg",
          "world/Europe/Latvia",
          "world/Africa/Morocco",
          "world/Europe/Moldova",
          "world/Africa/Madagascar",
          "world/North America/Mexico",
          "world/Europe/North Macedonia",
          "world/Africa/Mali",
          "world/Europe/Malta",
          "world/Asia/Myanmar",
          "world/Europe/Montenegro",
          "world/Asia/Mongolia",
          "world/Africa/Mozambique",
          "world/Africa/Mauritania",
          "world/Africa/Mauritius",
          "world/Africa/Malawi",
          "world/Asia/Malaysia",
          "world/Africa/Namibia",
          "world/Africa/Niger",
          "world/Africa/Nigeria",
          "world/North America/Nicaragua",
          "world/Europe/Netherlands",
          "world/Europe/Norway",
          "world/Asia/Nepal",
          "world/Oceania/New Zealand",
          "world/Asia/Oman",
          "world/Asia/Pakistan",
          "world/North America/Panama",
          "world/South America/Peru",
          "world/Asia/Philippines",
          "world/Oceania/Papua New Guinea",
          "world/Europe/Poland",
          "world/Europe/Portugal",
          "world/South America/Paraguay",
          "world/Europe/Romania",
          "world/Europe/Russia",
          "world/Africa/Rwanda",
          "world/Asia/Saudi Arabia",
          "world/Africa/Sudan",
          "world/Africa/Senegal",
          "world/Asia/Singapore",
          "world/Africa/Sierra Leone",
          "world/North America/El Salvador",
          "world/Africa/Somalia",
          "world/Europe/Serbia",
          "world/Europe/Slovak Republic",
          "world/Europe/Slovenia",
          "world/Europe/Sweden",
          "world/Africa/Eswatini",
          "world/Africa/Chad",
          "world/Africa/Togo",
          "world/Asia/Thailand",
          "world/Asia/Tajikistan",
          "world/Asia/Timor-Leste",
          "world/North America/Trinidad and Tobago",
          "world/Africa/Tunisia",
          "world/Asia/Turkey",
          "world/Africa/Tanzania",
          "world/Africa/Uganda",
          "world/Europe/Ukraine",
          "world/South America/Uruguay",
          "world/North America/United States",
          "world/Africa/South Africa",
          "world/Africa/Zambia",
          "world/Asia",
          "world/Africa",
          "world/Europe",
          "world/South America",
          "world/Oceania",
          "world/North America",
          "world"
         ],
         "labels": [
          "Afghanistan",
          "Angola",
          "Albania",
          "Argentina",
          "Armenia",
          "Australia",
          "Austria",
          "Azerbaijan",
          "Burundi",
          "Belgium",
          "Benin",
          "Burkina Faso",
          "Bangladesh",
          "Bulgaria",
          "Bahrain",
          "Bosnia and Herzegovina",
          "Belarus",
          "Belize",
          "Bolivia",
          "Brazil",
          "Brunei",
          "Botswana",
          "Central African Republic",
          "Canada",
          "Switzerland",
          "Chile",
          "China",
          "Cote d'Ivoire",
          "Cameroon",
          "Congo, Dem. Rep.",
          "Congo, Rep.",
          "Colombia",
          "Cape Verde",
          "Costa Rica",
          "Cyprus",
          "Czech Republic",
          "Germany",
          "Denmark",
          "Dominican Republic",
          "Algeria",
          "Ecuador",
          "Egypt",
          "Spain",
          "Estonia",
          "Ethiopia",
          "Finland",
          "Fiji",
          "France",
          "Gabon",
          "United Kingdom",
          "Georgia",
          "Ghana",
          "Guinea",
          "Gambia",
          "Guinea-Bissau",
          "Greece",
          "Guatemala",
          "Guyana",
          "Honduras",
          "Croatia",
          "Haiti",
          "Hungary",
          "Indonesia",
          "India",
          "Ireland",
          "Iran",
          "Iraq",
          "Iceland",
          "Israel",
          "Italy",
          "Jamaica",
          "Jordan",
          "Japan",
          "Kazakhstan",
          "Kenya",
          "Kyrgyz Republic",
          "Cambodia",
          "South Korea",
          "Kuwait",
          "Lebanon",
          "Liberia",
          "Sri Lanka",
          "Lesotho",
          "Lithuania",
          "Luxembourg",
          "Latvia",
          "Morocco",
          "Moldova",
          "Madagascar",
          "Mexico",
          "North Macedonia",
          "Mali",
          "Malta",
          "Myanmar",
          "Montenegro",
          "Mongolia",
          "Mozambique",
          "Mauritania",
          "Mauritius",
          "Malawi",
          "Malaysia",
          "Namibia",
          "Niger",
          "Nigeria",
          "Nicaragua",
          "Netherlands",
          "Norway",
          "Nepal",
          "New Zealand",
          "Oman",
          "Pakistan",
          "Panama",
          "Peru",
          "Philippines",
          "Papua New Guinea",
          "Poland",
          "Portugal",
          "Paraguay",
          "Romania",
          "Russia",
          "Rwanda",
          "Saudi Arabia",
          "Sudan",
          "Senegal",
          "Singapore",
          "Sierra Leone",
          "El Salvador",
          "Somalia",
          "Serbia",
          "Slovak Republic",
          "Slovenia",
          "Sweden",
          "Eswatini",
          "Chad",
          "Togo",
          "Thailand",
          "Tajikistan",
          "Timor-Leste",
          "Trinidad and Tobago",
          "Tunisia",
          "Turkey",
          "Tanzania",
          "Uganda",
          "Ukraine",
          "Uruguay",
          "United States",
          "South Africa",
          "Zambia",
          "Asia",
          "Africa",
          "Europe",
          "South America",
          "Oceania",
          "North America",
          "world"
         ],
         "name": "",
         "parents": [
          "world/Asia",
          "world/Africa",
          "world/Europe",
          "world/South America",
          "world/Asia",
          "world/Oceania",
          "world/Europe",
          "world/Asia",
          "world/Africa",
          "world/Europe",
          "world/Africa",
          "world/Africa",
          "world/Asia",
          "world/Europe",
          "world/Asia",
          "world/Europe",
          "world/Europe",
          "world/North America",
          "world/South America",
          "world/South America",
          "world/Asia",
          "world/Africa",
          "world/Africa",
          "world/North America",
          "world/Europe",
          "world/South America",
          "world/Asia",
          "world/Africa",
          "world/Africa",
          "world/Africa",
          "world/Africa",
          "world/South America",
          "world/Africa",
          "world/North America",
          "world/Asia",
          "world/Europe",
          "world/Europe",
          "world/Europe",
          "world/North America",
          "world/Africa",
          "world/South America",
          "world/Africa",
          "world/Europe",
          "world/Europe",
          "world/Africa",
          "world/Europe",
          "world/Oceania",
          "world/Europe",
          "world/Africa",
          "world/Europe",
          "world/Asia",
          "world/Africa",
          "world/Africa",
          "world/Africa",
          "world/Africa",
          "world/Europe",
          "world/North America",
          "world/South America",
          "world/North America",
          "world/Europe",
          "world/North America",
          "world/Europe",
          "world/Asia",
          "world/Asia",
          "world/Europe",
          "world/Asia",
          "world/Asia",
          "world/Europe",
          "world/Asia",
          "world/Europe",
          "world/North America",
          "world/Asia",
          "world/Asia",
          "world/Asia",
          "world/Africa",
          "world/Asia",
          "world/Asia",
          "world/Asia",
          "world/Asia",
          "world/Asia",
          "world/Africa",
          "world/Asia",
          "world/Africa",
          "world/Europe",
          "world/Europe",
          "world/Europe",
          "world/Africa",
          "world/Europe",
          "world/Africa",
          "world/North America",
          "world/Europe",
          "world/Africa",
          "world/Europe",
          "world/Asia",
          "world/Europe",
          "world/Asia",
          "world/Africa",
          "world/Africa",
          "world/Africa",
          "world/Africa",
          "world/Asia",
          "world/Africa",
          "world/Africa",
          "world/Africa",
          "world/North America",
          "world/Europe",
          "world/Europe",
          "world/Asia",
          "world/Oceania",
          "world/Asia",
          "world/Asia",
          "world/North America",
          "world/South America",
          "world/Asia",
          "world/Oceania",
          "world/Europe",
          "world/Europe",
          "world/South America",
          "world/Europe",
          "world/Europe",
          "world/Africa",
          "world/Asia",
          "world/Africa",
          "world/Africa",
          "world/Asia",
          "world/Africa",
          "world/North America",
          "world/Africa",
          "world/Europe",
          "world/Europe",
          "world/Europe",
          "world/Europe",
          "world/Africa",
          "world/Africa",
          "world/Africa",
          "world/Asia",
          "world/Asia",
          "world/Asia",
          "world/North America",
          "world/Africa",
          "world/Asia",
          "world/Africa",
          "world/Africa",
          "world/Europe",
          "world/South America",
          "world/North America",
          "world/Africa",
          "world/Africa",
          "world",
          "world",
          "world",
          "world",
          "world",
          "world",
          ""
         ],
         "type": "sunburst",
         "values": {
          "bdata": "AAAAAACAQ0AzMzMzM7NAQPYoXI/C9QZAAAAAAACARkB7FK5H4XoGQDMzMzMzszlAUrgehevRIUCamZmZmZkkQGZmZmZmZihAMzMzMzMzJ0AzMzMzMzMpQAAAAAAAgDVAAAAAAADgZEDsUbgehesbQK5H4XoUrvc/j8L1KFyPCkDD9Shcj0IjQEjhehSuR9k/zczMzMzMJ0AAAAAAAKBqQH0/NV66Sdw/ZmZmZmZmBEBcj8L1KFwVQDMzMzMz80JASOF6FK5HIUDNzMzMzEwzQAAAAAAAMJZAzczMzMzMOkAAAAAAAIA6QJqZmZmZOVdAzczMzMzMFkAzMzMzM3NJQA4tsp3vp+I/exSuR+F6FEDXo3A9CtfzPwAAAAAAACVAMzMzMzPTVEBSuB6F61EXQAAAAAAAACZAAAAAAADARUCamZmZmZkxQAAAAAAAwFpAMzMzMzOzR0BI4XoUrkf1PwAAAAAAQF1AH4XrUbgeFkBxPQrXo3DtPwAAAAAAIFBAUrgehetRAkBmZmZmZsZQQClcj8L1KA5AmpmZmZkZQEBmZmZmZmYqQI/C9ShcjwRAKVyPwvUoAEAAAAAAAAAlQGZmZmZmZjFAGy/dJAaB6T8zMzMzMzMkQGZmZmZmZhBAmpmZmZmZJkAAAAAAAIAjQAAAAAAAAHFAAAAAAADglUDNzMzMzMwTQDMzMzMz01VAzczMzMxMRUCwcmiR7XzXP4XrUbgehSFAAAAAAADATUCPwvUoXI8GQM3MzMzMzCVAAAAAAABAX0AAAAAAAAAzQAAAAAAAAEpArkfhehSuGUBmZmZmZmYwQGZmZmZm5klAcT0K16NwEUCkcD0K16MWQFyPwvUoXBRAMzMzMzOzNUAAAAAAAAACQI/C9ShcjwZAKVyPwvUo5D9mZmZmZmb+P5qZmZmZWUJApHA9CtejCEAzMzMzMzM8QAAAAAAAgF9A4XoUrkfhAEAzMzMzMzM1QHsUrkfheuA/MzMzMzOzSkBU46WbxCDkP1K4HoXrUQpAMzMzMzMzP0AAAAAAAAASQM3MzMzMzPQ/ZmZmZmZmM0CamZmZmZlAQOxRuB6F6wNAzczMzMxMOEAAAAAAAABqQArXo3A9ChtAZmZmZmZmMUCF61G4HoUVQM3MzMzMTD1APQrXo3A9FEApXI/C9SgSQAAAAAAAYGxAKVyPwvUoEUBmZmZmZqZAQAAAAAAAAFxAAAAAAACAI0AzMzMzMzNDQJqZmZmZmSRAexSuR+F6GkBmZmZmZmYzQAAAAAAAQGJAMzMzMzMzKkAAAAAAAABCQDMzMzMzM0ZAZmZmZmZmMECkcD0K16MXQPYoXI/CdSBAKVyPwvUoGUAAAAAAAIAwQHE9CtejcB1A16NwPQrXFUD2KFyPwvUAQM3MzMzMzCRA4XoUrkfh8j+amZmZmZkwQOF6FK5H4SBAAAAAAADgUUAUrkfhehQjQM3MzMzMzPQ/UrgehetR+D9mZmZmZmYoQGZmZmZmBlVAmpmZmZnZTkAzMzMzMzNGQDMzMzMz80VAcT0K16NwC0AAAAAAAAB1QGZmZmZmZk1AZmZmZmbmMkCDwMqhBSWxQEa28/1UlZRAPzVeuklDh0BkO99PjR15QNejcD0Kt0RAXI/C9SgHgkCmm8Qg8C69QA==",
          "dtype": "f8"
         }
        }
       ],
       "layout": {
        "legend": {
         "tracegroupgap": 0
        },
        "margin": {
         "t": 60
        },
        "template": {
         "data": {
          "bar": [
           {
            "error_x": {
             "color": "#2a3f5f"
            },
            "error_y": {
             "color": "#2a3f5f"
            },
            "marker": {
             "line": {
              "color": "#E5ECF6",
              "width": 0.5
             },
             "pattern": {
              "fillmode": "overlay",
              "size": 10,
              "solidity": 0.2
             }
            },
            "type": "bar"
           }
          ],
          "barpolar": [
           {
            "marker": {
             "line": {
              "color": "#E5ECF6",
              "width": 0.5
             },
             "pattern": {
              "fillmode": "overlay",
              "size": 10,
              "solidity": 0.2
             }
            },
            "type": "barpolar"
           }
          ],
          "carpet": [
           {
            "aaxis": {
             "endlinecolor": "#2a3f5f",
             "gridcolor": "white",
             "linecolor": "white",
             "minorgridcolor": "white",
             "startlinecolor": "#2a3f5f"
            },
            "baxis": {
             "endlinecolor": "#2a3f5f",
             "gridcolor": "white",
             "linecolor": "white",
             "minorgridcolor": "white",
             "startlinecolor": "#2a3f5f"
            },
            "type": "carpet"
           }
          ],
          "choropleth": [
           {
            "colorbar": {
             "outlinewidth": 0,
             "ticks": ""
            },
            "type": "choropleth"
           }
          ],
          "contour": [
           {
            "colorbar": {
             "outlinewidth": 0,
             "ticks": ""
            },
            "colorscale": [
             [
              0,
              "#0d0887"
             ],
             [
              0.1111111111111111,
              "#46039f"
             ],
             [
              0.2222222222222222,
              "#7201a8"
             ],
             [
              0.3333333333333333,
              "#9c179e"
             ],
             [
              0.4444444444444444,
              "#bd3786"
             ],
             [
              0.5555555555555556,
              "#d8576b"
             ],
             [
              0.6666666666666666,
              "#ed7953"
             ],
             [
              0.7777777777777778,
              "#fb9f3a"
             ],
             [
              0.8888888888888888,
              "#fdca26"
             ],
             [
              1,
              "#f0f921"
             ]
            ],
            "type": "contour"
           }
          ],
          "contourcarpet": [
           {
            "colorbar": {
             "outlinewidth": 0,
             "ticks": ""
            },
            "type": "contourcarpet"
           }
          ],
          "heatmap": [
           {
            "colorbar": {
             "outlinewidth": 0,
             "ticks": ""
            },
            "colorscale": [
             [
              0,
              "#0d0887"
             ],
             [
              0.1111111111111111,
              "#46039f"
             ],
             [
              0.2222222222222222,
              "#7201a8"
             ],
             [
              0.3333333333333333,
              "#9c179e"
             ],
             [
              0.4444444444444444,
              "#bd3786"
             ],
             [
              0.5555555555555556,
              "#d8576b"
             ],
             [
              0.6666666666666666,
              "#ed7953"
             ],
             [
              0.7777777777777778,
              "#fb9f3a"
             ],
             [
              0.8888888888888888,
              "#fdca26"
             ],
             [
              1,
              "#f0f921"
             ]
            ],
            "type": "heatmap"
           }
          ],
          "histogram": [
           {
            "marker": {
             "pattern": {
              "fillmode": "overlay",
              "size": 10,
              "solidity": 0.2
             }
            },
            "type": "histogram"
           }
          ],
          "histogram2d": [
           {
            "colorbar": {
             "outlinewidth": 0,
             "ticks": ""
            },
            "colorscale": [
             [
              0,
              "#0d0887"
             ],
             [
              0.1111111111111111,
              "#46039f"
             ],
             [
              0.2222222222222222,
              "#7201a8"
             ],
             [
              0.3333333333333333,
              "#9c179e"
             ],
             [
              0.4444444444444444,
              "#bd3786"
             ],
             [
              0.5555555555555556,
              "#d8576b"
             ],
             [
              0.6666666666666666,
              "#ed7953"
             ],
             [
              0.7777777777777778,
              "#fb9f3a"
             ],
             [
              0.8888888888888888,
              "#fdca26"
             ],
             [
              1,
              "#f0f921"
             ]
            ],
            "type": "histogram2d"
           }
          ],
          "histogram2dcontour": [
           {
            "colorbar": {
             "outlinewidth": 0,
             "ticks": ""
            },
            "colorscale": [
             [
              0,
              "#0d0887"
             ],
             [
              0.1111111111111111,
              "#46039f"
             ],
             [
              0.2222222222222222,
              "#7201a8"
             ],
             [
              0.3333333333333333,
              "#9c179e"
             ],
             [
              0.4444444444444444,
              "#bd3786"
             ],
             [
              0.5555555555555556,
              "#d8576b"
             ],
             [
              0.6666666666666666,
              "#ed7953"
             ],
             [
              0.7777777777777778,
              "#fb9f3a"
             ],
             [
              0.8888888888888888,
              "#fdca26"
             ],
             [
              1,
              "#f0f921"
             ]
            ],
            "type": "histogram2dcontour"
           }
          ],
          "mesh3d": [
           {
            "colorbar": {
             "outlinewidth": 0,
             "ticks": ""
            },
            "type": "mesh3d"
           }
          ],
          "parcoords": [
           {
            "line": {
             "colorbar": {
              "outlinewidth": 0,
              "ticks": ""
             }
            },
            "type": "parcoords"
           }
          ],
          "pie": [
           {
            "automargin": true,
            "type": "pie"
           }
          ],
          "scatter": [
           {
            "fillpattern": {
             "fillmode": "overlay",
             "size": 10,
             "solidity": 0.2
            },
            "type": "scatter"
           }
          ],
          "scatter3d": [
           {
            "line": {
             "colorbar": {
              "outlinewidth": 0,
              "ticks": ""
             }
            },
            "marker": {
             "colorbar": {
              "outlinewidth": 0,
              "ticks": ""
             }
            },
            "type": "scatter3d"
           }
          ],
          "scattercarpet": [
           {
            "marker": {
             "colorbar": {
              "outlinewidth": 0,
              "ticks": ""
             }
            },
            "type": "scattercarpet"
           }
          ],
          "scattergeo": [
           {
            "marker": {
             "colorbar": {
              "outlinewidth": 0,
              "ticks": ""
             }
            },
            "type": "scattergeo"
           }
          ],
          "scattergl": [
           {
            "marker": {
             "colorbar": {
              "outlinewidth": 0,
              "ticks": ""
             }
            },
            "type": "scattergl"
           }
          ],
          "scattermap": [
           {
            "marker": {
             "colorbar": {
              "outlinewidth": 0,
              "ticks": ""
             }
            },
            "type": "scattermap"
           }
          ],
          "scattermapbox": [
           {
            "marker": {
             "colorbar": {
              "outlinewidth": 0,
              "ticks": ""
             }
            },
            "type": "scattermapbox"
           }
          ],
          "scatterpolar": [
           {
            "marker": {
             "colorbar": {
              "outlinewidth": 0,
              "ticks": ""
             }
            },
            "type": "scatterpolar"
           }
          ],
          "scatterpolargl": [
           {
            "marker": {
             "colorbar": {
              "outlinewidth": 0,
              "ticks": ""
             }
            },
            "type": "scatterpolargl"
           }
          ],
          "scatterternary": [
           {
            "marker": {
             "colorbar": {
              "outlinewidth": 0,
              "ticks": ""
             }
            },
            "type": "scatterternary"
           }
          ],
          "surface": [
           {
            "colorbar": {
             "outlinewidth": 0,
             "ticks": ""
            },
            "colorscale": [
             [
              0,
              "#0d0887"
             ],
             [
              0.1111111111111111,
              "#46039f"
             ],
             [
              0.2222222222222222,
              "#7201a8"
             ],
             [
              0.3333333333333333,
              "#9c179e"
             ],
             [
              0.4444444444444444,
              "#bd3786"
             ],
             [
              0.5555555555555556,
              "#d8576b"
             ],
             [
              0.6666666666666666,
              "#ed7953"
             ],
             [
              0.7777777777777778,
              "#fb9f3a"
             ],
             [
              0.8888888888888888,
              "#fdca26"
             ],
             [
              1,
              "#f0f921"
             ]
            ],
            "type": "surface"
           }
          ],
          "table": [
           {
            "cells": {
             "fill": {
              "color": "#EBF0F8"
             },
             "line": {
              "color": "white"
             }
            },
            "header": {
             "fill": {
              "color": "#C8D4E3"
             },
             "line": {
              "color": "white"
             }
            },
            "type": "table"
           }
          ]
         },
         "layout": {
          "annotationdefaults": {
           "arrowcolor": "#2a3f5f",
           "arrowhead": 0,
           "arrowwidth": 1
          },
          "autotypenumbers": "strict",
          "coloraxis": {
           "colorbar": {
            "outlinewidth": 0,
            "ticks": ""
           }
          },
          "colorscale": {
           "diverging": [
            [
             0,
             "#8e0152"
            ],
            [
             0.1,
             "#c51b7d"
            ],
            [
             0.2,
             "#de77ae"
            ],
            [
             0.3,
             "#f1b6da"
            ],
            [
             0.4,
             "#fde0ef"
            ],
            [
             0.5,
             "#f7f7f7"
            ],
            [
             0.6,
             "#e6f5d0"
            ],
            [
             0.7,
             "#b8e186"
            ],
            [
             0.8,
             "#7fbc41"
            ],
            [
             0.9,
             "#4d9221"
            ],
            [
             1,
             "#276419"
            ]
           ],
           "sequential": [
            [
             0,
             "#0d0887"
            ],
            [
             0.1111111111111111,
             "#46039f"
            ],
            [
             0.2222222222222222,
             "#7201a8"
            ],
            [
             0.3333333333333333,
             "#9c179e"
            ],
            [
             0.4444444444444444,
             "#bd3786"
            ],
            [
             0.5555555555555556,
             "#d8576b"
            ],
            [
             0.6666666666666666,
             "#ed7953"
            ],
            [
             0.7777777777777778,
             "#fb9f3a"
            ],
            [
             0.8888888888888888,
             "#fdca26"
            ],
            [
             1,
             "#f0f921"
            ]
           ],
           "sequentialminus": [
            [
             0,
             "#0d0887"
            ],
            [
             0.1111111111111111,
             "#46039f"
            ],
            [
             0.2222222222222222,
             "#7201a8"
            ],
            [
             0.3333333333333333,
             "#9c179e"
            ],
            [
             0.4444444444444444,
             "#bd3786"
            ],
            [
             0.5555555555555556,
             "#d8576b"
            ],
            [
             0.6666666666666666,
             "#ed7953"
            ],
            [
             0.7777777777777778,
             "#fb9f3a"
            ],
            [
             0.8888888888888888,
             "#fdca26"
            ],
            [
             1,
             "#f0f921"
            ]
           ]
          },
          "colorway": [
           "#636efa",
           "#EF553B",
           "#00cc96",
           "#ab63fa",
           "#FFA15A",
           "#19d3f3",
           "#FF6692",
           "#B6E880",
           "#FF97FF",
           "#FECB52"
          ],
          "font": {
           "color": "#2a3f5f"
          },
          "geo": {
           "bgcolor": "white",
           "lakecolor": "white",
           "landcolor": "#E5ECF6",
           "showlakes": true,
           "showland": true,
           "subunitcolor": "white"
          },
          "hoverlabel": {
           "align": "left"
          },
          "hovermode": "closest",
          "mapbox": {
           "style": "light"
          },
          "paper_bgcolor": "white",
          "plot_bgcolor": "#E5ECF6",
          "polar": {
           "angularaxis": {
            "gridcolor": "white",
            "linecolor": "white",
            "ticks": ""
           },
           "bgcolor": "#E5ECF6",
           "radialaxis": {
            "gridcolor": "white",
            "linecolor": "white",
            "ticks": ""
           }
          },
          "scene": {
           "xaxis": {
            "backgroundcolor": "#E5ECF6",
            "gridcolor": "white",
            "gridwidth": 2,
            "linecolor": "white",
            "showbackground": true,
            "ticks": "",
            "zerolinecolor": "white"
           },
           "yaxis": {
            "backgroundcolor": "#E5ECF6",
            "gridcolor": "white",
            "gridwidth": 2,
            "linecolor": "white",
            "showbackground": true,
            "ticks": "",
            "zerolinecolor": "white"
           },
           "zaxis": {
            "backgroundcolor": "#E5ECF6",
            "gridcolor": "white",
            "gridwidth": 2,
            "linecolor": "white",
            "showbackground": true,
            "ticks": "",
            "zerolinecolor": "white"
           }
          },
          "shapedefaults": {
           "line": {
            "color": "#2a3f5f"
           }
          },
          "ternary": {
           "aaxis": {
            "gridcolor": "white",
            "linecolor": "white",
            "ticks": ""
           },
           "baxis": {
            "gridcolor": "white",
            "linecolor": "white",
            "ticks": ""
           },
           "bgcolor": "#E5ECF6",
           "caxis": {
            "gridcolor": "white",
            "linecolor": "white",
            "ticks": ""
           }
          },
          "title": {
           "x": 0.05
          },
          "xaxis": {
           "automargin": true,
           "gridcolor": "white",
           "linecolor": "white",
           "ticks": "",
           "title": {
            "standoff": 15
           },
           "zerolinecolor": "white",
           "zerolinewidth": 2
          },
          "yaxis": {
           "automargin": true,
           "gridcolor": "white",
           "linecolor": "white",
           "ticks": "",
           "title": {
            "standoff": 15
           },
           "zerolinecolor": "white",
           "zerolinewidth": 2
          }
         }
        }
       }
      }
     },
     "metadata": {},
     "output_type": "display_data"
    }
   ],
   "source": [
    "px.sunburst(gapminder_df.query('Year == 2020'), path=[px.Constant('world'),'Continent', 'Country'], values='Population')"
   ]
  },
  {
   "cell_type": "code",
   "execution_count": 22,
   "metadata": {},
   "outputs": [
    {
     "data": {
      "application/vnd.plotly.v1+json": {
       "config": {
        "plotlyServerURL": "https://plot.ly"
       },
       "data": [
        {
         "branchvalues": "total",
         "customdata": {
          "bdata": "MzMzMzOzT0DNzMzMzExQQJqZmZmZeVNAZmZmZmamUkAAAAAAAIBSQJqZmZmZuVRAAAAAAABgVECamZmZmZlRQAAAAAAAAFBAzczMzMwMVEBmZmZmZiZQQGdmZmZm5k5AzczMzMysUkAzMzMzM/NRQDMzMzMzE1NAmpmZmZnZUkAAAAAAAGBSQGZmZmZmBlJAMzMzMzNzUUBmZmZmZmZSQJqZmZmZmVJAzczMzMzMTkAzMzMzMzNKQAAAAAAAYFRAzczMzMzMVEBmZmZmZsZTQM3MzMzMbFNAmpmZmZkZUEAAAAAAAMBPQM3MzMzMTFBAmpmZmZlZUEAzMzMzM3NTQGZmZmZmRlJAmpmZmZm5U0AzMzMzMzNUQAAAAAAAoFNAAAAAAABAVEDNzMzMzExUQM3MzMzMLFJAzczMzMwMU0CamZmZmXlSQAAAAAAAwFFAAAAAAABgVEDNzMzMzGxTQAAAAAAAQFFAAAAAAACAVECamZmZmRlRQM3MzMzMjFRAMzMzMzPzUECamZmZmdlTQGZmZmZmJlJAmpmZmZmZUEBnZmZmZqZOQJqZmZmZuVBAAAAAAACATkCamZmZmRlUQAAAAAAA4FFAMzMzMzOzUEDNzMzMzKxRQJqZmZmZeVNAMzMzMzPzT0AzMzMzM/NSQJqZmZmZ2VFAMzMzMzOzUUBmZmZmZkZUQM3MzMzMDFNAZmZmZmYGUkAAAAAAAABVQAAAAAAAgFRAmpmZmZl5VEDNzMzMzAxTQJqZmZmZOVNAzczMzMwsVUDNzMzMzMxRQJqZmZmZmVBAmpmZmZk5UkAAAAAAAIBRQDMzMzMzs1RAzczMzMxMVEDNzMzMzAxTQM3MzMzMjFBAMzMzMzNTU0AAAAAAAABKQDMzMzMzs1JAAAAAAACAVECamZmZmflSQAAAAAAAQFJAMzMzMzNTUkBmZmZmZmZQQAAAAAAAQFJAMzMzMzMzUkD///////9OQDMzMzMzk1RAmpmZmZlZUUCamZmZmZlSQM3MzMzMDFFAMzMzMzMzTUDNzMzMzKxRQAAAAAAA4FJAMzMzMzMzUEBmZmZmZsZSQJqZmZmZWVBAzczMzMxMT0AAAAAAACBQQJqZmZmZ2VJAAAAAAABAVEDNzMzMzMxUQGZmZmZmxlFAMzMzMzNzVEDNzMzMzCxSQJqZmZmZeVBAAAAAAABAU0CamZmZmVlTQDMzMzMz81FAMzMzMzMzUEDNzMzMzCxTQJqZmZmZOVRAzczMzMzsUkBmZmZmZoZSQM3MzMzMzFFAzczMzMwsUUAzMzMzM5NSQAAAAAAAoFFAAAAAAAAgUUCamZmZmTlVQDMzMzMz805AZmZmZmbGUkDNzMzMzExNQM3MzMzMzFJAzczMzMwsU0CamZmZmRlUQAAAAAAAgFRAAAAAAAAATUAAAAAAAEBOQM3MzMzMTFBAAAAAAACgU0BmZmZmZmZRQM3MzMzMrFFAMzMzMzOzUkAAAAAAAEBTQDMzMzMzc1NAMzMzMzPTUECamZmZmZlQQM3MzMzMTFJAMzMzMzNTU0AAAAAAAEBTQDMzMzMzE1BAzczMzMyMT0DWoq+9BoBSQDpRIYbQllBAFV1n8AlzU0CRAqZWr7FSQJucgMvHi1NA77X5ImHxUkA=",
          "dtype": "f8",
          "shape": "154, 1"
         },
         "domain": {
          "x": [
           0,
           1
          ],
          "y": [
           0,
           1
          ]
         },
         "hovertemplate": "labels=%{label}<br>Population=%{value}<br>parent=%{parent}<br>id=%{id}<br>Life Expectancy=%{color}<extra></extra>",
         "ids": [
          "Asia/Afghanistan",
          "Africa/Angola",
          "Europe/Albania",
          "South America/Argentina",
          "Asia/Armenia",
          "Oceania/Australia",
          "Europe/Austria",
          "Asia/Azerbaijan",
          "Africa/Burundi",
          "Europe/Belgium",
          "Africa/Benin",
          "Africa/Burkina Faso",
          "Asia/Bangladesh",
          "Europe/Bulgaria",
          "Asia/Bahrain",
          "Europe/Bosnia and Herzegovina",
          "Europe/Belarus",
          "North America/Belize",
          "South America/Bolivia",
          "South America/Brazil",
          "Asia/Brunei",
          "Africa/Botswana",
          "Africa/Central African Republic",
          "North America/Canada",
          "Europe/Switzerland",
          "South America/Chile",
          "Asia/China",
          "Africa/Cote d'Ivoire",
          "Africa/Cameroon",
          "Africa/Congo, Dem. Rep.",
          "Africa/Congo, Rep.",
          "South America/Colombia",
          "Africa/Cape Verde",
          "North America/Costa Rica",
          "Asia/Cyprus",
          "Europe/Czech Republic",
          "Europe/Germany",
          "Europe/Denmark",
          "North America/Dominican Republic",
          "Africa/Algeria",
          "South America/Ecuador",
          "Africa/Egypt",
          "Europe/Spain",
          "Europe/Estonia",
          "Africa/Ethiopia",
          "Europe/Finland",
          "Oceania/Fiji",
          "Europe/France",
          "Africa/Gabon",
          "Europe/United Kingdom",
          "Asia/Georgia",
          "Africa/Ghana",
          "Africa/Guinea",
          "Africa/Gambia",
          "Africa/Guinea-Bissau",
          "Europe/Greece",
          "North America/Guatemala",
          "South America/Guyana",
          "North America/Honduras",
          "Europe/Croatia",
          "North America/Haiti",
          "Europe/Hungary",
          "Asia/Indonesia",
          "Asia/India",
          "Europe/Ireland",
          "Asia/Iran",
          "Asia/Iraq",
          "Europe/Iceland",
          "Asia/Israel",
          "Europe/Italy",
          "North America/Jamaica",
          "Asia/Jordan",
          "Asia/Japan",
          "Asia/Kazakhstan",
          "Africa/Kenya",
          "Asia/Kyrgyz Republic",
          "Asia/Cambodia",
          "Asia/South Korea",
          "Asia/Kuwait",
          "Asia/Lebanon",
          "Africa/Liberia",
          "Asia/Sri Lanka",
          "Africa/Lesotho",
          "Europe/Lithuania",
          "Europe/Luxembourg",
          "Europe/Latvia",
          "Africa/Morocco",
          "Europe/Moldova",
          "Africa/Madagascar",
          "North America/Mexico",
          "Europe/North Macedonia",
          "Africa/Mali",
          "Europe/Malta",
          "Asia/Myanmar",
          "Europe/Montenegro",
          "Asia/Mongolia",
          "Africa/Mozambique",
          "Africa/Mauritania",
          "Africa/Mauritius",
          "Africa/Malawi",
          "Asia/Malaysia",
          "Africa/Namibia",
          "Africa/Niger",
          "Africa/Nigeria",
          "North America/Nicaragua",
          "Europe/Netherlands",
          "Europe/Norway",
          "Asia/Nepal",
          "Oceania/New Zealand",
          "Asia/Oman",
          "Asia/Pakistan",
          "North America/Panama",
          "South America/Peru",
          "Asia/Philippines",
          "Oceania/Papua New Guinea",
          "Europe/Poland",
          "Europe/Portugal",
          "South America/Paraguay",
          "Europe/Romania",
          "Europe/Russia",
          "Africa/Rwanda",
          "Asia/Saudi Arabia",
          "Africa/Sudan",
          "Africa/Senegal",
          "Asia/Singapore",
          "Africa/Sierra Leone",
          "North America/El Salvador",
          "Africa/Somalia",
          "Europe/Serbia",
          "Europe/Slovak Republic",
          "Europe/Slovenia",
          "Europe/Sweden",
          "Africa/Eswatini",
          "Africa/Chad",
          "Africa/Togo",
          "Asia/Thailand",
          "Asia/Tajikistan",
          "Asia/Timor-Leste",
          "North America/Trinidad and Tobago",
          "Africa/Tunisia",
          "Asia/Turkey",
          "Africa/Tanzania",
          "Africa/Uganda",
          "Europe/Ukraine",
          "South America/Uruguay",
          "North America/United States",
          "Africa/South Africa",
          "Africa/Zambia",
          "Asia",
          "Africa",
          "Europe",
          "South America",
          "Oceania",
          "North America"
         ],
         "labels": [
          "Afghanistan",
          "Angola",
          "Albania",
          "Argentina",
          "Armenia",
          "Australia",
          "Austria",
          "Azerbaijan",
          "Burundi",
          "Belgium",
          "Benin",
          "Burkina Faso",
          "Bangladesh",
          "Bulgaria",
          "Bahrain",
          "Bosnia and Herzegovina",
          "Belarus",
          "Belize",
          "Bolivia",
          "Brazil",
          "Brunei",
          "Botswana",
          "Central African Republic",
          "Canada",
          "Switzerland",
          "Chile",
          "China",
          "Cote d'Ivoire",
          "Cameroon",
          "Congo, Dem. Rep.",
          "Congo, Rep.",
          "Colombia",
          "Cape Verde",
          "Costa Rica",
          "Cyprus",
          "Czech Republic",
          "Germany",
          "Denmark",
          "Dominican Republic",
          "Algeria",
          "Ecuador",
          "Egypt",
          "Spain",
          "Estonia",
          "Ethiopia",
          "Finland",
          "Fiji",
          "France",
          "Gabon",
          "United Kingdom",
          "Georgia",
          "Ghana",
          "Guinea",
          "Gambia",
          "Guinea-Bissau",
          "Greece",
          "Guatemala",
          "Guyana",
          "Honduras",
          "Croatia",
          "Haiti",
          "Hungary",
          "Indonesia",
          "India",
          "Ireland",
          "Iran",
          "Iraq",
          "Iceland",
          "Israel",
          "Italy",
          "Jamaica",
          "Jordan",
          "Japan",
          "Kazakhstan",
          "Kenya",
          "Kyrgyz Republic",
          "Cambodia",
          "South Korea",
          "Kuwait",
          "Lebanon",
          "Liberia",
          "Sri Lanka",
          "Lesotho",
          "Lithuania",
          "Luxembourg",
          "Latvia",
          "Morocco",
          "Moldova",
          "Madagascar",
          "Mexico",
          "North Macedonia",
          "Mali",
          "Malta",
          "Myanmar",
          "Montenegro",
          "Mongolia",
          "Mozambique",
          "Mauritania",
          "Mauritius",
          "Malawi",
          "Malaysia",
          "Namibia",
          "Niger",
          "Nigeria",
          "Nicaragua",
          "Netherlands",
          "Norway",
          "Nepal",
          "New Zealand",
          "Oman",
          "Pakistan",
          "Panama",
          "Peru",
          "Philippines",
          "Papua New Guinea",
          "Poland",
          "Portugal",
          "Paraguay",
          "Romania",
          "Russia",
          "Rwanda",
          "Saudi Arabia",
          "Sudan",
          "Senegal",
          "Singapore",
          "Sierra Leone",
          "El Salvador",
          "Somalia",
          "Serbia",
          "Slovak Republic",
          "Slovenia",
          "Sweden",
          "Eswatini",
          "Chad",
          "Togo",
          "Thailand",
          "Tajikistan",
          "Timor-Leste",
          "Trinidad and Tobago",
          "Tunisia",
          "Turkey",
          "Tanzania",
          "Uganda",
          "Ukraine",
          "Uruguay",
          "United States",
          "South Africa",
          "Zambia",
          "Asia",
          "Africa",
          "Europe",
          "South America",
          "Oceania",
          "North America"
         ],
         "marker": {
          "coloraxis": "coloraxis",
          "colors": {
           "bdata": "MzMzMzOzT0DNzMzMzExQQJqZmZmZeVNAZmZmZmamUkAAAAAAAIBSQJqZmZmZuVRAAAAAAABgVECamZmZmZlRQAAAAAAAAFBAzczMzMwMVEBmZmZmZiZQQGdmZmZm5k5AzczMzMysUkAzMzMzM/NRQDMzMzMzE1NAmpmZmZnZUkAAAAAAAGBSQGZmZmZmBlJAMzMzMzNzUUBmZmZmZmZSQJqZmZmZmVJAzczMzMzMTkAzMzMzMzNKQAAAAAAAYFRAzczMzMzMVEBmZmZmZsZTQM3MzMzMbFNAmpmZmZkZUEAAAAAAAMBPQM3MzMzMTFBAmpmZmZlZUEAzMzMzM3NTQGZmZmZmRlJAmpmZmZm5U0AzMzMzMzNUQAAAAAAAoFNAAAAAAABAVEDNzMzMzExUQM3MzMzMLFJAzczMzMwMU0CamZmZmXlSQAAAAAAAwFFAAAAAAABgVEDNzMzMzGxTQAAAAAAAQFFAAAAAAACAVECamZmZmRlRQM3MzMzMjFRAMzMzMzPzUECamZmZmdlTQGZmZmZmJlJAmpmZmZmZUEBnZmZmZqZOQJqZmZmZuVBAAAAAAACATkCamZmZmRlUQAAAAAAA4FFAMzMzMzOzUEDNzMzMzKxRQJqZmZmZeVNAMzMzMzPzT0AzMzMzM/NSQJqZmZmZ2VFAMzMzMzOzUUBmZmZmZkZUQM3MzMzMDFNAZmZmZmYGUkAAAAAAAABVQAAAAAAAgFRAmpmZmZl5VEDNzMzMzAxTQJqZmZmZOVNAzczMzMwsVUDNzMzMzMxRQJqZmZmZmVBAmpmZmZk5UkAAAAAAAIBRQDMzMzMzs1RAzczMzMxMVEDNzMzMzAxTQM3MzMzMjFBAMzMzMzNTU0AAAAAAAABKQDMzMzMzs1JAAAAAAACAVECamZmZmflSQAAAAAAAQFJAMzMzMzNTUkBmZmZmZmZQQAAAAAAAQFJAMzMzMzMzUkD///////9OQDMzMzMzk1RAmpmZmZlZUUCamZmZmZlSQM3MzMzMDFFAMzMzMzMzTUDNzMzMzKxRQAAAAAAA4FJAMzMzMzMzUEBmZmZmZsZSQJqZmZmZWVBAzczMzMxMT0AAAAAAACBQQJqZmZmZ2VJAAAAAAABAVEDNzMzMzMxUQGZmZmZmxlFAMzMzMzNzVEDNzMzMzCxSQJqZmZmZeVBAAAAAAABAU0CamZmZmVlTQDMzMzMz81FAMzMzMzMzUEDNzMzMzCxTQJqZmZmZOVRAzczMzMzsUkBmZmZmZoZSQM3MzMzMzFFAzczMzMwsUUAzMzMzM5NSQAAAAAAAoFFAAAAAAAAgUUCamZmZmTlVQDMzMzMz805AZmZmZmbGUkDNzMzMzExNQM3MzMzMzFJAzczMzMwsU0CamZmZmRlUQAAAAAAAgFRAAAAAAAAATUAAAAAAAEBOQM3MzMzMTFBAAAAAAACgU0BmZmZmZmZRQM3MzMzMrFFAMzMzMzOzUkAAAAAAAEBTQDMzMzMzc1NAMzMzMzPTUECamZmZmZlQQM3MzMzMTFJAMzMzMzNTU0AAAAAAAEBTQDMzMzMzE1BAzczMzMyMT0DWoq+9BoBSQDpRIYbQllBAFV1n8AlzU0CRAqZWr7FSQJucgMvHi1NA77X5ImHxUkA=",
           "dtype": "f8"
          }
         },
         "name": "",
         "parents": [
          "Asia",
          "Africa",
          "Europe",
          "South America",
          "Asia",
          "Oceania",
          "Europe",
          "Asia",
          "Africa",
          "Europe",
          "Africa",
          "Africa",
          "Asia",
          "Europe",
          "Asia",
          "Europe",
          "Europe",
          "North America",
          "South America",
          "South America",
          "Asia",
          "Africa",
          "Africa",
          "North America",
          "Europe",
          "South America",
          "Asia",
          "Africa",
          "Africa",
          "Africa",
          "Africa",
          "South America",
          "Africa",
          "North America",
          "Asia",
          "Europe",
          "Europe",
          "Europe",
          "North America",
          "Africa",
          "South America",
          "Africa",
          "Europe",
          "Europe",
          "Africa",
          "Europe",
          "Oceania",
          "Europe",
          "Africa",
          "Europe",
          "Asia",
          "Africa",
          "Africa",
          "Africa",
          "Africa",
          "Europe",
          "North America",
          "South America",
          "North America",
          "Europe",
          "North America",
          "Europe",
          "Asia",
          "Asia",
          "Europe",
          "Asia",
          "Asia",
          "Europe",
          "Asia",
          "Europe",
          "North America",
          "Asia",
          "Asia",
          "Asia",
          "Africa",
          "Asia",
          "Asia",
          "Asia",
          "Asia",
          "Asia",
          "Africa",
          "Asia",
          "Africa",
          "Europe",
          "Europe",
          "Europe",
          "Africa",
          "Europe",
          "Africa",
          "North America",
          "Europe",
          "Africa",
          "Europe",
          "Asia",
          "Europe",
          "Asia",
          "Africa",
          "Africa",
          "Africa",
          "Africa",
          "Asia",
          "Africa",
          "Africa",
          "Africa",
          "North America",
          "Europe",
          "Europe",
          "Asia",
          "Oceania",
          "Asia",
          "Asia",
          "North America",
          "South America",
          "Asia",
          "Oceania",
          "Europe",
          "Europe",
          "South America",
          "Europe",
          "Europe",
          "Africa",
          "Asia",
          "Africa",
          "Africa",
          "Asia",
          "Africa",
          "North America",
          "Africa",
          "Europe",
          "Europe",
          "Europe",
          "Europe",
          "Africa",
          "Africa",
          "Africa",
          "Asia",
          "Asia",
          "Asia",
          "North America",
          "Africa",
          "Asia",
          "Africa",
          "Africa",
          "Europe",
          "South America",
          "North America",
          "Africa",
          "Africa",
          "",
          "",
          "",
          "",
          "",
          ""
         ],
         "type": "sunburst",
         "values": {
          "bdata": "AAAAAACAQ0AzMzMzM7NAQPYoXI/C9QZAAAAAAACARkB7FK5H4XoGQDMzMzMzszlAUrgehevRIUCamZmZmZkkQGZmZmZmZihAMzMzMzMzJ0AzMzMzMzMpQAAAAAAAgDVAAAAAAADgZEDsUbgehesbQK5H4XoUrvc/j8L1KFyPCkDD9Shcj0IjQEjhehSuR9k/zczMzMzMJ0AAAAAAAKBqQH0/NV66Sdw/ZmZmZmZmBEBcj8L1KFwVQDMzMzMz80JASOF6FK5HIUDNzMzMzEwzQAAAAAAAMJZAzczMzMzMOkAAAAAAAIA6QJqZmZmZOVdAzczMzMzMFkAzMzMzM3NJQA4tsp3vp+I/exSuR+F6FEDXo3A9CtfzPwAAAAAAACVAMzMzMzPTVEBSuB6F61EXQAAAAAAAACZAAAAAAADARUCamZmZmZkxQAAAAAAAwFpAMzMzMzOzR0BI4XoUrkf1PwAAAAAAQF1AH4XrUbgeFkBxPQrXo3DtPwAAAAAAIFBAUrgehetRAkBmZmZmZsZQQClcj8L1KA5AmpmZmZkZQEBmZmZmZmYqQI/C9ShcjwRAKVyPwvUoAEAAAAAAAAAlQGZmZmZmZjFAGy/dJAaB6T8zMzMzMzMkQGZmZmZmZhBAmpmZmZmZJkAAAAAAAIAjQAAAAAAAAHFAAAAAAADglUDNzMzMzMwTQDMzMzMz01VAzczMzMxMRUCwcmiR7XzXP4XrUbgehSFAAAAAAADATUCPwvUoXI8GQM3MzMzMzCVAAAAAAABAX0AAAAAAAAAzQAAAAAAAAEpArkfhehSuGUBmZmZmZmYwQGZmZmZm5klAcT0K16NwEUCkcD0K16MWQFyPwvUoXBRAMzMzMzOzNUAAAAAAAAACQI/C9ShcjwZAKVyPwvUo5D9mZmZmZmb+P5qZmZmZWUJApHA9CtejCEAzMzMzMzM8QAAAAAAAgF9A4XoUrkfhAEAzMzMzMzM1QHsUrkfheuA/MzMzMzOzSkBU46WbxCDkP1K4HoXrUQpAMzMzMzMzP0AAAAAAAAASQM3MzMzMzPQ/ZmZmZmZmM0CamZmZmZlAQOxRuB6F6wNAzczMzMxMOEAAAAAAAABqQArXo3A9ChtAZmZmZmZmMUCF61G4HoUVQM3MzMzMTD1APQrXo3A9FEApXI/C9SgSQAAAAAAAYGxAKVyPwvUoEUBmZmZmZqZAQAAAAAAAAFxAAAAAAACAI0AzMzMzMzNDQJqZmZmZmSRAexSuR+F6GkBmZmZmZmYzQAAAAAAAQGJAMzMzMzMzKkAAAAAAAABCQDMzMzMzM0ZAZmZmZmZmMECkcD0K16MXQPYoXI/CdSBAKVyPwvUoGUAAAAAAAIAwQHE9CtejcB1A16NwPQrXFUD2KFyPwvUAQM3MzMzMzCRA4XoUrkfh8j+amZmZmZkwQOF6FK5H4SBAAAAAAADgUUAUrkfhehQjQM3MzMzMzPQ/UrgehetR+D9mZmZmZmYoQGZmZmZmBlVAmpmZmZnZTkAzMzMzMzNGQDMzMzMz80VAcT0K16NwC0AAAAAAAAB1QGZmZmZmZk1AZmZmZmbmMkCDwMqhBSWxQEa28/1UlZRAPzVeuklDh0BkO99PjR15QNejcD0Kt0RAXI/C9SgHgkA=",
          "dtype": "f8"
         }
        }
       ],
       "layout": {
        "coloraxis": {
         "colorbar": {
          "title": {
           "text": "Life Expectancy"
          }
         },
         "colorscale": [
          [
           0,
           "#0d0887"
          ],
          [
           0.1111111111111111,
           "#46039f"
          ],
          [
           0.2222222222222222,
           "#7201a8"
          ],
          [
           0.3333333333333333,
           "#9c179e"
          ],
          [
           0.4444444444444444,
           "#bd3786"
          ],
          [
           0.5555555555555556,
           "#d8576b"
          ],
          [
           0.6666666666666666,
           "#ed7953"
          ],
          [
           0.7777777777777778,
           "#fb9f3a"
          ],
          [
           0.8888888888888888,
           "#fdca26"
          ],
          [
           1,
           "#f0f921"
          ]
         ]
        },
        "legend": {
         "tracegroupgap": 0
        },
        "margin": {
         "t": 60
        },
        "template": {
         "data": {
          "bar": [
           {
            "error_x": {
             "color": "#2a3f5f"
            },
            "error_y": {
             "color": "#2a3f5f"
            },
            "marker": {
             "line": {
              "color": "#E5ECF6",
              "width": 0.5
             },
             "pattern": {
              "fillmode": "overlay",
              "size": 10,
              "solidity": 0.2
             }
            },
            "type": "bar"
           }
          ],
          "barpolar": [
           {
            "marker": {
             "line": {
              "color": "#E5ECF6",
              "width": 0.5
             },
             "pattern": {
              "fillmode": "overlay",
              "size": 10,
              "solidity": 0.2
             }
            },
            "type": "barpolar"
           }
          ],
          "carpet": [
           {
            "aaxis": {
             "endlinecolor": "#2a3f5f",
             "gridcolor": "white",
             "linecolor": "white",
             "minorgridcolor": "white",
             "startlinecolor": "#2a3f5f"
            },
            "baxis": {
             "endlinecolor": "#2a3f5f",
             "gridcolor": "white",
             "linecolor": "white",
             "minorgridcolor": "white",
             "startlinecolor": "#2a3f5f"
            },
            "type": "carpet"
           }
          ],
          "choropleth": [
           {
            "colorbar": {
             "outlinewidth": 0,
             "ticks": ""
            },
            "type": "choropleth"
           }
          ],
          "contour": [
           {
            "colorbar": {
             "outlinewidth": 0,
             "ticks": ""
            },
            "colorscale": [
             [
              0,
              "#0d0887"
             ],
             [
              0.1111111111111111,
              "#46039f"
             ],
             [
              0.2222222222222222,
              "#7201a8"
             ],
             [
              0.3333333333333333,
              "#9c179e"
             ],
             [
              0.4444444444444444,
              "#bd3786"
             ],
             [
              0.5555555555555556,
              "#d8576b"
             ],
             [
              0.6666666666666666,
              "#ed7953"
             ],
             [
              0.7777777777777778,
              "#fb9f3a"
             ],
             [
              0.8888888888888888,
              "#fdca26"
             ],
             [
              1,
              "#f0f921"
             ]
            ],
            "type": "contour"
           }
          ],
          "contourcarpet": [
           {
            "colorbar": {
             "outlinewidth": 0,
             "ticks": ""
            },
            "type": "contourcarpet"
           }
          ],
          "heatmap": [
           {
            "colorbar": {
             "outlinewidth": 0,
             "ticks": ""
            },
            "colorscale": [
             [
              0,
              "#0d0887"
             ],
             [
              0.1111111111111111,
              "#46039f"
             ],
             [
              0.2222222222222222,
              "#7201a8"
             ],
             [
              0.3333333333333333,
              "#9c179e"
             ],
             [
              0.4444444444444444,
              "#bd3786"
             ],
             [
              0.5555555555555556,
              "#d8576b"
             ],
             [
              0.6666666666666666,
              "#ed7953"
             ],
             [
              0.7777777777777778,
              "#fb9f3a"
             ],
             [
              0.8888888888888888,
              "#fdca26"
             ],
             [
              1,
              "#f0f921"
             ]
            ],
            "type": "heatmap"
           }
          ],
          "histogram": [
           {
            "marker": {
             "pattern": {
              "fillmode": "overlay",
              "size": 10,
              "solidity": 0.2
             }
            },
            "type": "histogram"
           }
          ],
          "histogram2d": [
           {
            "colorbar": {
             "outlinewidth": 0,
             "ticks": ""
            },
            "colorscale": [
             [
              0,
              "#0d0887"
             ],
             [
              0.1111111111111111,
              "#46039f"
             ],
             [
              0.2222222222222222,
              "#7201a8"
             ],
             [
              0.3333333333333333,
              "#9c179e"
             ],
             [
              0.4444444444444444,
              "#bd3786"
             ],
             [
              0.5555555555555556,
              "#d8576b"
             ],
             [
              0.6666666666666666,
              "#ed7953"
             ],
             [
              0.7777777777777778,
              "#fb9f3a"
             ],
             [
              0.8888888888888888,
              "#fdca26"
             ],
             [
              1,
              "#f0f921"
             ]
            ],
            "type": "histogram2d"
           }
          ],
          "histogram2dcontour": [
           {
            "colorbar": {
             "outlinewidth": 0,
             "ticks": ""
            },
            "colorscale": [
             [
              0,
              "#0d0887"
             ],
             [
              0.1111111111111111,
              "#46039f"
             ],
             [
              0.2222222222222222,
              "#7201a8"
             ],
             [
              0.3333333333333333,
              "#9c179e"
             ],
             [
              0.4444444444444444,
              "#bd3786"
             ],
             [
              0.5555555555555556,
              "#d8576b"
             ],
             [
              0.6666666666666666,
              "#ed7953"
             ],
             [
              0.7777777777777778,
              "#fb9f3a"
             ],
             [
              0.8888888888888888,
              "#fdca26"
             ],
             [
              1,
              "#f0f921"
             ]
            ],
            "type": "histogram2dcontour"
           }
          ],
          "mesh3d": [
           {
            "colorbar": {
             "outlinewidth": 0,
             "ticks": ""
            },
            "type": "mesh3d"
           }
          ],
          "parcoords": [
           {
            "line": {
             "colorbar": {
              "outlinewidth": 0,
              "ticks": ""
             }
            },
            "type": "parcoords"
           }
          ],
          "pie": [
           {
            "automargin": true,
            "type": "pie"
           }
          ],
          "scatter": [
           {
            "fillpattern": {
             "fillmode": "overlay",
             "size": 10,
             "solidity": 0.2
            },
            "type": "scatter"
           }
          ],
          "scatter3d": [
           {
            "line": {
             "colorbar": {
              "outlinewidth": 0,
              "ticks": ""
             }
            },
            "marker": {
             "colorbar": {
              "outlinewidth": 0,
              "ticks": ""
             }
            },
            "type": "scatter3d"
           }
          ],
          "scattercarpet": [
           {
            "marker": {
             "colorbar": {
              "outlinewidth": 0,
              "ticks": ""
             }
            },
            "type": "scattercarpet"
           }
          ],
          "scattergeo": [
           {
            "marker": {
             "colorbar": {
              "outlinewidth": 0,
              "ticks": ""
             }
            },
            "type": "scattergeo"
           }
          ],
          "scattergl": [
           {
            "marker": {
             "colorbar": {
              "outlinewidth": 0,
              "ticks": ""
             }
            },
            "type": "scattergl"
           }
          ],
          "scattermap": [
           {
            "marker": {
             "colorbar": {
              "outlinewidth": 0,
              "ticks": ""
             }
            },
            "type": "scattermap"
           }
          ],
          "scattermapbox": [
           {
            "marker": {
             "colorbar": {
              "outlinewidth": 0,
              "ticks": ""
             }
            },
            "type": "scattermapbox"
           }
          ],
          "scatterpolar": [
           {
            "marker": {
             "colorbar": {
              "outlinewidth": 0,
              "ticks": ""
             }
            },
            "type": "scatterpolar"
           }
          ],
          "scatterpolargl": [
           {
            "marker": {
             "colorbar": {
              "outlinewidth": 0,
              "ticks": ""
             }
            },
            "type": "scatterpolargl"
           }
          ],
          "scatterternary": [
           {
            "marker": {
             "colorbar": {
              "outlinewidth": 0,
              "ticks": ""
             }
            },
            "type": "scatterternary"
           }
          ],
          "surface": [
           {
            "colorbar": {
             "outlinewidth": 0,
             "ticks": ""
            },
            "colorscale": [
             [
              0,
              "#0d0887"
             ],
             [
              0.1111111111111111,
              "#46039f"
             ],
             [
              0.2222222222222222,
              "#7201a8"
             ],
             [
              0.3333333333333333,
              "#9c179e"
             ],
             [
              0.4444444444444444,
              "#bd3786"
             ],
             [
              0.5555555555555556,
              "#d8576b"
             ],
             [
              0.6666666666666666,
              "#ed7953"
             ],
             [
              0.7777777777777778,
              "#fb9f3a"
             ],
             [
              0.8888888888888888,
              "#fdca26"
             ],
             [
              1,
              "#f0f921"
             ]
            ],
            "type": "surface"
           }
          ],
          "table": [
           {
            "cells": {
             "fill": {
              "color": "#EBF0F8"
             },
             "line": {
              "color": "white"
             }
            },
            "header": {
             "fill": {
              "color": "#C8D4E3"
             },
             "line": {
              "color": "white"
             }
            },
            "type": "table"
           }
          ]
         },
         "layout": {
          "annotationdefaults": {
           "arrowcolor": "#2a3f5f",
           "arrowhead": 0,
           "arrowwidth": 1
          },
          "autotypenumbers": "strict",
          "coloraxis": {
           "colorbar": {
            "outlinewidth": 0,
            "ticks": ""
           }
          },
          "colorscale": {
           "diverging": [
            [
             0,
             "#8e0152"
            ],
            [
             0.1,
             "#c51b7d"
            ],
            [
             0.2,
             "#de77ae"
            ],
            [
             0.3,
             "#f1b6da"
            ],
            [
             0.4,
             "#fde0ef"
            ],
            [
             0.5,
             "#f7f7f7"
            ],
            [
             0.6,
             "#e6f5d0"
            ],
            [
             0.7,
             "#b8e186"
            ],
            [
             0.8,
             "#7fbc41"
            ],
            [
             0.9,
             "#4d9221"
            ],
            [
             1,
             "#276419"
            ]
           ],
           "sequential": [
            [
             0,
             "#0d0887"
            ],
            [
             0.1111111111111111,
             "#46039f"
            ],
            [
             0.2222222222222222,
             "#7201a8"
            ],
            [
             0.3333333333333333,
             "#9c179e"
            ],
            [
             0.4444444444444444,
             "#bd3786"
            ],
            [
             0.5555555555555556,
             "#d8576b"
            ],
            [
             0.6666666666666666,
             "#ed7953"
            ],
            [
             0.7777777777777778,
             "#fb9f3a"
            ],
            [
             0.8888888888888888,
             "#fdca26"
            ],
            [
             1,
             "#f0f921"
            ]
           ],
           "sequentialminus": [
            [
             0,
             "#0d0887"
            ],
            [
             0.1111111111111111,
             "#46039f"
            ],
            [
             0.2222222222222222,
             "#7201a8"
            ],
            [
             0.3333333333333333,
             "#9c179e"
            ],
            [
             0.4444444444444444,
             "#bd3786"
            ],
            [
             0.5555555555555556,
             "#d8576b"
            ],
            [
             0.6666666666666666,
             "#ed7953"
            ],
            [
             0.7777777777777778,
             "#fb9f3a"
            ],
            [
             0.8888888888888888,
             "#fdca26"
            ],
            [
             1,
             "#f0f921"
            ]
           ]
          },
          "colorway": [
           "#636efa",
           "#EF553B",
           "#00cc96",
           "#ab63fa",
           "#FFA15A",
           "#19d3f3",
           "#FF6692",
           "#B6E880",
           "#FF97FF",
           "#FECB52"
          ],
          "font": {
           "color": "#2a3f5f"
          },
          "geo": {
           "bgcolor": "white",
           "lakecolor": "white",
           "landcolor": "#E5ECF6",
           "showlakes": true,
           "showland": true,
           "subunitcolor": "white"
          },
          "hoverlabel": {
           "align": "left"
          },
          "hovermode": "closest",
          "mapbox": {
           "style": "light"
          },
          "paper_bgcolor": "white",
          "plot_bgcolor": "#E5ECF6",
          "polar": {
           "angularaxis": {
            "gridcolor": "white",
            "linecolor": "white",
            "ticks": ""
           },
           "bgcolor": "#E5ECF6",
           "radialaxis": {
            "gridcolor": "white",
            "linecolor": "white",
            "ticks": ""
           }
          },
          "scene": {
           "xaxis": {
            "backgroundcolor": "#E5ECF6",
            "gridcolor": "white",
            "gridwidth": 2,
            "linecolor": "white",
            "showbackground": true,
            "ticks": "",
            "zerolinecolor": "white"
           },
           "yaxis": {
            "backgroundcolor": "#E5ECF6",
            "gridcolor": "white",
            "gridwidth": 2,
            "linecolor": "white",
            "showbackground": true,
            "ticks": "",
            "zerolinecolor": "white"
           },
           "zaxis": {
            "backgroundcolor": "#E5ECF6",
            "gridcolor": "white",
            "gridwidth": 2,
            "linecolor": "white",
            "showbackground": true,
            "ticks": "",
            "zerolinecolor": "white"
           }
          },
          "shapedefaults": {
           "line": {
            "color": "#2a3f5f"
           }
          },
          "ternary": {
           "aaxis": {
            "gridcolor": "white",
            "linecolor": "white",
            "ticks": ""
           },
           "baxis": {
            "gridcolor": "white",
            "linecolor": "white",
            "ticks": ""
           },
           "bgcolor": "#E5ECF6",
           "caxis": {
            "gridcolor": "white",
            "linecolor": "white",
            "ticks": ""
           }
          },
          "title": {
           "x": 0.05
          },
          "xaxis": {
           "automargin": true,
           "gridcolor": "white",
           "linecolor": "white",
           "ticks": "",
           "title": {
            "standoff": 15
           },
           "zerolinecolor": "white",
           "zerolinewidth": 2
          },
          "yaxis": {
           "automargin": true,
           "gridcolor": "white",
           "linecolor": "white",
           "ticks": "",
           "title": {
            "standoff": 15
           },
           "zerolinecolor": "white",
           "zerolinewidth": 2
          }
         }
        }
       }
      }
     },
     "metadata": {},
     "output_type": "display_data"
    }
   ],
   "source": [
    "px.sunburst(gapminder_df.query('Year == 2020'), path=['Continent', 'Country'], values='Population', color='Life Expectancy')"
   ]
  },
  {
   "cell_type": "code",
   "execution_count": null,
   "metadata": {},
   "outputs": [],
   "source": []
  }
 ],
 "metadata": {
  "kernelspec": {
   "display_name": "Study",
   "language": "python",
   "name": "python3"
  },
  "language_info": {
   "codemirror_mode": {
    "name": "ipython",
    "version": 3
   },
   "file_extension": ".py",
   "mimetype": "text/x-python",
   "name": "python",
   "nbconvert_exporter": "python",
   "pygments_lexer": "ipython3",
   "version": "3.11.9"
  }
 },
 "nbformat": 4,
 "nbformat_minor": 2
}
