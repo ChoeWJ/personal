{
 "cells": [
  {
   "cell_type": "markdown",
   "metadata": {},
   "source": [
    "![Basic_Skills_Machine_Learning_017](../../images/01_Basic_Skills_Machine_Learning/017.jpg)"
   ]
  },
  {
   "cell_type": "markdown",
   "metadata": {},
   "source": [
    "```python\n",
    "\n",
    "import numpy as np\n",
    "\n",
    "A = np.array([\n",
    "    [1, -1, 2],\n",
    "    [3, 2, 2]\n",
    "])\n",
    "\n",
    "B = np.array([\n",
    "    [0, 1],\n",
    "    [-1, 1],\n",
    "    [5, 2]\n",
    "])\n",
    "\n",
    "C = np.array([\n",
    "    [2, -1],\n",
    "    [-3, 3]\n",
    "])\n",
    "\n",
    "D = np.array([\n",
    "    [-5, 1],\n",
    "    [2, 0]\n",
    "])\n",
    "\n",
    "# 행렬 연산 결과를 result에 저장하세요\n",
    "result = \n",
    "\n",
    "# 테스트 코드\n",
    "result\n",
    "\n",
    "```"
   ]
  },
  {
   "cell_type": "code",
   "execution_count": 3,
   "metadata": {},
   "outputs": [
    {
     "data": {
      "text/plain": [
       "array([[  34,  -28],\n",
       "       [ 110, -130]])"
      ]
     },
     "execution_count": 3,
     "metadata": {},
     "output_type": "execute_result"
    }
   ],
   "source": [
    "\n",
    "import numpy as np\n",
    "\n",
    "A = np.array([\n",
    "    [1, -1, 2],\n",
    "    [3, 2, 2]\n",
    "])\n",
    "\n",
    "B = np.array([\n",
    "    [0, 1],\n",
    "    [-1, 1],\n",
    "    [5, 2]\n",
    "])\n",
    "\n",
    "C = np.array([\n",
    "    [2, -1],\n",
    "    [-3, 3]\n",
    "])\n",
    "\n",
    "D = np.array([\n",
    "    [-5, 1],\n",
    "    [2, 0]\n",
    "])\n",
    "\n",
    "# 행렬 연산 결과를 result에 저장하세요\n",
    "result = 2 * A @ (-B) @ (3 * C + D)\n",
    "\n",
    "# 테스트 코드\n",
    "result\n",
    "\n"
   ]
  },
  {
   "cell_type": "code",
   "execution_count": null,
   "metadata": {},
   "outputs": [],
   "source": []
  }
 ],
 "metadata": {
  "kernelspec": {
   "display_name": "base",
   "language": "python",
   "name": "python3"
  },
  "language_info": {
   "codemirror_mode": {
    "name": "ipython",
    "version": 3
   },
   "file_extension": ".py",
   "mimetype": "text/x-python",
   "name": "python",
   "nbconvert_exporter": "python",
   "pygments_lexer": "ipython3",
   "version": "3.12.4"
  }
 },
 "nbformat": 4,
 "nbformat_minor": 2
}
