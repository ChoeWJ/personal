{
 "cells": [
  {
   "cell_type": "markdown",
   "metadata": {},
   "source": [
    "![Basic_Skills_Machine_Learning_006](../../images/01_Basic_Skills_Machine_Learning/006.jpg)"
   ]
  },
  {
   "cell_type": "markdown",
   "metadata": {},
   "source": [
    "```python\n",
    "import numpy as np\n",
    "\n",
    "# 1: 행렬 A를 정의해보세요\n",
    "A = \n",
    "\n",
    "# 2: 행렬 B를 정의해보세요\n",
    "B = \n",
    "\n",
    "print(A)\n",
    "print(B)\n",
    "print(A[][])  # 3: 여기서 A의 2행 2열 원소에 접근해보세요\n",
    "print(A[][])  # 4: 여기서 A의 4행 1열 원소에 접근해보세요\n",
    "```"
   ]
  },
  {
   "cell_type": "code",
   "execution_count": 1,
   "metadata": {},
   "outputs": [
    {
     "name": "stdout",
     "output_type": "stream",
     "text": [
      "[[ 0  1 -1]\n",
      " [ 1  2  3]\n",
      " [ 2  1  0]\n",
      " [-1  2 -4]]\n",
      "[[ 0  2]\n",
      " [ 1  1]\n",
      " [-1 -2]]\n",
      "2\n",
      "-1\n"
     ]
    }
   ],
   "source": [
    "import numpy as np\n",
    "\n",
    "# 1: 행렬 A를 정의해보세요\n",
    "A = np.array([\n",
    "    [0, 1, -1],\n",
    "    [1, 2, 3],\n",
    "    [2, 1, 0],\n",
    "    [-1, 2, -4]\n",
    "])\n",
    "\n",
    "# 2: 행렬 B를 정의해보세요\n",
    "B = np.array([\n",
    "    [0, 2],\n",
    "    [1, 1],\n",
    "    [-1, -2]\n",
    "])\n",
    "\n",
    "print(A)\n",
    "print(B)\n",
    "print(A[1][1])  # 3: 여기서 A의 2행 2열 원소에 접근해보세요\n",
    "print(A[3][0])  # 4: 여기서 A의 4행 1열 원소에 접근해보세요"
   ]
  },
  {
   "cell_type": "code",
   "execution_count": null,
   "metadata": {},
   "outputs": [],
   "source": []
  }
 ],
 "metadata": {
  "kernelspec": {
   "display_name": "base",
   "language": "python",
   "name": "python3"
  },
  "language_info": {
   "codemirror_mode": {
    "name": "ipython",
    "version": 3
   },
   "file_extension": ".py",
   "mimetype": "text/x-python",
   "name": "python",
   "nbconvert_exporter": "python",
   "pygments_lexer": "ipython3",
   "version": "3.12.4"
  }
 },
 "nbformat": 4,
 "nbformat_minor": 2
}
