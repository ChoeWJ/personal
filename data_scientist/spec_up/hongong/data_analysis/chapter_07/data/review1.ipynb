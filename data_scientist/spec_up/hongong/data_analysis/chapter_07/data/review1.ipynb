{
 "cells": [
  {
   "cell_type": "code",
   "execution_count": 2,
   "metadata": {},
   "outputs": [],
   "source": [
    "import numpy as np\n",
    "import pandas as pd\n",
    "import matplotlib.pyplot as plt\n",
    "import seaborn as sns\n",
    "\n",
    "from scipy.stats import norm, zscore, t, ttest_ind, permutation_test\n",
    "from statsmodels.stats.weightstats import ztest\n",
    "\n",
    "\n",
    "sns.set_theme(\n",
    "    style='whitegrid',       # 배경 스타일 (grid 포함)\n",
    "    font='BM Hanna Pro',     # 폰트\n",
    "    rc={\n",
    "        'axes.unicode_minus': False,  # 마이너스 기호 깨짐 방지\n",
    "        'figure.figsize': (12, 6),    # 그래프 크기 설정\n",
    "        'axes.labelsize': 14,         # 축 레이블 크기\n",
    "        'xtick.labelsize': 12,        # x축 눈금 크기\n",
    "        'ytick.labelsize': 12,        # y축 눈금 크기\n",
    "        'legend.fontsize': 12,        # 범례 폰트 크기\n",
    "        'axes.titleweight': 'bold',   # 제목 굵게\n",
    "        'axes.titlesize': 16          # 제목 크기\n",
    "    }\n",
    ")\n",
    "\n",
    "%config InlineBackend.figure_format = 'retina'"
   ]
  },
  {
   "cell_type": "code",
   "execution_count": 3,
   "metadata": {},
   "outputs": [
    {
     "data": {
      "text/html": [
       "<div>\n",
       "<style scoped>\n",
       "    .dataframe tbody tr th:only-of-type {\n",
       "        vertical-align: middle;\n",
       "    }\n",
       "\n",
       "    .dataframe tbody tr th {\n",
       "        vertical-align: top;\n",
       "    }\n",
       "\n",
       "    .dataframe thead th {\n",
       "        text-align: right;\n",
       "    }\n",
       "</style>\n",
       "<table border=\"1\" class=\"dataframe\">\n",
       "  <thead>\n",
       "    <tr style=\"text-align: right;\">\n",
       "      <th></th>\n",
       "      <th>번호</th>\n",
       "      <th>도서명</th>\n",
       "      <th>저자</th>\n",
       "      <th>출판사</th>\n",
       "      <th>발행년도</th>\n",
       "      <th>ISBN</th>\n",
       "      <th>세트 ISBN</th>\n",
       "      <th>부가기호</th>\n",
       "      <th>권</th>\n",
       "      <th>주제분류번호</th>\n",
       "      <th>도서권수</th>\n",
       "      <th>대출건수</th>\n",
       "      <th>등록일자</th>\n",
       "    </tr>\n",
       "  </thead>\n",
       "  <tbody>\n",
       "    <tr>\n",
       "      <th>0</th>\n",
       "      <td>1</td>\n",
       "      <td>인공지능과 흙</td>\n",
       "      <td>김동훈 지음</td>\n",
       "      <td>민음사</td>\n",
       "      <td>2021</td>\n",
       "      <td>9788937444319</td>\n",
       "      <td>NaN</td>\n",
       "      <td>NaN</td>\n",
       "      <td>NaN</td>\n",
       "      <td>NaN</td>\n",
       "      <td>1</td>\n",
       "      <td>0</td>\n",
       "      <td>2021-03-19</td>\n",
       "    </tr>\n",
       "    <tr>\n",
       "      <th>1</th>\n",
       "      <td>2</td>\n",
       "      <td>가짜 행복 권하는 사회</td>\n",
       "      <td>김태형 지음</td>\n",
       "      <td>갈매나무</td>\n",
       "      <td>2021</td>\n",
       "      <td>9791190123969</td>\n",
       "      <td>NaN</td>\n",
       "      <td>NaN</td>\n",
       "      <td>NaN</td>\n",
       "      <td>NaN</td>\n",
       "      <td>1</td>\n",
       "      <td>0</td>\n",
       "      <td>2021-03-19</td>\n",
       "    </tr>\n",
       "    <tr>\n",
       "      <th>2</th>\n",
       "      <td>3</td>\n",
       "      <td>나도 한 문장 잘 쓰면 바랄 게 없겠네</td>\n",
       "      <td>김선영 지음</td>\n",
       "      <td>블랙피쉬</td>\n",
       "      <td>2021</td>\n",
       "      <td>9788968332982</td>\n",
       "      <td>NaN</td>\n",
       "      <td>NaN</td>\n",
       "      <td>NaN</td>\n",
       "      <td>NaN</td>\n",
       "      <td>1</td>\n",
       "      <td>0</td>\n",
       "      <td>2021-03-19</td>\n",
       "    </tr>\n",
       "    <tr>\n",
       "      <th>3</th>\n",
       "      <td>4</td>\n",
       "      <td>예루살렘 해변</td>\n",
       "      <td>이도 게펜 지음, 임재희 옮김</td>\n",
       "      <td>문학세계사</td>\n",
       "      <td>2021</td>\n",
       "      <td>9788970759906</td>\n",
       "      <td>NaN</td>\n",
       "      <td>NaN</td>\n",
       "      <td>NaN</td>\n",
       "      <td>NaN</td>\n",
       "      <td>1</td>\n",
       "      <td>0</td>\n",
       "      <td>2021-03-19</td>\n",
       "    </tr>\n",
       "    <tr>\n",
       "      <th>4</th>\n",
       "      <td>5</td>\n",
       "      <td>김성곤의 중국한시기행 : 장강·황하 편</td>\n",
       "      <td>김성곤 지음</td>\n",
       "      <td>김영사</td>\n",
       "      <td>2021</td>\n",
       "      <td>9788934990833</td>\n",
       "      <td>NaN</td>\n",
       "      <td>NaN</td>\n",
       "      <td>NaN</td>\n",
       "      <td>NaN</td>\n",
       "      <td>1</td>\n",
       "      <td>0</td>\n",
       "      <td>2021-03-19</td>\n",
       "    </tr>\n",
       "  </tbody>\n",
       "</table>\n",
       "</div>"
      ],
      "text/plain": [
       "   번호                    도서명                저자    출판사  발행년도           ISBN  \\\n",
       "0   1                인공지능과 흙            김동훈 지음    민음사  2021  9788937444319   \n",
       "1   2           가짜 행복 권하는 사회            김태형 지음   갈매나무  2021  9791190123969   \n",
       "2   3  나도 한 문장 잘 쓰면 바랄 게 없겠네            김선영 지음   블랙피쉬  2021  9788968332982   \n",
       "3   4                예루살렘 해변  이도 게펜 지음, 임재희 옮김  문학세계사  2021  9788970759906   \n",
       "4   5  김성곤의 중국한시기행 : 장강·황하 편            김성곤 지음    김영사  2021  9788934990833   \n",
       "\n",
       "  세트 ISBN 부가기호    권 주제분류번호  도서권수  대출건수        등록일자  \n",
       "0     NaN  NaN  NaN    NaN     1     0  2021-03-19  \n",
       "1     NaN  NaN  NaN    NaN     1     0  2021-03-19  \n",
       "2     NaN  NaN  NaN    NaN     1     0  2021-03-19  \n",
       "3     NaN  NaN  NaN    NaN     1     0  2021-03-19  \n",
       "4     NaN  NaN  NaN    NaN     1     0  2021-03-19  "
      ]
     },
     "execution_count": 3,
     "metadata": {},
     "output_type": "execute_result"
    }
   ],
   "source": [
    "data = pd.read_csv(\"ns_book7.csv\", low_memory=False)\n",
    "\n",
    "data.head()"
   ]
  },
  {
   "cell_type": "code",
   "execution_count": 4,
   "metadata": {},
   "outputs": [],
   "source": [
    "python_book_idx = data['주제분류번호'].str.startswith('00') & data['도서명'].str.contains('파이썬')\n",
    "python_books = data[python_book_idx]\n",
    "\n",
    "cplus_book_idx = data['주제분류번호'].str.startswith('00') & data['도서명'].str.contains('C++', regex=False)\n",
    "cplus_books = data[cplus_book_idx]\n",
    "\n",
    "java_book_idx = data['주제분류번호'].str.startswith('00') & data['도서명'].str.contains('자바스크립트')\n",
    "java_books = data[java_book_idx]"
   ]
  },
  {
   "cell_type": "code",
   "execution_count": 5,
   "metadata": {},
   "outputs": [
    {
     "name": "stdout",
     "output_type": "stream",
     "text": [
      "14.749003984063744 12.740309535319817 251\n",
      "11.595505617977528 9.19662749754605 89\n"
     ]
    }
   ],
   "source": [
    "python_mean = np.mean(python_books['대출건수'])\n",
    "python_std = np.std(python_books['대출건수'])\n",
    "python_len = len(python_books)\n",
    "\n",
    "cplus_mean = np.mean(cplus_books['대출건수'])\n",
    "cplus_std = np.std(cplus_books['대출건수'])\n",
    "cplus_len = len(cplus_books['대출건수'])\n",
    "\n",
    "java_mean = np.mean(java_books['대출건수'])\n",
    "java_std = np.std(java_books['대출건수'])\n",
    "java_len = len(java_books['대출건수'])\n",
    "\n",
    "print(python_mean, python_std, python_len)\n",
    "print(cplus_mean, cplus_std, cplus_len)"
   ]
  },
  {
   "cell_type": "code",
   "execution_count": 6,
   "metadata": {},
   "outputs": [
    {
     "name": "stdout",
     "output_type": "stream",
     "text": [
      "2.4954081951407083 0.012581230643561092\n"
     ]
    }
   ],
   "source": [
    "z1 = (python_mean - cplus_mean) / np.sqrt(((python_std ** 2) / python_len) + ((cplus_std ** 2) / cplus_len))\n",
    "\n",
    "cdf_z1 = norm.cdf(z1)\n",
    "\n",
    "p1_value = (1 - cdf_z1) * 2\n",
    "\n",
    "print(z1, p1_value)"
   ]
  },
  {
   "cell_type": "code",
   "execution_count": 7,
   "metadata": {},
   "outputs": [
    {
     "name": "stdout",
     "output_type": "stream",
     "text": [
      "2.1390005694958574 0.03243562225015445\n"
     ]
    }
   ],
   "source": [
    "z2, p2_value = ztest(python_books['대출건수'], cplus_books['대출건수'])\n",
    "\n",
    "print(z2, p2_value)"
   ]
  },
  {
   "cell_type": "code",
   "execution_count": 8,
   "metadata": {},
   "outputs": [
    {
     "name": "stdout",
     "output_type": "stream",
     "text": [
      "2.1390005694958574 0.033151795202247834\n"
     ]
    }
   ],
   "source": [
    "t, p3_value = ttest_ind(python_books['대출건수'], cplus_books['대출건수'])\n",
    "\n",
    "print(t, p3_value)"
   ]
  },
  {
   "cell_type": "code",
   "execution_count": 9,
   "metadata": {},
   "outputs": [
    {
     "name": "stdout",
     "output_type": "stream",
     "text": [
      "3.1534983660862164 0.0258\n"
     ]
    }
   ],
   "source": [
    "def statistic(x, y):\n",
    "    return np.mean(x) - np.mean(y)\n",
    "\n",
    "res = permutation_test((python_books['대출건수'], cplus_books['대출건수']), statistic, random_state=42)\n",
    "print(res.statistic, res.pvalue)"
   ]
  },
  {
   "cell_type": "code",
   "execution_count": 10,
   "metadata": {},
   "outputs": [
    {
     "name": "stdout",
     "output_type": "stream",
     "text": [
      "3.1534983660862164 0.0258\n"
     ]
    }
   ],
   "source": [
    "res1 = permutation_test(\n",
    "                        (python_books['대출건수'], cplus_books['대출건수']), \n",
    "                        lambda x, y: np.mean(x) - np.mean(y),\n",
    "                        random_state=42\n",
    "                        )\n",
    "\n",
    "print(res1.statistic, res1.pvalue)"
   ]
  },
  {
   "cell_type": "code",
   "execution_count": 12,
   "metadata": {},
   "outputs": [
    {
     "name": "stdout",
     "output_type": "stream",
     "text": [
      "-0.7843293492695889 0.57\n"
     ]
    }
   ],
   "source": [
    "res2 = permutation_test(\n",
    "    (python_books['대출건수'], java_books['대출건수']),\n",
    "    statistic,\n",
    "    random_state=42\n",
    ")\n",
    "\n",
    "print(res2.statistic, res2.pvalue)"
   ]
  },
  {
   "cell_type": "code",
   "execution_count": 13,
   "metadata": {},
   "outputs": [
    {
     "name": "stdout",
     "output_type": "stream",
     "text": [
      "-0.5940069858292665\n"
     ]
    }
   ],
   "source": [
    "se1 = np.sqrt(((python_std ** 2) / python_len) + ((java_std ** 2) / java_len))\n",
    "\n",
    "z5 = (python_mean - java_mean) / se1\n",
    "\n",
    "print(z5)"
   ]
  },
  {
   "cell_type": "code",
   "execution_count": null,
   "metadata": {},
   "outputs": [
    {
     "data": {
      "text/plain": [
       "np.float64(0.27625372028851186)"
      ]
     },
     "execution_count": 20,
     "metadata": {},
     "output_type": "execute_result"
    }
   ],
   "source": [
    "norm.cdf(z5)"
   ]
  },
  {
   "cell_type": "code",
   "execution_count": 22,
   "metadata": {},
   "outputs": [
    {
     "name": "stdout",
     "output_type": "stream",
     "text": [
      "0.5525074405770236\n"
     ]
    }
   ],
   "source": [
    "p4_value = (1 - norm.cdf(abs(z5))) * 2\n",
    "\n",
    "print(p4_value)"
   ]
  },
  {
   "cell_type": "code",
   "execution_count": 23,
   "metadata": {},
   "outputs": [
    {
     "data": {
      "text/plain": [
       "(np.float64(-0.5523987093630017), np.float64(0.5806752146816628))"
      ]
     },
     "execution_count": 23,
     "metadata": {},
     "output_type": "execute_result"
    }
   ],
   "source": [
    "ztest(python_books['대출건수'], java_books['대출건수'])"
   ]
  },
  {
   "cell_type": "code",
   "execution_count": 24,
   "metadata": {},
   "outputs": [
    {
     "name": "stdout",
     "output_type": "stream",
     "text": [
      "-0.5523987093630017 0.5810238142528562\n"
     ]
    }
   ],
   "source": [
    "t, p5_value = ttest_ind(python_books['대출건수'], java_books['대출건수'])\n",
    "\n",
    "print(t, p5_value)"
   ]
  },
  {
   "cell_type": "code",
   "execution_count": 25,
   "metadata": {},
   "outputs": [
    {
     "name": "stdout",
     "output_type": "stream",
     "text": [
      "T-Statistic: 3.894701773421466\n",
      "p-value: 0.00010791791869268736\n",
      "귀무가설 기각: 두 그룹의 평균 차이는 유의미함!\n"
     ]
    }
   ],
   "source": [
    "from scipy.stats import ttest_ind\n",
    "\n",
    "# 데이터 설정\n",
    "mean_A = 200000\n",
    "mean_B = 195000\n",
    "std_A = 25000\n",
    "std_B = 20000\n",
    "n_A = 400\n",
    "n_B = 300\n",
    "\n",
    "# 가상의 정규분포 데이터 생성 (평균과 표준편차 반영)\n",
    "import numpy as np\n",
    "np.random.seed(42)  # 재현성을 위해 시드 고정\n",
    "\n",
    "sample_A = np.random.normal(mean_A, std_A, n_A)\n",
    "sample_B = np.random.normal(mean_B, std_B, n_B)\n",
    "\n",
    "# 독립 표본 t-검정 수행\n",
    "t_stat, p_value = ttest_ind(sample_A, sample_B, equal_var=False)  # Welch's t-test\n",
    "\n",
    "# 결과 출력\n",
    "print(f\"T-Statistic: {t_stat}\")\n",
    "print(f\"p-value: {p_value}\")\n",
    "\n",
    "# 가설 검정\n",
    "if p_value < 0.05:\n",
    "    print(\"귀무가설 기각: 두 그룹의 평균 차이는 유의미함!\")\n",
    "else:\n",
    "    print(\"귀무가설 유지: 두 그룹의 평균 차이는 통계적으로 유의미하지 않음.\")"
   ]
  },
  {
   "cell_type": "code",
   "execution_count": null,
   "metadata": {},
   "outputs": [],
   "source": []
  }
 ],
 "metadata": {
  "kernelspec": {
   "display_name": "Study",
   "language": "python",
   "name": "python3"
  },
  "language_info": {
   "codemirror_mode": {
    "name": "ipython",
    "version": 3
   },
   "file_extension": ".py",
   "mimetype": "text/x-python",
   "name": "python",
   "nbconvert_exporter": "python",
   "pygments_lexer": "ipython3",
   "version": "3.11.9"
  }
 },
 "nbformat": 4,
 "nbformat_minor": 2
}
