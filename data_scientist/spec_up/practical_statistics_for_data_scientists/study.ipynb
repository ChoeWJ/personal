{
 "cells": [
  {
   "cell_type": "markdown",
   "metadata": {},
   "source": [
    "# 1. 탐색적 데이터 분석"
   ]
  },
  {
   "cell_type": "markdown",
   "metadata": {},
   "source": [
    "## 1.1 정형화된 데이터의 요소\n",
    "- ## 수치형 데이터: 숫자를 이용해 표현할 수 있는 데이터\n",
    "    - ### 연속형 데이터: 일정 범위 안에서 어떤 값이든 취할 수 있는 데이터 (ex. 풍속, 지속시간)\n",
    "    - ### 이산 데이터: 횟수와 같은 정수 값만 취할 수 있는 데이터\n",
    "\n",
    "- ## 범주형 데이터: 가능한 범주 안의 값만을 취하는 데이터\n",
    "    - ### 이진 데이터: 두 개의 값(0/1 또는 참/거짓)만을 갖는 특수한 경우\n",
    "    - ### 순서형 데이터: 값들 사이에 분명한 순위가 있는 데이터(ex. 평점)"
   ]
  },
  {
   "cell_type": "markdown",
   "metadata": {},
   "source": [
    "## 1.2 테이블 데이터\n",
    "- ### 데이터 프레임(Data Frame): 통계와 머신러닝 모델에서 가장 기본이 되는 테이블 형태의 데이터 구조\n",
    "- ### 피처(Feature): 테이블의 각 열이 하나의 피처를 의미\n",
    "- ### 결과\n",
    "- ### 레코드: 테이블의 각 행은 하나의 레코드를 의미\n",
    "\n",
    "## 1.3 위치 추정\n",
    "- ### 데이터가 주어졌을때, 데이터를 살펴보는 가장 기초적인 단계는 각 피처의 대표값을 구하는 것.\n",
    "- ### 즉 대부분의 값이 어디쯤에 위치하는지(중심경향성)를 나타내는 추정값\n",
    "    - #### 평균\n",
    "    - #### 가중평균: 가중치를 곲한 값의 총합을 가중치의 총합으로 나눈 값\n",
    "    - #### 중간값\n",
    "    - #### 백분위수: 전체 데이터의 P%를 아래에 두는 값\n",
    "    - #### 가중 중간값: 데이터를 정렬한 후, 각 가중치 값을 위에서부터 더할 떄, 총합의 중간이 위치하는 데이터 값\n",
    "    - #### 절사평균: \n",
    "        - ##### 정해진 개수의 극단값을 제외한 나머지 값들의 평균\n",
    "        - ##### 값들의 크기 순으로 정렬한 후, 양끝에서 일정 개수의 값들을 삭제한 뒤 남은 값들을 가지고 구하는 평균\n",
    "    - #### 로버스트하다: 극단값들에 민감하지 않다는 것을 의미\n",
    "    - #### 특잇값: 대부분의 값과 매우 다른 데이터 값"
   ]
  },
  {
   "cell_type": "code",
   "execution_count": 11,
   "metadata": {},
   "outputs": [],
   "source": [
    "import numpy as np\n",
    "import pandas as pd\n",
    "import wquantiles\n",
    "\n",
    "from scipy.stats import trim_mean\n"
   ]
  },
  {
   "cell_type": "code",
   "execution_count": 6,
   "metadata": {},
   "outputs": [
    {
     "data": {
      "text/html": [
       "<div>\n",
       "<style scoped>\n",
       "    .dataframe tbody tr th:only-of-type {\n",
       "        vertical-align: middle;\n",
       "    }\n",
       "\n",
       "    .dataframe tbody tr th {\n",
       "        vertical-align: top;\n",
       "    }\n",
       "\n",
       "    .dataframe thead th {\n",
       "        text-align: right;\n",
       "    }\n",
       "</style>\n",
       "<table border=\"1\" class=\"dataframe\">\n",
       "  <thead>\n",
       "    <tr style=\"text-align: right;\">\n",
       "      <th></th>\n",
       "      <th>State</th>\n",
       "      <th>Population</th>\n",
       "      <th>Murder.Rate</th>\n",
       "      <th>Abbreviation</th>\n",
       "    </tr>\n",
       "  </thead>\n",
       "  <tbody>\n",
       "    <tr>\n",
       "      <th>0</th>\n",
       "      <td>Alabama</td>\n",
       "      <td>4779736</td>\n",
       "      <td>5.7</td>\n",
       "      <td>AL</td>\n",
       "    </tr>\n",
       "    <tr>\n",
       "      <th>1</th>\n",
       "      <td>Alaska</td>\n",
       "      <td>710231</td>\n",
       "      <td>5.6</td>\n",
       "      <td>AK</td>\n",
       "    </tr>\n",
       "    <tr>\n",
       "      <th>2</th>\n",
       "      <td>Arizona</td>\n",
       "      <td>6392017</td>\n",
       "      <td>4.7</td>\n",
       "      <td>AZ</td>\n",
       "    </tr>\n",
       "    <tr>\n",
       "      <th>3</th>\n",
       "      <td>Arkansas</td>\n",
       "      <td>2915918</td>\n",
       "      <td>5.6</td>\n",
       "      <td>AR</td>\n",
       "    </tr>\n",
       "    <tr>\n",
       "      <th>4</th>\n",
       "      <td>California</td>\n",
       "      <td>37253956</td>\n",
       "      <td>4.4</td>\n",
       "      <td>CA</td>\n",
       "    </tr>\n",
       "  </tbody>\n",
       "</table>\n",
       "</div>"
      ],
      "text/plain": [
       "        State  Population  Murder.Rate Abbreviation\n",
       "0     Alabama     4779736          5.7           AL\n",
       "1      Alaska      710231          5.6           AK\n",
       "2     Arizona     6392017          4.7           AZ\n",
       "3    Arkansas     2915918          5.6           AR\n",
       "4  California    37253956          4.4           CA"
      ]
     },
     "execution_count": 6,
     "metadata": {},
     "output_type": "execute_result"
    }
   ],
   "source": [
    "state = pd.read_csv(\"data/state.csv\")\n",
    "state.head()"
   ]
  },
  {
   "cell_type": "code",
   "execution_count": 9,
   "metadata": {},
   "outputs": [
    {
     "name": "stdout",
     "output_type": "stream",
     "text": [
      "6162876.3\n",
      "4783697.125\n",
      "4436369.5\n"
     ]
    }
   ],
   "source": [
    "print(state['Population'].mean())  # 평균\n",
    "print(trim_mean(state['Population'], 0.1))  # 절사평균, 각 끝에서 10%를 제외한다\n",
    "print(state['Population'].median())  # 중간값"
   ]
  },
  {
   "cell_type": "code",
   "execution_count": 12,
   "metadata": {},
   "outputs": [
    {
     "name": "stdout",
     "output_type": "stream",
     "text": [
      "4.445833981123393\n",
      "4.4\n"
     ]
    }
   ],
   "source": [
    "print(np.average(state['Murder.Rate'], weights=state['Population']))  # 가중 평균\n",
    "print(wquantiles.median(state['Murder.Rate'], weights=state['Population']))  # 가중 중간"
   ]
  },
  {
   "cell_type": "code",
   "execution_count": null,
   "metadata": {},
   "outputs": [],
   "source": []
  }
 ],
 "metadata": {
  "kernelspec": {
   "display_name": "Study",
   "language": "python",
   "name": "python3"
  },
  "language_info": {
   "codemirror_mode": {
    "name": "ipython",
    "version": 3
   },
   "file_extension": ".py",
   "mimetype": "text/x-python",
   "name": "python",
   "nbconvert_exporter": "python",
   "pygments_lexer": "ipython3",
   "version": "3.11.9"
  }
 },
 "nbformat": 4,
 "nbformat_minor": 2
}
