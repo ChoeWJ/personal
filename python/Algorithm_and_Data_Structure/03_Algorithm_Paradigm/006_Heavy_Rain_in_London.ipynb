{
 "cells": [
  {
   "cell_type": "markdown",
   "metadata": {},
   "source": [
    "![Algorithm_Paradigm_054](../../images/Algorithm_Paradigm/054.jpg)\n",
    "![Algorithm_Paradigm_055](../../images/Algorithm_Paradigm/055.jpg)\n",
    "![Algorithm_Paradigm_056](../../images/Algorithm_Paradigm/056.jpg)"
   ]
  },
  {
   "cell_type": "code",
   "execution_count": null,
   "metadata": {},
   "outputs": [],
   "source": [
    "def trapping_rain(buildings):\n",
    "    # 여기에 코드를 작성하세요\n",
    "    \n",
    "            \n",
    "# 테스트\n",
    "print(trapping_rain([3, 0, 0, 2, 0, 4]))\n",
    "print(trapping_rain([0, 1, 0, 2, 1, 0, 1, 3, 2, 1, 2, 1]))\n"
   ]
  }
 ],
 "metadata": {
  "kernelspec": {
   "display_name": "base",
   "language": "python",
   "name": "python3"
  },
  "language_info": {
   "name": "python",
   "version": "3.12.4"
  }
 },
 "nbformat": 4,
 "nbformat_minor": 2
}
