{
 "cells": [
  {
   "cell_type": "markdown",
   "metadata": {},
   "source": [
    "# 가까운 매장 찾기"
   ]
  },
  {
   "cell_type": "markdown",
   "metadata": {},
   "source": [
    "![Algorithm_Paradigm_046](../../images/Algorithm_Paradigm/046.jpg)\n",
    "![Algorithm_Paradigm_047](../../images/Algorithm_Paradigm/047.jpg)"
   ]
  },
  {
   "cell_type": "code",
   "execution_count": 1,
   "metadata": {},
   "outputs": [
    {
     "name": "stdout",
     "output_type": "stream",
     "text": [
      "[(2, 3), (3, 4)]\n"
     ]
    }
   ],
   "source": [
    "# 제곱근 사용을 위한 sqrt 함수\n",
    "from math import sqrt\n",
    "\n",
    "# 두 매장의 직선 거리를 계산해 주는 함수\n",
    "def distance(store1, store2):\n",
    "    return sqrt((store1[0] - store2[0]) ** 2 + (store1[1] - store2[1]) ** 2)\n",
    "\n",
    "# 가장 가까운 두 매장을 찾아주는 함수\n",
    "def closest_pair(coordinates):\n",
    "    n = len(coordinates)\n",
    "    nearby_stores = [coordinates[0], coordinates[1]]\n",
    "    min_distance = distance(coordinates[0], coordinates[1])\n",
    "    for i in range(n):\n",
    "        for j in range(i + 1, n):\n",
    "            if min_distance > distance(coordinates[i], coordinates[j]):\n",
    "                min_distance = distance(coordinates[i], coordinates[j])\n",
    "                nearby_stores = [coordinates[i], coordinates[j]]\n",
    "            \n",
    "            \n",
    "        \n",
    "    \n",
    "    return nearby_stores\n",
    "\n",
    "# 테스트 코드\n",
    "test_coordinates = [(2, 3), (12, 30), (40, 50), (5, 1), (12, 10), (3, 4)]\n",
    "print(closest_pair(test_coordinates))"
   ]
  },
  {
   "cell_type": "markdown",
   "metadata": {},
   "source": [
    "---\n",
    "\n",
    "## 모범 답안"
   ]
  },
  {
   "cell_type": "code",
   "execution_count": 4,
   "metadata": {},
   "outputs": [
    {
     "name": "stdout",
     "output_type": "stream",
     "text": [
      "[(2, 3), (3, 4)]\n"
     ]
    }
   ],
   "source": [
    "# 제곱근 사용을 위한 sqrt 함수 불러오기\n",
    "from math import sqrt\n",
    "\n",
    "# 두 매장의 직선 거리를 계산해 주는 함수\n",
    "def distance(store1, store2):\n",
    "    return sqrt((store1[0] - store2[0]) ** 2 + (store1[1] - store2[1]) ** 2)\n",
    "\n",
    "# 가장 가까운 두 매장을 찾아주는 함수\n",
    "def closest_pair(coordinates):\n",
    "    # 현재까지 본 가장 가까운 두 매장\n",
    "    pair = [coordinates[0], coordinates[1]]\n",
    "\n",
    "    for i in range(len(coordinates) - 1):\n",
    "        for j in range(i + 1, len(coordinates)):\n",
    "            store1, store2 = coordinates[i], coordinates[j]\n",
    "\n",
    "            # 더 가까운 두 매장을 찾으면 pair 업데이트\n",
    "            if distance(pair[0], pair[1]) > distance(store1, store2):\n",
    "                pair = [store1, store2]\n",
    "\n",
    "    return pair\n",
    "\n",
    "# 테스트 코드\n",
    "test_coordinates = [(2, 3), (12, 30), (40, 50), (5, 1), (12, 10), (3, 4)]\n",
    "print(closest_pair(test_coordinates))\n"
   ]
  },
  {
   "cell_type": "markdown",
   "metadata": {},
   "source": [
    "---\n",
    "## 시간 및 공간 복잡도 분석"
   ]
  },
  {
   "cell_type": "markdown",
   "metadata": {},
   "source": [
    "![Algorithm_Paradigm_048](../../images/Algorithm_Paradigm/048.jpg)\n",
    "![Algorithm_Paradigm_049](../../images/Algorithm_Paradigm/049.jpg)\n",
    "![Algorithm_Paradigm_050](../../images/Algorithm_Paradigm/050.jpg)"
   ]
  },
  {
   "cell_type": "markdown",
   "metadata": {},
   "source": [
    "---\n",
    "\n",
    "## 최적화 코드"
   ]
  },
  {
   "cell_type": "code",
   "execution_count": 2,
   "metadata": {},
   "outputs": [
    {
     "name": "stdout",
     "output_type": "stream",
     "text": [
      "((2, 3), (3, 4))\n"
     ]
    }
   ],
   "source": [
    "from math import sqrt\n",
    "\n",
    "# 두 점 간 거리 계산 함수\n",
    "def distance(point1, point2):\n",
    "    return sqrt((point1[0] - point2[0]) ** 2 + (point1[1] - point2[1]) ** 2)\n",
    "\n",
    "# 분할 정복 알고리즘으로 가장 가까운 두 점 찾기\n",
    "def closest_pair(coordinates):\n",
    "    # 좌표를 x축 기준으로 정렬\n",
    "    coordinates.sort(key=lambda point: point[0])\n",
    "\n",
    "    def closest_in_strip(strip, d):\n",
    "        \"\"\"\n",
    "        거리 d보다 작은 점들 중 가장 가까운 점을 찾는 함수\n",
    "        \"\"\"\n",
    "        min_dist = d\n",
    "        pair = None\n",
    "\n",
    "        # y축 기준으로 strip을 정렬\n",
    "        strip.sort(key=lambda point: point[1])\n",
    "\n",
    "        # strip 내의 점들 비교\n",
    "        for i in range(len(strip)):\n",
    "            for j in range(i + 1, len(strip)):\n",
    "                if strip[j][1] - strip[i][1] >= min_dist:\n",
    "                    break  # y축 거리도 d 이상이면 더 볼 필요 없음\n",
    "                curr_dist = distance(strip[i], strip[j])\n",
    "                if curr_dist < min_dist:\n",
    "                    min_dist = curr_dist\n",
    "                    pair = (strip[i], strip[j])\n",
    "        return pair, min_dist\n",
    "\n",
    "    def closest_pair_recursive(points):\n",
    "        \"\"\"\n",
    "        재귀적으로 가장 가까운 두 점 찾기\n",
    "        \"\"\"\n",
    "        n = len(points)\n",
    "        # 기저 사례: 점이 3개 이하인 경우 직접 비교\n",
    "        if n <= 3:\n",
    "            min_dist = float('inf')\n",
    "            pair = None\n",
    "            for i in range(n):\n",
    "                for j in range(i + 1, n):\n",
    "                    curr_dist = distance(points[i], points[j])\n",
    "                    if curr_dist < min_dist:\n",
    "                        min_dist = curr_dist\n",
    "                        pair = (points[i], points[j])\n",
    "            return pair, min_dist\n",
    "\n",
    "        # 좌/우 반으로 나눔\n",
    "        mid = n // 2\n",
    "        left = points[:mid]\n",
    "        right = points[mid:]\n",
    "\n",
    "        # 왼쪽과 오른쪽에서 각각 가장 가까운 점 계산\n",
    "        left_pair, left_dist = closest_pair_recursive(left)\n",
    "        right_pair, right_dist = closest_pair_recursive(right)\n",
    "\n",
    "        # 두 부분에서 가장 가까운 점 선택\n",
    "        if left_dist < right_dist:\n",
    "            min_pair = left_pair\n",
    "            min_dist = left_dist\n",
    "        else:\n",
    "            min_pair = right_pair\n",
    "            min_dist = right_dist\n",
    "\n",
    "        # 중앙부에 걸친 점들 검사\n",
    "        mid_x = points[mid][0]\n",
    "        strip = [point for point in points if abs(point[0] - mid_x) < min_dist]\n",
    "\n",
    "        # 중앙부에서 가장 가까운 점 계산\n",
    "        strip_pair, strip_dist = closest_in_strip(strip, min_dist)\n",
    "        if strip_dist < min_dist:\n",
    "            return strip_pair, strip_dist\n",
    "        return min_pair, min_dist\n",
    "\n",
    "    # 최종 결과\n",
    "    result, _ = closest_pair_recursive(coordinates)\n",
    "    return result\n",
    "\n",
    "# 테스트 코드\n",
    "test_coordinates = [(2, 3), (12, 30), (40, 50), (5, 1), (12, 10), (3, 4)]\n",
    "print(closest_pair(test_coordinates))\n"
   ]
  },
  {
   "cell_type": "markdown",
   "metadata": {},
   "source": [
    "![Algorithm_Paradigm_051](../../images/Algorithm_Paradigm/051.jpg)\n",
    "![Algorithm_Paradigm_052](../../images/Algorithm_Paradigm/052.jpg)\n",
    "![Algorithm_Paradigm_053](../../images/Algorithm_Paradigm/053.jpg)"
   ]
  }
 ],
 "metadata": {
  "kernelspec": {
   "display_name": "base",
   "language": "python",
   "name": "python3"
  },
  "language_info": {
   "codemirror_mode": {
    "name": "ipython",
    "version": 3
   },
   "file_extension": ".py",
   "mimetype": "text/x-python",
   "name": "python",
   "nbconvert_exporter": "python",
   "pygments_lexer": "ipython3",
   "version": "3.12.4"
  }
 },
 "nbformat": 4,
 "nbformat_minor": 2
}
