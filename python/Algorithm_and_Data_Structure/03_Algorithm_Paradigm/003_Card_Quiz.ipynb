{
 "cells": [
  {
   "cell_type": "markdown",
   "metadata": {},
   "source": [
    "# 카드 뭉치 최대 조합\n",
    "\n",
    "![Algorithm_Paradigm_024](../../images/Algorithm_Paradigm/024.jpg)"
   ]
  },
  {
   "cell_type": "code",
   "execution_count": 1,
   "metadata": {},
   "outputs": [
    {
     "name": "stdout",
     "output_type": "stream",
     "text": [
      "24\n",
      "32\n",
      "28\n"
     ]
    }
   ],
   "source": [
    "def max_product(left_cards, right_cards):\n",
    "    max_list = []\n",
    "    for i in range(len(left_cards)):\n",
    "        for j in range(len(right_cards)):\n",
    "            result = left_cards[i] * right_cards[j]\n",
    "            max_list.append(result)\n",
    "    \n",
    "    return max(max_list)\n",
    "    \n",
    "# 테스트 코드\n",
    "print(max_product([1, 6, 5], [4, 2, 3]))\n",
    "print(max_product([1, -9, 3, 4], [2, 8, 3, 1]))\n",
    "print(max_product([-1, -7, 3], [-4, 3, 6]))"
   ]
  },
  {
   "cell_type": "markdown",
   "metadata": {},
   "source": [
    "### 모범답안"
   ]
  },
  {
   "cell_type": "code",
   "execution_count": null,
   "metadata": {},
   "outputs": [],
   "source": [
    "def max_product(left_cards, right_cards):\n",
    "    # 현재까지 최댓값을 담기 위한 변수\n",
    "    # 처음에는 임시로 각 리스트의 첫 번째 요소의 곱으로 설정\n",
    "    max_product = left_cards[0] * right_cards[0]\n",
    "    \n",
    "    # 가능한 모든 조합을 보기 위한 중첩 반복문\n",
    "    for left in left_cards:\n",
    "        for right in right_cards:\n",
    "            # 현재까지의 최댓값 값과 지금 보고 있는 곱을 비교해서 더 큰 값을 최댓값 변수에 담아준다\n",
    "            max_product = max(max_product, left * right)\n",
    "\n",
    "    # 찾은 최댓값을 리턴한다            \n",
    "    return max_product\n",
    "    \n",
    "print(max_product([1, 6, 5], [4, 2, 3]))\n",
    "print(max_product([1, -9, 3, 4], [2, 8, 3, 1]))\n",
    "print(max_product([-1, -7, 3], [-4, 3, 6]))\n"
   ]
  },
  {
   "cell_type": "markdown",
   "metadata": {},
   "source": [
    "#### 시간복잡도\n",
    "\n",
    "+ len(left_cards)을 m, len(right_cards)을 n이라고 합시다.\n",
    "\n",
    "+ 함수 max_product에는 left_cards를 도는 반복문 안에 right_cards를 도는 반복문이 중첩되어 있죠? \n",
    "\n",
    "+ 따라서 max_product의 시간 복잡도는 O(mn)입니다."
   ]
  },
  {
   "cell_type": "markdown",
   "metadata": {},
   "source": [
    "![Algorithm_Paradigm_025](../../images/Algorithm_Paradigm/025.jpg)\n",
    "![Algorithm_Paradigm_026](../../images/Algorithm_Paradigm/026.jpg)\n",
    "![Algorithm_Paradigm_027](../../images/Algorithm_Paradigm/027.jpg)"
   ]
  },
  {
   "cell_type": "markdown",
   "metadata": {},
   "source": []
  }
 ],
 "metadata": {
  "kernelspec": {
   "display_name": "base",
   "language": "python",
   "name": "python3"
  },
  "language_info": {
   "codemirror_mode": {
    "name": "ipython",
    "version": 3
   },
   "file_extension": ".py",
   "mimetype": "text/x-python",
   "name": "python",
   "nbconvert_exporter": "python",
   "pygments_lexer": "ipython3",
   "version": "3.12.4"
  }
 },
 "nbformat": 4,
 "nbformat_minor": 2
}
