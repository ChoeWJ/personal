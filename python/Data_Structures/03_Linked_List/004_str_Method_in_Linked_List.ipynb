{
 "cells": [
  {
   "cell_type": "markdown",
   "metadata": {},
   "source": [
    "# `__str__` 메소드\n",
    "\n",
    "+ 링크드 리스트를 클래스로 만들었으니까 링크드 리스트를 문자열로 표현해주는 __str__ 메소드를 정의해봅시다. \n",
    "\n",
    "+ __str__ 메소드가 기억 안 나시는 분들은 그냥 링크드 리스트를 출력할 때 자동으로 링크드 리스트의 내용을 사람들이 이해할 수 있는 문자열로 리턴해주는 메소드로 이해하시면 됩니다.\n",
    "\n",
    "### 링크드 리스트 `__str__` 메소드"
   ]
  },
  {
   "cell_type": "code",
   "execution_count": 1,
   "metadata": {},
   "outputs": [],
   "source": [
    "class Node:\n",
    "    def __init__(self, data):\n",
    "        self.data = data\n",
    "        self.next = None\n",
    "\n",
    "class LinkedList:\n",
    "    \"\"\"링크드  리스트 클래스\"\"\"\n",
    "    def __init__(self):\n",
    "        self.head = None  # 링크드 리스트의 가장 앞 노드\n",
    "        self.tail = None  # 링크드 리스트의 가장 뒤 노드\n",
    "\n",
    "    def append(self, data):\n",
    "        \"\"\"링크드 리스트 추가 연산 메소드\"\"\"\n",
    "        new_node = Node(data)\n",
    "        \n",
    "        # 링크드 리스트가 비어 있으면 새로운 노드가 링크드 리스트의 처음이자 마지막 노드다\n",
    "        if self.head is None:\n",
    "            self.head = new_node\n",
    "            self.tail = new_node\n",
    "        # 링크드 리스트가 비어 있지 않으면\n",
    "        else:\n",
    "            self.tail.next = new_node  # 가장 마지막 노드 뒤에 새로운 노드를 추가하고\n",
    "            self.tail = new_node  # 마지막 노드를 추가한 노드로 바꿔준다\n",
    "\n",
    "    def __str__(self):\n",
    "        \"\"\"링크드 리스트를 문자열로 표현해서 리턴하는 메소드\"\"\"\n",
    "        res_str = \"|\"\n",
    "        \n",
    "        # 링크드  리스트 안에 모든 노드를 돌기 위한 변수. 일단 가장 앞 노드로 정의한다.\n",
    "        iterator = self.head\n",
    "\n",
    "        # 링크드  리스트 끝까지 돈다\n",
    "        while iterator is not None:\n",
    "            # 각 노드의 데이터를 리턴하는 문자열에 더해준다\n",
    "            res_str += f\" {iterator.data} |\"\n",
    "            iterator = iterator.next  # 다음 노드로 넘어간다\n",
    "\n",
    "        return res_str\n"
   ]
  },
  {
   "cell_type": "markdown",
   "metadata": {},
   "source": [
    "+ `__str__` 메소드는 문자열을 리턴하니까 일단 리턴 시킬 **res_str** 변수를 빈 문자열로 정의합니다. \n",
    "\n",
    "+ iterator을 써서 링크드 리스트를 도는 방법은 이미 배웠죠?\n",
    "\n",
    "    1. iterator 변수를 링크드 리스트의 head를 가리키게 합니다\n",
    "\n",
    "    2. iterator 변수가 None이 아닐 때까지 (링크드 리스트의 처음부터 끝 노드까지) iterator 변수의 data를 res_str 변수에 추가해 줍니다. \n",
    "\n",
    "    3. iterator 변수의 next 속성을 이용해서 while 문을 돌 때마다 다음 노드로 갑니다.\n",
    "\n",
    "    4. 링크드 리스트를 다 돈 후에 res_str 변수를 리턴합니다.\n",
    "\n",
    "+ 한 번 제대로 코드를 작성했는지 확인해봅시다."
   ]
  },
  {
   "cell_type": "code",
   "execution_count": 2,
   "metadata": {},
   "outputs": [
    {
     "name": "stdout",
     "output_type": "stream",
     "text": [
      "| 2 | 3 | 5 | 7 | 11 |\n"
     ]
    }
   ],
   "source": [
    "# 새로운 링크드 리스트 생성\n",
    "linked_list = LinkedList()\n",
    "\n",
    "# 링크드 리스트에 데이터 추가\n",
    "linked_list.append(2)\n",
    "linked_list.append(3)\n",
    "linked_list.append(5)\n",
    "linked_list.append(7)\n",
    "linked_list.append(11)\n",
    "\n",
    "print(linked_list)"
   ]
  },
  {
   "cell_type": "code",
   "execution_count": null,
   "metadata": {},
   "outputs": [],
   "source": []
  }
 ],
 "metadata": {
  "kernelspec": {
   "display_name": "Python 3",
   "language": "python",
   "name": "python3"
  },
  "language_info": {
   "codemirror_mode": {
    "name": "ipython",
    "version": 3
   },
   "file_extension": ".py",
   "mimetype": "text/x-python",
   "name": "python",
   "nbconvert_exporter": "python",
   "pygments_lexer": "ipython3",
   "version": "3.13.1"
  }
 },
 "nbformat": 4,
 "nbformat_minor": 2
}
